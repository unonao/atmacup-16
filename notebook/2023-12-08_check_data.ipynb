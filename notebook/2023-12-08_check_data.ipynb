{
 "cells": [
  {
   "cell_type": "code",
   "execution_count": 1,
   "id": "1e8cd40b-2614-4f2f-a9de-ca10ccc4342a",
   "metadata": {},
   "outputs": [
    {
     "name": "stdout",
     "output_type": "stream",
     "text": [
      "/kaggle/working\n"
     ]
    }
   ],
   "source": [
    "%cd .."
   ]
  },
  {
   "cell_type": "code",
   "execution_count": 36,
   "id": "a215bba1-e610-43a4-9406-9f53badae999",
   "metadata": {},
   "outputs": [
    {
     "name": "stdout",
     "output_type": "stream",
     "text": [
      "dir:\n",
      "  input_dir: /kaggle/working/input\n",
      "  data_dir: /kaggle/working/input/atmaCup16_Dataset\n",
      "  output_dir: /kaggle/working/output\n",
      "exp:\n",
      "  debug: false\n",
      "  seed: 7\n",
      "\n"
     ]
    }
   ],
   "source": [
    "from hydra import compose, initialize\n",
    "from omegaconf import OmegaConf\n",
    "\n",
    "with initialize(version_base=None, config_path=\"../experiments/check\"):\n",
    "    cfg = compose(config_name=\"config.yaml\")\n",
    "    print(OmegaConf.to_yaml(cfg))"
   ]
  },
  {
   "cell_type": "code",
   "execution_count": 3,
   "id": "e404e97d-febf-43e3-a8a5-b2eb0e579954",
   "metadata": {},
   "outputs": [],
   "source": [
    "from pathlib import Path\n",
    "\n",
    "import numpy as np\n",
    "import polars as pl"
   ]
  },
  {
   "cell_type": "code",
   "execution_count": 10,
   "id": "f265dd41-0ee4-4efa-9f65-f061fa3084ad",
   "metadata": {},
   "outputs": [],
   "source": [
    "yado_df = pl.read_csv(Path(cfg.dir.data_dir) / \"yado.csv\")\n",
    "train_label_df = pl.read_csv(Path(cfg.dir.data_dir) / \"train_label.csv\")\n",
    "test_log_df = pl.read_csv(Path(cfg.dir.data_dir) / \"test_log.csv\")\n",
    "test_session_df = pl.read_csv(Path(cfg.dir.data_dir) / \"test_session.csv\")\n",
    "sample_submission_df = pl.read_csv(Path(cfg.dir.data_dir) / \"sample_submission.csv\")\n",
    "yado_df = pl.read_csv(Path(cfg.dir.data_dir) / \"yado.csv\")"
   ]
  },
  {
   "cell_type": "code",
   "execution_count": 41,
   "id": "b3d5ec6a-6ae4-4a02-ae43-4afda64426cc",
   "metadata": {},
   "outputs": [
    {
     "data": {
      "text/html": [
       "<div><style>\n",
       ".dataframe > thead > tr,\n",
       ".dataframe > tbody > tr {\n",
       "  text-align: right;\n",
       "  white-space: pre-wrap;\n",
       "}\n",
       "</style>\n",
       "<small>shape: (5, 10)</small><table border=\"1\" class=\"dataframe\"><thead><tr><th>predict_0</th><th>predict_1</th><th>predict_2</th><th>predict_3</th><th>predict_4</th><th>predict_5</th><th>predict_6</th><th>predict_7</th><th>predict_8</th><th>predict_9</th></tr><tr><td>i64</td><td>i64</td><td>i64</td><td>i64</td><td>i64</td><td>i64</td><td>i64</td><td>i64</td><td>i64</td><td>i64</td></tr></thead><tbody><tr><td>12217</td><td>5055</td><td>4744</td><td>3410</td><td>11442</td><td>3711</td><td>8190</td><td>9998</td><td>13023</td><td>9297</td></tr><tr><td>12340</td><td>13720</td><td>1378</td><td>681</td><td>2020</td><td>11125</td><td>10129</td><td>4159</td><td>8184</td><td>7966</td></tr><tr><td>196</td><td>8757</td><td>6241</td><td>7376</td><td>13608</td><td>1693</td><td>13745</td><td>8065</td><td>13022</td><td>303</td></tr><tr><td>6448</td><td>3482</td><td>5687</td><td>2335</td><td>911</td><td>9008</td><td>8209</td><td>595</td><td>8171</td><td>10040</td></tr><tr><td>6327</td><td>1606</td><td>12898</td><td>3785</td><td>8212</td><td>910</td><td>10430</td><td>4260</td><td>9767</td><td>383</td></tr></tbody></table></div>"
      ],
      "text/plain": [
       "shape: (5, 10)\n",
       "┌───────────┬───────────┬───────────┬───────────┬───┬───────────┬───────────┬───────────┬──────────┐\n",
       "│ predict_0 ┆ predict_1 ┆ predict_2 ┆ predict_3 ┆ … ┆ predict_6 ┆ predict_7 ┆ predict_8 ┆ predict_ │\n",
       "│ ---       ┆ ---       ┆ ---       ┆ ---       ┆   ┆ ---       ┆ ---       ┆ ---       ┆ 9        │\n",
       "│ i64       ┆ i64       ┆ i64       ┆ i64       ┆   ┆ i64       ┆ i64       ┆ i64       ┆ ---      │\n",
       "│           ┆           ┆           ┆           ┆   ┆           ┆           ┆           ┆ i64      │\n",
       "╞═══════════╪═══════════╪═══════════╪═══════════╪═══╪═══════════╪═══════════╪═══════════╪══════════╡\n",
       "│ 12217     ┆ 5055      ┆ 4744      ┆ 3410      ┆ … ┆ 8190      ┆ 9998      ┆ 13023     ┆ 9297     │\n",
       "│ 12340     ┆ 13720     ┆ 1378      ┆ 681       ┆ … ┆ 10129     ┆ 4159      ┆ 8184      ┆ 7966     │\n",
       "│ 196       ┆ 8757      ┆ 6241      ┆ 7376      ┆ … ┆ 13745     ┆ 8065      ┆ 13022     ┆ 303      │\n",
       "│ 6448      ┆ 3482      ┆ 5687      ┆ 2335      ┆ … ┆ 8209      ┆ 595       ┆ 8171      ┆ 10040    │\n",
       "│ 6327      ┆ 1606      ┆ 12898     ┆ 3785      ┆ … ┆ 10430     ┆ 4260      ┆ 9767      ┆ 383      │\n",
       "└───────────┴───────────┴───────────┴───────────┴───┴───────────┴───────────┴───────────┴──────────┘"
      ]
     },
     "execution_count": 41,
     "metadata": {},
     "output_type": "execute_result"
    }
   ],
   "source": [
    "sample_submission_df.head()"
   ]
  },
  {
   "cell_type": "markdown",
   "id": "ab5b6fbe-7edc-4adf-8829-34ef75e22480",
   "metadata": {},
   "source": [
    "## yado"
   ]
  },
  {
   "cell_type": "code",
   "execution_count": 12,
   "id": "82d1e8e5-c654-4314-a0cd-0fbd47b2bc27",
   "metadata": {},
   "outputs": [
    {
     "name": "stdout",
     "output_type": "stream",
     "text": [
      "(13806, 13)\n"
     ]
    },
    {
     "data": {
      "text/html": [
       "<div><style>\n",
       ".dataframe > thead > tr,\n",
       ".dataframe > tbody > tr {\n",
       "  text-align: right;\n",
       "  white-space: pre-wrap;\n",
       "}\n",
       "</style>\n",
       "<small>shape: (5, 13)</small><table border=\"1\" class=\"dataframe\"><thead><tr><th>yad_no</th><th>yad_type</th><th>total_room_cnt</th><th>wireless_lan_flg</th><th>onsen_flg</th><th>kd_stn_5min</th><th>kd_bch_5min</th><th>kd_slp_5min</th><th>kd_conv_walk_5min</th><th>wid_cd</th><th>ken_cd</th><th>lrg_cd</th><th>sml_cd</th></tr><tr><td>i64</td><td>i64</td><td>f64</td><td>f64</td><td>i64</td><td>f64</td><td>f64</td><td>f64</td><td>f64</td><td>str</td><td>str</td><td>str</td><td>str</td></tr></thead><tbody><tr><td>1</td><td>0</td><td>129.0</td><td>1.0</td><td>0</td><td>1.0</td><td>null</td><td>null</td><td>1.0</td><td>&quot;f0112abf369fb0…</td><td>&quot;072c85e1653e10…</td><td>&quot;449c52ef581d5f…</td><td>&quot;677a32689cd1ad…</td></tr><tr><td>2</td><td>0</td><td>23.0</td><td>1.0</td><td>0</td><td>null</td><td>null</td><td>null</td><td>null</td><td>&quot;d86102dd9c232b…</td><td>&quot;b4d2fb4e51ea7b…</td><td>&quot;5c9a8f48e9df02…</td><td>&quot;4ee16ee838dd27…</td></tr><tr><td>3</td><td>0</td><td>167.0</td><td>1.0</td><td>1</td><td>1.0</td><td>null</td><td>null</td><td>1.0</td><td>&quot;46e33861f921c3…</td><td>&quot;572d60f0f5212a…</td><td>&quot;8a623b960557e8…</td><td>&quot;ab9480fd72a44d…</td></tr><tr><td>4</td><td>0</td><td>144.0</td><td>1.0</td><td>0</td><td>1.0</td><td>null</td><td>null</td><td>1.0</td><td>&quot;46e33861f921c3…</td><td>&quot;107c7305a74c8d…</td><td>&quot;52c9ea83f2cfe9…</td><td>&quot;1cc3e1838bb0fd…</td></tr><tr><td>5</td><td>0</td><td>41.0</td><td>1.0</td><td>1</td><td>null</td><td>null</td><td>null</td><td>null</td><td>&quot;43875109d1dab9…</td><td>&quot;75617bb07a2785…</td><td>&quot;9ea5a911019b66…</td><td>&quot;be1b876af18afc…</td></tr></tbody></table></div>"
      ],
      "text/plain": [
       "shape: (5, 13)\n",
       "┌────────┬──────────┬────────────┬────────────┬───┬────────────┬───────────┬───────────┬───────────┐\n",
       "│ yad_no ┆ yad_type ┆ total_room ┆ wireless_l ┆ … ┆ wid_cd     ┆ ken_cd    ┆ lrg_cd    ┆ sml_cd    │\n",
       "│ ---    ┆ ---      ┆ _cnt       ┆ an_flg     ┆   ┆ ---        ┆ ---       ┆ ---       ┆ ---       │\n",
       "│ i64    ┆ i64      ┆ ---        ┆ ---        ┆   ┆ str        ┆ str       ┆ str       ┆ str       │\n",
       "│        ┆          ┆ f64        ┆ f64        ┆   ┆            ┆           ┆           ┆           │\n",
       "╞════════╪══════════╪════════════╪════════════╪═══╪════════════╪═══════════╪═══════════╪═══════════╡\n",
       "│ 1      ┆ 0        ┆ 129.0      ┆ 1.0        ┆ … ┆ f0112abf36 ┆ 072c85e16 ┆ 449c52ef5 ┆ 677a32689 │\n",
       "│        ┆          ┆            ┆            ┆   ┆ 9fb03cdc5f ┆ 53e10c9c7 ┆ 81d5f9ef3 ┆ cd1ad74e8 │\n",
       "│        ┆          ┆            ┆            ┆   ┆ 5309300913 ┆ dd065ad00 ┆ 11189469a ┆ 67f1fbe43 │\n",
       "│        ┆          ┆            ┆            ┆   ┆ da         ┆ 7125a     ┆ 0520e     ┆ a3e1c     │\n",
       "│ 2      ┆ 0        ┆ 23.0       ┆ 1.0        ┆ … ┆ d86102dd9c ┆ b4d2fb4e5 ┆ 5c9a8f48e ┆ 4ee16ee83 │\n",
       "│        ┆          ┆            ┆            ┆   ┆ 232bade9a9 ┆ 1ea7bca80 ┆ 9df0234da ┆ 8dd2703cc │\n",
       "│        ┆          ┆            ┆            ┆   ┆ 7dccad40df ┆ eb1270aa4 ┆ 012747a02 ┆ 9a1d5a535 │\n",
       "│        ┆          ┆            ┆            ┆   ┆ 48         ┆ 74a54     ┆ d4b29     ┆ f0ced     │\n",
       "│ 3      ┆ 0        ┆ 167.0      ┆ 1.0        ┆ … ┆ 46e33861f9 ┆ 572d60f0f ┆ 8a623b960 ┆ ab9480fd7 │\n",
       "│        ┆          ┆            ┆            ┆   ┆ 21c3e38b81 ┆ 5212aacda ┆ 557e87bd1 ┆ 2a44d5169 │\n",
       "│        ┆          ┆            ┆            ┆   ┆ 998fbf283f ┆ 515ebf81f ┆ f4edf71b6 ┆ 0ab16c4ad │\n",
       "│        ┆          ┆            ┆            ┆   ┆ 01         ┆ b0a3a     ┆ 255be     ┆ 4d49c     │\n",
       "│ 4      ┆ 0        ┆ 144.0      ┆ 1.0        ┆ … ┆ 46e33861f9 ┆ 107c7305a ┆ 52c9ea83f ┆ 1cc3e1838 │\n",
       "│        ┆          ┆            ┆            ┆   ┆ 21c3e38b81 ┆ 74c8dcc4f ┆ 2cfe92be5 ┆ bb0fd0fde │\n",
       "│        ┆          ┆            ┆            ┆   ┆ 998fbf283f ┆ 143de208b ┆ 4cb6bc961 ┆ 0396130b1 │\n",
       "│        ┆          ┆            ┆            ┆   ┆ 01         ┆ f7ec2     ┆ edf21     ┆ f82b9     │\n",
       "│ 5      ┆ 0        ┆ 41.0       ┆ 1.0        ┆ … ┆ 43875109d1 ┆ 75617bb07 ┆ 9ea5a9110 ┆ be1b876af │\n",
       "│        ┆          ┆            ┆            ┆   ┆ dab9359281 ┆ a2785a948 ┆ 19b66ccd4 ┆ 18afc4dee │\n",
       "│        ┆          ┆            ┆            ┆   ┆ 2c50d18270 ┆ ab1958909 ┆ 2f556c42a ┆ b3081591d │\n",
       "│        ┆          ┆            ┆            ┆   ┆ a7         ┆ 211f1     ┆ 2fe2f     ┆ 2a910     │\n",
       "└────────┴──────────┴────────────┴────────────┴───┴────────────┴───────────┴───────────┴───────────┘"
      ]
     },
     "metadata": {},
     "output_type": "display_data"
    },
    {
     "data": {
      "text/html": [
       "<div><style>\n",
       ".dataframe > thead > tr,\n",
       ".dataframe > tbody > tr {\n",
       "  text-align: right;\n",
       "  white-space: pre-wrap;\n",
       "}\n",
       "</style>\n",
       "<small>shape: (9, 14)</small><table border=\"1\" class=\"dataframe\"><thead><tr><th>describe</th><th>yad_no</th><th>yad_type</th><th>total_room_cnt</th><th>wireless_lan_flg</th><th>onsen_flg</th><th>kd_stn_5min</th><th>kd_bch_5min</th><th>kd_slp_5min</th><th>kd_conv_walk_5min</th><th>wid_cd</th><th>ken_cd</th><th>lrg_cd</th><th>sml_cd</th></tr><tr><td>str</td><td>f64</td><td>f64</td><td>f64</td><td>f64</td><td>f64</td><td>f64</td><td>f64</td><td>f64</td><td>f64</td><td>str</td><td>str</td><td>str</td><td>str</td></tr></thead><tbody><tr><td>&quot;count&quot;</td><td>13806.0</td><td>13806.0</td><td>13806.0</td><td>13806.0</td><td>13806.0</td><td>13806.0</td><td>13806.0</td><td>13806.0</td><td>13806.0</td><td>&quot;13806&quot;</td><td>&quot;13806&quot;</td><td>&quot;13806&quot;</td><td>&quot;13806&quot;</td></tr><tr><td>&quot;null_count&quot;</td><td>0.0</td><td>0.0</td><td>833.0</td><td>2799.0</td><td>0.0</td><td>8485.0</td><td>13018.0</td><td>13547.0</td><td>5452.0</td><td>&quot;0&quot;</td><td>&quot;0&quot;</td><td>&quot;0&quot;</td><td>&quot;0&quot;</td></tr><tr><td>&quot;mean&quot;</td><td>6903.5</td><td>0.012024</td><td>87.854929</td><td>1.0</td><td>0.357164</td><td>1.0</td><td>1.0</td><td>1.0</td><td>1.0</td><td>null</td><td>null</td><td>null</td><td>null</td></tr><tr><td>&quot;std&quot;</td><td>3985.593243</td><td>0.108996</td><td>107.382317</td><td>0.0</td><td>0.479181</td><td>0.0</td><td>0.0</td><td>0.0</td><td>0.0</td><td>null</td><td>null</td><td>null</td><td>null</td></tr><tr><td>&quot;min&quot;</td><td>1.0</td><td>0.0</td><td>0.0</td><td>1.0</td><td>0.0</td><td>1.0</td><td>1.0</td><td>1.0</td><td>1.0</td><td>&quot;321b69d5eec98f…</td><td>&quot;013592a15b9a68…</td><td>&quot;0154defaec6c10…</td><td>&quot;00e15b2eac75d3…</td></tr><tr><td>&quot;25%&quot;</td><td>3452.0</td><td>0.0</td><td>21.0</td><td>1.0</td><td>0.0</td><td>1.0</td><td>1.0</td><td>1.0</td><td>1.0</td><td>null</td><td>null</td><td>null</td><td>null</td></tr><tr><td>&quot;50%&quot;</td><td>6904.0</td><td>0.0</td><td>52.0</td><td>1.0</td><td>0.0</td><td>1.0</td><td>1.0</td><td>1.0</td><td>1.0</td><td>null</td><td>null</td><td>null</td><td>null</td></tr><tr><td>&quot;75%&quot;</td><td>10355.0</td><td>0.0</td><td>120.0</td><td>1.0</td><td>1.0</td><td>1.0</td><td>1.0</td><td>1.0</td><td>1.0</td><td>null</td><td>null</td><td>null</td><td>null</td></tr><tr><td>&quot;max&quot;</td><td>13806.0</td><td>1.0</td><td>2384.0</td><td>1.0</td><td>1.0</td><td>1.0</td><td>1.0</td><td>1.0</td><td>1.0</td><td>&quot;f0112abf369fb0…</td><td>&quot;fec19ba0016c01…</td><td>&quot;ff6cf775458732…</td><td>&quot;fffe343d9e9ac0…</td></tr></tbody></table></div>"
      ],
      "text/plain": [
       "shape: (9, 14)\n",
       "┌───────────┬───────────┬──────────┬───────────┬───┬───────────┬───────────┬───────────┬───────────┐\n",
       "│ describe  ┆ yad_no    ┆ yad_type ┆ total_roo ┆ … ┆ wid_cd    ┆ ken_cd    ┆ lrg_cd    ┆ sml_cd    │\n",
       "│ ---       ┆ ---       ┆ ---      ┆ m_cnt     ┆   ┆ ---       ┆ ---       ┆ ---       ┆ ---       │\n",
       "│ str       ┆ f64       ┆ f64      ┆ ---       ┆   ┆ str       ┆ str       ┆ str       ┆ str       │\n",
       "│           ┆           ┆          ┆ f64       ┆   ┆           ┆           ┆           ┆           │\n",
       "╞═══════════╪═══════════╪══════════╪═══════════╪═══╪═══════════╪═══════════╪═══════════╪═══════════╡\n",
       "│ count     ┆ 13806.0   ┆ 13806.0  ┆ 13806.0   ┆ … ┆ 13806     ┆ 13806     ┆ 13806     ┆ 13806     │\n",
       "│ null_coun ┆ 0.0       ┆ 0.0      ┆ 833.0     ┆ … ┆ 0         ┆ 0         ┆ 0         ┆ 0         │\n",
       "│ t         ┆           ┆          ┆           ┆   ┆           ┆           ┆           ┆           │\n",
       "│ mean      ┆ 6903.5    ┆ 0.012024 ┆ 87.854929 ┆ … ┆ null      ┆ null      ┆ null      ┆ null      │\n",
       "│ std       ┆ 3985.5932 ┆ 0.108996 ┆ 107.38231 ┆ … ┆ null      ┆ null      ┆ null      ┆ null      │\n",
       "│           ┆ 43        ┆          ┆ 7         ┆   ┆           ┆           ┆           ┆           │\n",
       "│ min       ┆ 1.0       ┆ 0.0      ┆ 0.0       ┆ … ┆ 321b69d5e ┆ 013592a15 ┆ 0154defae ┆ 00e15b2ea │\n",
       "│           ┆           ┆          ┆           ┆   ┆ ec98fe625 ┆ b9a689232 ┆ c6c10404d ┆ c75d33b9b │\n",
       "│           ┆           ┆          ┆           ┆   ┆ 3e26b8605 ┆ 792f11da7 ┆ 20ecd556b ┆ c37c8a44d │\n",
       "│           ┆           ┆          ┆           ┆   ┆ 8e6a9     ┆ 97ac7     ┆ 6bd10     ┆ 6b70a     │\n",
       "│ 25%       ┆ 3452.0    ┆ 0.0      ┆ 21.0      ┆ … ┆ null      ┆ null      ┆ null      ┆ null      │\n",
       "│ 50%       ┆ 6904.0    ┆ 0.0      ┆ 52.0      ┆ … ┆ null      ┆ null      ┆ null      ┆ null      │\n",
       "│ 75%       ┆ 10355.0   ┆ 0.0      ┆ 120.0     ┆ … ┆ null      ┆ null      ┆ null      ┆ null      │\n",
       "│ max       ┆ 13806.0   ┆ 1.0      ┆ 2384.0    ┆ … ┆ f0112abf3 ┆ fec19ba00 ┆ ff6cf7754 ┆ fffe343d9 │\n",
       "│           ┆           ┆          ┆           ┆   ┆ 69fb03cdc ┆ 16c012f3a ┆ 587322027 ┆ e9ac01481 │\n",
       "│           ┆           ┆          ┆           ┆   ┆ 5f5309300 ┆ 06360cfff ┆ 1ee1894fb ┆ 6f4c42528 │\n",
       "│           ┆           ┆          ┆           ┆   ┆ 913da     ┆ 6da32     ┆ e85ed     ┆ af3cd     │\n",
       "└───────────┴───────────┴──────────┴───────────┴───┴───────────┴───────────┴───────────┴───────────┘"
      ]
     },
     "metadata": {},
     "output_type": "display_data"
    }
   ],
   "source": [
    "print(yado_df.shape)\n",
    "display(yado_df.head())\n",
    "display(yado_df.describe())"
   ]
  },
  {
   "cell_type": "markdown",
   "id": "a7767e36-5fcc-4e9b-8007-0ff42ea1cb8b",
   "metadata": {},
   "source": [
    "## train データ"
   ]
  },
  {
   "cell_type": "code",
   "execution_count": 6,
   "id": "761796d0-7ca2-41c0-b902-62adbdc8c053",
   "metadata": {},
   "outputs": [
    {
     "name": "stdout",
     "output_type": "stream",
     "text": [
      "(419270, 3)\n"
     ]
    },
    {
     "data": {
      "text/html": [
       "<div><style>\n",
       ".dataframe > thead > tr,\n",
       ".dataframe > tbody > tr {\n",
       "  text-align: right;\n",
       "  white-space: pre-wrap;\n",
       "}\n",
       "</style>\n",
       "<small>shape: (5, 3)</small><table border=\"1\" class=\"dataframe\"><thead><tr><th>session_id</th><th>seq_no</th><th>yad_no</th></tr><tr><td>str</td><td>i64</td><td>i64</td></tr></thead><tbody><tr><td>&quot;000007603d533d…</td><td>0</td><td>2395</td></tr><tr><td>&quot;0000ca043ed437…</td><td>0</td><td>13535</td></tr><tr><td>&quot;0000d4835cf113…</td><td>0</td><td>123</td></tr><tr><td>&quot;0000fcda1ae1b2…</td><td>0</td><td>8475</td></tr><tr><td>&quot;000104bdffaaad…</td><td>0</td><td>96</td></tr></tbody></table></div>"
      ],
      "text/plain": [
       "shape: (5, 3)\n",
       "┌──────────────────────────────────┬────────┬────────┐\n",
       "│ session_id                       ┆ seq_no ┆ yad_no │\n",
       "│ ---                              ┆ ---    ┆ ---    │\n",
       "│ str                              ┆ i64    ┆ i64    │\n",
       "╞══════════════════════════════════╪════════╪════════╡\n",
       "│ 000007603d533d30453cc45d0f3d119f ┆ 0      ┆ 2395   │\n",
       "│ 0000ca043ed437a1472c9d1d154eb49b ┆ 0      ┆ 13535  │\n",
       "│ 0000d4835cf113316fe447e2f80ba1c8 ┆ 0      ┆ 123    │\n",
       "│ 0000fcda1ae1b2f431e55a7075d1f500 ┆ 0      ┆ 8475   │\n",
       "│ 000104bdffaaad1a1e0a9ebacf585f33 ┆ 0      ┆ 96     │\n",
       "└──────────────────────────────────┴────────┴────────┘"
      ]
     },
     "metadata": {},
     "output_type": "display_data"
    },
    {
     "data": {
      "text/html": [
       "<div><style>\n",
       ".dataframe > thead > tr,\n",
       ".dataframe > tbody > tr {\n",
       "  text-align: right;\n",
       "  white-space: pre-wrap;\n",
       "}\n",
       "</style>\n",
       "<small>shape: (9, 4)</small><table border=\"1\" class=\"dataframe\"><thead><tr><th>describe</th><th>session_id</th><th>seq_no</th><th>yad_no</th></tr><tr><td>str</td><td>str</td><td>f64</td><td>f64</td></tr></thead><tbody><tr><td>&quot;count&quot;</td><td>&quot;419270&quot;</td><td>419270.0</td><td>419270.0</td></tr><tr><td>&quot;null_count&quot;</td><td>&quot;0&quot;</td><td>0.0</td><td>0.0</td></tr><tr><td>&quot;mean&quot;</td><td>null</td><td>0.397658</td><td>6879.812331</td></tr><tr><td>&quot;std&quot;</td><td>null</td><td>0.684395</td><td>4018.859073</td></tr><tr><td>&quot;min&quot;</td><td>&quot;000007603d533d…</td><td>0.0</td><td>2.0</td></tr><tr><td>&quot;25%&quot;</td><td>null</td><td>0.0</td><td>3338.0</td></tr><tr><td>&quot;50%&quot;</td><td>null</td><td>0.0</td><td>6873.0</td></tr><tr><td>&quot;75%&quot;</td><td>null</td><td>1.0</td><td>10350.0</td></tr><tr><td>&quot;max&quot;</td><td>&quot;fffffa7baf3700…</td><td>9.0</td><td>13806.0</td></tr></tbody></table></div>"
      ],
      "text/plain": [
       "shape: (9, 4)\n",
       "┌────────────┬──────────────────────────────────┬──────────┬─────────────┐\n",
       "│ describe   ┆ session_id                       ┆ seq_no   ┆ yad_no      │\n",
       "│ ---        ┆ ---                              ┆ ---      ┆ ---         │\n",
       "│ str        ┆ str                              ┆ f64      ┆ f64         │\n",
       "╞════════════╪══════════════════════════════════╪══════════╪═════════════╡\n",
       "│ count      ┆ 419270                           ┆ 419270.0 ┆ 419270.0    │\n",
       "│ null_count ┆ 0                                ┆ 0.0      ┆ 0.0         │\n",
       "│ mean       ┆ null                             ┆ 0.397658 ┆ 6879.812331 │\n",
       "│ std        ┆ null                             ┆ 0.684395 ┆ 4018.859073 │\n",
       "│ min        ┆ 000007603d533d30453cc45d0f3d119f ┆ 0.0      ┆ 2.0         │\n",
       "│ 25%        ┆ null                             ┆ 0.0      ┆ 3338.0      │\n",
       "│ 50%        ┆ null                             ┆ 0.0      ┆ 6873.0      │\n",
       "│ 75%        ┆ null                             ┆ 1.0      ┆ 10350.0     │\n",
       "│ max        ┆ fffffa7baf370083ebcdd98f26a7e31a ┆ 9.0      ┆ 13806.0     │\n",
       "└────────────┴──────────────────────────────────┴──────────┴─────────────┘"
      ]
     },
     "metadata": {},
     "output_type": "display_data"
    }
   ],
   "source": [
    "# train_log\n",
    "print(train_log_df.shape)\n",
    "display(train_log_df.head())\n",
    "display(train_log_df.describe())"
   ]
  },
  {
   "cell_type": "code",
   "execution_count": 8,
   "id": "b882cc90-9d6b-48f7-ba8a-3378efa6f748",
   "metadata": {},
   "outputs": [
    {
     "name": "stdout",
     "output_type": "stream",
     "text": [
      "unique session_id: 288698\n"
     ]
    }
   ],
   "source": [
    "print(f'unique session_id: {len(train_log_df.get_column(\"session_id\").unique())}')"
   ]
  },
  {
   "cell_type": "code",
   "execution_count": 7,
   "id": "28dd7bf5-68fa-4489-ae32-f586e6bbc259",
   "metadata": {},
   "outputs": [
    {
     "name": "stdout",
     "output_type": "stream",
     "text": [
      "unique yad_no: 13372\n"
     ]
    }
   ],
   "source": [
    "print(f'unique yad_no: {len(train_log_df.get_column(\"yad_no\").unique())}')"
   ]
  },
  {
   "cell_type": "code",
   "execution_count": 13,
   "id": "44c880f8-a178-40dc-8b15-5ca10f5b1ae2",
   "metadata": {},
   "outputs": [
    {
     "name": "stdout",
     "output_type": "stream",
     "text": [
      "(288698, 2)\n"
     ]
    },
    {
     "data": {
      "text/html": [
       "<div><style>\n",
       ".dataframe > thead > tr,\n",
       ".dataframe > tbody > tr {\n",
       "  text-align: right;\n",
       "  white-space: pre-wrap;\n",
       "}\n",
       "</style>\n",
       "<small>shape: (5, 2)</small><table border=\"1\" class=\"dataframe\"><thead><tr><th>session_id</th><th>yad_no</th></tr><tr><td>str</td><td>i64</td></tr></thead><tbody><tr><td>&quot;000007603d533d…</td><td>4101</td></tr><tr><td>&quot;0000ca043ed437…</td><td>8253</td></tr><tr><td>&quot;0000d4835cf113…</td><td>4863</td></tr><tr><td>&quot;0000fcda1ae1b2…</td><td>1652</td></tr><tr><td>&quot;000104bdffaaad…</td><td>96</td></tr></tbody></table></div>"
      ],
      "text/plain": [
       "shape: (5, 2)\n",
       "┌──────────────────────────────────┬────────┐\n",
       "│ session_id                       ┆ yad_no │\n",
       "│ ---                              ┆ ---    │\n",
       "│ str                              ┆ i64    │\n",
       "╞══════════════════════════════════╪════════╡\n",
       "│ 000007603d533d30453cc45d0f3d119f ┆ 4101   │\n",
       "│ 0000ca043ed437a1472c9d1d154eb49b ┆ 8253   │\n",
       "│ 0000d4835cf113316fe447e2f80ba1c8 ┆ 4863   │\n",
       "│ 0000fcda1ae1b2f431e55a7075d1f500 ┆ 1652   │\n",
       "│ 000104bdffaaad1a1e0a9ebacf585f33 ┆ 96     │\n",
       "└──────────────────────────────────┴────────┘"
      ]
     },
     "metadata": {},
     "output_type": "display_data"
    },
    {
     "data": {
      "text/html": [
       "<div><style>\n",
       ".dataframe > thead > tr,\n",
       ".dataframe > tbody > tr {\n",
       "  text-align: right;\n",
       "  white-space: pre-wrap;\n",
       "}\n",
       "</style>\n",
       "<small>shape: (9, 3)</small><table border=\"1\" class=\"dataframe\"><thead><tr><th>describe</th><th>session_id</th><th>yad_no</th></tr><tr><td>str</td><td>str</td><td>f64</td></tr></thead><tbody><tr><td>&quot;count&quot;</td><td>&quot;288698&quot;</td><td>288698.0</td></tr><tr><td>&quot;null_count&quot;</td><td>&quot;0&quot;</td><td>0.0</td></tr><tr><td>&quot;mean&quot;</td><td>null</td><td>6896.405555</td></tr><tr><td>&quot;std&quot;</td><td>null</td><td>4015.333265</td></tr><tr><td>&quot;min&quot;</td><td>&quot;000007603d533d…</td><td>1.0</td></tr><tr><td>&quot;25%&quot;</td><td>null</td><td>3372.0</td></tr><tr><td>&quot;50%&quot;</td><td>null</td><td>6863.0</td></tr><tr><td>&quot;75%&quot;</td><td>null</td><td>10362.0</td></tr><tr><td>&quot;max&quot;</td><td>&quot;fffffa7baf3700…</td><td>13806.0</td></tr></tbody></table></div>"
      ],
      "text/plain": [
       "shape: (9, 3)\n",
       "┌────────────┬──────────────────────────────────┬─────────────┐\n",
       "│ describe   ┆ session_id                       ┆ yad_no      │\n",
       "│ ---        ┆ ---                              ┆ ---         │\n",
       "│ str        ┆ str                              ┆ f64         │\n",
       "╞════════════╪══════════════════════════════════╪═════════════╡\n",
       "│ count      ┆ 288698                           ┆ 288698.0    │\n",
       "│ null_count ┆ 0                                ┆ 0.0         │\n",
       "│ mean       ┆ null                             ┆ 6896.405555 │\n",
       "│ std        ┆ null                             ┆ 4015.333265 │\n",
       "│ min        ┆ 000007603d533d30453cc45d0f3d119f ┆ 1.0         │\n",
       "│ 25%        ┆ null                             ┆ 3372.0      │\n",
       "│ 50%        ┆ null                             ┆ 6863.0      │\n",
       "│ 75%        ┆ null                             ┆ 10362.0     │\n",
       "│ max        ┆ fffffa7baf370083ebcdd98f26a7e31a ┆ 13806.0     │\n",
       "└────────────┴──────────────────────────────────┴─────────────┘"
      ]
     },
     "metadata": {},
     "output_type": "display_data"
    }
   ],
   "source": [
    "# train_label_df\n",
    "print(train_label_df.shape)\n",
    "display(train_label_df.head())\n",
    "display(train_label_df.describe())"
   ]
  },
  {
   "cell_type": "markdown",
   "id": "cc9fe269-15f3-42cc-937b-a550b4ae968e",
   "metadata": {},
   "source": [
    "### test"
   ]
  },
  {
   "cell_type": "code",
   "execution_count": 15,
   "id": "82bc97db-5aca-42ca-988e-c5c2efc4bec4",
   "metadata": {},
   "outputs": [
    {
     "name": "stdout",
     "output_type": "stream",
     "text": [
      "(250305, 3)\n"
     ]
    },
    {
     "data": {
      "text/html": [
       "<div><style>\n",
       ".dataframe > thead > tr,\n",
       ".dataframe > tbody > tr {\n",
       "  text-align: right;\n",
       "  white-space: pre-wrap;\n",
       "}\n",
       "</style>\n",
       "<small>shape: (5, 3)</small><table border=\"1\" class=\"dataframe\"><thead><tr><th>session_id</th><th>seq_no</th><th>yad_no</th></tr><tr><td>str</td><td>i64</td><td>i64</td></tr></thead><tbody><tr><td>&quot;00001149e9c739…</td><td>0</td><td>3560</td></tr><tr><td>&quot;00001149e9c739…</td><td>1</td><td>1959</td></tr><tr><td>&quot;0000e02747d749…</td><td>0</td><td>11984</td></tr><tr><td>&quot;0000f17ae26282…</td><td>0</td><td>757</td></tr><tr><td>&quot;0000f17ae26282…</td><td>1</td><td>8922</td></tr></tbody></table></div>"
      ],
      "text/plain": [
       "shape: (5, 3)\n",
       "┌──────────────────────────────────┬────────┬────────┐\n",
       "│ session_id                       ┆ seq_no ┆ yad_no │\n",
       "│ ---                              ┆ ---    ┆ ---    │\n",
       "│ str                              ┆ i64    ┆ i64    │\n",
       "╞══════════════════════════════════╪════════╪════════╡\n",
       "│ 00001149e9c73985425197104712478c ┆ 0      ┆ 3560   │\n",
       "│ 00001149e9c73985425197104712478c ┆ 1      ┆ 1959   │\n",
       "│ 0000e02747d749a52b7736dfa751e258 ┆ 0      ┆ 11984  │\n",
       "│ 0000f17ae2628237d78d3a38b009d3be ┆ 0      ┆ 757    │\n",
       "│ 0000f17ae2628237d78d3a38b009d3be ┆ 1      ┆ 8922   │\n",
       "└──────────────────────────────────┴────────┴────────┘"
      ]
     },
     "metadata": {},
     "output_type": "display_data"
    },
    {
     "data": {
      "text/html": [
       "<div><style>\n",
       ".dataframe > thead > tr,\n",
       ".dataframe > tbody > tr {\n",
       "  text-align: right;\n",
       "  white-space: pre-wrap;\n",
       "}\n",
       "</style>\n",
       "<small>shape: (9, 4)</small><table border=\"1\" class=\"dataframe\"><thead><tr><th>describe</th><th>session_id</th><th>seq_no</th><th>yad_no</th></tr><tr><td>str</td><td>str</td><td>f64</td><td>f64</td></tr></thead><tbody><tr><td>&quot;count&quot;</td><td>&quot;250305&quot;</td><td>250305.0</td><td>250305.0</td></tr><tr><td>&quot;null_count&quot;</td><td>&quot;0&quot;</td><td>0.0</td><td>0.0</td></tr><tr><td>&quot;mean&quot;</td><td>null</td><td>0.379657</td><td>6859.588977</td></tr><tr><td>&quot;std&quot;</td><td>null</td><td>0.661502</td><td>3982.391402</td></tr><tr><td>&quot;min&quot;</td><td>&quot;00001149e9c739…</td><td>0.0</td><td>1.0</td></tr><tr><td>&quot;25%&quot;</td><td>null</td><td>0.0</td><td>3361.0</td></tr><tr><td>&quot;50%&quot;</td><td>null</td><td>0.0</td><td>6839.0</td></tr><tr><td>&quot;75%&quot;</td><td>null</td><td>1.0</td><td>10305.0</td></tr><tr><td>&quot;max&quot;</td><td>&quot;ffffe984aafd61…</td><td>7.0</td><td>13806.0</td></tr></tbody></table></div>"
      ],
      "text/plain": [
       "shape: (9, 4)\n",
       "┌────────────┬──────────────────────────────────┬──────────┬─────────────┐\n",
       "│ describe   ┆ session_id                       ┆ seq_no   ┆ yad_no      │\n",
       "│ ---        ┆ ---                              ┆ ---      ┆ ---         │\n",
       "│ str        ┆ str                              ┆ f64      ┆ f64         │\n",
       "╞════════════╪══════════════════════════════════╪══════════╪═════════════╡\n",
       "│ count      ┆ 250305                           ┆ 250305.0 ┆ 250305.0    │\n",
       "│ null_count ┆ 0                                ┆ 0.0      ┆ 0.0         │\n",
       "│ mean       ┆ null                             ┆ 0.379657 ┆ 6859.588977 │\n",
       "│ std        ┆ null                             ┆ 0.661502 ┆ 3982.391402 │\n",
       "│ min        ┆ 00001149e9c73985425197104712478c ┆ 0.0      ┆ 1.0         │\n",
       "│ 25%        ┆ null                             ┆ 0.0      ┆ 3361.0      │\n",
       "│ 50%        ┆ null                             ┆ 0.0      ┆ 6839.0      │\n",
       "│ 75%        ┆ null                             ┆ 1.0      ┆ 10305.0     │\n",
       "│ max        ┆ ffffe984aafd6127ce8e43e3ca40c79d ┆ 7.0      ┆ 13806.0     │\n",
       "└────────────┴──────────────────────────────────┴──────────┴─────────────┘"
      ]
     },
     "metadata": {},
     "output_type": "display_data"
    }
   ],
   "source": [
    "# test_log_df\n",
    "print(test_log_df.shape)\n",
    "display(test_log_df.head())\n",
    "display(test_log_df.describe())"
   ]
  },
  {
   "cell_type": "code",
   "execution_count": 14,
   "id": "cd37b5c3-6188-468d-8237-2594172380f0",
   "metadata": {},
   "outputs": [
    {
     "name": "stdout",
     "output_type": "stream",
     "text": [
      "(174700, 1)\n"
     ]
    },
    {
     "data": {
      "text/html": [
       "<div><style>\n",
       ".dataframe > thead > tr,\n",
       ".dataframe > tbody > tr {\n",
       "  text-align: right;\n",
       "  white-space: pre-wrap;\n",
       "}\n",
       "</style>\n",
       "<small>shape: (5, 1)</small><table border=\"1\" class=\"dataframe\"><thead><tr><th>session_id</th></tr><tr><td>str</td></tr></thead><tbody><tr><td>&quot;00001149e9c739…</td></tr><tr><td>&quot;0000e02747d749…</td></tr><tr><td>&quot;0000f17ae26282…</td></tr><tr><td>&quot;000174a6f7a569…</td></tr><tr><td>&quot;00017e2a527901…</td></tr></tbody></table></div>"
      ],
      "text/plain": [
       "shape: (5, 1)\n",
       "┌──────────────────────────────────┐\n",
       "│ session_id                       │\n",
       "│ ---                              │\n",
       "│ str                              │\n",
       "╞══════════════════════════════════╡\n",
       "│ 00001149e9c73985425197104712478c │\n",
       "│ 0000e02747d749a52b7736dfa751e258 │\n",
       "│ 0000f17ae2628237d78d3a38b009d3be │\n",
       "│ 000174a6f7a569b84c5575760d2e9664 │\n",
       "│ 00017e2a527901c9c41b1acef525d016 │\n",
       "└──────────────────────────────────┘"
      ]
     },
     "metadata": {},
     "output_type": "display_data"
    }
   ],
   "source": [
    "# test_session_df\n",
    "print(test_session_df.shape)\n",
    "display(test_session_df.head())"
   ]
  },
  {
   "cell_type": "markdown",
   "id": "a13afcf7-d1bf-4054-9cea-3dcf65149231",
   "metadata": {},
   "source": [
    "## 気になった分析"
   ]
  },
  {
   "cell_type": "markdown",
   "id": "a3c3fc34-ad8a-4b99-8c3a-87810b76cb0c",
   "metadata": {},
   "source": [
    "### 各宿の出現頻度"
   ]
  },
  {
   "cell_type": "code",
   "execution_count": 38,
   "id": "f82486e1-699e-4ab1-800a-35ac910f5051",
   "metadata": {},
   "outputs": [
    {
     "data": {
      "text/html": [
       "<div><style>\n",
       ".dataframe > thead > tr,\n",
       ".dataframe > tbody > tr {\n",
       "  text-align: right;\n",
       "  white-space: pre-wrap;\n",
       "}\n",
       "</style>\n",
       "<small>shape: (10, 2)</small><table border=\"1\" class=\"dataframe\"><thead><tr><th>yad_no</th><th>counts</th></tr><tr><td>i64</td><td>u32</td></tr></thead><tbody><tr><td>3848</td><td>661</td></tr><tr><td>915</td><td>752</td></tr><tr><td>8553</td><td>795</td></tr><tr><td>532</td><td>819</td></tr><tr><td>719</td><td>837</td></tr><tr><td>8567</td><td>843</td></tr><tr><td>13468</td><td>879</td></tr><tr><td>10095</td><td>946</td></tr><tr><td>12350</td><td>1115</td></tr><tr><td>3338</td><td>1422</td></tr></tbody></table></div>"
      ],
      "text/plain": [
       "shape: (10, 2)\n",
       "┌────────┬────────┐\n",
       "│ yad_no ┆ counts │\n",
       "│ ---    ┆ ---    │\n",
       "│ i64    ┆ u32    │\n",
       "╞════════╪════════╡\n",
       "│ 3848   ┆ 661    │\n",
       "│ 915    ┆ 752    │\n",
       "│ 8553   ┆ 795    │\n",
       "│ 532    ┆ 819    │\n",
       "│ …      ┆ …      │\n",
       "│ 13468  ┆ 879    │\n",
       "│ 10095  ┆ 946    │\n",
       "│ 12350  ┆ 1115   │\n",
       "│ 3338   ┆ 1422   │\n",
       "└────────┴────────┘"
      ]
     },
     "execution_count": 38,
     "metadata": {},
     "output_type": "execute_result"
    }
   ],
   "source": [
    "train_log_df.get_column(\"yad_no\").value_counts().sort(\"counts\").tail(10)"
   ]
  },
  {
   "cell_type": "code",
   "execution_count": 20,
   "id": "31f3d2e2-1552-4408-93e1-5f06f83ba7a4",
   "metadata": {},
   "outputs": [
    {
     "data": {
      "text/html": [
       "<div><style>\n",
       ".dataframe > thead > tr,\n",
       ".dataframe > tbody > tr {\n",
       "  text-align: right;\n",
       "  white-space: pre-wrap;\n",
       "}\n",
       "</style>\n",
       "<small>shape: (10, 2)</small><table border=\"1\" class=\"dataframe\"><thead><tr><th>yad_no</th><th>counts</th></tr><tr><td>i64</td><td>u32</td></tr></thead><tbody><tr><td>1818</td><td>286</td></tr><tr><td>2445</td><td>290</td></tr><tr><td>3848</td><td>294</td></tr><tr><td>719</td><td>299</td></tr><tr><td>13017</td><td>340</td></tr><tr><td>385</td><td>347</td></tr><tr><td>8553</td><td>427</td></tr><tr><td>12350</td><td>533</td></tr><tr><td>3338</td><td>576</td></tr><tr><td>10095</td><td>605</td></tr></tbody></table></div>"
      ],
      "text/plain": [
       "shape: (10, 2)\n",
       "┌────────┬────────┐\n",
       "│ yad_no ┆ counts │\n",
       "│ ---    ┆ ---    │\n",
       "│ i64    ┆ u32    │\n",
       "╞════════╪════════╡\n",
       "│ 1818   ┆ 286    │\n",
       "│ 2445   ┆ 290    │\n",
       "│ 3848   ┆ 294    │\n",
       "│ 719    ┆ 299    │\n",
       "│ …      ┆ …      │\n",
       "│ 8553   ┆ 427    │\n",
       "│ 12350  ┆ 533    │\n",
       "│ 3338   ┆ 576    │\n",
       "│ 10095  ┆ 605    │\n",
       "└────────┴────────┘"
      ]
     },
     "execution_count": 20,
     "metadata": {},
     "output_type": "execute_result"
    }
   ],
   "source": [
    "train_label_df.get_column(\"yad_no\").value_counts().sort(\"counts\").tail(10)"
   ]
  },
  {
   "cell_type": "code",
   "execution_count": 21,
   "id": "043b2582-92cb-4fde-8ae8-f8ee65098d04",
   "metadata": {},
   "outputs": [
    {
     "data": {
      "text/html": [
       "<div><style>\n",
       ".dataframe > thead > tr,\n",
       ".dataframe > tbody > tr {\n",
       "  text-align: right;\n",
       "  white-space: pre-wrap;\n",
       "}\n",
       "</style>\n",
       "<small>shape: (10, 2)</small><table border=\"1\" class=\"dataframe\"><thead><tr><th>yad_no</th><th>counts</th></tr><tr><td>i64</td><td>u32</td></tr></thead><tbody><tr><td>532</td><td>387</td></tr><tr><td>8553</td><td>402</td></tr><tr><td>12017</td><td>409</td></tr><tr><td>8567</td><td>421</td></tr><tr><td>6470</td><td>467</td></tr><tr><td>2797</td><td>469</td></tr><tr><td>12350</td><td>491</td></tr><tr><td>13468</td><td>494</td></tr><tr><td>2201</td><td>530</td></tr><tr><td>719</td><td>683</td></tr></tbody></table></div>"
      ],
      "text/plain": [
       "shape: (10, 2)\n",
       "┌────────┬────────┐\n",
       "│ yad_no ┆ counts │\n",
       "│ ---    ┆ ---    │\n",
       "│ i64    ┆ u32    │\n",
       "╞════════╪════════╡\n",
       "│ 532    ┆ 387    │\n",
       "│ 8553   ┆ 402    │\n",
       "│ 12017  ┆ 409    │\n",
       "│ 8567   ┆ 421    │\n",
       "│ …      ┆ …      │\n",
       "│ 12350  ┆ 491    │\n",
       "│ 13468  ┆ 494    │\n",
       "│ 2201   ┆ 530    │\n",
       "│ 719    ┆ 683    │\n",
       "└────────┴────────┘"
      ]
     },
     "execution_count": 21,
     "metadata": {},
     "output_type": "execute_result"
    }
   ],
   "source": [
    "test_log_df.get_column(\"yad_no\").value_counts().sort(\"counts\").tail(10)"
   ]
  },
  {
   "cell_type": "code",
   "execution_count": 22,
   "id": "0ee2d8eb-6166-4575-a663-52d346664081",
   "metadata": {},
   "outputs": [
    {
     "data": {
      "text/plain": [
       "11223"
      ]
     },
     "execution_count": 22,
     "metadata": {},
     "output_type": "execute_result"
    }
   ],
   "source": [
    "len(test_log_df.get_column(\"yad_no\").value_counts())"
   ]
  },
  {
   "cell_type": "code",
   "execution_count": 23,
   "id": "3c13db40-19fd-4d68-8bac-5fec33db8edd",
   "metadata": {},
   "outputs": [
    {
     "data": {
      "text/plain": [
       "13372"
      ]
     },
     "execution_count": 23,
     "metadata": {},
     "output_type": "execute_result"
    }
   ],
   "source": [
    "len(train_log_df.get_column(\"yad_no\").value_counts())"
   ]
  },
  {
   "cell_type": "code",
   "execution_count": 24,
   "id": "a5fee108-73be-49d1-b998-148aa9a29d5a",
   "metadata": {},
   "outputs": [
    {
     "name": "stdout",
     "output_type": "stream",
     "text": [
      "(13806, 13)\n"
     ]
    }
   ],
   "source": [
    "print(yado_df.shape)"
   ]
  },
  {
   "cell_type": "code",
   "execution_count": 35,
   "id": "8fbb351e-5a92-4717-899c-8972d3e50f0d",
   "metadata": {},
   "outputs": [
    {
     "name": "stdout",
     "output_type": "stream",
     "text": [
      "train log に出現しないtestのアイテム 1231\n",
      "train label に出現しないtestのアイテム 2962\n",
      "train logにもlabel に出現しないtestのアイテム 0\n"
     ]
    }
   ],
   "source": [
    "# train に出現しないtestのアイテム\n",
    "train_log_yads = train_log_df.get_column(\"yad_no\").unique().to_list()\n",
    "train_label_yads = train_label_df.get_column(\"yad_no\").unique().to_list()\n",
    "print(\n",
    "    \"train log に出現しないtestのアイテム\",\n",
    "    len(test_log_df.filter(~pl.col(\"yad_no\").is_in(train_log_yads))),\n",
    ")\n",
    "print(\n",
    "    \"train label に出現しないtestのアイテム\",\n",
    "    len(test_log_df.filter(~pl.col(\"yad_no\").is_in(train_label_yads))),\n",
    ")\n",
    "\n",
    "print(\n",
    "    \"train logにもlabel に出現しないtestのアイテム\",\n",
    "    len(test_log_df.filter(~pl.col(\"yad_no\").is_in(train_log_yads + train_label_yads))),\n",
    ")"
   ]
  },
  {
   "cell_type": "markdown",
   "id": "73c83b10-156f-4cb1-960c-7e8a8ceec4e4",
   "metadata": {},
   "source": [
    "## session_id が連番になっているかどうか"
   ]
  },
  {
   "cell_type": "code",
   "execution_count": 39,
   "id": "b7fcce76-7e4f-44df-9f55-fba5d522accd",
   "metadata": {},
   "outputs": [
    {
     "data": {
      "text/html": [
       "<div><style>\n",
       ".dataframe > thead > tr,\n",
       ".dataframe > tbody > tr {\n",
       "  text-align: right;\n",
       "  white-space: pre-wrap;\n",
       "}\n",
       "</style>\n",
       "<small>shape: (419_270,)</small><table border=\"1\" class=\"dataframe\"><thead><tr><th>session_id</th></tr><tr><td>str</td></tr></thead><tbody><tr><td>&quot;000007603d533d…</td></tr><tr><td>&quot;0000ca043ed437…</td></tr><tr><td>&quot;0000d4835cf113…</td></tr><tr><td>&quot;0000fcda1ae1b2…</td></tr><tr><td>&quot;000104bdffaaad…</td></tr><tr><td>&quot;000104bdffaaad…</td></tr><tr><td>&quot;00011afe25c343…</td></tr><tr><td>&quot;000125c737df18…</td></tr><tr><td>&quot;0001763050a10b…</td></tr><tr><td>&quot;000178c4d4d567…</td></tr><tr><td>&quot;0001e6a407a85d…</td></tr><tr><td>&quot;0002499cf2713a…</td></tr><tr><td>&hellip;</td></tr><tr><td>&quot;fffe8a472ae6a9…</td></tr><tr><td>&quot;fffe8a472ae6a9…</td></tr><tr><td>&quot;fffe8c99c5b332…</td></tr><tr><td>&quot;fffe8c99c5b332…</td></tr><tr><td>&quot;ffff2262d38abd…</td></tr><tr><td>&quot;ffff2360540745…</td></tr><tr><td>&quot;ffff7fb4617164…</td></tr><tr><td>&quot;ffffcd5bc19d62…</td></tr><tr><td>&quot;ffffcd5bc19d62…</td></tr><tr><td>&quot;ffffcd5bc19d62…</td></tr><tr><td>&quot;fffffa7baf3700…</td></tr><tr><td>&quot;fffffa7baf3700…</td></tr></tbody></table></div>"
      ],
      "text/plain": [
       "shape: (419_270,)\n",
       "Series: 'session_id' [str]\n",
       "[\n",
       "\t\"000007603d533d…\n",
       "\t\"0000ca043ed437…\n",
       "\t\"0000d4835cf113…\n",
       "\t\"0000fcda1ae1b2…\n",
       "\t\"000104bdffaaad…\n",
       "\t\"000104bdffaaad…\n",
       "\t\"00011afe25c343…\n",
       "\t\"000125c737df18…\n",
       "\t\"0001763050a10b…\n",
       "\t\"000178c4d4d567…\n",
       "\t\"0001e6a407a85d…\n",
       "\t\"0002499cf2713a…\n",
       "\t…\n",
       "\t\"fffe8a472ae6a9…\n",
       "\t\"fffe8a472ae6a9…\n",
       "\t\"fffe8a472ae6a9…\n",
       "\t\"fffe8c99c5b332…\n",
       "\t\"fffe8c99c5b332…\n",
       "\t\"ffff2262d38abd…\n",
       "\t\"ffff2360540745…\n",
       "\t\"ffff7fb4617164…\n",
       "\t\"ffffcd5bc19d62…\n",
       "\t\"ffffcd5bc19d62…\n",
       "\t\"ffffcd5bc19d62…\n",
       "\t\"fffffa7baf3700…\n",
       "\t\"fffffa7baf3700…\n",
       "]"
      ]
     },
     "execution_count": 39,
     "metadata": {},
     "output_type": "execute_result"
    }
   ],
   "source": [
    "train_log_df.get_column(\"session_id\").sort()"
   ]
  },
  {
   "cell_type": "code",
   "execution_count": 40,
   "id": "5ea48511-c016-40b3-803b-78deb14dfa23",
   "metadata": {},
   "outputs": [
    {
     "data": {
      "text/html": [
       "<div><style>\n",
       ".dataframe > thead > tr,\n",
       ".dataframe > tbody > tr {\n",
       "  text-align: right;\n",
       "  white-space: pre-wrap;\n",
       "}\n",
       "</style>\n",
       "<small>shape: (250_305,)</small><table border=\"1\" class=\"dataframe\"><thead><tr><th>session_id</th></tr><tr><td>str</td></tr></thead><tbody><tr><td>&quot;00001149e9c739…</td></tr><tr><td>&quot;00001149e9c739…</td></tr><tr><td>&quot;0000e02747d749…</td></tr><tr><td>&quot;0000f17ae26282…</td></tr><tr><td>&quot;0000f17ae26282…</td></tr><tr><td>&quot;000174a6f7a569…</td></tr><tr><td>&quot;000174a6f7a569…</td></tr><tr><td>&quot;000174a6f7a569…</td></tr><tr><td>&quot;00017e2a527901…</td></tr><tr><td>&quot;00018613341f84…</td></tr><tr><td>&quot;00027c33bbdb2e…</td></tr><tr><td>&quot;0002f6aa27bcf9…</td></tr><tr><td>&hellip;</td></tr><tr><td>&quot;fffbdf7968b31d…</td></tr><tr><td>&quot;fffcfdbb12c869…</td></tr><tr><td>&quot;fffd40e7248796…</td></tr><tr><td>&quot;fffd40e7248796…</td></tr><tr><td>&quot;fffdb4cc379e98…</td></tr><tr><td>&quot;fffdd903643f8d…</td></tr><tr><td>&quot;fffee3199ef94b…</td></tr><tr><td>&quot;fffee3199ef94b…</td></tr><tr><td>&quot;ffff62c6bb49bc…</td></tr><tr><td>&quot;ffff9a7dcc8928…</td></tr><tr><td>&quot;ffffb1d30300fe…</td></tr><tr><td>&quot;ffffe984aafd61…</td></tr></tbody></table></div>"
      ],
      "text/plain": [
       "shape: (250_305,)\n",
       "Series: 'session_id' [str]\n",
       "[\n",
       "\t\"00001149e9c739…\n",
       "\t\"00001149e9c739…\n",
       "\t\"0000e02747d749…\n",
       "\t\"0000f17ae26282…\n",
       "\t\"0000f17ae26282…\n",
       "\t\"000174a6f7a569…\n",
       "\t\"000174a6f7a569…\n",
       "\t\"000174a6f7a569…\n",
       "\t\"00017e2a527901…\n",
       "\t\"00018613341f84…\n",
       "\t\"00027c33bbdb2e…\n",
       "\t\"0002f6aa27bcf9…\n",
       "\t…\n",
       "\t\"fffbd7a7438faf…\n",
       "\t\"fffbdf7968b31d…\n",
       "\t\"fffcfdbb12c869…\n",
       "\t\"fffd40e7248796…\n",
       "\t\"fffd40e7248796…\n",
       "\t\"fffdb4cc379e98…\n",
       "\t\"fffdd903643f8d…\n",
       "\t\"fffee3199ef94b…\n",
       "\t\"fffee3199ef94b…\n",
       "\t\"ffff62c6bb49bc…\n",
       "\t\"ffff9a7dcc8928…\n",
       "\t\"ffffb1d30300fe…\n",
       "\t\"ffffe984aafd61…\n",
       "]"
      ]
     },
     "execution_count": 40,
     "metadata": {},
     "output_type": "execute_result"
    }
   ],
   "source": [
    "test_log_df.get_column(\"session_id\").sort()"
   ]
  },
  {
   "cell_type": "code",
   "execution_count": null,
   "id": "906dfd65-dbf9-47b8-a98c-452c55269e1a",
   "metadata": {},
   "outputs": [],
   "source": []
  }
 ],
 "metadata": {
  "kernelspec": {
   "display_name": "Python 3 (ipykernel)",
   "language": "python",
   "name": "python3"
  },
  "language_info": {
   "codemirror_mode": {
    "name": "ipython",
    "version": 3
   },
   "file_extension": ".py",
   "mimetype": "text/x-python",
   "name": "python",
   "nbconvert_exporter": "python",
   "pygments_lexer": "ipython3",
   "version": "3.10.12"
  }
 },
 "nbformat": 4,
 "nbformat_minor": 5
}
