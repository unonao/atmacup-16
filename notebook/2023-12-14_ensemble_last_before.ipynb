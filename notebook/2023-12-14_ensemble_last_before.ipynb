{
 "cells": [
  {
   "cell_type": "code",
   "execution_count": 2,
   "id": "85a865c8-fce1-4f7a-804d-f0a8391ace7d",
   "metadata": {},
   "outputs": [
    {
     "name": "stdout",
     "output_type": "stream",
     "text": [
      "/kaggle/working\n"
     ]
    }
   ],
   "source": [
    "%cd .."
   ]
  },
  {
   "cell_type": "code",
   "execution_count": 3,
   "id": "8b3c0ce8-d47b-44fe-997e-ae33a2820b37",
   "metadata": {},
   "outputs": [
    {
     "name": "stdout",
     "output_type": "stream",
     "text": [
      "debug: false\n",
      "seed: 42\n",
      "dir:\n",
      "  data_dir: /kaggle/working/input/atmaCup16_Dataset\n",
      "  output_dir: /kaggle/working/output\n",
      "  exp_dir: /kaggle/working/output/exp\n",
      "  cand_unsupervised_dir: /kaggle/working/output/cand_unsupervised\n",
      "  cand_supervised_dir: /kaggle/working/output/cand_supervised\n",
      "  datasets_dir: /kaggle/working/output/datasets\n",
      "exp:\n",
      "  other_dirs:\n",
      "  - output/exp/008_split/base\n",
      "  first_dirs:\n",
      "  - output/exp/008_split/first004\n",
      "\n"
     ]
    }
   ],
   "source": [
    "from hydra import compose, initialize\n",
    "from omegaconf import OmegaConf\n",
    "\n",
    "with initialize(version_base=None, config_path=\"../experiments/ensemble_001\"):\n",
    "    cfg = compose(config_name=\"config.yaml\", overrides=[\"exp=002\"])\n",
    "    print(OmegaConf.to_yaml(cfg))"
   ]
  },
  {
   "cell_type": "code",
   "execution_count": 4,
   "id": "b11d8d61-25d7-41a3-8c90-33b6ab34c169",
   "metadata": {},
   "outputs": [],
   "source": [
    "import logging\n",
    "import os\n",
    "import pickle\n",
    "import sys\n",
    "import time\n",
    "from pathlib import Path\n",
    "\n",
    "import hydra\n",
    "import lightgbm as lgb\n",
    "import matplotlib.pyplot as plt\n",
    "import numpy as np\n",
    "import pandas as pd\n",
    "import polars as pl\n",
    "from hydra.core.hydra_config import HydraConfig\n",
    "from omegaconf import DictConfig, OmegaConf\n",
    "from tqdm.auto import tqdm\n",
    "\n",
    "import utils\n",
    "import wandb\n",
    "from utils.load import load_label_data, load_log_data, load_session_data, load_yad_data\n",
    "from utils.logger import get_logger\n",
    "from utils.metrics import calculate_metrics"
   ]
  },
  {
   "cell_type": "code",
   "execution_count": 5,
   "id": "2b066cd4-afde-4224-b2ff-0d24c262b6ac",
   "metadata": {},
   "outputs": [
    {
     "data": {
      "text/html": [
       "<div><style>\n",
       ".dataframe > thead > tr > th,\n",
       ".dataframe > tbody > tr > td {\n",
       "  text-align: right;\n",
       "  white-space: pre-wrap;\n",
       "}\n",
       "</style>\n",
       "<small>shape: (5, 4)</small><table border=\"1\" class=\"dataframe\"><thead><tr><th>session_id</th><th>candidates</th><th>pred</th><th>session_count</th></tr><tr><td>str</td><td>i32</td><td>f64</td><td>u32</td></tr></thead><tbody><tr><td>&quot;fffffa7baf3700…</td><td>2439</td><td>1.97463</td><td>2</td></tr><tr><td>&quot;fffffa7baf3700…</td><td>2981</td><td>0.433152</td><td>2</td></tr><tr><td>&quot;fffffa7baf3700…</td><td>10095</td><td>-0.82139</td><td>2</td></tr><tr><td>&quot;fffffa7baf3700…</td><td>3</td><td>-1.266915</td><td>2</td></tr><tr><td>&quot;fffffa7baf3700…</td><td>1372</td><td>-1.284296</td><td>2</td></tr></tbody></table></div>"
      ],
      "text/plain": [
       "shape: (5, 4)\n",
       "┌──────────────────────────────────┬────────────┬───────────┬───────────────┐\n",
       "│ session_id                       ┆ candidates ┆ pred      ┆ session_count │\n",
       "│ ---                              ┆ ---        ┆ ---       ┆ ---           │\n",
       "│ str                              ┆ i32        ┆ f64       ┆ u32           │\n",
       "╞══════════════════════════════════╪════════════╪═══════════╪═══════════════╡\n",
       "│ fffffa7baf370083ebcdd98f26a7e31a ┆ 2439       ┆ 1.97463   ┆ 2             │\n",
       "│ fffffa7baf370083ebcdd98f26a7e31a ┆ 2981       ┆ 0.433152  ┆ 2             │\n",
       "│ fffffa7baf370083ebcdd98f26a7e31a ┆ 10095      ┆ -0.82139  ┆ 2             │\n",
       "│ fffffa7baf370083ebcdd98f26a7e31a ┆ 3          ┆ -1.266915 ┆ 2             │\n",
       "│ fffffa7baf370083ebcdd98f26a7e31a ┆ 1372       ┆ -1.284296 ┆ 2             │\n",
       "└──────────────────────────────────┴────────────┴───────────┴───────────────┘"
      ]
     },
     "execution_count": 5,
     "metadata": {},
     "output_type": "execute_result"
    }
   ],
   "source": [
    "other_oof_df = pl.read_parquet(Path(cfg.exp.other_dirs[0]) / \"oof_pred.parquet\")\n",
    "other_test_df = pl.read_parquet(Path(cfg.exp.other_dirs[0]) / \"test_pred.parquet\")\n",
    "other_oof_df.head()"
   ]
  },
  {
   "cell_type": "code",
   "execution_count": 6,
   "id": "7b2ff5d7-a6e8-4f70-aefa-59087dda975b",
   "metadata": {},
   "outputs": [],
   "source": [
    "first_oof_df = pl.read_parquet(Path(cfg.exp.first_dirs[0]) / \"oof_pred.parquet\")\n",
    "first_test_df = pl.read_parquet(Path(cfg.exp.first_dirs[0]) / \"test_pred.parquet\")"
   ]
  },
  {
   "cell_type": "code",
   "execution_count": 7,
   "id": "f22ce6cf-d21d-42ae-b86c-f58af75e11d3",
   "metadata": {},
   "outputs": [],
   "source": [
    "def make_eval_df(other_oof_df: pl.DataFrame, first_oof_df: pl.DataFrame):\n",
    "    other_oof_df = other_oof_df.filter(pl.col(\"session_count\") != 1).drop(\n",
    "        \"session_count\"\n",
    "    )\n",
    "    first_oof_df = first_oof_df.filter(pl.col(\"session_count\") == 1).drop(\n",
    "        \"session_count\"\n",
    "    )\n",
    "    pred_df = pl.concat([other_oof_df, first_oof_df]).sort(\n",
    "        by=[\"session_id\", \"pred\"], descending=True\n",
    "    )\n",
    "    pred_candidates_df = pred_df.group_by(\"session_id\").agg(pl.col(\"candidates\"))\n",
    "    train_label_df = load_label_data(Path(cfg.dir.data_dir))\n",
    "    candidaates_df = pred_candidates_df.join(\n",
    "        train_label_df, on=\"session_id\", how=\"left\"\n",
    "    )\n",
    "    return candidaates_df"
   ]
  },
  {
   "cell_type": "code",
   "execution_count": 8,
   "id": "9baf3568-799c-4b7a-8513-5f9400153cb8",
   "metadata": {},
   "outputs": [
    {
     "name": "stdout",
     "output_type": "stream",
     "text": [
      "shape: (5, 3)\n",
      "┌──────────────────────────────────┬────────────────────────┬────────┐\n",
      "│ session_id                       ┆ candidates             ┆ yad_no │\n",
      "│ ---                              ┆ ---                    ┆ ---    │\n",
      "│ str                              ┆ list[i32]              ┆ i64    │\n",
      "╞══════════════════════════════════╪════════════════════════╪════════╡\n",
      "│ c33306f0a4836dcd17433f448dbbc830 ┆ [11659, 3077, … 12250] ┆ 7330   │\n",
      "│ b22192850476a2e77b05f539a577722d ┆ [7946, 6003, … 2041]   ┆ 13647  │\n",
      "│ 1fdd56f0e78f8c628352713b8ea61024 ┆ [7088, 6928, … 10416]  ┆ 5288   │\n",
      "│ a998316d89dfb84f310ab87e463f0107 ┆ [13740, 11777, … 3764] ┆ 9292   │\n",
      "│ 8c754fba29f06292b4c98cf17900cf34 ┆ [10856, 9130, … 3611]  ┆ 10856  │\n",
      "└──────────────────────────────────┴────────────────────────┴────────┘\n",
      "{'k': 10, 'avg_num_candidates': 9.990380951721177, 'recall': 0.5991624465704647, 'precision': 0.059916244657046466, 'map@k': 0.4042815337761094}\n",
      "[{'k': 10, 'avg_num_candidates': 9.990380951721177, 'recall': 0.5991624465704647, 'precision': 0.059916244657046466, 'map@k': 0.4042815337761094}]\n"
     ]
    }
   ],
   "source": [
    "oof_candidate_df = make_eval_df(other_oof_df, first_oof_df)\n",
    "print(oof_candidate_df.head())\n",
    "\n",
    "metrics = calculate_metrics(\n",
    "    oof_candidate_df, candidates_col=\"candidates\", label_col=\"yad_no\", k=[10]\n",
    ")\n",
    "print(metrics)"
   ]
  },
  {
   "cell_type": "code",
   "execution_count": 9,
   "id": "31ecfb6e-39ef-4c64-9faa-3227ca48ffb6",
   "metadata": {},
   "outputs": [],
   "source": [
    "def make_submission(other_test_df: pl.DataFrame, first_test_df: pl.DataFrame):\n",
    "    other_test_df = other_test_df.filter(pl.col(\"session_count\") != 1).drop(\n",
    "        \"session_count\"\n",
    "    )\n",
    "    first_test_df = first_test_df.filter(pl.col(\"session_count\") == 1).drop(\n",
    "        \"session_count\"\n",
    "    )\n",
    "    pred_df = pl.concat([other_test_df, first_test_df]).sort(\n",
    "        by=[\"session_id\", \"pred\"], descending=True\n",
    "    )\n",
    "    session_df = load_session_data(Path(cfg.dir.data_dir), \"test\")\n",
    "    pred_candidates_df = pred_df.group_by(\"session_id\").agg(pl.col(\"candidates\"))\n",
    "    submission_df = (\n",
    "        session_df.join(\n",
    "            pred_candidates_df.with_columns(\n",
    "                [\n",
    "                    pl.col(\"candidates\").list.get(i).alias(f\"predict_{i}\")\n",
    "                    for i in range(10)\n",
    "                ]\n",
    "            ).drop(\"candidates\"),\n",
    "            on=\"session_id\",\n",
    "            how=\"left\",\n",
    "        )\n",
    "        .fill_null(-1)\n",
    "        .drop(\"session_id\")\n",
    "    )\n",
    "    return submission_df"
   ]
  },
  {
   "cell_type": "code",
   "execution_count": 10,
   "id": "5cda4ffa-a54d-411b-8f30-1ce65efc23ed",
   "metadata": {},
   "outputs": [
    {
     "data": {
      "text/html": [
       "<div><style>\n",
       ".dataframe > thead > tr > th,\n",
       ".dataframe > tbody > tr > td {\n",
       "  text-align: right;\n",
       "  white-space: pre-wrap;\n",
       "}\n",
       "</style>\n",
       "<small>shape: (5, 10)</small><table border=\"1\" class=\"dataframe\"><thead><tr><th>predict_0</th><th>predict_1</th><th>predict_2</th><th>predict_3</th><th>predict_4</th><th>predict_5</th><th>predict_6</th><th>predict_7</th><th>predict_8</th><th>predict_9</th></tr><tr><td>i32</td><td>i32</td><td>i32</td><td>i32</td><td>i32</td><td>i32</td><td>i32</td><td>i32</td><td>i32</td><td>i32</td></tr></thead><tbody><tr><td>3560</td><td>11561</td><td>4545</td><td>4714</td><td>9534</td><td>4420</td><td>5466</td><td>2680</td><td>6563</td><td>6488</td></tr><tr><td>143</td><td>4066</td><td>6555</td><td>7014</td><td>613</td><td>8108</td><td>11923</td><td>6129</td><td>11237</td><td>12862</td></tr><tr><td>757</td><td>7710</td><td>9190</td><td>9910</td><td>1774</td><td>410</td><td>10485</td><td>13570</td><td>6721</td><td>3400</td></tr><tr><td>12341</td><td>3359</td><td>6991</td><td>1542</td><td>13521</td><td>10861</td><td>5080</td><td>4180</td><td>5657</td><td>9319</td></tr><tr><td>2862</td><td>9020</td><td>10826</td><td>3854</td><td>763</td><td>3476</td><td>6161</td><td>12029</td><td>9611</td><td>5372</td></tr></tbody></table></div>"
      ],
      "text/plain": [
       "shape: (5, 10)\n",
       "┌───────────┬───────────┬───────────┬───────────┬───┬───────────┬───────────┬───────────┬──────────┐\n",
       "│ predict_0 ┆ predict_1 ┆ predict_2 ┆ predict_3 ┆ … ┆ predict_6 ┆ predict_7 ┆ predict_8 ┆ predict_ │\n",
       "│ ---       ┆ ---       ┆ ---       ┆ ---       ┆   ┆ ---       ┆ ---       ┆ ---       ┆ 9        │\n",
       "│ i32       ┆ i32       ┆ i32       ┆ i32       ┆   ┆ i32       ┆ i32       ┆ i32       ┆ ---      │\n",
       "│           ┆           ┆           ┆           ┆   ┆           ┆           ┆           ┆ i32      │\n",
       "╞═══════════╪═══════════╪═══════════╪═══════════╪═══╪═══════════╪═══════════╪═══════════╪══════════╡\n",
       "│ 3560      ┆ 11561     ┆ 4545      ┆ 4714      ┆ … ┆ 5466      ┆ 2680      ┆ 6563      ┆ 6488     │\n",
       "│ 143       ┆ 4066      ┆ 6555      ┆ 7014      ┆ … ┆ 11923     ┆ 6129      ┆ 11237     ┆ 12862    │\n",
       "│ 757       ┆ 7710      ┆ 9190      ┆ 9910      ┆ … ┆ 10485     ┆ 13570     ┆ 6721      ┆ 3400     │\n",
       "│ 12341     ┆ 3359      ┆ 6991      ┆ 1542      ┆ … ┆ 5080      ┆ 4180      ┆ 5657      ┆ 9319     │\n",
       "│ 2862      ┆ 9020      ┆ 10826     ┆ 3854      ┆ … ┆ 6161      ┆ 12029     ┆ 9611      ┆ 5372     │\n",
       "└───────────┴───────────┴───────────┴───────────┴───┴───────────┴───────────┴───────────┴──────────┘"
      ]
     },
     "execution_count": 10,
     "metadata": {},
     "output_type": "execute_result"
    }
   ],
   "source": [
    "test_candidate_df = make_submission(other_test_df, first_test_df)\n",
    "test_candidate_df.head()"
   ]
  },
  {
   "cell_type": "markdown",
   "id": "476e7a2d-1288-4fe6-85aa-7754da41762b",
   "metadata": {},
   "source": [
    "## ルールベースでの最後の一個まえ重視"
   ]
  },
  {
   "cell_type": "code",
   "execution_count": 17,
   "id": "2278a4ba-2be3-4ed2-97b6-79238ae121de",
   "metadata": {},
   "outputs": [],
   "source": [
    "mode = \"train\"\n",
    "\n",
    "\n",
    "def post_process_last_before_pred(cfg, other_df, mode):\n",
    "    log_df = load_log_data(Path(cfg.dir.data_dir), mode)\n",
    "    print(log_df.shape)\n",
    "    log_df = (\n",
    "        (\n",
    "            log_df.with_columns(\n",
    "                # max seq_no を作成\n",
    "                pl.col(\"seq_no\").max().over(\"session_id\").alias(\"max_seq_no\"),\n",
    "                pl.col(\"yad_no\").alias(\"candidates\"),\n",
    "                pl.lit(100.0).alias(\"pred\"),\n",
    "                pl.lit(2).alias(\"session_count\"),\n",
    "            )\n",
    "            .with_columns(\n",
    "                pl.col(\"candidates\").cast(pl.Int32), pl.col(\"pred\").cast(pl.Float64)\n",
    "            )\n",
    "            .filter(pl.col(\"seq_no\") == pl.col(\"max_seq_no\") - 1)\n",
    "        )\n",
    "        .select([\"session_id\", \"candidates\", \"pred\", \"session_count\"])\n",
    "        .with_columns(pl.col(\"session_count\").cast(pl.UInt32))\n",
    "    )\n",
    "\n",
    "    # first と結合\n",
    "    result = (\n",
    "        pl.concat([other_df, log_df])\n",
    "        .group_by([\"session_id\", \"candidates\"])\n",
    "        .agg(pl.col(\"pred\").sum(), pl.col(\"session_count\").max())\n",
    "        .sort(by=[\"session_id\", \"pred\"], descending=True)\n",
    "    )\n",
    "    return result"
   ]
  },
  {
   "cell_type": "code",
   "execution_count": 19,
   "id": "18e6174c-3566-43b3-84f3-5aa75628d29c",
   "metadata": {},
   "outputs": [
    {
     "name": "stdout",
     "output_type": "stream",
     "text": [
      "(419270, 3)\n",
      "shape: (5, 3)\n",
      "┌──────────────────────────────────┬────────────────────────┬────────┐\n",
      "│ session_id                       ┆ candidates             ┆ yad_no │\n",
      "│ ---                              ┆ ---                    ┆ ---    │\n",
      "│ str                              ┆ list[i32]              ┆ i64    │\n",
      "╞══════════════════════════════════╪════════════════════════╪════════╡\n",
      "│ 1ca169e5f83a8339608fa5d35362b32a ┆ [10050, 7900, … 12790] ┆ 10990  │\n",
      "│ f185fe5e145754bc816229f700d26f37 ┆ [13371, 6882, … 1998]  ┆ 13371  │\n",
      "│ 70461480b907b220d42e1914b6fc0da4 ┆ [7311, 7246, … 9611]   ┆ 2319   │\n",
      "│ 29a308de21f7c3e8a2e9e59b1c2dcb08 ┆ [1471, 8235, … 12265]  ┆ 1786   │\n",
      "│ e72233e23ee590bf2ddfaf5d9d3ad416 ┆ [10552, 5950, … 13270] ┆ 13087  │\n",
      "└──────────────────────────────────┴────────────────────────┴────────┘\n",
      "{'k': 10, 'avg_num_candidates': 9.990380951721177, 'recall': 0.5991624465704647, 'precision': 0.059916244657046466, 'map@k': 0.4017527955560085}\n",
      "[{'k': 10, 'avg_num_candidates': 9.990380951721177, 'recall': 0.5991624465704647, 'precision': 0.059916244657046466, 'map@k': 0.4017527955560085}]\n"
     ]
    }
   ],
   "source": [
    "result = post_process_last_before_pred(cfg, other_oof_df, mode)\n",
    "oof_candidate_df = make_eval_df(result, first_oof_df)\n",
    "print(oof_candidate_df.head())\n",
    "\n",
    "metrics = calculate_metrics(\n",
    "    oof_candidate_df, candidates_col=\"candidates\", label_col=\"yad_no\", k=[10]\n",
    ")\n",
    "print(metrics)"
   ]
  },
  {
   "cell_type": "code",
   "execution_count": null,
   "id": "148da752-bc2b-4a1c-8699-c525cd5a10e8",
   "metadata": {},
   "outputs": [],
   "source": []
  },
  {
   "cell_type": "markdown",
   "id": "3fc4eb8d-ab44-4043-9f89-8e48d39fb3de",
   "metadata": {},
   "source": [
    "## ルールベースでの session_count==1 の変更"
   ]
  },
  {
   "cell_type": "code",
   "execution_count": 22,
   "id": "68daa318-bbdb-4339-ab81-24236d25ec08",
   "metadata": {},
   "outputs": [
    {
     "data": {
      "text/html": [
       "<div><style>\n",
       ".dataframe > thead > tr > th,\n",
       ".dataframe > tbody > tr > td {\n",
       "  text-align: right;\n",
       "  white-space: pre-wrap;\n",
       "}\n",
       "</style>\n",
       "<small>shape: (5, 4)</small><table border=\"1\" class=\"dataframe\"><thead><tr><th>session_id</th><th>candidates</th><th>pred</th><th>session_count</th></tr><tr><td>str</td><td>i32</td><td>f64</td><td>i32</td></tr></thead><tbody><tr><td>&quot;fffffa7baf3700…</td><td>2439</td><td>0.245733</td><td>2</td></tr><tr><td>&quot;fffffa7baf3700…</td><td>1372</td><td>0.169726</td><td>2</td></tr><tr><td>&quot;fffffa7baf3700…</td><td>10095</td><td>0.169726</td><td>2</td></tr><tr><td>&quot;fffffa7baf3700…</td><td>12154</td><td>0.141801</td><td>2</td></tr><tr><td>&quot;fffffa7baf3700…</td><td>3</td><td>0.127825</td><td>2</td></tr></tbody></table></div>"
      ],
      "text/plain": [
       "shape: (5, 4)\n",
       "┌──────────────────────────────────┬────────────┬──────────┬───────────────┐\n",
       "│ session_id                       ┆ candidates ┆ pred     ┆ session_count │\n",
       "│ ---                              ┆ ---        ┆ ---      ┆ ---           │\n",
       "│ str                              ┆ i32        ┆ f64      ┆ i32           │\n",
       "╞══════════════════════════════════╪════════════╪══════════╪═══════════════╡\n",
       "│ fffffa7baf370083ebcdd98f26a7e31a ┆ 2439       ┆ 0.245733 ┆ 2             │\n",
       "│ fffffa7baf370083ebcdd98f26a7e31a ┆ 1372       ┆ 0.169726 ┆ 2             │\n",
       "│ fffffa7baf370083ebcdd98f26a7e31a ┆ 10095      ┆ 0.169726 ┆ 2             │\n",
       "│ fffffa7baf370083ebcdd98f26a7e31a ┆ 12154      ┆ 0.141801 ┆ 2             │\n",
       "│ fffffa7baf370083ebcdd98f26a7e31a ┆ 3          ┆ 0.127825 ┆ 2             │\n",
       "└──────────────────────────────────┴────────────┴──────────┴───────────────┘"
      ]
     },
     "execution_count": 22,
     "metadata": {},
     "output_type": "execute_result"
    }
   ],
   "source": [
    "first_oof_df.head()"
   ]
  },
  {
   "cell_type": "code",
   "execution_count": 44,
   "id": "1f82ce5b-9c55-46ac-aab7-8fae567f2424",
   "metadata": {},
   "outputs": [],
   "source": [
    "def make_first_candidates():\n",
    "    sml_df = pl.read_parquet(\n",
    "        \"/kaggle/working/output/cand_unsupervised/ranking_location/sml_cd/yad_feature.parquet\"\n",
    "    ).rename({\"counts_ranking_location/sml_cd\": \"pred\"})\n",
    "    yad_df = load_yad_data(Path(cfg.dir.data_dir))\n",
    "    sml_df = sml_df.join(yad_df.select([\"yad_no\", \"sml_cd\"]), on=\"yad_no\").rename(\n",
    "        {\"yad_no\": \"candidates\"}\n",
    "    )\n",
    "    # session_count==1だけにする\n",
    "    train_log_df = load_log_data(Path(cfg.dir.data_dir), \"train\")\n",
    "    first_log_df = train_log_df.with_columns(\n",
    "        (pl.col(\"seq_no\").max().over(\"session_id\") + 1).alias(\"session_count\")\n",
    "    ).filter(pl.col(\"session_count\") == 1)\n",
    "\n",
    "    # yad_df を結合→ sml_df を結合 → rankごとにソートしてcandidate作成\n",
    "    first_log_df = (\n",
    "        (\n",
    "            first_log_df.join(yad_df, on=\"yad_no\")\n",
    "            .join(sml_df, on=\"sml_cd\")\n",
    "            .filter(pl.col(\"yad_no\") != pl.col(\"candidates\"))  # 自身は取り除く\n",
    "            .select([\"session_id\", \"candidates\", \"pred\"])\n",
    "        )\n",
    "        .sort(by=[\"session_id\", \"pred\"], descending=True)\n",
    "        .with_columns(pl.lit(1).alias(\"session_count\"))\n",
    "    )\n",
    "\n",
    "    return first_log_df.with_columns(\n",
    "        pl.col(\"candidates\").cast(pl.Int32), pl.col(\"pred\").cast(pl.Float64)\n",
    "    )"
   ]
  },
  {
   "cell_type": "code",
   "execution_count": 45,
   "id": "77682f9a-53af-4069-aec6-98fe24b78d22",
   "metadata": {},
   "outputs": [
    {
     "data": {
      "text/html": [
       "<div><style>\n",
       ".dataframe > thead > tr > th,\n",
       ".dataframe > tbody > tr > td {\n",
       "  text-align: right;\n",
       "  white-space: pre-wrap;\n",
       "}\n",
       "</style>\n",
       "<small>shape: (5, 4)</small><table border=\"1\" class=\"dataframe\"><thead><tr><th>session_id</th><th>candidates</th><th>pred</th><th>session_count</th></tr><tr><td>str</td><td>i32</td><td>f64</td><td>i32</td></tr></thead><tbody><tr><td>&quot;ffff7fb4617164…</td><td>2087</td><td>495.0</td><td>1</td></tr><tr><td>&quot;ffff7fb4617164…</td><td>11850</td><td>451.0</td><td>1</td></tr><tr><td>&quot;ffff7fb4617164…</td><td>12240</td><td>377.0</td><td>1</td></tr><tr><td>&quot;ffff7fb4617164…</td><td>6630</td><td>258.0</td><td>1</td></tr><tr><td>&quot;ffff7fb4617164…</td><td>4398</td><td>255.0</td><td>1</td></tr></tbody></table></div>"
      ],
      "text/plain": [
       "shape: (5, 4)\n",
       "┌──────────────────────────────────┬────────────┬───────┬───────────────┐\n",
       "│ session_id                       ┆ candidates ┆ pred  ┆ session_count │\n",
       "│ ---                              ┆ ---        ┆ ---   ┆ ---           │\n",
       "│ str                              ┆ i32        ┆ f64   ┆ i32           │\n",
       "╞══════════════════════════════════╪════════════╪═══════╪═══════════════╡\n",
       "│ ffff7fb4617164b2604aaf51c40bf82d ┆ 2087       ┆ 495.0 ┆ 1             │\n",
       "│ ffff7fb4617164b2604aaf51c40bf82d ┆ 11850      ┆ 451.0 ┆ 1             │\n",
       "│ ffff7fb4617164b2604aaf51c40bf82d ┆ 12240      ┆ 377.0 ┆ 1             │\n",
       "│ ffff7fb4617164b2604aaf51c40bf82d ┆ 6630       ┆ 258.0 ┆ 1             │\n",
       "│ ffff7fb4617164b2604aaf51c40bf82d ┆ 4398       ┆ 255.0 ┆ 1             │\n",
       "└──────────────────────────────────┴────────────┴───────┴───────────────┘"
      ]
     },
     "execution_count": 45,
     "metadata": {},
     "output_type": "execute_result"
    }
   ],
   "source": [
    "first_sml_df = make_first_candidates()\n",
    "first_sml_df.head()"
   ]
  },
  {
   "cell_type": "code",
   "execution_count": 46,
   "id": "e1e13a51-603d-4f8d-9371-0db767f27dd4",
   "metadata": {},
   "outputs": [
    {
     "name": "stdout",
     "output_type": "stream",
     "text": [
      "shape: (5, 3)\n",
      "┌──────────────────────────────────┬────────────────────────┬────────┐\n",
      "│ session_id                       ┆ candidates             ┆ yad_no │\n",
      "│ ---                              ┆ ---                    ┆ ---    │\n",
      "│ str                              ┆ list[i32]              ┆ i64    │\n",
      "╞══════════════════════════════════╪════════════════════════╪════════╡\n",
      "│ 981200e80de3337ed9ad0d5f6d99e81c ┆ [9104, 8445, … 12989]  ┆ 858    │\n",
      "│ 1ec473ec8c14b950c2180dec42cd1a35 ┆ [5445, 13106, … 6289]  ┆ 6690   │\n",
      "│ 9bba6b013cf1e55f4eac1a8ea1810011 ┆ [787, 8479, … 13733]   ┆ 787    │\n",
      "│ 6bc277552119730db1af0d8a09f53321 ┆ [9974, 8879, … 11463]  ┆ 7505   │\n",
      "│ 1922a96268e4629636b4152c3eef8763 ┆ [10236, 6218, … 11702] ┆ 4006   │\n",
      "└──────────────────────────────────┴────────────────────────┴────────┘\n",
      "k: 10\n",
      "avg_num_candidates: 9.936109706336726\n",
      "recall: 0.555137202197452\n",
      "precision: 0.055513720219745204\n",
      "map@k: 0.38502145566075696\n",
      "\n",
      "[{'k': 10, 'avg_num_candidates': 9.936109706336726, 'recall': 0.555137202197452, 'precision': 0.055513720219745204, 'map@k': 0.38502145566075696}]\n"
     ]
    }
   ],
   "source": [
    "oof_candidate_df = make_eval_df(other_oof_df, first_sml_df)\n",
    "print(oof_candidate_df.head())\n",
    "\n",
    "metrics = calculate_metrics(\n",
    "    oof_candidate_df, candidates_col=\"candidates\", label_col=\"yad_no\", k=[10]\n",
    ")\n",
    "print(metrics)"
   ]
  },
  {
   "cell_type": "code",
   "execution_count": null,
   "id": "98fc5c0a-6605-414b-b6cc-a4e69d821371",
   "metadata": {},
   "outputs": [],
   "source": []
  },
  {
   "cell_type": "code",
   "execution_count": null,
   "id": "5167f1f1-f3c8-4965-a951-094ef1a06c1b",
   "metadata": {},
   "outputs": [],
   "source": []
  },
  {
   "cell_type": "code",
   "execution_count": 121,
   "id": "0ac4a342-9eb4-496f-a532-fa6059dc3da5",
   "metadata": {},
   "outputs": [],
   "source": [
    "mode = \"train\"\n",
    "\n",
    "\n",
    "def concat_label_pred(first_df, mode):\n",
    "    # 最後のyad_noだけを残す & labelを付与\n",
    "    train_log_df = load_log_data(Path(cfg.dir.data_dir), \"train\")\n",
    "    train_label_df = load_label_data(Path(cfg.dir.data_dir))\n",
    "    train_last_log_label_df = (\n",
    "        train_log_df.join(train_label_df, on=\"session_id\", suffix=\"_label\")\n",
    "        .with_columns(\n",
    "            (pl.col(\"seq_no\").max().over(\"session_id\") + 1).alias(\"session_count\")\n",
    "        )\n",
    "        .filter(pl.col(\"seq_no\") == pl.col(\"session_count\") - 1)\n",
    "    )\n",
    "    # 実績ラベルからyad_noごとに良さそうな対象を探す\n",
    "    label_pred_df = (\n",
    "        train_last_log_label_df.group_by([\"yad_no\", \"yad_no_label\"])\n",
    "        .agg(pl.col(\"yad_no\").count().alias(\"pred\"))\n",
    "        .with_columns(pl.col(\"pred\") * 100.0, pl.lit(1).alias(\"session_count\"))\n",
    "        .sort(by=[\"yad_no\", \"pred\", \"session_count\"], descending=True)\n",
    "    )\n",
    "\n",
    "    # 予測値作成\n",
    "    log_df = load_log_data(Path(cfg.dir.data_dir), mode)\n",
    "    last_log_df = log_df.with_columns(\n",
    "        (pl.col(\"seq_no\").max().over(\"session_id\") + 1).alias(\"session_count\")\n",
    "    ).filter(pl.col(\"seq_no\") == pl.col(\"session_count\") - 1)\n",
    "    session_df = load_session_data(Path(cfg.dir.data_dir), mode)\n",
    "    session_last_df = (\n",
    "        session_df.join(\n",
    "            last_log_df.select([\"session_id\", \"yad_no\", \"session_count\"]),\n",
    "            on=\"session_id\",\n",
    "        )\n",
    "        .filter(pl.col(\"session_count\") == 1)\n",
    "        .drop(\"session_count\")\n",
    "    )\n",
    "    first_df_from_label = (\n",
    "        session_last_df.join(label_pred_df, on=\"yad_no\")\n",
    "        .with_columns(\n",
    "            pl.col(\"yad_no_label\").alias(\"candidates\").cast(pl.Int32),\n",
    "            pl.col(\"session_count\").cast(pl.Int32),\n",
    "        )\n",
    "        .drop([\"yad_no\", \"yad_no_label\"])\n",
    "        .select([\"session_id\", \"candidates\", \"pred\", \"session_count\"])\n",
    "    )\n",
    "    # first と結合\n",
    "    result = (\n",
    "        pl.concat([first_df, first_df_from_label])\n",
    "        .group_by([\"session_id\", \"candidates\"])\n",
    "        .agg(pl.col(\"pred\").sum(), pl.col(\"session_count\").max())\n",
    "        .sort(by=[\"session_id\", \"pred\"], descending=True)\n",
    "    )\n",
    "    return result\n",
    "\n",
    "\n",
    "df = concat_label_pred(first_oof_df, \"train\")"
   ]
  },
  {
   "cell_type": "code",
   "execution_count": 119,
   "id": "7759a2bf-e468-49de-9ff8-e058e19068c4",
   "metadata": {},
   "outputs": [
    {
     "data": {
      "text/html": [
       "<div><style>\n",
       ".dataframe > thead > tr > th,\n",
       ".dataframe > tbody > tr > td {\n",
       "  text-align: right;\n",
       "  white-space: pre-wrap;\n",
       "}\n",
       "</style>\n",
       "<small>shape: (13_253_797, 4)</small><table border=\"1\" class=\"dataframe\"><thead><tr><th>session_id</th><th>candidates</th><th>pred</th><th>session_count</th></tr><tr><td>str</td><td>i32</td><td>f64</td><td>i32</td></tr></thead><tbody><tr><td>&quot;ffca0dda16272d…</td><td>12797</td><td>-0.509899</td><td>2</td></tr><tr><td>&quot;ff588a978241c7…</td><td>12676</td><td>-0.509899</td><td>2</td></tr><tr><td>&quot;ff588a978241c7…</td><td>3698</td><td>-0.509899</td><td>2</td></tr><tr><td>&quot;ff588a978241c7…</td><td>8628</td><td>-0.509899</td><td>2</td></tr><tr><td>&quot;ff3d5a0a6c8cfa…</td><td>3698</td><td>-0.509899</td><td>2</td></tr><tr><td>&quot;ff3d5a0a6c8cfa…</td><td>12676</td><td>-0.509899</td><td>2</td></tr><tr><td>&quot;ff3d5a0a6c8cfa…</td><td>8628</td><td>-0.509899</td><td>2</td></tr><tr><td>&quot;fef5f6fe59aacb…</td><td>1987</td><td>-0.509899</td><td>2</td></tr><tr><td>&quot;fef5f6fe59aacb…</td><td>7703</td><td>-0.509899</td><td>2</td></tr><tr><td>&quot;fef5f6fe59aacb…</td><td>13450</td><td>-0.509899</td><td>2</td></tr><tr><td>&quot;fef5f6fe59aacb…</td><td>4078</td><td>-0.509899</td><td>2</td></tr><tr><td>&quot;fe8092e67a9675…</td><td>10598</td><td>-0.509899</td><td>3</td></tr><tr><td>&hellip;</td><td>&hellip;</td><td>&hellip;</td><td>&hellip;</td></tr><tr><td>&quot;d6ac2bbab7b871…</td><td>12350</td><td>10000.040572</td><td>1</td></tr><tr><td>&quot;d595d185e0362b…</td><td>12350</td><td>10000.040572</td><td>1</td></tr><tr><td>&quot;b7462ba30b8baa…</td><td>12350</td><td>10000.040572</td><td>1</td></tr><tr><td>&quot;a2619dbc883f13…</td><td>12350</td><td>10000.040572</td><td>1</td></tr><tr><td>&quot;9ecdb30e942e50…</td><td>12350</td><td>10000.040572</td><td>1</td></tr><tr><td>&quot;60416178b743b4…</td><td>12350</td><td>10000.040572</td><td>1</td></tr><tr><td>&quot;3e042467db3bf1…</td><td>12350</td><td>10000.040572</td><td>1</td></tr><tr><td>&quot;3698666e0f9520…</td><td>12350</td><td>10000.040572</td><td>1</td></tr><tr><td>&quot;2942fddfe834f8…</td><td>12350</td><td>10000.040572</td><td>1</td></tr><tr><td>&quot;28bdd8298652a6…</td><td>12350</td><td>10000.040572</td><td>1</td></tr><tr><td>&quot;27b058fac77041…</td><td>12350</td><td>10000.040572</td><td>1</td></tr><tr><td>&quot;14f10eb1544196…</td><td>12350</td><td>10000.040572</td><td>1</td></tr></tbody></table></div>"
      ],
      "text/plain": [
       "shape: (13_253_797, 4)\n",
       "┌──────────────────────────────────┬────────────┬──────────────┬───────────────┐\n",
       "│ session_id                       ┆ candidates ┆ pred         ┆ session_count │\n",
       "│ ---                              ┆ ---        ┆ ---          ┆ ---           │\n",
       "│ str                              ┆ i32        ┆ f64          ┆ i32           │\n",
       "╞══════════════════════════════════╪════════════╪══════════════╪═══════════════╡\n",
       "│ ffca0dda16272d7f909a14f8694b2179 ┆ 12797      ┆ -0.509899    ┆ 2             │\n",
       "│ ff588a978241c79600cdf8d710a5ced5 ┆ 12676      ┆ -0.509899    ┆ 2             │\n",
       "│ ff588a978241c79600cdf8d710a5ced5 ┆ 3698       ┆ -0.509899    ┆ 2             │\n",
       "│ ff588a978241c79600cdf8d710a5ced5 ┆ 8628       ┆ -0.509899    ┆ 2             │\n",
       "│ …                                ┆ …          ┆ …            ┆ …             │\n",
       "│ 2942fddfe834f81760233f97768ef6d0 ┆ 12350      ┆ 10000.040572 ┆ 1             │\n",
       "│ 28bdd8298652a66658ed4ff388859a3a ┆ 12350      ┆ 10000.040572 ┆ 1             │\n",
       "│ 27b058fac77041f21cf31ac7b0c7b6a0 ┆ 12350      ┆ 10000.040572 ┆ 1             │\n",
       "│ 14f10eb1544196b826d58567362b6ac5 ┆ 12350      ┆ 10000.040572 ┆ 1             │\n",
       "└──────────────────────────────────┴────────────┴──────────────┴───────────────┘"
      ]
     },
     "execution_count": 119,
     "metadata": {},
     "output_type": "execute_result"
    }
   ],
   "source": [
    "df.sort(by=\"pred\")"
   ]
  },
  {
   "cell_type": "code",
   "execution_count": 120,
   "id": "9a9d3ca2-186b-4e92-83cd-4e3da52baf08",
   "metadata": {},
   "outputs": [
    {
     "name": "stdout",
     "output_type": "stream",
     "text": [
      "shape: (5, 4)\n",
      "┌──────────────────────────────────┬────────────┬──────────┬───────────────┐\n",
      "│ session_id                       ┆ candidates ┆ pred     ┆ session_count │\n",
      "│ ---                              ┆ ---        ┆ ---      ┆ ---           │\n",
      "│ str                              ┆ i32        ┆ f64      ┆ i32           │\n",
      "╞══════════════════════════════════╪════════════╪══════════╪═══════════════╡\n",
      "│ fffffa7baf370083ebcdd98f26a7e31a ┆ 2439       ┆ 0.245733 ┆ 2             │\n",
      "│ fffffa7baf370083ebcdd98f26a7e31a ┆ 1372       ┆ 0.169726 ┆ 2             │\n",
      "│ fffffa7baf370083ebcdd98f26a7e31a ┆ 10095      ┆ 0.169726 ┆ 2             │\n",
      "│ fffffa7baf370083ebcdd98f26a7e31a ┆ 12154      ┆ 0.141801 ┆ 2             │\n",
      "│ fffffa7baf370083ebcdd98f26a7e31a ┆ 3          ┆ 0.127825 ┆ 2             │\n",
      "└──────────────────────────────────┴────────────┴──────────┴───────────────┘\n",
      "shape: (5, 4)\n",
      "┌──────────────────────────────────┬────────────┬───────┬───────────────┐\n",
      "│ session_id                       ┆ candidates ┆ pred  ┆ session_count │\n",
      "│ ---                              ┆ ---        ┆ ---   ┆ ---           │\n",
      "│ str                              ┆ i32        ┆ f64   ┆ i32           │\n",
      "╞══════════════════════════════════╪════════════╪═══════╪═══════════════╡\n",
      "│ 005e2786e30bf6c106f993375a01001f ┆ 11113      ┆ 400.0 ┆ 1             │\n",
      "│ 059a4143c49fe05b80130e5daaeeb374 ┆ 11113      ┆ 400.0 ┆ 1             │\n",
      "│ 0ee01cd1697ee43b5dbaa24871923713 ┆ 11113      ┆ 400.0 ┆ 1             │\n",
      "│ 18fb42b87730bafebd6b16f9b89eedbc ┆ 11113      ┆ 400.0 ┆ 1             │\n",
      "│ 25c57b45b2fad189e6529986637ba5c6 ┆ 11113      ┆ 400.0 ┆ 1             │\n",
      "└──────────────────────────────────┴────────────┴───────┴───────────────┘\n",
      "shape: (5, 3)\n",
      "┌──────────────────────────────────┬───────────────────────┬────────┐\n",
      "│ session_id                       ┆ candidates            ┆ yad_no │\n",
      "│ ---                              ┆ ---                   ┆ ---    │\n",
      "│ str                              ┆ list[i32]             ┆ i64    │\n",
      "╞══════════════════════════════════╪═══════════════════════╪════════╡\n",
      "│ 4df0a73c027f6d7a0c29d9faf2091a86 ┆ [10322, 1800, … 8628] ┆ 4342   │\n",
      "│ b7574ac8e6cd0784b66d3b07633b2313 ┆ [6479, 1590, … 180]   ┆ 10264  │\n",
      "│ 002f5eb1b698db699ef2df5da1b05f1b ┆ [3095, 11206, … 8380] ┆ 3095   │\n",
      "│ 3c0f21aed43523ab9f18142fcc9946ea ┆ [11496, 2305, … 5884] ┆ 7902   │\n",
      "│ 1470ec05eef1bcc0a95c79ca6bf488b9 ┆ [1462, 12362, … 7630] ┆ 1462   │\n",
      "└──────────────────────────────────┴───────────────────────┴────────┘\n",
      "k: 10\n",
      "avg_num_candidates: 9.991489376441818\n",
      "recall: 0.6611580267268911\n",
      "precision: 0.06611580267268911\n",
      "map@k: 0.42457227918843504\n",
      "\n",
      "[{'k': 10, 'avg_num_candidates': 9.991489376441818, 'recall': 0.6611580267268911, 'precision': 0.06611580267268911, 'map@k': 0.42457227918843504}]\n"
     ]
    }
   ],
   "source": [
    "oof_candidate_df = make_eval_df(other_oof_df, concat_label_pred(first_oof_df, \"train\"))\n",
    "print(oof_candidate_df.head())\n",
    "\n",
    "metrics = calculate_metrics(\n",
    "    oof_candidate_df, candidates_col=\"candidates\", label_col=\"yad_no\", k=[10]\n",
    ")\n",
    "print(metrics)"
   ]
  },
  {
   "cell_type": "code",
   "execution_count": 122,
   "id": "23de1647-9566-4c72-8773-98c119909927",
   "metadata": {},
   "outputs": [
    {
     "data": {
      "text/html": [
       "<div><style>\n",
       ".dataframe > thead > tr > th,\n",
       ".dataframe > tbody > tr > td {\n",
       "  text-align: right;\n",
       "  white-space: pre-wrap;\n",
       "}\n",
       "</style>\n",
       "<small>shape: (5, 10)</small><table border=\"1\" class=\"dataframe\"><thead><tr><th>predict_0</th><th>predict_1</th><th>predict_2</th><th>predict_3</th><th>predict_4</th><th>predict_5</th><th>predict_6</th><th>predict_7</th><th>predict_8</th><th>predict_9</th></tr><tr><td>i32</td><td>i32</td><td>i32</td><td>i32</td><td>i32</td><td>i32</td><td>i32</td><td>i32</td><td>i32</td><td>i32</td></tr></thead><tbody><tr><td>3560</td><td>11561</td><td>4545</td><td>9534</td><td>4714</td><td>4420</td><td>5466</td><td>2680</td><td>6563</td><td>6488</td></tr><tr><td>143</td><td>4066</td><td>6555</td><td>7014</td><td>7913</td><td>8108</td><td>12862</td><td>6129</td><td>11237</td><td>12350</td></tr><tr><td>757</td><td>7710</td><td>9190</td><td>9910</td><td>1774</td><td>410</td><td>10485</td><td>13570</td><td>6721</td><td>3400</td></tr><tr><td>12341</td><td>3359</td><td>6991</td><td>1542</td><td>13521</td><td>10861</td><td>5080</td><td>4180</td><td>5657</td><td>9319</td></tr><tr><td>9020</td><td>2862</td><td>13235</td><td>4070</td><td>6565</td><td>5411</td><td>9623</td><td>5372</td><td>10826</td><td>9611</td></tr></tbody></table></div>"
      ],
      "text/plain": [
       "shape: (5, 10)\n",
       "┌───────────┬───────────┬───────────┬───────────┬───┬───────────┬───────────┬───────────┬──────────┐\n",
       "│ predict_0 ┆ predict_1 ┆ predict_2 ┆ predict_3 ┆ … ┆ predict_6 ┆ predict_7 ┆ predict_8 ┆ predict_ │\n",
       "│ ---       ┆ ---       ┆ ---       ┆ ---       ┆   ┆ ---       ┆ ---       ┆ ---       ┆ 9        │\n",
       "│ i32       ┆ i32       ┆ i32       ┆ i32       ┆   ┆ i32       ┆ i32       ┆ i32       ┆ ---      │\n",
       "│           ┆           ┆           ┆           ┆   ┆           ┆           ┆           ┆ i32      │\n",
       "╞═══════════╪═══════════╪═══════════╪═══════════╪═══╪═══════════╪═══════════╪═══════════╪══════════╡\n",
       "│ 3560      ┆ 11561     ┆ 4545      ┆ 9534      ┆ … ┆ 5466      ┆ 2680      ┆ 6563      ┆ 6488     │\n",
       "│ 143       ┆ 4066      ┆ 6555      ┆ 7014      ┆ … ┆ 12862     ┆ 6129      ┆ 11237     ┆ 12350    │\n",
       "│ 757       ┆ 7710      ┆ 9190      ┆ 9910      ┆ … ┆ 10485     ┆ 13570     ┆ 6721      ┆ 3400     │\n",
       "│ 12341     ┆ 3359      ┆ 6991      ┆ 1542      ┆ … ┆ 5080      ┆ 4180      ┆ 5657      ┆ 9319     │\n",
       "│ 9020      ┆ 2862      ┆ 13235     ┆ 4070      ┆ … ┆ 9623      ┆ 5372      ┆ 10826     ┆ 9611     │\n",
       "└───────────┴───────────┴───────────┴───────────┴───┴───────────┴───────────┴───────────┴──────────┘"
      ]
     },
     "execution_count": 122,
     "metadata": {},
     "output_type": "execute_result"
    }
   ],
   "source": [
    "test_candidate_df = make_submission(\n",
    "    other_test_df, concat_label_pred(first_test_df, \"test\")\n",
    ")\n",
    "test_candidate_df.head()"
   ]
  },
  {
   "cell_type": "code",
   "execution_count": null,
   "id": "c3aed103-ab25-4615-b9f9-66a1094d6588",
   "metadata": {},
   "outputs": [],
   "source": []
  }
 ],
 "metadata": {
  "kernelspec": {
   "display_name": "Python 3 (ipykernel)",
   "language": "python",
   "name": "python3"
  },
  "language_info": {
   "codemirror_mode": {
    "name": "ipython",
    "version": 3
   },
   "file_extension": ".py",
   "mimetype": "text/x-python",
   "name": "python",
   "nbconvert_exporter": "python",
   "pygments_lexer": "ipython3",
   "version": "3.10.12"
  }
 },
 "nbformat": 4,
 "nbformat_minor": 5
}
