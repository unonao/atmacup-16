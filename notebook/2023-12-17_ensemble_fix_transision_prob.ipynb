{
 "cells": [
  {
   "cell_type": "markdown",
   "id": "9cbff8f3-7ab8-4aee-bbca-6988d47f4d0b",
   "metadata": {},
   "source": [
    "testの出現確率を重視した確率行列を用いて、seq_len>=2 のものの後処理も行いたい\n",
    "\n",
    "- testに出現しないものは予測から取り除く or 重みを下げる　←　単純で効果が分かりやすいのでまずPoCとしてやる\n",
    "- 確率行列を用いて得られる確率値との積を考える　←　出現しないものまで消えてしまうので、PoCの結果に応じて重みを変えるなど対応を取る（1.0~0.5の範囲で変化させるようにする等。欠損は0.5にするとか）"
   ]
  },
  {
   "cell_type": "code",
   "execution_count": 1,
   "id": "9bf009b7-82a4-4e66-b2ff-2c8cf4297d47",
   "metadata": {},
   "outputs": [
    {
     "name": "stdout",
     "output_type": "stream",
     "text": [
      "/kaggle/working\n"
     ]
    }
   ],
   "source": [
    "%cd .."
   ]
  },
  {
   "cell_type": "code",
   "execution_count": 2,
   "id": "40f65a12-7600-41f9-95aa-cd0de1b900ca",
   "metadata": {},
   "outputs": [
    {
     "name": "stdout",
     "output_type": "stream",
     "text": [
      "debug: false\n",
      "seed: 42\n",
      "dir:\n",
      "  data_dir: /kaggle/working/input/atmaCup16_Dataset\n",
      "  output_dir: /kaggle/working/output\n",
      "  exp_dir: /kaggle/working/output/exp\n",
      "  cand_unsupervised_dir: /kaggle/working/output/cand_unsupervised\n",
      "  cand_supervised_dir: /kaggle/working/output/cand_supervised\n",
      "  datasets_dir: /kaggle/working/output/datasets\n",
      "exp:\n",
      "  other_dirs:\n",
      "    output/exp/008_split/base: 0.8\n",
      "    output/exp/012_cat_boost/base: 0.2\n",
      "  first_dirs:\n",
      "    output/exp/008_split/v025_003_first: 1.0\n",
      "  transision_path: output/cand_supervised/supervised-prob_matrix_test_weight/003/yad2yad_feature.parquet\n",
      "  score_col: transition_prob\n",
      "\n"
     ]
    }
   ],
   "source": [
    "from hydra import compose, initialize\n",
    "from omegaconf import OmegaConf\n",
    "\n",
    "with initialize(version_base=None, config_path=\"../experiments/ensemble_006_filter\"):\n",
    "    cfg = compose(config_name=\"config.yaml\", overrides=[\"exp=base\"])\n",
    "    print(OmegaConf.to_yaml(cfg))"
   ]
  },
  {
   "cell_type": "code",
   "execution_count": 7,
   "id": "688659f0-4751-4d0b-ae96-736e6dc180bd",
   "metadata": {},
   "outputs": [],
   "source": [
    "import logging\n",
    "import os\n",
    "import pickle\n",
    "import sys\n",
    "import time\n",
    "from pathlib import Path\n",
    "\n",
    "import hydra\n",
    "import lightgbm as lgb\n",
    "import matplotlib.pyplot as plt\n",
    "import numpy as np\n",
    "import pandas as pd\n",
    "import polars as pl\n",
    "from hydra.core.hydra_config import HydraConfig\n",
    "from omegaconf import DictConfig, OmegaConf\n",
    "from tqdm.auto import tqdm\n",
    "\n",
    "import utils\n",
    "from utils.load import load_label_data, load_log_data, load_session_data, load_yad_data\n",
    "from utils.logger import get_logger\n",
    "from utils.metrics import calculate_metrics\n",
    "\n",
    "logger = None"
   ]
  },
  {
   "cell_type": "code",
   "execution_count": 4,
   "id": "005a73ef-591a-4686-aaa5-eaaefac6b4ea",
   "metadata": {},
   "outputs": [],
   "source": [
    "def make_eval_df(cfg, other_oof_df: pl.DataFrame, first_oof_df: pl.DataFrame):\n",
    "    other_oof_df = other_oof_df.filter(pl.col(\"session_count\") != 1).drop(\n",
    "        \"session_count\"\n",
    "    )\n",
    "    first_oof_df = first_oof_df.filter(pl.col(\"session_count\") == 1).drop(\n",
    "        \"session_count\"\n",
    "    )\n",
    "    pred_df = pl.concat([other_oof_df, first_oof_df]).sort(\n",
    "        by=[\"session_id\", \"pred\"], descending=True\n",
    "    )\n",
    "    pred_candidates_df = pred_df.group_by(\"session_id\").agg(pl.col(\"candidates\"))\n",
    "    train_label_df = load_label_data(Path(cfg.dir.data_dir))\n",
    "    candidaates_df = pred_candidates_df.join(\n",
    "        train_label_df, on=\"session_id\", how=\"left\"\n",
    "    )\n",
    "    return candidaates_df\n",
    "\n",
    "\n",
    "def make_submission(cfg, other_test_df: pl.DataFrame, first_test_df: pl.DataFrame):\n",
    "    other_test_df = other_test_df.filter(pl.col(\"session_count\") != 1).drop(\n",
    "        \"session_count\"\n",
    "    )\n",
    "    first_test_df = first_test_df.filter(pl.col(\"session_count\") == 1).drop(\n",
    "        \"session_count\"\n",
    "    )\n",
    "    pred_df = pl.concat([other_test_df, first_test_df]).sort(\n",
    "        by=[\"session_id\", \"pred\"], descending=True\n",
    "    )\n",
    "    session_df = load_session_data(Path(cfg.dir.data_dir), \"test\")\n",
    "    pred_candidates_df = pred_df.group_by(\"session_id\").agg(pl.col(\"candidates\"))\n",
    "    submission_df = (\n",
    "        session_df.join(\n",
    "            pred_candidates_df.with_columns(\n",
    "                [\n",
    "                    pl.col(\"candidates\").list.get(i).alias(f\"predict_{i}\")\n",
    "                    for i in range(10)\n",
    "                ]\n",
    "            ).drop(\"candidates\"),\n",
    "            on=\"session_id\",\n",
    "            how=\"left\",\n",
    "        )\n",
    "        .fill_null(-1)\n",
    "        .drop(\"session_id\")\n",
    "    )\n",
    "    return submission_df\n",
    "\n",
    "\n",
    "def concat_label_pred(cfg, first_df, transition_df, mode):\n",
    "    # 最後のyad_noを作る＆そのセッションでの長さを計算&長さ１のものだけ残す\n",
    "    log_df = load_log_data(Path(cfg.dir.data_dir), mode)\n",
    "    last_log_df = (\n",
    "        log_df.with_columns(\n",
    "            (pl.col(\"seq_no\").max().over(\"session_id\") + 1).alias(\"session_count\")\n",
    "        )\n",
    "        .filter(pl.col(\"session_count\") == 1)\n",
    "        .rename({\"yad_no\": \"from_yad_no\"})\n",
    "    )\n",
    "    # session と結合\n",
    "    session_df = load_session_data(Path(cfg.dir.data_dir), mode)\n",
    "    session_last_df = session_df.join(\n",
    "        last_log_df.select([\"session_id\", \"from_yad_no\", \"session_count\"]),\n",
    "        on=\"session_id\",\n",
    "    )\n",
    "\n",
    "    # transitionと結合\n",
    "    first_df_from_label = (\n",
    "        session_last_df.join(\n",
    "            transition_df.rename({cfg.exp.score_col: \"pred\"}), on=\"from_yad_no\"\n",
    "        )\n",
    "        .with_columns(\n",
    "            pl.col(\"to_yad_no\").alias(\"candidates\").cast(pl.Int32),\n",
    "            pl.col(\"session_count\").cast(pl.Int32),\n",
    "            (pl.col(\"pred\") + 1) * 1000,\n",
    "        )\n",
    "        .drop([\"from_yad_no\", \"to_yad_no\"])\n",
    "        .select([\"session_id\", \"candidates\", \"pred\", \"session_count\"])\n",
    "    )\n",
    "\n",
    "    # first と結合\n",
    "    result = (\n",
    "        pl.concat([first_df, first_df_from_label])\n",
    "        .group_by([\"session_id\", \"candidates\"])\n",
    "        .agg(pl.col(\"pred\").sum(), pl.col(\"session_count\").max())\n",
    "        .sort(by=[\"session_id\", \"pred\"], descending=True)\n",
    "    )\n",
    "    return result"
   ]
  },
  {
   "cell_type": "code",
   "execution_count": 5,
   "id": "55474838-3e54-45fd-bf5f-2f56042b3810",
   "metadata": {},
   "outputs": [],
   "source": [
    "other_oof_dfs = []\n",
    "other_test_dfs = []\n",
    "first_oof_dfs = []\n",
    "first_test_dfs = []\n",
    "for path, weight in cfg.exp.other_dirs.items():\n",
    "    df = pl.read_parquet(Path(path) / \"oof_pred.parquet\")\n",
    "    df = df.with_columns(\n",
    "        pl.col(\"pred\") * weight,\n",
    "        pl.col(\"session_count\").cast(pl.Int32),\n",
    "    )\n",
    "    other_oof_dfs.append(df)\n",
    "    df = pl.read_parquet(Path(path) / \"test_pred.parquet\")\n",
    "    df = df.with_columns(\n",
    "        pl.col(\"pred\") * weight,\n",
    "        pl.col(\"session_count\").cast(pl.Int32),\n",
    "    )\n",
    "    other_test_dfs.append(df)\n",
    "for path, weight in cfg.exp.first_dirs.items():\n",
    "    df = pl.read_parquet(Path(path) / \"oof_pred.parquet\")\n",
    "    df = df.with_columns(\n",
    "        pl.col(\"pred\") * weight,\n",
    "        pl.col(\"session_count\").cast(pl.Int32),\n",
    "    )\n",
    "    first_oof_dfs.append(df)\n",
    "    df = pl.read_parquet(Path(path) / \"test_pred.parquet\")\n",
    "    df = df.with_columns(\n",
    "        pl.col(\"pred\") * weight,\n",
    "        pl.col(\"session_count\").cast(pl.Int32),\n",
    "    )\n",
    "    first_test_dfs.append(df)"
   ]
  },
  {
   "cell_type": "code",
   "execution_count": 19,
   "id": "84f4e365-7cd6-48e5-8b6a-4cd01f7708c0",
   "metadata": {},
   "outputs": [],
   "source": [
    "other_oof_df = (\n",
    "    pl.concat(other_oof_dfs)\n",
    "    .group_by([\"session_id\", \"candidates\"])\n",
    "    .agg(\n",
    "        pl.col(\"pred\").sum(),\n",
    "        pl.col(\"session_count\").max(),\n",
    "    )\n",
    ")"
   ]
  },
  {
   "cell_type": "code",
   "execution_count": 21,
   "id": "09ea915a-9a1a-49a4-8b77-10b020226073",
   "metadata": {},
   "outputs": [
    {
     "data": {
      "text/html": [
       "<div><style>\n",
       ".dataframe > thead > tr > th,\n",
       ".dataframe > tbody > tr > td {\n",
       "  text-align: right;\n",
       "  white-space: pre-wrap;\n",
       "}\n",
       "</style>\n",
       "<small>shape: (9, 5)</small><table border=\"1\" class=\"dataframe\"><thead><tr><th>describe</th><th>session_id</th><th>candidates</th><th>pred</th><th>session_count</th></tr><tr><td>str</td><td>str</td><td>f64</td><td>f64</td><td>f64</td></tr></thead><tbody><tr><td>&quot;count&quot;</td><td>&quot;10843218&quot;</td><td>1.0843218e7</td><td>1.0843218e7</td><td>1.0843218e7</td></tr><tr><td>&quot;null_count&quot;</td><td>&quot;0&quot;</td><td>0.0</td><td>0.0</td><td>0.0</td></tr><tr><td>&quot;mean&quot;</td><td>null</td><td>6948.763338</td><td>-1.328015</td><td>1.499708</td></tr><tr><td>&quot;std&quot;</td><td>null</td><td>4024.038394</td><td>1.484091</td><td>0.731467</td></tr><tr><td>&quot;min&quot;</td><td>&quot;000007603d533d…</td><td>1.0</td><td>-6.379624</td><td>1.0</td></tr><tr><td>&quot;25%&quot;</td><td>null</td><td>3441.0</td><td>-2.653332</td><td>1.0</td></tr><tr><td>&quot;50%&quot;</td><td>null</td><td>6925.0</td><td>-0.503633</td><td>1.0</td></tr><tr><td>&quot;75%&quot;</td><td>null</td><td>10478.0</td><td>-0.318207</td><td>2.0</td></tr><tr><td>&quot;max&quot;</td><td>&quot;fffffa7baf3700…</td><td>13806.0</td><td>6.416839</td><td>10.0</td></tr></tbody></table></div>"
      ],
      "text/plain": [
       "shape: (9, 5)\n",
       "┌────────────┬──────────────────────────────────┬─────────────┬─────────────┬───────────────┐\n",
       "│ describe   ┆ session_id                       ┆ candidates  ┆ pred        ┆ session_count │\n",
       "│ ---        ┆ ---                              ┆ ---         ┆ ---         ┆ ---           │\n",
       "│ str        ┆ str                              ┆ f64         ┆ f64         ┆ f64           │\n",
       "╞════════════╪══════════════════════════════════╪═════════════╪═════════════╪═══════════════╡\n",
       "│ count      ┆ 10843218                         ┆ 1.0843218e7 ┆ 1.0843218e7 ┆ 1.0843218e7   │\n",
       "│ null_count ┆ 0                                ┆ 0.0         ┆ 0.0         ┆ 0.0           │\n",
       "│ mean       ┆ null                             ┆ 6948.763338 ┆ -1.328015   ┆ 1.499708      │\n",
       "│ std        ┆ null                             ┆ 4024.038394 ┆ 1.484091    ┆ 0.731467      │\n",
       "│ min        ┆ 000007603d533d30453cc45d0f3d119f ┆ 1.0         ┆ -6.379624   ┆ 1.0           │\n",
       "│ 25%        ┆ null                             ┆ 3441.0      ┆ -2.653332   ┆ 1.0           │\n",
       "│ 50%        ┆ null                             ┆ 6925.0      ┆ -0.503633   ┆ 1.0           │\n",
       "│ 75%        ┆ null                             ┆ 10478.0     ┆ -0.318207   ┆ 2.0           │\n",
       "│ max        ┆ fffffa7baf370083ebcdd98f26a7e31a ┆ 13806.0     ┆ 6.416839    ┆ 10.0          │\n",
       "└────────────┴──────────────────────────────────┴─────────────┴─────────────┴───────────────┘"
      ]
     },
     "execution_count": 21,
     "metadata": {},
     "output_type": "execute_result"
    }
   ],
   "source": [
    "other_oof_df.describe()"
   ]
  },
  {
   "cell_type": "code",
   "execution_count": null,
   "id": "af032d16-f6f5-450c-80ac-28b77e33b094",
   "metadata": {},
   "outputs": [],
   "source": []
  },
  {
   "cell_type": "code",
   "execution_count": 10,
   "id": "129f3654-1cbf-4021-ac88-8b43747c143e",
   "metadata": {},
   "outputs": [],
   "source": [
    "test_count_df = (\n",
    "    load_log_data(Path(cfg.dir.data_dir), \"test\")\n",
    "    .unique([\"session_id\", \"yad_no\"])[\"yad_no\"]\n",
    "    .value_counts()\n",
    ")\n",
    "yad_df = load_yad_data(Path(cfg.dir.data_dir)).select([\"yad_no\"])"
   ]
  },
  {
   "cell_type": "code",
   "execution_count": 14,
   "id": "d6db8216-a586-4b63-ac66-e7136c32347b",
   "metadata": {},
   "outputs": [
    {
     "data": {
      "text/html": [
       "<div><style>\n",
       ".dataframe > thead > tr > th,\n",
       ".dataframe > tbody > tr > td {\n",
       "  text-align: right;\n",
       "  white-space: pre-wrap;\n",
       "}\n",
       "</style>\n",
       "<small>shape: (5, 2)</small><table border=\"1\" class=\"dataframe\"><thead><tr><th>yad_no</th><th>counts</th></tr><tr><td>i64</td><td>u32</td></tr></thead><tbody><tr><td>1</td><td>30</td></tr><tr><td>2</td><td>5</td></tr><tr><td>3</td><td>29</td></tr><tr><td>4</td><td>17</td></tr><tr><td>5</td><td>0</td></tr></tbody></table></div>"
      ],
      "text/plain": [
       "shape: (5, 2)\n",
       "┌────────┬────────┐\n",
       "│ yad_no ┆ counts │\n",
       "│ ---    ┆ ---    │\n",
       "│ i64    ┆ u32    │\n",
       "╞════════╪════════╡\n",
       "│ 1      ┆ 30     │\n",
       "│ 2      ┆ 5      │\n",
       "│ 3      ┆ 29     │\n",
       "│ 4      ┆ 17     │\n",
       "│ 5      ┆ 0      │\n",
       "└────────┴────────┘"
      ]
     },
     "execution_count": 14,
     "metadata": {},
     "output_type": "execute_result"
    }
   ],
   "source": [
    "yad_counts_df = yad_df.join(test_count_df, on=\"yad_no\", how=\"left\").fill_null(0)\n",
    "yad_counts_df.head()"
   ]
  },
  {
   "cell_type": "code",
   "execution_count": 16,
   "id": "a51deafb-59ba-471f-8157-de7e43cbd3c4",
   "metadata": {},
   "outputs": [],
   "source": [
    "# filter\n",
    "filter_yad_list = yad_counts_df.filter(pl.col(\"counts\") == 0)[\"yad_no\"].to_list()"
   ]
  },
  {
   "cell_type": "code",
   "execution_count": 18,
   "id": "251d5768-1192-4d9e-8a54-a3f4def884a8",
   "metadata": {},
   "outputs": [
    {
     "data": {
      "text/plain": [
       "2583"
      ]
     },
     "execution_count": 18,
     "metadata": {},
     "output_type": "execute_result"
    }
   ],
   "source": [
    "len(filter_yad_list)"
   ]
  },
  {
   "cell_type": "code",
   "execution_count": 22,
   "id": "8a04bb61-cdd2-49e7-8ed2-189c2033ce08",
   "metadata": {},
   "outputs": [],
   "source": [
    "def filter_unseen_yad(cfg, df):\n",
    "    # 出現回数をカウント\n",
    "    test_count_df = (\n",
    "        load_log_data(Path(cfg.dir.data_dir), \"test\")\n",
    "        .unique([\"session_id\", \"yad_no\"])[\"yad_no\"]\n",
    "        .value_counts()\n",
    "    )\n",
    "    # 欠損値も考慮して全 yadの出現回数を作成\n",
    "    yad_df = load_yad_data(Path(cfg.dir.data_dir)).select([\"yad_no\"])\n",
    "    yad_counts_df = yad_df.join(test_count_df, on=\"yad_no\", how=\"left\").fill_null(0)\n",
    "\n",
    "    # 出現回数0回のyadリスト作成\n",
    "    filter_yad_list = yad_counts_df.filter(pl.col(\"counts\") == 0)[\"yad_no\"].to_list()\n",
    "\n",
    "    # 対象のyadのpredを -100する\n",
    "    df = df.with_columns(\n",
    "        pl.when(pl.col(\"candidates\").is_in(filter_yad_list))\n",
    "        .then(pl.col(\"pred\") - 100)\n",
    "        .otherwise(pl.col(\"pred\"))\n",
    "        .alias(\"pred\")\n",
    "    )\n",
    "    return df"
   ]
  },
  {
   "cell_type": "code",
   "execution_count": 23,
   "id": "0628a80d-63a1-49db-b78f-80f18d835579",
   "metadata": {},
   "outputs": [],
   "source": [
    "df = filter_unseen_yad(cfg, other_oof_df)"
   ]
  },
  {
   "cell_type": "code",
   "execution_count": 24,
   "id": "85d9184c-c7c3-44b3-9058-e36ef5f9fced",
   "metadata": {},
   "outputs": [
    {
     "data": {
      "text/html": [
       "<div><style>\n",
       ".dataframe > thead > tr > th,\n",
       ".dataframe > tbody > tr > td {\n",
       "  text-align: right;\n",
       "  white-space: pre-wrap;\n",
       "}\n",
       "</style>\n",
       "<small>shape: (9, 5)</small><table border=\"1\" class=\"dataframe\"><thead><tr><th>describe</th><th>session_id</th><th>candidates</th><th>pred</th><th>session_count</th></tr><tr><td>str</td><td>str</td><td>f64</td><td>f64</td><td>f64</td></tr></thead><tbody><tr><td>&quot;count&quot;</td><td>&quot;10843218&quot;</td><td>1.0843218e7</td><td>1.0843218e7</td><td>1.0843218e7</td></tr><tr><td>&quot;null_count&quot;</td><td>&quot;0&quot;</td><td>0.0</td><td>0.0</td><td>0.0</td></tr><tr><td>&quot;mean&quot;</td><td>null</td><td>6948.763338</td><td>-6.224366</td><td>1.499708</td></tr><tr><td>&quot;std&quot;</td><td>null</td><td>4024.038394</td><td>21.717207</td><td>0.731467</td></tr><tr><td>&quot;min&quot;</td><td>&quot;000007603d533d…</td><td>1.0</td><td>-106.213527</td><td>1.0</td></tr><tr><td>&quot;25%&quot;</td><td>null</td><td>3441.0</td><td>-2.944577</td><td>1.0</td></tr><tr><td>&quot;50%&quot;</td><td>null</td><td>6925.0</td><td>-0.534332</td><td>1.0</td></tr><tr><td>&quot;75%&quot;</td><td>null</td><td>10478.0</td><td>-0.321592</td><td>2.0</td></tr><tr><td>&quot;max&quot;</td><td>&quot;fffffa7baf3700…</td><td>13806.0</td><td>6.416839</td><td>10.0</td></tr></tbody></table></div>"
      ],
      "text/plain": [
       "shape: (9, 5)\n",
       "┌────────────┬──────────────────────────────────┬─────────────┬─────────────┬───────────────┐\n",
       "│ describe   ┆ session_id                       ┆ candidates  ┆ pred        ┆ session_count │\n",
       "│ ---        ┆ ---                              ┆ ---         ┆ ---         ┆ ---           │\n",
       "│ str        ┆ str                              ┆ f64         ┆ f64         ┆ f64           │\n",
       "╞════════════╪══════════════════════════════════╪═════════════╪═════════════╪═══════════════╡\n",
       "│ count      ┆ 10843218                         ┆ 1.0843218e7 ┆ 1.0843218e7 ┆ 1.0843218e7   │\n",
       "│ null_count ┆ 0                                ┆ 0.0         ┆ 0.0         ┆ 0.0           │\n",
       "│ mean       ┆ null                             ┆ 6948.763338 ┆ -6.224366   ┆ 1.499708      │\n",
       "│ std        ┆ null                             ┆ 4024.038394 ┆ 21.717207   ┆ 0.731467      │\n",
       "│ min        ┆ 000007603d533d30453cc45d0f3d119f ┆ 1.0         ┆ -106.213527 ┆ 1.0           │\n",
       "│ 25%        ┆ null                             ┆ 3441.0      ┆ -2.944577   ┆ 1.0           │\n",
       "│ 50%        ┆ null                             ┆ 6925.0      ┆ -0.534332   ┆ 1.0           │\n",
       "│ 75%        ┆ null                             ┆ 10478.0     ┆ -0.321592   ┆ 2.0           │\n",
       "│ max        ┆ fffffa7baf370083ebcdd98f26a7e31a ┆ 13806.0     ┆ 6.416839    ┆ 10.0          │\n",
       "└────────────┴──────────────────────────────────┴─────────────┴─────────────┴───────────────┘"
      ]
     },
     "execution_count": 24,
     "metadata": {},
     "output_type": "execute_result"
    }
   ],
   "source": [
    "df.describe()"
   ]
  },
  {
   "cell_type": "code",
   "execution_count": 25,
   "id": "cd118a43-1969-4efa-b4c7-feba31304fe8",
   "metadata": {},
   "outputs": [
    {
     "data": {
      "text/html": [
       "<div><style>\n",
       ".dataframe > thead > tr > th,\n",
       ".dataframe > tbody > tr > td {\n",
       "  text-align: right;\n",
       "  white-space: pre-wrap;\n",
       "}\n",
       "</style>\n",
       "<small>shape: (10_843_218, 4)</small><table border=\"1\" class=\"dataframe\"><thead><tr><th>session_id</th><th>candidates</th><th>pred</th><th>session_count</th></tr><tr><td>str</td><td>i32</td><td>f64</td><td>i32</td></tr></thead><tbody><tr><td>&quot;fffffa7baf3700…</td><td>2439</td><td>1.662029</td><td>2</td></tr><tr><td>&quot;fffffa7baf3700…</td><td>3338</td><td>-3.436939</td><td>2</td></tr><tr><td>&quot;fffffa7baf3700…</td><td>3422</td><td>-3.939829</td><td>2</td></tr><tr><td>&quot;ffff2360540745…</td><td>10259</td><td>-0.578957</td><td>1</td></tr><tr><td>&quot;ffff2262d38abd…</td><td>4193</td><td>-0.389775</td><td>1</td></tr><tr><td>&quot;fffe8c99c5b332…</td><td>4712</td><td>-4.007725</td><td>2</td></tr><tr><td>&quot;fffe8a472ae6a9…</td><td>6257</td><td>-4.438817</td><td>3</td></tr><tr><td>&quot;fffe8a472ae6a9…</td><td>8640</td><td>-4.468189</td><td>3</td></tr><tr><td>&quot;fffe78a078a176…</td><td>5420</td><td>-0.278949</td><td>1</td></tr><tr><td>&quot;fffe78a078a176…</td><td>6611</td><td>-0.317324</td><td>1</td></tr><tr><td>&quot;fffe40478b2163…</td><td>8256</td><td>-3.176687</td><td>2</td></tr><tr><td>&quot;fffe2d9e5982f5…</td><td>101</td><td>-0.552605</td><td>1</td></tr><tr><td>&hellip;</td><td>&hellip;</td><td>&hellip;</td><td>&hellip;</td></tr><tr><td>&quot;00039eeb14dd5e…</td><td>8771</td><td>-0.227056</td><td>1</td></tr><tr><td>&quot;00039eeb14dd5e…</td><td>7476</td><td>-0.316215</td><td>1</td></tr><tr><td>&quot;0003948318658b…</td><td>2622</td><td>-1.211728</td><td>2</td></tr><tr><td>&quot;0002499cf2713a…</td><td>10293</td><td>-0.230487</td><td>1</td></tr><tr><td>&quot;0001e6a407a85d…</td><td>964</td><td>-0.392476</td><td>1</td></tr><tr><td>&quot;0001e6a407a85d…</td><td>175</td><td>-0.400607</td><td>1</td></tr><tr><td>&quot;0001763050a10b…</td><td>1345</td><td>-0.308119</td><td>1</td></tr><tr><td>&quot;0001763050a10b…</td><td>5866</td><td>-100.371493</td><td>1</td></tr><tr><td>&quot;000125c737df18…</td><td>441</td><td>-0.282545</td><td>1</td></tr><tr><td>&quot;00011afe25c343…</td><td>5114</td><td>-0.866855</td><td>1</td></tr><tr><td>&quot;0000fcda1ae1b2…</td><td>5066</td><td>-0.372285</td><td>1</td></tr><tr><td>&quot;0000ca043ed437…</td><td>7694</td><td>-0.432648</td><td>1</td></tr></tbody></table></div>"
      ],
      "text/plain": [
       "shape: (10_843_218, 4)\n",
       "┌──────────────────────────────────┬────────────┬───────────┬───────────────┐\n",
       "│ session_id                       ┆ candidates ┆ pred      ┆ session_count │\n",
       "│ ---                              ┆ ---        ┆ ---       ┆ ---           │\n",
       "│ str                              ┆ i32        ┆ f64       ┆ i32           │\n",
       "╞══════════════════════════════════╪════════════╪═══════════╪═══════════════╡\n",
       "│ fffffa7baf370083ebcdd98f26a7e31a ┆ 2439       ┆ 1.662029  ┆ 2             │\n",
       "│ fffffa7baf370083ebcdd98f26a7e31a ┆ 3338       ┆ -3.436939 ┆ 2             │\n",
       "│ fffffa7baf370083ebcdd98f26a7e31a ┆ 3422       ┆ -3.939829 ┆ 2             │\n",
       "│ ffff2360540745117193ecadcdc06538 ┆ 10259      ┆ -0.578957 ┆ 1             │\n",
       "│ …                                ┆ …          ┆ …         ┆ …             │\n",
       "│ 000125c737df1802b6e365f93c96d3c8 ┆ 441        ┆ -0.282545 ┆ 1             │\n",
       "│ 00011afe25c343301ee961b3b0ce2e4d ┆ 5114       ┆ -0.866855 ┆ 1             │\n",
       "│ 0000fcda1ae1b2f431e55a7075d1f500 ┆ 5066       ┆ -0.372285 ┆ 1             │\n",
       "│ 0000ca043ed437a1472c9d1d154eb49b ┆ 7694       ┆ -0.432648 ┆ 1             │\n",
       "└──────────────────────────────────┴────────────┴───────────┴───────────────┘"
      ]
     },
     "execution_count": 25,
     "metadata": {},
     "output_type": "execute_result"
    }
   ],
   "source": [
    "df"
   ]
  },
  {
   "cell_type": "code",
   "execution_count": null,
   "id": "f08488f5-1d7d-4e5a-8458-508691c605b9",
   "metadata": {},
   "outputs": [],
   "source": []
  }
 ],
 "metadata": {
  "kernelspec": {
   "display_name": "Python 3 (ipykernel)",
   "language": "python",
   "name": "python3"
  },
  "language_info": {
   "codemirror_mode": {
    "name": "ipython",
    "version": 3
   },
   "file_extension": ".py",
   "mimetype": "text/x-python",
   "name": "python",
   "nbconvert_exporter": "python",
   "pygments_lexer": "ipython3",
   "version": "3.10.12"
  }
 },
 "nbformat": 4,
 "nbformat_minor": 5
}
