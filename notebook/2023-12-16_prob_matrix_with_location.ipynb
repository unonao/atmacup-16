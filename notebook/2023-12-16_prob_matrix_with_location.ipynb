{
 "cells": [
  {
   "cell_type": "markdown",
   "id": "99cb8240-4f87-4d47-af6e-f6f05cefd568",
   "metadata": {},
   "source": [
    "# 確率行列の作り方において、location情報も加味する\n",
    "\n",
    "- 方法１：合計確率が一定値になるように、同じlocationに対して均等に遷移確率を与える\n",
    "  - 均等なはずがないので微妙\n",
    "- 方法２：合計確率が一定値になるように、同じlocationに対して出現回数で均等に重み付けして遷移確率を与える\n",
    "- 方法３：既存の遷移確率について、違うlocation同士の場合は確率を減衰させる\n",
    "  - 実績値データを意図的に歪めることになるので微妙。ただし、外れ値の影響を減衰させるという意味では良いかも\n",
    " \n",
    "まずは方法２を試す。"
   ]
  },
  {
   "cell_type": "code",
   "execution_count": 1,
   "id": "bd541f34-7a03-4b15-b490-745aacd09457",
   "metadata": {},
   "outputs": [
    {
     "name": "stdout",
     "output_type": "stream",
     "text": [
      "/kaggle/working\n"
     ]
    }
   ],
   "source": [
    "%cd .."
   ]
  },
  {
   "cell_type": "code",
   "execution_count": 7,
   "id": "0bbbc65e-1e92-49b4-aced-987418915001",
   "metadata": {},
   "outputs": [
    {
     "name": "stdout",
     "output_type": "stream",
     "text": [
      "debug: false\n",
      "seed: 7\n",
      "dir:\n",
      "  data_dir: /kaggle/working/input/atmaCup16_Dataset\n",
      "  output_dir: /kaggle/working/output\n",
      "  exp_dir: /kaggle/working/output/exp\n",
      "  cand_unsupervised_dir: /kaggle/working/output/cand_unsupervised\n",
      "  cand_supervised_dir: /kaggle/working/output/cand_supervised\n",
      "  datasets_dir: /kaggle/working/output/datasets\n",
      "exp:\n",
      "  num_candidate: 100\n",
      "  k:\n",
      "  - 1\n",
      "  - 5\n",
      "  - 10\n",
      "  - 50\n",
      "  - 100\n",
      "  range_transitions:\n",
      "  - -1\n",
      "  - 1\n",
      "  transition_times: 2\n",
      "  self_loop_prob: 0.5\n",
      "  location_prob: 0.2\n",
      "\n"
     ]
    }
   ],
   "source": [
    "from hydra import compose, initialize\n",
    "from omegaconf import OmegaConf\n",
    "\n",
    "with initialize(\n",
    "    version_base=None, config_path=\"../cand_unsupervised/prob_matrix_with_location\"\n",
    "):\n",
    "    cfg = compose(config_name=\"config.yaml\", overrides=[\"exp=base\"])\n",
    "    print(OmegaConf.to_yaml(cfg))"
   ]
  },
  {
   "cell_type": "code",
   "execution_count": 5,
   "id": "65866f72-2170-4b0f-acac-75d71349e1fe",
   "metadata": {},
   "outputs": [],
   "source": [
    "import logging\n",
    "import os\n",
    "import pickle\n",
    "import sys\n",
    "import time\n",
    "from pathlib import Path\n",
    "\n",
    "import hydra\n",
    "import lightgbm as lgb\n",
    "import matplotlib.pyplot as plt\n",
    "import numpy as np\n",
    "import pandas as pd\n",
    "import polars as pl\n",
    "import scipy.sparse as sparse\n",
    "from hydra.core.hydra_config import HydraConfig\n",
    "from omegaconf import DictConfig, OmegaConf\n",
    "from scipy.sparse import csr_matrix, eye\n",
    "from sklearn.preprocessing import normalize\n",
    "from tqdm.auto import tqdm\n",
    "\n",
    "import utils\n",
    "import wandb\n",
    "from utils.load import load_label_data, load_log_data, load_session_data, load_yad_data\n",
    "from utils.logger import get_logger\n",
    "from utils.metrics import calculate_metrics"
   ]
  },
  {
   "cell_type": "code",
   "execution_count": 8,
   "id": "3edd9d7c-acff-46f8-bc79-156f858c11b9",
   "metadata": {},
   "outputs": [
    {
     "name": "stdout",
     "output_type": "stream",
     "text": [
      "[load data] done in 0.1 s\n"
     ]
    }
   ],
   "source": [
    "with utils.timer(\"load data\"):\n",
    "    train_log_df = load_log_data(Path(cfg.dir.data_dir), \"train\")\n",
    "    test_log_df = load_log_data(Path(cfg.dir.data_dir), \"test\")\n",
    "    yad_df = load_yad_data(Path(cfg.dir.data_dir))\n",
    "    all_log_df = pl.concat([train_log_df, test_log_df])"
   ]
  },
  {
   "cell_type": "code",
   "execution_count": 34,
   "id": "d008ce0d-cfe8-4058-ade6-6b31a67378ae",
   "metadata": {},
   "outputs": [],
   "source": [
    "all_log_cast_df = all_log_df.with_columns(\n",
    "    pl.col(\"yad_no\").cast(str).cast(pl.Categorical).to_physical().alias(\"yid\"),\n",
    ")\n",
    "\n",
    "unique_df = all_log_cast_df.unique([\"yad_no\", \"yid\"])\n",
    "unique_yids = unique_df[\"yid\"].to_numpy()\n",
    "unique_yad_nos = unique_df[\"yad_no\"].to_list()\n",
    "yid2yad_no = dict(zip(unique_yids, unique_yad_nos))\n",
    "yad_no2yid = dict(zip(unique_yad_nos, unique_yids))"
   ]
  },
  {
   "cell_type": "code",
   "execution_count": 54,
   "id": "ef94d0d9-760a-408f-8b21-1aed7773ba72",
   "metadata": {},
   "outputs": [
    {
     "data": {
      "text/html": [
       "<div><style>\n",
       ".dataframe > thead > tr > th,\n",
       ".dataframe > tbody > tr > td {\n",
       "  text-align: right;\n",
       "  white-space: pre-wrap;\n",
       "}\n",
       "</style>\n",
       "<small>shape: (5, 3)</small><table border=\"1\" class=\"dataframe\"><thead><tr><th>from_id</th><th>to_id</th><th>weight</th></tr><tr><td>u32</td><td>u32</td><td>f64</td></tr></thead><tbody><tr><td>13398</td><td>13398</td><td>0.005892</td></tr><tr><td>13398</td><td>13469</td><td>0.000196</td></tr><tr><td>13398</td><td>11721</td><td>0.000786</td></tr><tr><td>13398</td><td>8216</td><td>0.003535</td></tr><tr><td>13398</td><td>12404</td><td>0.000393</td></tr></tbody></table></div>"
      ],
      "text/plain": [
       "shape: (5, 3)\n",
       "┌─────────┬───────┬──────────┐\n",
       "│ from_id ┆ to_id ┆ weight   │\n",
       "│ ---     ┆ ---   ┆ ---      │\n",
       "│ u32     ┆ u32   ┆ f64      │\n",
       "╞═════════╪═══════╪══════════╡\n",
       "│ 13398   ┆ 13398 ┆ 0.005892 │\n",
       "│ 13398   ┆ 13469 ┆ 0.000196 │\n",
       "│ 13398   ┆ 11721 ┆ 0.000786 │\n",
       "│ 13398   ┆ 8216  ┆ 0.003535 │\n",
       "│ 13398   ┆ 12404 ┆ 0.000393 │\n",
       "└─────────┴───────┴──────────┘"
      ]
     },
     "execution_count": 54,
     "metadata": {},
     "output_type": "execute_result"
    }
   ],
   "source": [
    "# idに変換\n",
    "\n",
    "yad_id_df = yad_df.with_columns(\n",
    "    pl.col(\"yad_no\").map_dict(yad_no2yid).cast(pl.UInt32).alias(\"yid\")\n",
    ").drop(\"yad_no\")\n",
    "\n",
    "# yad_no の出現回数を計算し、from_yad_noでの合計が1になるような weightを計算する\n",
    "yad_with_counts = yad_id_df.select([\"yid\", \"sml_cd\"]).join(\n",
    "    all_log_cast_df.unique(['session_id','yid'])[\"yid\"].value_counts(), on=\"yid\"\n",
    ")\n",
    "\n",
    "# 同じlocationからlocationへのyad_noのペアを作る\n",
    "yad2yad_location_df = (\n",
    "    (\n",
    "        yad_id_df.select([\"yid\", \"sml_cd\"])\n",
    "        .join(\n",
    "            yad_with_counts,\n",
    "            on=\"sml_cd\",\n",
    "            how=\"outer\",\n",
    "        )\n",
    "        .rename({\"yid\": \"from_id\", \"yid_right\": \"to_id\"})\n",
    "        .with_columns(\n",
    "            (pl.col(\"counts\") / pl.col(\"counts\").sum().over(\"from_id\")).alias(\"weight\")\n",
    "        )\n",
    "        .drop(\"counts\")\n",
    "    )\n",
    "    .drop(\"sml_cd\")\n",
    "    .drop_nulls()\n",
    ")\n",
    "\n",
    "\n",
    "yad2yad_location_df.head()"
   ]
  },
  {
   "cell_type": "code",
   "execution_count": 30,
   "id": "bd055050-a546-4dc1-aeb1-e0808928839b",
   "metadata": {},
   "outputs": [],
   "source": [
    "# 遷移を作成\n",
    "transition_dfs = []\n",
    "for rti in cfg.exp.range_transitions:\n",
    "    if rti == 0:\n",
    "        continue\n",
    "    df = (\n",
    "        all_log_cast_df.with_columns(\n",
    "            pl.col(\"yid\").alias(\"from_id\"),\n",
    "            pl.col(\"yid\").shift(-(rti)).over(\"session_id\").alias(\"to_id\"),\n",
    "        )\n",
    "        .filter(~pl.col(\"to_id\").is_null())\n",
    "        .filter(pl.col(\"from_id\") != pl.col(\"to_id\"))  # 同じものへは遷移しない\n",
    "        .select([\"session_id\", \"from_id\", \"to_id\"])\n",
    "    )\n",
    "    transition_dfs.append(df)\n",
    "transition_df = (\n",
    "    pl.concat(transition_dfs)\n",
    "    .unique([\"session_id\", \"from_id\", \"to_id\"])\n",
    "    .drop(\"session_id\")\n",
    ")"
   ]
  },
  {
   "cell_type": "code",
   "execution_count": 31,
   "id": "99d2a3e8-f101-4f90-82a5-46e04e1fb472",
   "metadata": {},
   "outputs": [
    {
     "data": {
      "text/html": [
       "<div><style>\n",
       ".dataframe > thead > tr > th,\n",
       ".dataframe > tbody > tr > td {\n",
       "  text-align: right;\n",
       "  white-space: pre-wrap;\n",
       "}\n",
       "</style>\n",
       "<small>shape: (5, 3)</small><table border=\"1\" class=\"dataframe\"><thead><tr><th>from_id</th><th>to_id</th><th>weight</th></tr><tr><td>u32</td><td>u32</td><td>f64</td></tr></thead><tbody><tr><td>196</td><td>2199</td><td>0.080745</td></tr><tr><td>7497</td><td>5897</td><td>0.428571</td></tr><tr><td>275</td><td>7807</td><td>0.121951</td></tr><tr><td>2324</td><td>2283</td><td>0.119048</td></tr><tr><td>4572</td><td>369</td><td>0.045045</td></tr></tbody></table></div>"
      ],
      "text/plain": [
       "shape: (5, 3)\n",
       "┌─────────┬───────┬──────────┐\n",
       "│ from_id ┆ to_id ┆ weight   │\n",
       "│ ---     ┆ ---   ┆ ---      │\n",
       "│ u32     ┆ u32   ┆ f64      │\n",
       "╞═════════╪═══════╪══════════╡\n",
       "│ 196     ┆ 2199  ┆ 0.080745 │\n",
       "│ 7497    ┆ 5897  ┆ 0.428571 │\n",
       "│ 275     ┆ 7807  ┆ 0.121951 │\n",
       "│ 2324    ┆ 2283  ┆ 0.119048 │\n",
       "│ 4572    ┆ 369   ┆ 0.045045 │\n",
       "└─────────┴───────┴──────────┘"
      ]
     },
     "execution_count": 31,
     "metadata": {},
     "output_type": "execute_result"
    }
   ],
   "source": [
    "transition_df = (\n",
    "    transition_df.group_by([\"from_id\", \"to_id\"])\n",
    "    .agg(pl.col(\"from_id\").count().alias(\"counts\"))\n",
    "    .with_columns(\n",
    "        (pl.col(\"counts\") / pl.col(\"counts\").sum().over(\"from_id\")).alias(\"weight\")\n",
    "    )\n",
    "    .drop(\"counts\")\n",
    ")\n",
    "\n",
    "transition_df.head()"
   ]
  },
  {
   "cell_type": "code",
   "execution_count": 55,
   "id": "d3f98c52-607f-4b4f-a796-6f99b8ae2441",
   "metadata": {},
   "outputs": [
    {
     "data": {
      "text/html": [
       "<div><style>\n",
       ".dataframe > thead > tr > th,\n",
       ".dataframe > tbody > tr > td {\n",
       "  text-align: right;\n",
       "  white-space: pre-wrap;\n",
       "}\n",
       "</style>\n",
       "<small>shape: (5, 3)</small><table border=\"1\" class=\"dataframe\"><thead><tr><th>from_id</th><th>to_id</th><th>weight</th></tr><tr><td>u32</td><td>u32</td><td>f64</td></tr></thead><tbody><tr><td>196</td><td>2199</td><td>0.064596</td></tr><tr><td>7497</td><td>5897</td><td>0.342857</td></tr><tr><td>275</td><td>7807</td><td>0.097561</td></tr><tr><td>2324</td><td>2283</td><td>0.095238</td></tr><tr><td>4572</td><td>369</td><td>0.036036</td></tr></tbody></table></div>"
      ],
      "text/plain": [
       "shape: (5, 3)\n",
       "┌─────────┬───────┬──────────┐\n",
       "│ from_id ┆ to_id ┆ weight   │\n",
       "│ ---     ┆ ---   ┆ ---      │\n",
       "│ u32     ┆ u32   ┆ f64      │\n",
       "╞═════════╪═══════╪══════════╡\n",
       "│ 196     ┆ 2199  ┆ 0.064596 │\n",
       "│ 7497    ┆ 5897  ┆ 0.342857 │\n",
       "│ 275     ┆ 7807  ┆ 0.097561 │\n",
       "│ 2324    ┆ 2283  ┆ 0.095238 │\n",
       "│ 4572    ┆ 369   ┆ 0.036036 │\n",
       "└─────────┴───────┴──────────┘"
      ]
     },
     "execution_count": 55,
     "metadata": {},
     "output_type": "execute_result"
    }
   ],
   "source": [
    "transition_with_location_df = pl.concat(\n",
    "    [\n",
    "        transition_df.with_columns(pl.col(\"weight\") * (1 - cfg.exp.location_prob)),\n",
    "        yad2yad_location_df.with_columns(pl.col(\"weight\") * cfg.exp.location_prob),\n",
    "    ]\n",
    ")\n",
    "transition_with_location_df.head()"
   ]
  },
  {
   "cell_type": "code",
   "execution_count": 56,
   "id": "b76e3427-e5c5-472a-9f60-4ce2209737e6",
   "metadata": {},
   "outputs": [],
   "source": [
    "# 疎行列の作成\n",
    "sparse_matrix = sparse.csr_matrix(\n",
    "    (\n",
    "        transition_with_location_df[\"weight\"].to_numpy(),\n",
    "        (\n",
    "            transition_with_location_df[\"from_id\"].to_numpy(),\n",
    "            transition_with_location_df[\"to_id\"].to_numpy(),\n",
    "        ),\n",
    "    )\n",
    ")"
   ]
  },
  {
   "cell_type": "code",
   "execution_count": 57,
   "id": "2b4f0ab6-7927-493e-9cfe-baa6dd7f1e8b",
   "metadata": {},
   "outputs": [
    {
     "data": {
      "text/plain": [
       "array([1. , 1. , 1. , ..., 0.2, 1. , 0.2])"
      ]
     },
     "execution_count": 57,
     "metadata": {},
     "output_type": "execute_result"
    }
   ],
   "source": [
    "sparse_matrix.toarray().sum(axis=1)"
   ]
  },
  {
   "cell_type": "code",
   "execution_count": null,
   "id": "7c3aa5ff-02bc-4268-bbfb-60034ef3a214",
   "metadata": {},
   "outputs": [],
   "source": []
  }
 ],
 "metadata": {
  "kernelspec": {
   "display_name": "Python 3 (ipykernel)",
   "language": "python",
   "name": "python3"
  },
  "language_info": {
   "codemirror_mode": {
    "name": "ipython",
    "version": 3
   },
   "file_extension": ".py",
   "mimetype": "text/x-python",
   "name": "python",
   "nbconvert_exporter": "python",
   "pygments_lexer": "ipython3",
   "version": "3.10.12"
  }
 },
 "nbformat": 4,
 "nbformat_minor": 5
}
