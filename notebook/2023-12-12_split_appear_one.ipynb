{
 "cells": [
  {
   "cell_type": "code",
   "execution_count": 1,
   "id": "0d8d6966-77c9-4602-b346-12f63e7c5607",
   "metadata": {},
   "outputs": [
    {
     "name": "stdout",
     "output_type": "stream",
     "text": [
      "/kaggle/working\n"
     ]
    }
   ],
   "source": [
    "%cd .."
   ]
  },
  {
   "cell_type": "code",
   "execution_count": 2,
   "id": "64471745-a7e8-46ff-a73b-5137bfa03f88",
   "metadata": {},
   "outputs": [
    {
     "name": "stdout",
     "output_type": "stream",
     "text": [
      "debug: false\n",
      "seed: 42\n",
      "dir:\n",
      "  data_dir: /kaggle/working/input/atmaCup16_Dataset\n",
      "  output_dir: /kaggle/working/output\n",
      "  exp_dir: /kaggle/working/output/exp\n",
      "  cand_unsupervised_dir: /kaggle/working/output/cand_unsupervised\n",
      "  cand_supervised_dir: /kaggle/working/output/cand_supervised\n",
      "  datasets_dir: /kaggle/working/output/datasets\n",
      "exp:\n",
      "  datasets_dir: /kaggle/working/output/datasets/012/base\n",
      "  one_epoch: false\n",
      "  lgbm:\n",
      "    cat_cols: []\n",
      "    unuse_cols:\n",
      "    - yad_no\n",
      "    - session_id\n",
      "    - original\n",
      "    - label\n",
      "    - fold\n",
      "    - candidates\n",
      "    - yad_type\n",
      "    - wid_cd\n",
      "    - ken_cd\n",
      "    - lrg_cd\n",
      "    - sml_cd\n",
      "    label_col: label\n",
      "    verbose_eval: 100\n",
      "    downsampling_rate: 1.0\n",
      "    ndcg_eval_at:\n",
      "    - 5\n",
      "    - 10\n",
      "    params:\n",
      "      metric:\n",
      "      - map\n",
      "      - ndcg\n",
      "      - auc\n",
      "      objective: lambdarank\n",
      "      ndcg_eval_at: []\n",
      "      num_iterations: 4000\n",
      "      early_stopping_round: 50\n",
      "      lambda_l1: 0.1\n",
      "      lambda_l2: 0.1\n",
      "      num_leaves: 32\n",
      "      feature_fraction: 0.8\n",
      "      bagging_fraction: 0.8\n",
      "      bagging_freq: 1\n",
      "      min_child_samples: 10\n",
      "      task: train\n",
      "      boosting_type: gbdt\n",
      "      first_metric_only: true\n",
      "      max_depth: 8\n",
      "      learning_rate: 0.1\n",
      "      num_thread: -1\n",
      "      max_bin: 256\n",
      "      verbose: -1\n",
      "      device: cpu\n",
      "      scale_pos_weight: 1\n",
      "      seed: ${seed}\n",
      "      num_class: 1\n",
      "\n"
     ]
    }
   ],
   "source": [
    "from hydra import compose, initialize\n",
    "from omegaconf import OmegaConf\n",
    "\n",
    "with initialize(version_base=None, config_path=\"../experiments/006_score_bug_fix\"):\n",
    "    cfg = compose(config_name=\"config.yaml\", overrides=[\"exp=v12_001\"])\n",
    "    print(OmegaConf.to_yaml(cfg))"
   ]
  },
  {
   "cell_type": "code",
   "execution_count": 3,
   "id": "3138d68d-9a75-43d3-a06a-b43589495b75",
   "metadata": {},
   "outputs": [],
   "source": [
    "import os\n",
    "import sys\n",
    "from pathlib import Path\n",
    "\n",
    "import hydra\n",
    "import numpy as np\n",
    "import polars as pl\n",
    "import torch\n",
    "from hydra.core.hydra_config import HydraConfig\n",
    "from omegaconf import DictConfig, OmegaConf\n",
    "from sklearn.neighbors import NearestNeighbors\n",
    "from sklearn.preprocessing import LabelEncoder\n",
    "from tqdm.auto import tqdm\n",
    "\n",
    "import utils\n",
    "import wandb\n",
    "from utils.load import (\n",
    "    load_image_embeddings,\n",
    "    load_label_data,\n",
    "    load_log_data,\n",
    "    load_session_data,\n",
    "    load_yad_data,\n",
    ")\n",
    "from utils.metrics import calculate_metrics"
   ]
  },
  {
   "cell_type": "code",
   "execution_count": 4,
   "id": "668bcec5-e2ff-46db-9fdd-f2dfb5cf858b",
   "metadata": {},
   "outputs": [
    {
     "data": {
      "text/html": [
       "<div><style>\n",
       ".dataframe > thead > tr > th,\n",
       ".dataframe > tbody > tr > td {\n",
       "  text-align: right;\n",
       "  white-space: pre-wrap;\n",
       "}\n",
       "</style>\n",
       "<small>shape: (5, 3)</small><table border=\"1\" class=\"dataframe\"><thead><tr><th>session_id</th><th>seq_no</th><th>yad_no</th></tr><tr><td>str</td><td>i64</td><td>i64</td></tr></thead><tbody><tr><td>&quot;000007603d533d…</td><td>0</td><td>2395</td></tr><tr><td>&quot;0000ca043ed437…</td><td>0</td><td>13535</td></tr><tr><td>&quot;0000d4835cf113…</td><td>0</td><td>123</td></tr><tr><td>&quot;0000fcda1ae1b2…</td><td>0</td><td>8475</td></tr><tr><td>&quot;000104bdffaaad…</td><td>0</td><td>96</td></tr></tbody></table></div>"
      ],
      "text/plain": [
       "shape: (5, 3)\n",
       "┌──────────────────────────────────┬────────┬────────┐\n",
       "│ session_id                       ┆ seq_no ┆ yad_no │\n",
       "│ ---                              ┆ ---    ┆ ---    │\n",
       "│ str                              ┆ i64    ┆ i64    │\n",
       "╞══════════════════════════════════╪════════╪════════╡\n",
       "│ 000007603d533d30453cc45d0f3d119f ┆ 0      ┆ 2395   │\n",
       "│ 0000ca043ed437a1472c9d1d154eb49b ┆ 0      ┆ 13535  │\n",
       "│ 0000d4835cf113316fe447e2f80ba1c8 ┆ 0      ┆ 123    │\n",
       "│ 0000fcda1ae1b2f431e55a7075d1f500 ┆ 0      ┆ 8475   │\n",
       "│ 000104bdffaaad1a1e0a9ebacf585f33 ┆ 0      ┆ 96     │\n",
       "└──────────────────────────────────┴────────┴────────┘"
      ]
     },
     "execution_count": 4,
     "metadata": {},
     "output_type": "execute_result"
    }
   ],
   "source": [
    "train_log_df = load_log_data(Path(cfg.dir.data_dir), \"train\")\n",
    "train_label_df = load_label_data(Path(cfg.dir.data_dir))\n",
    "test_log_df = load_log_data(Path(cfg.dir.data_dir), \"test\")\n",
    "train_log_df.head()"
   ]
  },
  {
   "cell_type": "code",
   "execution_count": 5,
   "id": "34c3901f-954f-4090-8c30-589f474457ed",
   "metadata": {},
   "outputs": [
    {
     "data": {
      "text/html": [
       "<div><style>\n",
       ".dataframe > thead > tr > th,\n",
       ".dataframe > tbody > tr > td {\n",
       "  text-align: right;\n",
       "  white-space: pre-wrap;\n",
       "}\n",
       "</style>\n",
       "<small>shape: (5, 5)</small><table border=\"1\" class=\"dataframe\"><thead><tr><th>session_id</th><th>seq_no</th><th>yad_no</th><th>yad_no_label</th><th>seq_len</th></tr><tr><td>str</td><td>i64</td><td>i64</td><td>i64</td><td>i64</td></tr></thead><tbody><tr><td>&quot;000007603d533d…</td><td>0</td><td>2395</td><td>4101</td><td>1</td></tr><tr><td>&quot;0000ca043ed437…</td><td>0</td><td>13535</td><td>8253</td><td>1</td></tr><tr><td>&quot;0000d4835cf113…</td><td>0</td><td>123</td><td>4863</td><td>1</td></tr><tr><td>&quot;0000fcda1ae1b2…</td><td>0</td><td>8475</td><td>1652</td><td>1</td></tr><tr><td>&quot;000104bdffaaad…</td><td>0</td><td>96</td><td>96</td><td>2</td></tr></tbody></table></div>"
      ],
      "text/plain": [
       "shape: (5, 5)\n",
       "┌──────────────────────────────────┬────────┬────────┬──────────────┬─────────┐\n",
       "│ session_id                       ┆ seq_no ┆ yad_no ┆ yad_no_label ┆ seq_len │\n",
       "│ ---                              ┆ ---    ┆ ---    ┆ ---          ┆ ---     │\n",
       "│ str                              ┆ i64    ┆ i64    ┆ i64          ┆ i64     │\n",
       "╞══════════════════════════════════╪════════╪════════╪══════════════╪═════════╡\n",
       "│ 000007603d533d30453cc45d0f3d119f ┆ 0      ┆ 2395   ┆ 4101         ┆ 1       │\n",
       "│ 0000ca043ed437a1472c9d1d154eb49b ┆ 0      ┆ 13535  ┆ 8253         ┆ 1       │\n",
       "│ 0000d4835cf113316fe447e2f80ba1c8 ┆ 0      ┆ 123    ┆ 4863         ┆ 1       │\n",
       "│ 0000fcda1ae1b2f431e55a7075d1f500 ┆ 0      ┆ 8475   ┆ 1652         ┆ 1       │\n",
       "│ 000104bdffaaad1a1e0a9ebacf585f33 ┆ 0      ┆ 96     ┆ 96           ┆ 2       │\n",
       "└──────────────────────────────────┴────────┴────────┴──────────────┴─────────┘"
      ]
     },
     "execution_count": 5,
     "metadata": {},
     "output_type": "execute_result"
    }
   ],
   "source": [
    "train_log_label_df = train_log_df.join(\n",
    "    train_label_df, on=\"session_id\", suffix=\"_label\"\n",
    ").with_columns((pl.col(\"seq_no\").max().over(\"session_id\") + 1).alias(\"seq_len\"))\n",
    "\n",
    "train_log_label_df.head()"
   ]
  },
  {
   "cell_type": "code",
   "execution_count": 6,
   "id": "78b60faf-051a-42f7-ab31-f3a19854dfe5",
   "metadata": {},
   "outputs": [
    {
     "data": {
      "text/html": [
       "<div><style>\n",
       ".dataframe > thead > tr > th,\n",
       ".dataframe > tbody > tr > td {\n",
       "  text-align: right;\n",
       "  white-space: pre-wrap;\n",
       "}\n",
       "</style>\n",
       "<small>shape: (10, 2)</small><table border=\"1\" class=\"dataframe\"><thead><tr><th>seq_len</th><th>counts</th></tr><tr><td>i64</td><td>u32</td></tr></thead><tbody><tr><td>1</td><td>185386</td></tr><tr><td>2</td><td>82793</td></tr><tr><td>3</td><td>15350</td></tr><tr><td>4</td><td>4025</td></tr><tr><td>5</td><td>833</td></tr><tr><td>6</td><td>223</td></tr><tr><td>7</td><td>65</td></tr><tr><td>8</td><td>18</td></tr><tr><td>9</td><td>4</td></tr><tr><td>10</td><td>1</td></tr></tbody></table></div>"
      ],
      "text/plain": [
       "shape: (10, 2)\n",
       "┌─────────┬────────┐\n",
       "│ seq_len ┆ counts │\n",
       "│ ---     ┆ ---    │\n",
       "│ i64     ┆ u32    │\n",
       "╞═════════╪════════╡\n",
       "│ 1       ┆ 185386 │\n",
       "│ 2       ┆ 82793  │\n",
       "│ 3       ┆ 15350  │\n",
       "│ 4       ┆ 4025   │\n",
       "│ …       ┆ …      │\n",
       "│ 7       ┆ 65     │\n",
       "│ 8       ┆ 18     │\n",
       "│ 9       ┆ 4      │\n",
       "│ 10      ┆ 1      │\n",
       "└─────────┴────────┘"
      ]
     },
     "execution_count": 6,
     "metadata": {},
     "output_type": "execute_result"
    }
   ],
   "source": [
    "train_log_label_df.group_by([\"session_id\"]).agg(pl.col(\"seq_len\").max())[\n",
    "    \"seq_len\"\n",
    "].value_counts().sort(by=\"seq_len\")"
   ]
  },
  {
   "cell_type": "markdown",
   "id": "c344b50a-c524-4d42-bca3-bf7e9bfa544e",
   "metadata": {},
   "source": [
    "## seq_len==1をルールベースにしてみる"
   ]
  },
  {
   "cell_type": "code",
   "execution_count": 15,
   "id": "7fdc8668-ed92-472c-b139-0a8fc001d515",
   "metadata": {},
   "outputs": [
    {
     "data": {
      "text/html": [
       "<div><style>\n",
       ".dataframe > thead > tr > th,\n",
       ".dataframe > tbody > tr > td {\n",
       "  text-align: right;\n",
       "  white-space: pre-wrap;\n",
       "}\n",
       "</style>\n",
       "<small>shape: (13_318, 2)</small><table border=\"1\" class=\"dataframe\"><thead><tr><th>yad_no</th><th>yad_no_label</th></tr><tr><td>i64</td><td>list[i64]</td></tr></thead><tbody><tr><td>13806</td><td>[11113, 3326, … 6925]</td></tr><tr><td>13805</td><td>[5068, 5271]</td></tr><tr><td>13804</td><td>[13382, 9181, … 10727]</td></tr><tr><td>13803</td><td>[12752, 12962, … 13106]</td></tr><tr><td>13801</td><td>[496, 5130, … 52]</td></tr><tr><td>13800</td><td>[5491, 12245, … 10758]</td></tr><tr><td>13799</td><td>[2231, 1037, … 9765]</td></tr><tr><td>13798</td><td>[12056, 7722, … 4299]</td></tr><tr><td>13797</td><td>[10159, 3955, … 7820]</td></tr><tr><td>13796</td><td>[9112, 13775, … 13097]</td></tr><tr><td>13795</td><td>[8985, 8447, … 2620]</td></tr><tr><td>13794</td><td>[13210, 10955, … 3564]</td></tr><tr><td>&hellip;</td><td>&hellip;</td></tr><tr><td>14</td><td>[2929]</td></tr><tr><td>13</td><td>[11662, 498]</td></tr><tr><td>12</td><td>[8209, 5937, … 2860]</td></tr><tr><td>11</td><td>[6514]</td></tr><tr><td>10</td><td>[1801]</td></tr><tr><td>9</td><td>[2401, 4673, … 5553]</td></tr><tr><td>7</td><td>[8501, 666, … 4632]</td></tr><tr><td>6</td><td>[11926, 7354]</td></tr><tr><td>5</td><td>[117, 1901, … 3928]</td></tr><tr><td>4</td><td>[3054, 11408, … 12082]</td></tr><tr><td>3</td><td>[10095, 5800, … 12154]</td></tr><tr><td>2</td><td>[3860, 13783, … 8187]</td></tr></tbody></table></div>"
      ],
      "text/plain": [
       "shape: (13_318, 2)\n",
       "┌────────┬─────────────────────────┐\n",
       "│ yad_no ┆ yad_no_label            │\n",
       "│ ---    ┆ ---                     │\n",
       "│ i64    ┆ list[i64]               │\n",
       "╞════════╪═════════════════════════╡\n",
       "│ 13806  ┆ [11113, 3326, … 6925]   │\n",
       "│ 13805  ┆ [5068, 5271]            │\n",
       "│ 13804  ┆ [13382, 9181, … 10727]  │\n",
       "│ 13803  ┆ [12752, 12962, … 13106] │\n",
       "│ …      ┆ …                       │\n",
       "│ 5      ┆ [117, 1901, … 3928]     │\n",
       "│ 4      ┆ [3054, 11408, … 12082]  │\n",
       "│ 3      ┆ [10095, 5800, … 12154]  │\n",
       "│ 2      ┆ [3860, 13783, … 8187]   │\n",
       "└────────┴─────────────────────────┘"
      ]
     },
     "execution_count": 15,
     "metadata": {},
     "output_type": "execute_result"
    }
   ],
   "source": [
    "train_log_label_df.filter(pl.col(\"seq_no\") == pl.col(\"seq_len\") - 1).group_by(\n",
    "    [\"yad_no\", \"yad_no_label\"]\n",
    ").agg(pl.col(\"yad_no\").count().alias(\"counts\")).sort(\n",
    "    by=[\"yad_no\", \"counts\"], descending=True\n",
    ").group_by(\n",
    "    \"yad_no\"\n",
    ").agg(\n",
    "    pl.col(\"yad_no_label\")\n",
    ")"
   ]
  },
  {
   "cell_type": "code",
   "execution_count": null,
   "id": "98dfef24-5ac9-4f1d-86ec-bbb8ccdd2ee6",
   "metadata": {},
   "outputs": [],
   "source": []
  },
  {
   "cell_type": "markdown",
   "id": "d1cf369d-494c-4499-8b44-8de1284f767b",
   "metadata": {},
   "source": [
    "## seq_lenごとのスコア算出"
   ]
  },
  {
   "cell_type": "code",
   "execution_count": 103,
   "id": "ff511a58-7c4d-4d60-999e-2e53ceb523a6",
   "metadata": {},
   "outputs": [],
   "source": [
    "train_df = pl.read_parquet(Path(cfg.exp.datasets_dir) / \"train.parquet\")"
   ]
  },
  {
   "cell_type": "code",
   "execution_count": 104,
   "id": "35c73e11-96d2-48e1-a75e-289be65c1722",
   "metadata": {},
   "outputs": [
    {
     "data": {
      "text/plain": [
       "(11360661, 110)"
      ]
     },
     "execution_count": 104,
     "metadata": {},
     "output_type": "execute_result"
    }
   ],
   "source": [
    "train_df.shape"
   ]
  },
  {
   "cell_type": "code",
   "execution_count": 105,
   "id": "f77b07e4-5067-42ab-bb34-f5dd48b753d9",
   "metadata": {},
   "outputs": [
    {
     "data": {
      "text/plain": [
       "(11360661,)"
      ]
     },
     "execution_count": 105,
     "metadata": {},
     "output_type": "execute_result"
    }
   ],
   "source": [
    "oof = np.load(\"output/exp/006_score_bug_fix/v12_001/oof.npy\")\n",
    "oof.shape"
   ]
  },
  {
   "cell_type": "code",
   "execution_count": 106,
   "id": "d35590f8-6fce-4f1f-bb8c-7ba4393f1b17",
   "metadata": {},
   "outputs": [
    {
     "data": {
      "text/plain": [
       "array([-0.49877921, -0.68552034, -0.32798068, ...,  4.26175052,\n",
       "        3.84972775,  2.87522553])"
      ]
     },
     "execution_count": 106,
     "metadata": {},
     "output_type": "execute_result"
    }
   ],
   "source": [
    "oof"
   ]
  },
  {
   "cell_type": "code",
   "execution_count": 107,
   "id": "c8493c81-0634-41b7-b395-abe3b807eb92",
   "metadata": {},
   "outputs": [],
   "source": [
    "def make_eval_df(pred_df: pl.DataFrame):\n",
    "    pred_candidates_df = pred_df.group_by(\"session_id\").agg(pl.col(\"candidates\"))\n",
    "    train_label_df = load_label_data(Path(cfg.dir.data_dir))\n",
    "    candidaates_df = pred_candidates_df.join(\n",
    "        train_label_df, on=\"session_id\", how=\"left\"\n",
    "    )\n",
    "    return candidaates_df\n",
    "\n",
    "\n",
    "oof_pred_df = (\n",
    "    train_df.with_columns(pl.Series(name=\"pred\", values=oof))\n",
    "    .sort(by=[\"session_id\", \"pred\"], descending=True)\n",
    "    .filter(pl.col(\"original\") == 1)\n",
    "    .select(\n",
    "        [\"session_id\", \"candidates\"],\n",
    "    )\n",
    ")\n",
    "candidates_df = make_eval_df(oof_pred_df)"
   ]
  },
  {
   "cell_type": "code",
   "execution_count": 108,
   "id": "f98ff480-3a54-4f7a-a337-eb09ded37494",
   "metadata": {},
   "outputs": [
    {
     "data": {
      "text/html": [
       "<div><style>\n",
       ".dataframe > thead > tr > th,\n",
       ".dataframe > tbody > tr > td {\n",
       "  text-align: right;\n",
       "  white-space: pre-wrap;\n",
       "}\n",
       "</style>\n",
       "<small>shape: (288_698, 3)</small><table border=\"1\" class=\"dataframe\"><thead><tr><th>session_id</th><th>candidates</th><th>yad_no</th></tr><tr><td>str</td><td>list[i32]</td><td>i64</td></tr></thead><tbody><tr><td>&quot;000007603d533d…</td><td>[11882, 2808, … 11407]</td><td>4101</td></tr><tr><td>&quot;0000ca043ed437…</td><td>[8253, 4488, … 2843]</td><td>8253</td></tr><tr><td>&quot;0000d4835cf113…</td><td>[9039, 13642, … 13468]</td><td>4863</td></tr><tr><td>&quot;0000fcda1ae1b2…</td><td>[626, 2272, … 3338]</td><td>1652</td></tr><tr><td>&quot;000104bdffaaad…</td><td>[96, 902, … 1490]</td><td>96</td></tr><tr><td>&quot;00011afe25c343…</td><td>[12305, 9981, … 9308]</td><td>4823</td></tr><tr><td>&quot;000125c737df18…</td><td>[13240, 4574, … 5341]</td><td>10378</td></tr><tr><td>&quot;0001763050a10b…</td><td>[11958, 10868, … 3318]</td><td>10362</td></tr><tr><td>&quot;000178c4d4d567…</td><td>[13220, 2232, … 5542]</td><td>1227</td></tr><tr><td>&quot;0001e6a407a85d…</td><td>[9430, 3752, … 10095]</td><td>175</td></tr><tr><td>&quot;0002499cf2713a…</td><td>[5631, 10750, … 11499]</td><td>1209</td></tr><tr><td>&quot;00026fd325b5d6…</td><td>[756, 10375, … 12369]</td><td>756</td></tr><tr><td>&hellip;</td><td>&hellip;</td><td>&hellip;</td></tr><tr><td>&quot;fffd8c4fa7b5be…</td><td>[13423, 12344, … 6407]</td><td>5209</td></tr><tr><td>&quot;fffe2d9e5982f5…</td><td>[462, 5411, … 10827]</td><td>4885</td></tr><tr><td>&quot;fffe3dedeb89ae…</td><td>[11714, 5672, … 6731]</td><td>11714</td></tr><tr><td>&quot;fffe40478b2163…</td><td>[2270, 3184, … 12279]</td><td>1882</td></tr><tr><td>&quot;fffe78a078a176…</td><td>[8094, 5405, … 9020]</td><td>4906</td></tr><tr><td>&quot;fffe8a472ae6a9…</td><td>[11321, 4353, … 8506]</td><td>4353</td></tr><tr><td>&quot;fffe8c99c5b332…</td><td>[6170, 7407, … 6425]</td><td>6170</td></tr><tr><td>&quot;ffff2262d38abd…</td><td>[1092, 1882, … 6605]</td><td>2259</td></tr><tr><td>&quot;ffff2360540745…</td><td>[8703, 2900, … 13402]</td><td>963</td></tr><tr><td>&quot;ffff7fb4617164…</td><td>[10364, 3566, … 532]</td><td>13719</td></tr><tr><td>&quot;ffffcd5bc19d62…</td><td>[10619, 12500, … 9777]</td><td>10619</td></tr><tr><td>&quot;fffffa7baf3700…</td><td>[2439, 2981, … 10118]</td><td>2439</td></tr></tbody></table></div>"
      ],
      "text/plain": [
       "shape: (288_698, 3)\n",
       "┌──────────────────────────────────┬────────────────────────┬────────┐\n",
       "│ session_id                       ┆ candidates             ┆ yad_no │\n",
       "│ ---                              ┆ ---                    ┆ ---    │\n",
       "│ str                              ┆ list[i32]              ┆ i64    │\n",
       "╞══════════════════════════════════╪════════════════════════╪════════╡\n",
       "│ 000007603d533d30453cc45d0f3d119f ┆ [11882, 2808, … 11407] ┆ 4101   │\n",
       "│ 0000ca043ed437a1472c9d1d154eb49b ┆ [8253, 4488, … 2843]   ┆ 8253   │\n",
       "│ 0000d4835cf113316fe447e2f80ba1c8 ┆ [9039, 13642, … 13468] ┆ 4863   │\n",
       "│ 0000fcda1ae1b2f431e55a7075d1f500 ┆ [626, 2272, … 3338]    ┆ 1652   │\n",
       "│ …                                ┆ …                      ┆ …      │\n",
       "│ ffff2360540745117193ecadcdc06538 ┆ [8703, 2900, … 13402]  ┆ 963    │\n",
       "│ ffff7fb4617164b2604aaf51c40bf82d ┆ [10364, 3566, … 532]   ┆ 13719  │\n",
       "│ ffffcd5bc19d62cad5a3815c87818d83 ┆ [10619, 12500, … 9777] ┆ 10619  │\n",
       "│ fffffa7baf370083ebcdd98f26a7e31a ┆ [2439, 2981, … 10118]  ┆ 2439   │\n",
       "└──────────────────────────────────┴────────────────────────┴────────┘"
      ]
     },
     "execution_count": 108,
     "metadata": {},
     "output_type": "execute_result"
    }
   ],
   "source": [
    "candidates_df.sort(by=\"session_id\")"
   ]
  },
  {
   "cell_type": "code",
   "execution_count": 109,
   "id": "1e63c2bd-91e1-4592-a718-753bc66cf4ee",
   "metadata": {},
   "outputs": [
    {
     "name": "stdout",
     "output_type": "stream",
     "text": [
      "k: 10\n",
      "avg_num_candidates: 10.0\n",
      "recall: 0.589799721508289\n",
      "precision: 0.0589799721508289\n",
      "map@k: 0.39922412743717356\n",
      "\n"
     ]
    },
    {
     "data": {
      "text/plain": [
       "[{'k': 10,\n",
       "  'avg_num_candidates': 10.0,\n",
       "  'recall': 0.589799721508289,\n",
       "  'precision': 0.0589799721508289,\n",
       "  'map@k': 0.39922412743717356}]"
      ]
     },
     "execution_count": 109,
     "metadata": {},
     "output_type": "execute_result"
    }
   ],
   "source": [
    "metrics = calculate_metrics(\n",
    "    candidates_df, candidates_col=\"candidates\", label_col=\"yad_no\", k=[10]\n",
    ")\n",
    "metrics"
   ]
  },
  {
   "cell_type": "code",
   "execution_count": 110,
   "id": "a4ce3030-442c-4c32-af68-6c4c4db46b1c",
   "metadata": {},
   "outputs": [
    {
     "name": "stdout",
     "output_type": "stream",
     "text": [
      "1\n",
      "k: 10\n",
      "avg_num_candidates: 10.0\n",
      "recall: 0.36747650847421054\n",
      "precision: 0.03674765084742105\n",
      "map@k: 0.12855392754953673\n",
      "\n",
      "[{'k': 10, 'avg_num_candidates': 10.0, 'recall': 0.36747650847421054, 'precision': 0.03674765084742105, 'map@k': 0.12855392754953673}]\n",
      "2\n",
      "k: 10\n",
      "avg_num_candidates: 10.0\n",
      "recall: 0.9861461717778073\n",
      "precision: 0.09861461717778075\n",
      "map@k: 0.8755191902390337\n",
      "\n",
      "[{'k': 10, 'avg_num_candidates': 10.0, 'recall': 0.9861461717778073, 'precision': 0.09861461717778075, 'map@k': 0.8755191902390337}]\n",
      "3\n",
      "k: 10\n",
      "avg_num_candidates: 10.0\n",
      "recall: 0.9990228013029316\n",
      "precision: 0.09990228013029318\n",
      "map@k: 0.909852696344553\n",
      "\n",
      "[{'k': 10, 'avg_num_candidates': 10.0, 'recall': 0.9990228013029316, 'precision': 0.09990228013029318, 'map@k': 0.909852696344553}]\n",
      "4\n",
      "k: 10\n",
      "avg_num_candidates: 10.0\n",
      "recall: 0.999751552795031\n",
      "precision: 0.09997515527950311\n",
      "map@k: 0.9559236912156167\n",
      "\n",
      "[{'k': 10, 'avg_num_candidates': 10.0, 'recall': 0.999751552795031, 'precision': 0.09997515527950311, 'map@k': 0.9559236912156167}]\n",
      "5\n",
      "k: 10\n",
      "avg_num_candidates: 10.0\n",
      "recall: 1.0\n",
      "precision: 0.10000000000000002\n",
      "map@k: 0.9752901160464187\n",
      "\n",
      "[{'k': 10, 'avg_num_candidates': 10.0, 'recall': 1.0, 'precision': 0.10000000000000002, 'map@k': 0.9752901160464187}]\n",
      "6\n",
      "k: 10\n",
      "avg_num_candidates: 10.0\n",
      "recall: 1.0\n",
      "precision: 0.09999999999999999\n",
      "map@k: 0.9955156950672646\n",
      "\n",
      "[{'k': 10, 'avg_num_candidates': 10.0, 'recall': 1.0, 'precision': 0.09999999999999999, 'map@k': 0.9955156950672646}]\n",
      "7\n",
      "k: 10\n",
      "avg_num_candidates: 10.0\n",
      "recall: 1.0\n",
      "precision: 0.09999999999999999\n",
      "map@k: 1.0\n",
      "\n",
      "[{'k': 10, 'avg_num_candidates': 10.0, 'recall': 1.0, 'precision': 0.09999999999999999, 'map@k': 1.0}]\n",
      "8\n",
      "k: 10\n",
      "avg_num_candidates: 10.0\n",
      "recall: 1.0\n",
      "precision: 0.10000000000000002\n",
      "map@k: 1.0\n",
      "\n",
      "[{'k': 10, 'avg_num_candidates': 10.0, 'recall': 1.0, 'precision': 0.10000000000000002, 'map@k': 1.0}]\n",
      "9\n",
      "k: 10\n",
      "avg_num_candidates: 10.0\n",
      "recall: 1.0\n",
      "precision: 0.1\n",
      "map@k: 1.0\n",
      "\n",
      "[{'k': 10, 'avg_num_candidates': 10.0, 'recall': 1.0, 'precision': 0.1, 'map@k': 1.0}]\n"
     ]
    }
   ],
   "source": [
    "for seq_len in range(1, 10):\n",
    "    print(seq_len)\n",
    "    tmp = candidates_df.join(\n",
    "        train_log_label_df.group_by([\"session_id\"]).agg(pl.col(\"seq_len\").max()),\n",
    "        on=\"session_id\",\n",
    "    ).filter(pl.col(\"seq_len\") == seq_len)\n",
    "\n",
    "    metrics = calculate_metrics(\n",
    "        tmp, candidates_col=\"candidates\", label_col=\"yad_no\", k=[10]\n",
    "    )\n",
    "    print(metrics)"
   ]
  },
  {
   "cell_type": "code",
   "execution_count": 16,
   "id": "ed5f6a83-312f-47ac-95a5-a1cc0cc3df87",
   "metadata": {},
   "outputs": [],
   "source": [
    "one_log = train_log_label_df.filter(pl.col(\"seq_len\") == 1)"
   ]
  },
  {
   "cell_type": "code",
   "execution_count": 22,
   "id": "0af91650-62ca-4769-88f1-df0618cdf5b6",
   "metadata": {},
   "outputs": [
    {
     "data": {
      "text/html": [
       "<div><style>\n",
       ".dataframe > thead > tr > th,\n",
       ".dataframe > tbody > tr > td {\n",
       "  text-align: right;\n",
       "  white-space: pre-wrap;\n",
       "}\n",
       "</style>\n",
       "<small>shape: (9, 4)</small><table border=\"1\" class=\"dataframe\"><thead><tr><th>describe</th><th>yad_no</th><th>yad_no_label</th><th>counts</th></tr><tr><td>str</td><td>f64</td><td>f64</td><td>f64</td></tr></thead><tbody><tr><td>&quot;count&quot;</td><td>185386.0</td><td>185386.0</td><td>185386.0</td></tr><tr><td>&quot;null_count&quot;</td><td>0.0</td><td>0.0</td><td>0.0</td></tr><tr><td>&quot;mean&quot;</td><td>6902.682689</td><td>6894.784407</td><td>1.0</td></tr><tr><td>&quot;std&quot;</td><td>3999.732525</td><td>4008.776842</td><td>0.0</td></tr><tr><td>&quot;min&quot;</td><td>2.0</td><td>1.0</td><td>1.0</td></tr><tr><td>&quot;25%&quot;</td><td>3412.0</td><td>3412.0</td><td>1.0</td></tr><tr><td>&quot;50%&quot;</td><td>6895.0</td><td>6861.0</td><td>1.0</td></tr><tr><td>&quot;75%&quot;</td><td>10353.0</td><td>10350.0</td><td>1.0</td></tr><tr><td>&quot;max&quot;</td><td>13806.0</td><td>13806.0</td><td>1.0</td></tr></tbody></table></div>"
      ],
      "text/plain": [
       "shape: (9, 4)\n",
       "┌────────────┬─────────────┬──────────────┬──────────┐\n",
       "│ describe   ┆ yad_no      ┆ yad_no_label ┆ counts   │\n",
       "│ ---        ┆ ---         ┆ ---          ┆ ---      │\n",
       "│ str        ┆ f64         ┆ f64          ┆ f64      │\n",
       "╞════════════╪═════════════╪══════════════╪══════════╡\n",
       "│ count      ┆ 185386.0    ┆ 185386.0     ┆ 185386.0 │\n",
       "│ null_count ┆ 0.0         ┆ 0.0          ┆ 0.0      │\n",
       "│ mean       ┆ 6902.682689 ┆ 6894.784407  ┆ 1.0      │\n",
       "│ std        ┆ 3999.732525 ┆ 4008.776842  ┆ 0.0      │\n",
       "│ min        ┆ 2.0         ┆ 1.0          ┆ 1.0      │\n",
       "│ 25%        ┆ 3412.0      ┆ 3412.0       ┆ 1.0      │\n",
       "│ 50%        ┆ 6895.0      ┆ 6861.0       ┆ 1.0      │\n",
       "│ 75%        ┆ 10353.0     ┆ 10350.0      ┆ 1.0      │\n",
       "│ max        ┆ 13806.0     ┆ 13806.0      ┆ 1.0      │\n",
       "└────────────┴─────────────┴──────────────┴──────────┘"
      ]
     },
     "execution_count": 22,
     "metadata": {},
     "output_type": "execute_result"
    }
   ],
   "source": [
    "# 同じペアは出現しない\n",
    "one_log.group_by([\"yad_no\", \"yad_no_label\"]).agg(\n",
    "    pl.col(\"session_id\").count().alias(\"counts\")\n",
    ").describe()"
   ]
  },
  {
   "cell_type": "code",
   "execution_count": 24,
   "id": "c76c000e-d76f-4724-95e2-59bf21368a24",
   "metadata": {},
   "outputs": [
    {
     "data": {
      "text/html": [
       "<div><style>\n",
       ".dataframe > thead > tr > th,\n",
       ".dataframe > tbody > tr > td {\n",
       "  text-align: right;\n",
       "  white-space: pre-wrap;\n",
       "}\n",
       "</style>\n",
       "<small>shape: (13_202, 2)</small><table border=\"1\" class=\"dataframe\"><thead><tr><th>yad_no</th><th>yad_no_label</th></tr><tr><td>i64</td><td>u32</td></tr></thead><tbody><tr><td>7083</td><td>17</td></tr><tr><td>5115</td><td>17</td></tr><tr><td>11930</td><td>41</td></tr><tr><td>6562</td><td>17</td></tr><tr><td>5246</td><td>3</td></tr><tr><td>6556</td><td>43</td></tr><tr><td>12722</td><td>20</td></tr><tr><td>12454</td><td>6</td></tr><tr><td>1706</td><td>7</td></tr><tr><td>11412</td><td>6</td></tr><tr><td>9575</td><td>3</td></tr><tr><td>5773</td><td>3</td></tr><tr><td>&hellip;</td><td>&hellip;</td></tr><tr><td>11141</td><td>14</td></tr><tr><td>12975</td><td>3</td></tr><tr><td>9694</td><td>13</td></tr><tr><td>3930</td><td>8</td></tr><tr><td>5106</td><td>123</td></tr><tr><td>6678</td><td>7</td></tr><tr><td>4192</td><td>8</td></tr><tr><td>1176</td><td>43</td></tr><tr><td>10745</td><td>1</td></tr><tr><td>652</td><td>2</td></tr><tr><td>7857</td><td>24</td></tr><tr><td>3537</td><td>28</td></tr></tbody></table></div>"
      ],
      "text/plain": [
       "shape: (13_202, 2)\n",
       "┌────────┬──────────────┐\n",
       "│ yad_no ┆ yad_no_label │\n",
       "│ ---    ┆ ---          │\n",
       "│ i64    ┆ u32          │\n",
       "╞════════╪══════════════╡\n",
       "│ 7083   ┆ 17           │\n",
       "│ 5115   ┆ 17           │\n",
       "│ 11930  ┆ 41           │\n",
       "│ 6562   ┆ 17           │\n",
       "│ …      ┆ …            │\n",
       "│ 10745  ┆ 1            │\n",
       "│ 652    ┆ 2            │\n",
       "│ 7857   ┆ 24           │\n",
       "│ 3537   ┆ 28           │\n",
       "└────────┴──────────────┘"
      ]
     },
     "execution_count": 24,
     "metadata": {},
     "output_type": "execute_result"
    }
   ],
   "source": [
    "one_log.group_by(\"yad_no\").agg(pl.col(\"yad_no_label\")).with_columns(\n",
    "    pl.col(\"yad_no_label\").list.len()\n",
    ")"
   ]
  },
  {
   "cell_type": "code",
   "execution_count": null,
   "id": "2c64d426-fd4d-49f3-9c9d-5f2a20dab468",
   "metadata": {},
   "outputs": [],
   "source": []
  }
 ],
 "metadata": {
  "kernelspec": {
   "display_name": "Python 3 (ipykernel)",
   "language": "python",
   "name": "python3"
  },
  "language_info": {
   "codemirror_mode": {
    "name": "ipython",
    "version": 3
   },
   "file_extension": ".py",
   "mimetype": "text/x-python",
   "name": "python",
   "nbconvert_exporter": "python",
   "pygments_lexer": "ipython3",
   "version": "3.10.12"
  }
 },
 "nbformat": 4,
 "nbformat_minor": 5
}
