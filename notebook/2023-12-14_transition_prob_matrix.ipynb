{
 "cells": [
  {
   "cell_type": "code",
   "execution_count": 1,
   "id": "fe29c895-c059-45c7-987d-07ae13768db3",
   "metadata": {},
   "outputs": [
    {
     "name": "stdout",
     "output_type": "stream",
     "text": [
      "/kaggle/working\n"
     ]
    }
   ],
   "source": [
    "%cd .."
   ]
  },
  {
   "cell_type": "code",
   "execution_count": 8,
   "id": "3ca6f966-fb4d-4db8-b367-bd57648ca460",
   "metadata": {},
   "outputs": [
    {
     "name": "stdout",
     "output_type": "stream",
     "text": [
      "debug: false\n",
      "seed: 7\n",
      "dir:\n",
      "  data_dir: /kaggle/working/input/atmaCup16_Dataset\n",
      "  output_dir: /kaggle/working/output\n",
      "  exp_dir: /kaggle/working/output/exp\n",
      "  cand_unsupervised_dir: /kaggle/working/output/cand_unsupervised\n",
      "  cand_supervised_dir: /kaggle/working/output/cand_supervised\n",
      "  datasets_dir: /kaggle/working/output/datasets\n",
      "exp:\n",
      "  num_candidate: 100\n",
      "  k:\n",
      "  - 1\n",
      "  - 5\n",
      "  - 10\n",
      "  - 50\n",
      "  - 100\n",
      "  range_transitions:\n",
      "  - -1\n",
      "  - 1\n",
      "  transition_times: 1\n",
      "  self_loop_prob: 0.5\n",
      "\n"
     ]
    }
   ],
   "source": [
    "from hydra import compose, initialize\n",
    "from omegaconf import OmegaConf\n",
    "\n",
    "with initialize(version_base=None, config_path=\"../cand_unsupervised/prob_matrix\"):\n",
    "    cfg = compose(config_name=\"config.yaml\", overrides=[\"exp=base\"])\n",
    "    print(OmegaConf.to_yaml(cfg))"
   ]
  },
  {
   "cell_type": "code",
   "execution_count": 3,
   "id": "9e3803f5-d756-4f33-af17-d2436208ed41",
   "metadata": {},
   "outputs": [],
   "source": [
    "import logging\n",
    "import os\n",
    "import pickle\n",
    "import sys\n",
    "import time\n",
    "from pathlib import Path\n",
    "\n",
    "import hydra\n",
    "import lightgbm as lgb\n",
    "import matplotlib.pyplot as plt\n",
    "import numpy as np\n",
    "import pandas as pd\n",
    "import polars as pl\n",
    "import scipy.sparse as sparse\n",
    "from hydra.core.hydra_config import HydraConfig\n",
    "from omegaconf import DictConfig, OmegaConf\n",
    "from sklearn.preprocessing import normalize\n",
    "from tqdm.auto import tqdm\n",
    "\n",
    "import utils\n",
    "import wandb\n",
    "from utils.load import load_label_data, load_log_data, load_session_data, load_yad_data\n",
    "from utils.logger import get_logger\n",
    "from utils.metrics import calculate_metrics"
   ]
  },
  {
   "cell_type": "code",
   "execution_count": 4,
   "id": "ecc314d1-37dc-44a1-b54d-b597b9cbe825",
   "metadata": {},
   "outputs": [
    {
     "name": "stdout",
     "output_type": "stream",
     "text": [
      "[load data] done in 0.1 s\n"
     ]
    }
   ],
   "source": [
    "with utils.timer(\"load data\"):\n",
    "    train_log_df = load_log_data(Path(cfg.dir.data_dir), \"train\")\n",
    "    test_log_df = load_log_data(Path(cfg.dir.data_dir), \"test\")\n",
    "    all_log_df = pl.concat([train_log_df, test_log_df])"
   ]
  },
  {
   "cell_type": "code",
   "execution_count": 5,
   "id": "75b1e404-2ff5-4d6d-8609-1198f423b58f",
   "metadata": {},
   "outputs": [],
   "source": [
    "# 連番に変換\n",
    "\n",
    "all_log_cast_df = all_log_df.with_columns(\n",
    "    pl.col(\"yad_no\").cast(str).cast(pl.Categorical).to_physical().alias(\"yid\"),\n",
    ")\n",
    "\n",
    "unique_df = all_log_cast_df.unique([\"yad_no\", \"yid\"])\n",
    "unique_yids = unique_df[\"yid\"].to_numpy()\n",
    "unique_yad_nos = unique_df[\"yad_no\"].to_list()\n",
    "yid2yad_no = dict(zip(unique_yids, unique_yad_nos))"
   ]
  },
  {
   "cell_type": "code",
   "execution_count": 6,
   "id": "5d1114c3-d9ef-48af-955e-6889a9220bef",
   "metadata": {},
   "outputs": [
    {
     "data": {
      "text/html": [
       "<div><style>\n",
       ".dataframe > thead > tr > th,\n",
       ".dataframe > tbody > tr > td {\n",
       "  text-align: right;\n",
       "  white-space: pre-wrap;\n",
       "}\n",
       "</style>\n",
       "<small>shape: (5, 2)</small><table border=\"1\" class=\"dataframe\"><thead><tr><th>from_id</th><th>to_id</th></tr><tr><td>u32</td><td>u32</td></tr></thead><tbody><tr><td>5</td><td>4</td></tr><tr><td>13</td><td>12</td></tr><tr><td>17</td><td>16</td></tr><tr><td>20</td><td>19</td></tr><tr><td>26</td><td>25</td></tr></tbody></table></div>"
      ],
      "text/plain": [
       "shape: (5, 2)\n",
       "┌─────────┬───────┐\n",
       "│ from_id ┆ to_id │\n",
       "│ ---     ┆ ---   │\n",
       "│ u32     ┆ u32   │\n",
       "╞═════════╪═══════╡\n",
       "│ 5       ┆ 4     │\n",
       "│ 13      ┆ 12    │\n",
       "│ 17      ┆ 16    │\n",
       "│ 20      ┆ 19    │\n",
       "│ 26      ┆ 25    │\n",
       "└─────────┴───────┘"
      ]
     },
     "execution_count": 6,
     "metadata": {},
     "output_type": "execute_result"
    }
   ],
   "source": [
    "# 遷移を作成\n",
    "transition_dfs = []\n",
    "\n",
    "for rti in cfg.exp.range_transitions:\n",
    "    if rti == 0:\n",
    "        continue\n",
    "    df = (\n",
    "        all_log_cast_df.with_columns(\n",
    "            pl.col(\"yid\").alias(\"from_id\"),\n",
    "            pl.col(\"yid\").shift(-(rti)).over(\"session_id\").alias(\"to_id\"),\n",
    "        )\n",
    "        .filter(~pl.col(\"to_id\").is_null())\n",
    "        .filter(pl.col(\"from_id\") != pl.col(\"to_id\"))  # 同じものへは遷移しない\n",
    "        .select([\"from_id\", \"to_id\"])\n",
    "    )\n",
    "    transition_dfs.append(df)\n",
    "transition_df = pl.concat(transition_dfs)\n",
    "transition_df.head()"
   ]
  },
  {
   "cell_type": "code",
   "execution_count": 9,
   "id": "d9abaac4-6511-4a16-80d2-6e41b885442a",
   "metadata": {},
   "outputs": [],
   "source": [
    "from scipy.sparse import csr_matrix, eye\n",
    "\n",
    "# 疎行列の作成\n",
    "sparse_matrix = sparse.csr_matrix(\n",
    "    (\n",
    "        np.ones(len(transition_df)),\n",
    "        (\n",
    "            transition_df[\"from_id\"].to_numpy(),\n",
    "            transition_df[\"to_id\"].to_numpy(),\n",
    "        ),\n",
    "    )\n",
    ")\n",
    "\n",
    "\n",
    "# 右確率行列にする\n",
    "sparse_matrix_normalized = normalize(sparse_matrix, norm=\"l1\", axis=1)\n",
    "\n",
    "\n",
    "if cfg.exp.self_loop_prob is not None:\n",
    "    sparse_matrix_normalized = (\n",
    "        sparse_matrix_normalized * (1 - cfg.exp.self_loop_prob)\n",
    "        + eye(sparse_matrix_normalized.shape[0]) * cfg.exp.self_loop_prob\n",
    "    )\n",
    "    sparse_matrix_normalized = normalize(sparse_matrix_normalized, norm=\"l1\", axis=1)"
   ]
  },
  {
   "cell_type": "code",
   "execution_count": 10,
   "id": "e0ca29ce-c555-40ef-a45f-1b8c5e9cd73a",
   "metadata": {},
   "outputs": [],
   "source": [
    "# 各行から上位K件の要素のindexとvalueを取得する関数\n",
    "def top_k_indices_per_row(matrix, K):\n",
    "    top_k_indices = np.argsort(-matrix, axis=1)[:, :K]\n",
    "    top_k_values = np.array(\n",
    "        [matrix[i, top_k_indices[i]] for i in range(matrix.shape[0])]\n",
    "    )\n",
    "    return top_k_indices, top_k_values"
   ]
  },
  {
   "cell_type": "code",
   "execution_count": null,
   "id": "70f20320-7d79-4d0f-a80a-2fd7b6f9ae96",
   "metadata": {},
   "outputs": [],
   "source": []
  },
  {
   "cell_type": "code",
   "execution_count": 17,
   "id": "b6f60415-91ee-4f92-a1ce-5943f455f86a",
   "metadata": {},
   "outputs": [],
   "source": [
    "matrix = sparse_matrix_normalized * sparse_matrix_normalized"
   ]
  },
  {
   "cell_type": "code",
   "execution_count": 18,
   "id": "d16b96c3-ed29-4895-9c6a-8f9c69ebb297",
   "metadata": {},
   "outputs": [],
   "source": [
    "K = 100\n",
    "indices, values = top_k_indices_per_row(matrix.toarray(), K)"
   ]
  },
  {
   "cell_type": "code",
   "execution_count": 19,
   "id": "02b98a33-6311-4a5b-ae23-1cd67a2e16ec",
   "metadata": {},
   "outputs": [],
   "source": [
    "# from_yad_no,\n",
    "\n",
    "from_yad_no = [yid2yad_no[i] for i in range(len(indices))]\n",
    "to_yad_nos = [[yid2yad_no[c] for c in cs] for cs in indices]\n",
    "\n",
    "yad2yad_df = pl.DataFrame(\n",
    "    {\n",
    "        \"from_yad_no\": from_yad_no,  # unique_sids と同じ順番\n",
    "        \"to_yad_nos\": to_yad_nos,\n",
    "        \"transition_prob\": values,\n",
    "    }\n",
    ")\n",
    "yad2yad_df = (\n",
    "    yad2yad_df.explode([\"to_yad_nos\", \"transition_prob\"])\n",
    "    .filter(pl.col(\"transition_prob\") > 0)\n",
    "    .rename({\"to_yad_nos\": \"to_yad_no\"})\n",
    ")"
   ]
  },
  {
   "cell_type": "code",
   "execution_count": 20,
   "id": "599d38de-9186-4d21-b373-9b6c37044c03",
   "metadata": {},
   "outputs": [
    {
     "data": {
      "text/html": [
       "<div><style>\n",
       ".dataframe > thead > tr > th,\n",
       ".dataframe > tbody > tr > td {\n",
       "  text-align: right;\n",
       "  white-space: pre-wrap;\n",
       "}\n",
       "</style>\n",
       "<small>shape: (5, 3)</small><table border=\"1\" class=\"dataframe\"><thead><tr><th>from_yad_no</th><th>to_yad_no</th><th>transition_prob</th></tr><tr><td>i64</td><td>i64</td><td>f64</td></tr></thead><tbody><tr><td>2395</td><td>2395</td><td>0.407052</td></tr><tr><td>2395</td><td>11882</td><td>0.303571</td></tr><tr><td>2395</td><td>2808</td><td>0.199346</td></tr><tr><td>2395</td><td>4101</td><td>0.02877</td></tr><tr><td>2395</td><td>5289</td><td>0.024802</td></tr></tbody></table></div>"
      ],
      "text/plain": [
       "shape: (5, 3)\n",
       "┌─────────────┬───────────┬─────────────────┐\n",
       "│ from_yad_no ┆ to_yad_no ┆ transition_prob │\n",
       "│ ---         ┆ ---       ┆ ---             │\n",
       "│ i64         ┆ i64       ┆ f64             │\n",
       "╞═════════════╪═══════════╪═════════════════╡\n",
       "│ 2395        ┆ 2395      ┆ 0.407052        │\n",
       "│ 2395        ┆ 11882     ┆ 0.303571        │\n",
       "│ 2395        ┆ 2808      ┆ 0.199346        │\n",
       "│ 2395        ┆ 4101      ┆ 0.02877         │\n",
       "│ 2395        ┆ 5289      ┆ 0.024802        │\n",
       "└─────────────┴───────────┴─────────────────┘"
      ]
     },
     "execution_count": 20,
     "metadata": {},
     "output_type": "execute_result"
    }
   ],
   "source": [
    "# yad2yad_feature.parquet として保存する\n",
    "yad2yad_df.head()"
   ]
  },
  {
   "cell_type": "code",
   "execution_count": 21,
   "id": "0d561f50-7314-4998-995d-b1e1f66101b0",
   "metadata": {},
   "outputs": [
    {
     "name": "stdout",
     "output_type": "stream",
     "text": [
      "[load session data] done in 0.0 s\n"
     ]
    }
   ],
   "source": [
    "with utils.timer(\"load session data\"):\n",
    "    train_session_df = load_session_data(Path(cfg.dir.data_dir), \"train\")\n",
    "    test_session_df = load_session_data(Path(cfg.dir.data_dir), \"test\")\n",
    "\n",
    "\n",
    "def make_candidates(log_df, session_df, transition_df):\n",
    "    log_df = (\n",
    "        log_df.sort(by=\"session_id\").with_columns(pl.col(\"yad_no\").alias(\"from_yad_no\"))\n",
    "    ).select([\"session_id\", \"from_yad_no\"])\n",
    "    candidate_df = (\n",
    "        log_df.join(transition_df, on=\"from_yad_no\")\n",
    "        .group_by([\"session_id\", \"to_yad_no\"])\n",
    "        .agg(\n",
    "            pl.sum(\"transition_prob\").alias(\"transition_prob\"),\n",
    "        )\n",
    "        .sort(by=[\"session_id\", \"transition_prob\"], descending=True)\n",
    "        .group_by([\"session_id\"])\n",
    "        .agg(\n",
    "            pl.col(\"to_yad_no\").alias(\"candidates\"),\n",
    "        )\n",
    "    )\n",
    "    candidate_df = session_df.join(\n",
    "        candidate_df, on=\"session_id\", how=\"left\"\n",
    "    ).with_columns(\n",
    "        # candidates が null の場合は空のリストを入れておく\n",
    "        pl.when(pl.col(\"candidates\").is_null())\n",
    "        .then(pl.Series(\"empty\", [[]]))\n",
    "        .otherwise(pl.col(\"candidates\"))\n",
    "        .alias(\"candidates\")\n",
    "    )\n",
    "    return candidate_df\n",
    "\n",
    "\n",
    "train_candidate_df = make_candidates(train_log_df, train_session_df, yad2yad_df)\n",
    "test_candidate_df = make_candidates(test_log_df, test_session_df, yad2yad_df)"
   ]
  },
  {
   "cell_type": "code",
   "execution_count": 22,
   "id": "06b9bd12-b43a-4a0d-a1e5-0712eb9593e2",
   "metadata": {},
   "outputs": [
    {
     "name": "stdout",
     "output_type": "stream",
     "text": [
      "k: 1\n",
      "avg_num_candidates: 1.0\n",
      "recall: 0.14913854616242578\n",
      "precision: 0.14913854616242578\n",
      "map@k: 0.14913854616242578\n",
      "\n",
      "k: 5\n",
      "avg_num_candidates: 4.939369167780864\n",
      "recall: 0.46584319946795616\n",
      "precision: 0.09316863989359124\n",
      "map@k: 0.2743412377871223\n",
      "\n",
      "k: 10\n",
      "avg_num_candidates: 9.797573935392695\n",
      "recall: 0.5855115033703039\n",
      "precision: 0.0585511503370304\n",
      "map@k: 0.2901870653652793\n",
      "\n",
      "k: 50\n",
      "avg_num_candidates: 42.81390241705866\n",
      "recall: 0.8700025632321665\n",
      "precision: 0.01740005126464332\n",
      "map@k: 0.3045469892824873\n",
      "\n",
      "k: 100\n",
      "avg_num_candidates: 68.20561971333366\n",
      "recall: 0.9243915787431849\n",
      "precision: 0.009243915787431849\n",
      "map@k: 0.3053654885993106\n",
      "\n",
      "{'k': 1, 'avg_num_candidates': 1.0, 'recall': 0.14913854616242578, 'precision': 0.14913854616242578, 'map@k': 0.14913854616242578}\n",
      "{'k': 5, 'avg_num_candidates': 4.939369167780864, 'recall': 0.46584319946795616, 'precision': 0.09316863989359124, 'map@k': 0.2743412377871223}\n",
      "{'k': 10, 'avg_num_candidates': 9.797573935392695, 'recall': 0.5855115033703039, 'precision': 0.0585511503370304, 'map@k': 0.2901870653652793}\n",
      "{'k': 50, 'avg_num_candidates': 42.81390241705866, 'recall': 0.8700025632321665, 'precision': 0.01740005126464332, 'map@k': 0.3045469892824873}\n",
      "{'k': 100, 'avg_num_candidates': 68.20561971333366, 'recall': 0.9243915787431849, 'precision': 0.009243915787431849, 'map@k': 0.3053654885993106}\n",
      "[calculate metrics] done in 35.3 s\n"
     ]
    }
   ],
   "source": [
    "\"\"\"\n",
    "スコア計算\n",
    "\"\"\"\n",
    "with utils.timer(\"calculate metrics\"):\n",
    "    train_label_df = load_label_data(Path(cfg.dir.data_dir), \"train\")\n",
    "    train_candidate_df = train_candidate_df.with_columns(\n",
    "        train_label_df.select(\"yad_no\")\n",
    "    )\n",
    "    if cfg.debug:\n",
    "        train_candidate_df = train_candidate_df.head(10000)\n",
    "    metrics_list = calculate_metrics(\n",
    "        train_candidate_df,\n",
    "        candidates_col=\"candidates\",\n",
    "        label_col=\"yad_no\",\n",
    "        k=cfg.exp.k,\n",
    "    )\n",
    "    for metrics in metrics_list:\n",
    "        print(metrics)"
   ]
  },
  {
   "cell_type": "code",
   "execution_count": 16,
   "id": "b197718b-8726-45d6-9f2b-8f5eba8ff086",
   "metadata": {},
   "outputs": [
    {
     "name": "stdout",
     "output_type": "stream",
     "text": [
      "k: 1\n",
      "avg_num_candidates: 1.0\n",
      "recall: 0.14507547679582125\n",
      "precision: 0.14507547679582125\n",
      "map@k: 0.14507547679582125\n",
      "\n",
      "k: 5\n",
      "avg_num_candidates: 4.836881447048473\n",
      "recall: 0.45757504381741476\n",
      "precision: 0.09151500876348294\n",
      "map@k: 0.2738156597320845\n",
      "\n",
      "k: 10\n",
      "avg_num_candidates: 9.078247857622845\n",
      "recall: 0.5537793819146651\n",
      "precision: 0.05537793819146652\n",
      "map@k: 0.2866876871497617\n",
      "\n",
      "k: 50\n",
      "avg_num_candidates: 22.437242377848133\n",
      "recall: 0.6730874477828042\n",
      "precision: 0.013461748955656085\n",
      "map@k: 0.2937965795758874\n",
      "\n",
      "k: 100\n",
      "avg_num_candidates: 24.10269555036751\n",
      "recall: 0.6760905860102945\n",
      "precision: 0.006760905860102946\n",
      "map@k: 0.2938453238223996\n",
      "\n",
      "{'k': 1, 'avg_num_candidates': 1.0, 'recall': 0.14507547679582125, 'precision': 0.14507547679582125, 'map@k': 0.14507547679582125}\n",
      "{'k': 5, 'avg_num_candidates': 4.836881447048473, 'recall': 0.45757504381741476, 'precision': 0.09151500876348294, 'map@k': 0.2738156597320845}\n",
      "{'k': 10, 'avg_num_candidates': 9.078247857622845, 'recall': 0.5537793819146651, 'precision': 0.05537793819146652, 'map@k': 0.2866876871497617}\n",
      "{'k': 50, 'avg_num_candidates': 22.437242377848133, 'recall': 0.6730874477828042, 'precision': 0.013461748955656085, 'map@k': 0.2937965795758874}\n",
      "{'k': 100, 'avg_num_candidates': 24.10269555036751, 'recall': 0.6760905860102945, 'precision': 0.006760905860102946, 'map@k': 0.2938453238223996}\n",
      "[calculate metrics] done in 19.5 s\n"
     ]
    }
   ],
   "source": [
    "\"\"\"\n",
    "スコア計算\n",
    "\"\"\"\n",
    "with utils.timer(\"calculate metrics\"):\n",
    "    train_label_df = load_label_data(Path(cfg.dir.data_dir), \"train\")\n",
    "    train_candidate_df = train_candidate_df.with_columns(\n",
    "        train_label_df.select(\"yad_no\")\n",
    "    )\n",
    "    if cfg.debug:\n",
    "        train_candidate_df = train_candidate_df.head(10000)\n",
    "    metrics_list = calculate_metrics(\n",
    "        train_candidate_df,\n",
    "        candidates_col=\"candidates\",\n",
    "        label_col=\"yad_no\",\n",
    "        k=cfg.exp.k,\n",
    "    )\n",
    "    for metrics in metrics_list:\n",
    "        print(metrics)"
   ]
  },
  {
   "cell_type": "code",
   "execution_count": 23,
   "id": "9503f834-b267-4010-b5e8-9dd7c41c88bb",
   "metadata": {},
   "outputs": [
    {
     "data": {
      "text/plain": [
       "'\\nseq_lenごとに求める\\n'"
      ]
     },
     "execution_count": 23,
     "metadata": {},
     "output_type": "execute_result"
    }
   ],
   "source": [
    "\"\"\"\n",
    "seq_lenごとに求める\n",
    "\"\"\""
   ]
  },
  {
   "cell_type": "code",
   "execution_count": 28,
   "id": "84641069-4c99-4281-8c30-0e2015fa5d0f",
   "metadata": {},
   "outputs": [],
   "source": [
    "seq_len_df = train_log_df.group_by(\"session_id\").agg(\n",
    "    (pl.col(\"seq_no\").max() + 1).alias(\"seq_len\")\n",
    ")\n",
    "train_candidate_df = train_candidate_df.join(seq_len_df, on=\"session_id\")"
   ]
  },
  {
   "cell_type": "code",
   "execution_count": 30,
   "id": "ed06f9f3-4457-4877-9ec1-0e78ac78a91f",
   "metadata": {},
   "outputs": [
    {
     "name": "stdout",
     "output_type": "stream",
     "text": [
      "1\n",
      "k: 10\n",
      "avg_num_candidates: 9.665314532920501\n",
      "recall: 0.3343995770985943\n",
      "precision: 0.03343995770985943\n",
      "map@k: 0.09624404010576644\n",
      "\n",
      "{'k': 10, 'avg_num_candidates': 9.665314532920501, 'recall': 0.3343995770985943, 'precision': 0.03343995770985943, 'map@k': 0.09624404010576644}\n",
      "2\n",
      "k: 10\n",
      "avg_num_candidates: 9.944753783532425\n",
      "recall: 0.9074801009747201\n",
      "precision: 0.09074801009747202\n",
      "map@k: 0.4588309551512962\n",
      "\n",
      "{'k': 10, 'avg_num_candidates': 9.944753783532425, 'recall': 0.9074801009747201, 'precision': 0.09074801009747202, 'map@k': 0.4588309551512962}\n",
      "3\n",
      "k: 10\n",
      "avg_num_candidates: 9.958827361563518\n",
      "recall: 0.9663843648208469\n",
      "precision: 0.0966384364820847\n",
      "map@k: 0.49656307843441394\n",
      "\n",
      "{'k': 10, 'avg_num_candidates': 9.958827361563518, 'recall': 0.9663843648208469, 'precision': 0.0966384364820847, 'map@k': 0.49656307843441394}\n",
      "4\n",
      "k: 10\n",
      "avg_num_candidates: 9.965962732919255\n",
      "recall: 0.9932919254658386\n",
      "precision: 0.09932919254658387\n",
      "map@k: 0.6388825791186039\n",
      "\n",
      "{'k': 10, 'avg_num_candidates': 9.965962732919255, 'recall': 0.9932919254658386, 'precision': 0.09932919254658387, 'map@k': 0.6388825791186039}\n",
      "5\n",
      "k: 10\n",
      "avg_num_candidates: 9.990396158463385\n",
      "recall: 0.9951980792316927\n",
      "precision: 0.09951980792316928\n",
      "map@k: 0.5931720307170487\n",
      "\n",
      "{'k': 10, 'avg_num_candidates': 9.990396158463385, 'recall': 0.9951980792316927, 'precision': 0.09951980792316928, 'map@k': 0.5931720307170487}\n",
      "6\n",
      "k: 10\n",
      "avg_num_candidates: 10.0\n",
      "recall: 0.9955156950672646\n",
      "precision: 0.09955156950672646\n",
      "map@k: 0.735401096163428\n",
      "\n",
      "{'k': 10, 'avg_num_candidates': 10.0, 'recall': 0.9955156950672646, 'precision': 0.09955156950672646, 'map@k': 0.735401096163428}\n",
      "7\n",
      "k: 10\n",
      "avg_num_candidates: 10.0\n",
      "recall: 1.0\n",
      "precision: 0.09999999999999999\n",
      "map@k: 0.5832478632478633\n",
      "\n",
      "{'k': 10, 'avg_num_candidates': 10.0, 'recall': 1.0, 'precision': 0.09999999999999999, 'map@k': 0.5832478632478633}\n",
      "8\n",
      "k: 10\n",
      "avg_num_candidates: 10.0\n",
      "recall: 1.0\n",
      "precision: 0.10000000000000002\n",
      "map@k: 0.6777777777777777\n",
      "\n",
      "{'k': 10, 'avg_num_candidates': 10.0, 'recall': 1.0, 'precision': 0.10000000000000002, 'map@k': 0.6777777777777777}\n",
      "9\n",
      "k: 10\n",
      "avg_num_candidates: 10.0\n",
      "recall: 1.0\n",
      "precision: 0.1\n",
      "map@k: 0.625\n",
      "\n",
      "{'k': 10, 'avg_num_candidates': 10.0, 'recall': 1.0, 'precision': 0.1, 'map@k': 0.625}\n"
     ]
    }
   ],
   "source": [
    "for i in range(1, 10):\n",
    "    print(i)\n",
    "    metrics_list = calculate_metrics(\n",
    "        train_candidate_df.filter(pl.col(\"seq_len\") == i),\n",
    "        candidates_col=\"candidates\",\n",
    "        label_col=\"yad_no\",\n",
    "        k=10,\n",
    "    )\n",
    "    for metrics in metrics_list:\n",
    "        print(metrics)"
   ]
  },
  {
   "cell_type": "code",
   "execution_count": null,
   "id": "270934cf-e87e-4c3f-ad29-e2df28090f68",
   "metadata": {},
   "outputs": [],
   "source": []
  }
 ],
 "metadata": {
  "kernelspec": {
   "display_name": "Python 3 (ipykernel)",
   "language": "python",
   "name": "python3"
  },
  "language_info": {
   "codemirror_mode": {
    "name": "ipython",
    "version": 3
   },
   "file_extension": ".py",
   "mimetype": "text/x-python",
   "name": "python",
   "nbconvert_exporter": "python",
   "pygments_lexer": "ipython3",
   "version": "3.10.12"
  }
 },
 "nbformat": 4,
 "nbformat_minor": 5
}
