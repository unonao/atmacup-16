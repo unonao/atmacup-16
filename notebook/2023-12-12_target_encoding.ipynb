{
 "cells": [
  {
   "cell_type": "code",
   "execution_count": 2,
   "id": "1b454753-c666-4c3c-b3f5-76c4f8dec766",
   "metadata": {},
   "outputs": [
    {
     "name": "stdout",
     "output_type": "stream",
     "text": [
      "/kaggle/working\n"
     ]
    }
   ],
   "source": [
    "%cd .."
   ]
  },
  {
   "cell_type": "code",
   "execution_count": 56,
   "id": "db07af42-ab59-40b9-85b3-9d0401318216",
   "metadata": {},
   "outputs": [
    {
     "name": "stdout",
     "output_type": "stream",
     "text": [
      "debug: false\n",
      "seed: 7\n",
      "dir:\n",
      "  data_dir: /kaggle/working/input/atmaCup16_Dataset\n",
      "  output_dir: /kaggle/working/output\n",
      "  exp_dir: /kaggle/working/output/exp\n",
      "  cand_unsupervised_dir: /kaggle/working/output/cand_unsupervised\n",
      "  cand_supervised_dir: /kaggle/working/output/cand_supervised\n",
      "  datasets_dir: /kaggle/working/output/datasets\n",
      "exp:\n",
      "  fold_path: /kaggle/working/output/datasets/make_cv/base/train_fold.parquet\n",
      "  only_last: true\n",
      "  num_candidate: 100\n",
      "  k:\n",
      "  - 1\n",
      "  - 5\n",
      "  - 10\n",
      "  - 50\n",
      "  - 100\n",
      "\n"
     ]
    }
   ],
   "source": [
    "from hydra import compose, initialize\n",
    "from omegaconf import OmegaConf\n",
    "\n",
    "with initialize(version_base=None, config_path=\"../cand_supervised/te_transition_prob\"):\n",
    "    cfg = compose(config_name=\"config.yaml\", overrides=[\"exp=base\"])\n",
    "    print(OmegaConf.to_yaml(cfg))"
   ]
  },
  {
   "cell_type": "code",
   "execution_count": 57,
   "id": "b8ce988e-cac8-4112-9ac4-a372ecfcef9c",
   "metadata": {},
   "outputs": [],
   "source": [
    "import os\n",
    "import sys\n",
    "from pathlib import Path\n",
    "\n",
    "import hydra\n",
    "import numpy as np\n",
    "import polars as pl\n",
    "import torch\n",
    "from hydra.core.hydra_config import HydraConfig\n",
    "from omegaconf import DictConfig, OmegaConf\n",
    "from sklearn.neighbors import NearestNeighbors\n",
    "from sklearn.preprocessing import LabelEncoder\n",
    "from tqdm.auto import tqdm\n",
    "\n",
    "import utils\n",
    "import wandb\n",
    "from utils.load import (\n",
    "    load_image_embeddings,\n",
    "    load_label_data,\n",
    "    load_log_data,\n",
    "    load_session_data,\n",
    "    load_yad_data,\n",
    ")\n",
    "from utils.metrics import calculate_metrics"
   ]
  },
  {
   "cell_type": "markdown",
   "id": "e9fca8ba-781a-401b-ab9f-4feabf27a615",
   "metadata": {},
   "source": [
    "2種類\n",
    "- lastからの遷移\n",
    "- 全体からlastへの遷移"
   ]
  },
  {
   "cell_type": "code",
   "execution_count": 80,
   "id": "622e7928-ab3b-413e-903e-e7b1b09d21b0",
   "metadata": {},
   "outputs": [
    {
     "data": {
      "text/html": [
       "<div><style>\n",
       ".dataframe > thead > tr > th,\n",
       ".dataframe > tbody > tr > td {\n",
       "  text-align: right;\n",
       "  white-space: pre-wrap;\n",
       "}\n",
       "</style>\n",
       "<small>shape: (5, 4)</small><table border=\"1\" class=\"dataframe\"><thead><tr><th>session_id</th><th>seq_no</th><th>yad_no</th><th>fold</th></tr><tr><td>str</td><td>i64</td><td>i64</td><td>i64</td></tr></thead><tbody><tr><td>&quot;000007603d533d…</td><td>0</td><td>2395</td><td>2</td></tr><tr><td>&quot;0000ca043ed437…</td><td>0</td><td>13535</td><td>2</td></tr><tr><td>&quot;0000d4835cf113…</td><td>0</td><td>123</td><td>0</td></tr><tr><td>&quot;0000fcda1ae1b2…</td><td>0</td><td>8475</td><td>4</td></tr><tr><td>&quot;000104bdffaaad…</td><td>0</td><td>96</td><td>3</td></tr></tbody></table></div>"
      ],
      "text/plain": [
       "shape: (5, 4)\n",
       "┌──────────────────────────────────┬────────┬────────┬──────┐\n",
       "│ session_id                       ┆ seq_no ┆ yad_no ┆ fold │\n",
       "│ ---                              ┆ ---    ┆ ---    ┆ ---  │\n",
       "│ str                              ┆ i64    ┆ i64    ┆ i64  │\n",
       "╞══════════════════════════════════╪════════╪════════╪══════╡\n",
       "│ 000007603d533d30453cc45d0f3d119f ┆ 0      ┆ 2395   ┆ 2    │\n",
       "│ 0000ca043ed437a1472c9d1d154eb49b ┆ 0      ┆ 13535  ┆ 2    │\n",
       "│ 0000d4835cf113316fe447e2f80ba1c8 ┆ 0      ┆ 123    ┆ 0    │\n",
       "│ 0000fcda1ae1b2f431e55a7075d1f500 ┆ 0      ┆ 8475   ┆ 4    │\n",
       "│ 000104bdffaaad1a1e0a9ebacf585f33 ┆ 0      ┆ 96     ┆ 3    │\n",
       "└──────────────────────────────────┴────────┴────────┴──────┘"
      ]
     },
     "execution_count": 80,
     "metadata": {},
     "output_type": "execute_result"
    }
   ],
   "source": [
    "train_log_df = load_log_data(Path(cfg.dir.data_dir), \"train\")\n",
    "test_log_df = load_log_data(Path(cfg.dir.data_dir), \"test\")\n",
    "fold_df = pl.read_parquet(cfg.exp.fold_path)\n",
    "train_log_df = train_log_df.join(fold_df, on=\"session_id\")\n",
    "train_log_df.head()"
   ]
  },
  {
   "cell_type": "code",
   "execution_count": 59,
   "id": "94f96475-12dc-4523-b158-16ef50f3cac1",
   "metadata": {},
   "outputs": [],
   "source": [
    "def make_transition_prob(log_df, label_df, only_last=True):\n",
    "    if only_last:\n",
    "        log_df = (\n",
    "            log_df.group_by(\"session_id\")\n",
    "            .agg(pl.all().sort_by(\"seq_no\").last())\n",
    "            .sort(by=\"session_id\")\n",
    "        )\n",
    "    # labelを付与\n",
    "    log_df = log_df.join(\n",
    "        label_df.with_columns(pl.col(\"yad_no\").alias(\"label\")),\n",
    "        on=[\"session_id\"],\n",
    "        how=\"left\",\n",
    "    ).with_columns(\n",
    "        pl.col(\"yad_no\").alias(\"from_yad_no\"),\n",
    "        pl.col(\"label\").alias(\"to_yad_no\"),\n",
    "    )\n",
    "    # 集約して確率計算\n",
    "    transition_df = (\n",
    "        log_df.group_by([\"from_yad_no\", \"to_yad_no\"])\n",
    "        .agg(pl.col(\"from_yad_no\").count().alias(\"from_to_count\"))\n",
    "        .with_columns(\n",
    "            pl.col(\"from_to_count\").sum().over([\"from_yad_no\"]).alias(\"from_count\"),\n",
    "        )\n",
    "        .with_columns(\n",
    "            (pl.col(\"from_to_count\") / pl.col(\"from_count\")).alias(\"transition_prob\")\n",
    "        )\n",
    "        .sort(by=[\"from_yad_no\", \"to_yad_no\"])\n",
    "        .select([\"from_yad_no\", \"to_yad_no\", \"transition_prob\"])\n",
    "    )\n",
    "    return transition_df"
   ]
  },
  {
   "cell_type": "code",
   "execution_count": 60,
   "id": "f943b012-8875-4cbd-91d6-b55d7b3b0437",
   "metadata": {},
   "outputs": [],
   "source": [
    "train_label_df = load_label_data(Path(cfg.dir.data_dir), \"train\")"
   ]
  },
  {
   "cell_type": "code",
   "execution_count": 73,
   "id": "e375d8e6-ca8f-49c0-8840-ce3caf0050e8",
   "metadata": {},
   "outputs": [],
   "source": [
    "train_transtion_dfs = []\n",
    "# クロスバリデーションのfoldごとにtarget encodingをする\n",
    "for fold in range(train_log_df[\"fold\"].n_unique()):\n",
    "    train_fold_df = train_log_df.filter(pl.col(\"fold\") != fold)\n",
    "    valid_fold_df = train_log_df.filter(pl.col(\"fold\") == fold)\n",
    "\n",
    "    # train_fold_df で、valid_fold_df 用の 遷移確率特徴と候補を生成する\n",
    "    transition_df = make_transition_prob(\n",
    "        train_fold_df, train_label_df, only_last=cfg.exp.only_last\n",
    "    )\n",
    "    transition_df = transition_df.with_columns(\n",
    "        pl.lit(fold).cast(pl.Int64).alias(\"fold\")\n",
    "    )  # 特定foldの特徴であることを明示する\n",
    "    train_transtion_dfs.append(transition_df)\n",
    "train_trainsition_df = pl.concat(train_transtion_dfs)"
   ]
  },
  {
   "cell_type": "code",
   "execution_count": 74,
   "id": "84bebfab-7bf1-46eb-9eef-2a7dcbf50d4e",
   "metadata": {},
   "outputs": [
    {
     "data": {
      "text/html": [
       "<div><style>\n",
       ".dataframe > thead > tr > th,\n",
       ".dataframe > tbody > tr > td {\n",
       "  text-align: right;\n",
       "  white-space: pre-wrap;\n",
       "}\n",
       "</style>\n",
       "<small>shape: (5, 3)</small><table border=\"1\" class=\"dataframe\"><thead><tr><th>from_yad_no</th><th>to_yad_no</th><th>transition_prob</th></tr><tr><td>i64</td><td>i64</td><td>f64</td></tr></thead><tbody><tr><td>2</td><td>36</td><td>0.05</td></tr><tr><td>2</td><td>217</td><td>0.05</td></tr><tr><td>2</td><td>299</td><td>0.05</td></tr><tr><td>2</td><td>1099</td><td>0.05</td></tr><tr><td>2</td><td>2200</td><td>0.05</td></tr></tbody></table></div>"
      ],
      "text/plain": [
       "shape: (5, 3)\n",
       "┌─────────────┬───────────┬─────────────────┐\n",
       "│ from_yad_no ┆ to_yad_no ┆ transition_prob │\n",
       "│ ---         ┆ ---       ┆ ---             │\n",
       "│ i64         ┆ i64       ┆ f64             │\n",
       "╞═════════════╪═══════════╪═════════════════╡\n",
       "│ 2           ┆ 36        ┆ 0.05            │\n",
       "│ 2           ┆ 217       ┆ 0.05            │\n",
       "│ 2           ┆ 299       ┆ 0.05            │\n",
       "│ 2           ┆ 1099      ┆ 0.05            │\n",
       "│ 2           ┆ 2200      ┆ 0.05            │\n",
       "└─────────────┴───────────┴─────────────────┘"
      ]
     },
     "execution_count": 74,
     "metadata": {},
     "output_type": "execute_result"
    }
   ],
   "source": [
    "# test 用にtrain全体でターゲットエンコーディングする\n",
    "test_transition_df = make_transition_prob(\n",
    "    train_log_df, train_label_df, only_last=cfg.exp.only_last\n",
    ")\n",
    "\n",
    "test_transition_df.head()"
   ]
  },
  {
   "cell_type": "code",
   "execution_count": 77,
   "id": "3a028c02-7bf7-424a-a07e-01c39dd3f133",
   "metadata": {},
   "outputs": [],
   "source": [
    "def make_candidate(session_df, log_df, transition_df, mode: str, only_last=True):\n",
    "    if only_last:\n",
    "        log_df = (\n",
    "            log_df.group_by(\"session_id\")\n",
    "            .agg(pl.all().sort_by(\"seq_no\").last())\n",
    "            .sort(by=\"session_id\")\n",
    "        )\n",
    "    # probを付与\n",
    "    if mode == \"train\":  # trainはfoldごとに異なる\n",
    "        log_df = log_df.join(\n",
    "            transition_df,\n",
    "            left_on=[\"yad_no\", \"fold\"],\n",
    "            right_on=[\"from_yad_no\", \"fold\"],\n",
    "            how=\"inner\",\n",
    "        )\n",
    "    elif mode == \"test\":\n",
    "        log_df = log_df.join(\n",
    "            transition_df,\n",
    "            left_on=[\"yad_no\"],\n",
    "            right_on=[\"from_yad_no\"],\n",
    "            how=\"inner\",\n",
    "        )\n",
    "\n",
    "    # 遷移確率を結合し、確率の降順に候補として生成する\n",
    "    candidate_df = (\n",
    "        log_df.group_by([\"session_id\", \"to_yad_no\"])  # all用に to_yad_noが複数あるときに対応するため集約\n",
    "        .agg(pl.sum(\"transition_prob\"))\n",
    "        .sort(by=[\"session_id\", \"transition_prob\"], descending=True)\n",
    "        .group_by(\"session_id\")\n",
    "        .agg(pl.col(\"to_yad_no\").alias(\"candidates\"))\n",
    "    )\n",
    "    candidate_df = session_df.join(\n",
    "        candidate_df, on=\"session_id\", how=\"left\"\n",
    "    ).with_columns(\n",
    "        # candidates が null の場合は空のリストを入れておく\n",
    "        pl.when(pl.col(\"candidates\").is_null())\n",
    "        .then(pl.Series(\"empty\", [[]]))\n",
    "        .otherwise(pl.col(\"candidates\"))\n",
    "        .alias(\"candidates\")\n",
    "    )\n",
    "    return candidate_df"
   ]
  },
  {
   "cell_type": "code",
   "execution_count": 82,
   "id": "719daa2f-1083-4311-80ec-f338b7c64995",
   "metadata": {},
   "outputs": [
    {
     "data": {
      "text/html": [
       "<div><style>\n",
       ".dataframe > thead > tr > th,\n",
       ".dataframe > tbody > tr > td {\n",
       "  text-align: right;\n",
       "  white-space: pre-wrap;\n",
       "}\n",
       "</style>\n",
       "<small>shape: (174_700, 2)</small><table border=\"1\" class=\"dataframe\"><thead><tr><th>session_id</th><th>candidates</th></tr><tr><td>str</td><td>list[i64]</td></tr></thead><tbody><tr><td>&quot;00001149e9c739…</td><td>[4714, 11561, … 7902]</td></tr><tr><td>&quot;0000e02747d749…</td><td>[4066, 143, … 13249]</td></tr><tr><td>&quot;0000f17ae26282…</td><td>[10485, 7710, … 410]</td></tr><tr><td>&quot;000174a6f7a569…</td><td>[3359, 12341, … 2047]</td></tr><tr><td>&quot;00017e2a527901…</td><td>[9020, 4070, … 11910]</td></tr><tr><td>&quot;00018613341f84…</td><td>[13292, 3811, … 13549]</td></tr><tr><td>&quot;00027c33bbdb2e…</td><td>[11776]</td></tr><tr><td>&quot;0002f6aa27bcf9…</td><td>[13347, 2806, … 2824]</td></tr><tr><td>&quot;000300aea0d549…</td><td>[3901, 4522, … 12217]</td></tr><tr><td>&quot;00034cba60c960…</td><td>[1013, 11450, … 1563]</td></tr><tr><td>&quot;0003ebcaa4cf4f…</td><td>[8169, 12305, … 7832]</td></tr><tr><td>&quot;0003f18c0c2214…</td><td>[12986, 12089, … 1948]</td></tr><tr><td>&hellip;</td><td>&hellip;</td></tr><tr><td>&quot;fffbd014d23f76…</td><td>[7428, 9020, … 10834]</td></tr><tr><td>&quot;fffbd7a7438faf…</td><td>[7142, 4626, … 9882]</td></tr><tr><td>&quot;fffbdf7968b31d…</td><td>[831, 7062, … 8771]</td></tr><tr><td>&quot;fffcfdbb12c869…</td><td>[3855, 12298, … 5353]</td></tr><tr><td>&quot;fffd40e7248796…</td><td>[4714, 4545, … 6766]</td></tr><tr><td>&quot;fffdb4cc379e98…</td><td>[6905, 7547, … 5944]</td></tr><tr><td>&quot;fffdd903643f8d…</td><td>[1227, 4014, … 11243]</td></tr><tr><td>&quot;fffee3199ef94b…</td><td>[1997, 7062, … 831]</td></tr><tr><td>&quot;ffff62c6bb49bc…</td><td>[12432, 3802, … 9723]</td></tr><tr><td>&quot;ffff9a7dcc8928…</td><td>[13241, 844, … 10453]</td></tr><tr><td>&quot;ffffb1d30300fe…</td><td>[3100, 10287, … 2305]</td></tr><tr><td>&quot;ffffe984aafd61…</td><td>[10729, 1891, … 12265]</td></tr></tbody></table></div>"
      ],
      "text/plain": [
       "shape: (174_700, 2)\n",
       "┌──────────────────────────────────┬────────────────────────┐\n",
       "│ session_id                       ┆ candidates             │\n",
       "│ ---                              ┆ ---                    │\n",
       "│ str                              ┆ list[i64]              │\n",
       "╞══════════════════════════════════╪════════════════════════╡\n",
       "│ 00001149e9c73985425197104712478c ┆ [4714, 11561, … 7902]  │\n",
       "│ 0000e02747d749a52b7736dfa751e258 ┆ [4066, 143, … 13249]   │\n",
       "│ 0000f17ae2628237d78d3a38b009d3be ┆ [10485, 7710, … 410]   │\n",
       "│ 000174a6f7a569b84c5575760d2e9664 ┆ [3359, 12341, … 2047]  │\n",
       "│ …                                ┆ …                      │\n",
       "│ ffff62c6bb49bc9c0fbcf08494a4869c ┆ [12432, 3802, … 9723]  │\n",
       "│ ffff9a7dcc892875c7a8b821fa436228 ┆ [13241, 844, … 10453]  │\n",
       "│ ffffb1d30300fe17f661941fd085b04b ┆ [3100, 10287, … 2305]  │\n",
       "│ ffffe984aafd6127ce8e43e3ca40c79d ┆ [10729, 1891, … 12265] │\n",
       "└──────────────────────────────────┴────────────────────────┘"
      ]
     },
     "execution_count": 82,
     "metadata": {},
     "output_type": "execute_result"
    }
   ],
   "source": [
    "test_session_df = load_session_data(Path(cfg.dir.data_dir), \"test\")\n",
    "make_candidate(\n",
    "    test_session_df,\n",
    "    test_log_df,\n",
    "    test_transition_df,\n",
    "    \"test\",\n",
    "    only_last=cfg.exp.only_last,\n",
    ")"
   ]
  },
  {
   "cell_type": "code",
   "execution_count": 78,
   "id": "878931e5-2a3c-4d55-8691-9a13561dcda4",
   "metadata": {},
   "outputs": [
    {
     "data": {
      "text/html": [
       "<div><style>\n",
       ".dataframe > thead > tr > th,\n",
       ".dataframe > tbody > tr > td {\n",
       "  text-align: right;\n",
       "  white-space: pre-wrap;\n",
       "}\n",
       "</style>\n",
       "<small>shape: (288_698, 2)</small><table border=\"1\" class=\"dataframe\"><thead><tr><th>session_id</th><th>candidates</th></tr><tr><td>str</td><td>list[i64]</td></tr></thead><tbody><tr><td>&quot;000007603d533d…</td><td>[2808, 11882, 3324]</td></tr><tr><td>&quot;0000ca043ed437…</td><td>[8253, 9881, … 1092]</td></tr><tr><td>&quot;0000d4835cf113…</td><td>[9039, 5238, … 4355]</td></tr><tr><td>&quot;0000fcda1ae1b2…</td><td>[626, 755, … 7872]</td></tr><tr><td>&quot;000104bdffaaad…</td><td>[3894, 7749, … 4072]</td></tr><tr><td>&quot;00011afe25c343…</td><td>[12544, 4823, 10510]</td></tr><tr><td>&quot;000125c737df18…</td><td>[2480, 10378, … 9597]</td></tr><tr><td>&quot;0001763050a10b…</td><td>[4744, 7681, … 10544]</td></tr><tr><td>&quot;000178c4d4d567…</td><td>[12432, 3802, … 4962]</td></tr><tr><td>&quot;0001e6a407a85d…</td><td>[10478, 379, … 7050]</td></tr><tr><td>&quot;0002499cf2713a…</td><td>[1209, 966, … 5387]</td></tr><tr><td>&quot;00026fd325b5d6…</td><td>[3998, 756, … 11302]</td></tr><tr><td>&hellip;</td><td>&hellip;</td></tr><tr><td>&quot;fffd8c4fa7b5be…</td><td>[11025, 255, … 7209]</td></tr><tr><td>&quot;fffe2d9e5982f5…</td><td>[12150, 6655, … 1364]</td></tr><tr><td>&quot;fffe3dedeb89ae…</td><td>[5672, 8118, … 4214]</td></tr><tr><td>&quot;fffe40478b2163…</td><td>[3184, 13210, … 9456]</td></tr><tr><td>&quot;fffe78a078a176…</td><td>[6611, 5436, … 8840]</td></tr><tr><td>&quot;fffe8a472ae6a9…</td><td>[11321, 4353, … 8033]</td></tr><tr><td>&quot;fffe8c99c5b332…</td><td>[3271, 3323, … 12873]</td></tr><tr><td>&quot;ffff2262d38abd…</td><td>[13079, 1586, … 13210]</td></tr><tr><td>&quot;ffff2360540745…</td><td>[8703, 5299, … 6654]</td></tr><tr><td>&quot;ffff7fb4617164…</td><td>[12240, 7308, … 12805]</td></tr><tr><td>&quot;ffffcd5bc19d62…</td><td>[7551, 11091, … 6138]</td></tr><tr><td>&quot;fffffa7baf3700…</td><td>[10095, 12154, … 7169]</td></tr></tbody></table></div>"
      ],
      "text/plain": [
       "shape: (288_698, 2)\n",
       "┌──────────────────────────────────┬────────────────────────┐\n",
       "│ session_id                       ┆ candidates             │\n",
       "│ ---                              ┆ ---                    │\n",
       "│ str                              ┆ list[i64]              │\n",
       "╞══════════════════════════════════╪════════════════════════╡\n",
       "│ 000007603d533d30453cc45d0f3d119f ┆ [2808, 11882, 3324]    │\n",
       "│ 0000ca043ed437a1472c9d1d154eb49b ┆ [8253, 9881, … 1092]   │\n",
       "│ 0000d4835cf113316fe447e2f80ba1c8 ┆ [9039, 5238, … 4355]   │\n",
       "│ 0000fcda1ae1b2f431e55a7075d1f500 ┆ [626, 755, … 7872]     │\n",
       "│ …                                ┆ …                      │\n",
       "│ ffff2360540745117193ecadcdc06538 ┆ [8703, 5299, … 6654]   │\n",
       "│ ffff7fb4617164b2604aaf51c40bf82d ┆ [12240, 7308, … 12805] │\n",
       "│ ffffcd5bc19d62cad5a3815c87818d83 ┆ [7551, 11091, … 6138]  │\n",
       "│ fffffa7baf370083ebcdd98f26a7e31a ┆ [10095, 12154, … 7169] │\n",
       "└──────────────────────────────────┴────────────────────────┘"
      ]
     },
     "execution_count": 78,
     "metadata": {},
     "output_type": "execute_result"
    }
   ],
   "source": [
    "train_session_df = load_session_data(Path(cfg.dir.data_dir), \"train\")"
   ]
  },
  {
   "cell_type": "code",
   "execution_count": null,
   "id": "702245d1-5e47-4406-810b-0f1555764652",
   "metadata": {},
   "outputs": [],
   "source": []
  },
  {
   "cell_type": "code",
   "execution_count": null,
   "id": "9278ac4b-83f8-4563-8312-e98ff4884859",
   "metadata": {},
   "outputs": [],
   "source": []
  },
  {
   "cell_type": "code",
   "execution_count": null,
   "id": "9e0c03a0-7024-49db-8b21-e32d950d7a67",
   "metadata": {},
   "outputs": [],
   "source": []
  },
  {
   "cell_type": "markdown",
   "id": "7327c067-8fb4-46fa-9b97-be3de8a04836",
   "metadata": {},
   "source": [
    "## 確認"
   ]
  },
  {
   "cell_type": "code",
   "execution_count": 13,
   "id": "a57d2abb-115c-4465-b8ff-41196bc03e0d",
   "metadata": {},
   "outputs": [],
   "source": [
    "log_df = load_log_data(Path(cfg.dir.data_dir), \"train\")\n",
    "yad_df = load_yad_data(Path(cfg.dir.data_dir))"
   ]
  },
  {
   "cell_type": "code",
   "execution_count": 29,
   "id": "d556d432-d8ae-4e34-9401-6f330017b4aa",
   "metadata": {},
   "outputs": [
    {
     "data": {
      "text/html": [
       "<div><style>\n",
       ".dataframe > thead > tr > th,\n",
       ".dataframe > tbody > tr > td {\n",
       "  text-align: right;\n",
       "  white-space: pre-wrap;\n",
       "}\n",
       "</style>\n",
       "<small>shape: (10, 2)</small><table border=\"1\" class=\"dataframe\"><thead><tr><th>seq_no</th><th>counts</th></tr><tr><td>i64</td><td>u32</td></tr></thead><tbody><tr><td>6</td><td>65</td></tr><tr><td>1</td><td>82793</td></tr><tr><td>7</td><td>18</td></tr><tr><td>4</td><td>833</td></tr><tr><td>9</td><td>1</td></tr><tr><td>2</td><td>15350</td></tr><tr><td>3</td><td>4025</td></tr><tr><td>0</td><td>185386</td></tr><tr><td>5</td><td>223</td></tr><tr><td>8</td><td>4</td></tr></tbody></table></div>"
      ],
      "text/plain": [
       "shape: (10, 2)\n",
       "┌────────┬────────┐\n",
       "│ seq_no ┆ counts │\n",
       "│ ---    ┆ ---    │\n",
       "│ i64    ┆ u32    │\n",
       "╞════════╪════════╡\n",
       "│ 6      ┆ 65     │\n",
       "│ 1      ┆ 82793  │\n",
       "│ 7      ┆ 18     │\n",
       "│ 4      ┆ 833    │\n",
       "│ …      ┆ …      │\n",
       "│ 3      ┆ 4025   │\n",
       "│ 0      ┆ 185386 │\n",
       "│ 5      ┆ 223    │\n",
       "│ 8      ┆ 4      │\n",
       "└────────┴────────┘"
      ]
     },
     "execution_count": 29,
     "metadata": {},
     "output_type": "execute_result"
    }
   ],
   "source": [
    "log_df.group_by(\"session_id\").agg(pl.col(\"seq_no\").max())[\"seq_no\"].value_counts()"
   ]
  },
  {
   "cell_type": "code",
   "execution_count": 16,
   "id": "e8581461-c2a9-4d4d-9ace-73b0fe5794f5",
   "metadata": {},
   "outputs": [],
   "source": [
    "count_df = log_df.get_column(\"yad_no\").value_counts().sort(by=\"counts\", descending=True)\n",
    "yad_counts_df = yad_df.join(count_df, on=\"yad_no\").with_columns(\n",
    "    pl.col(\"counts\").rank(descending=True).over(cfg.exp.location_col).alias(\"rank\")\n",
    ")"
   ]
  },
  {
   "cell_type": "code",
   "execution_count": 21,
   "id": "381bf867-20fe-4def-ad4c-b74833e4208c",
   "metadata": {},
   "outputs": [
    {
     "data": {
      "text/html": [
       "<div><style>\n",
       ".dataframe > thead > tr > th,\n",
       ".dataframe > tbody > tr > td {\n",
       "  text-align: right;\n",
       "  white-space: pre-wrap;\n",
       "}\n",
       "</style>\n",
       "<small>shape: (13_372, 4)</small><table border=\"1\" class=\"dataframe\"><thead><tr><th>yad_no</th><th>sml_cd</th><th>counts</th><th>rank</th></tr><tr><td>i64</td><td>str</td><td>u32</td><td>f64</td></tr></thead><tbody><tr><td>10163</td><td>&quot;00e15b2eac75d3…</td><td>84</td><td>1.0</td></tr><tr><td>3714</td><td>&quot;00e15b2eac75d3…</td><td>75</td><td>2.0</td></tr><tr><td>1055</td><td>&quot;00e15b2eac75d3…</td><td>49</td><td>3.0</td></tr><tr><td>1664</td><td>&quot;00e15b2eac75d3…</td><td>44</td><td>4.0</td></tr><tr><td>12490</td><td>&quot;00e15b2eac75d3…</td><td>38</td><td>5.0</td></tr><tr><td>8098</td><td>&quot;00e15b2eac75d3…</td><td>34</td><td>6.0</td></tr><tr><td>4958</td><td>&quot;00e15b2eac75d3…</td><td>32</td><td>7.0</td></tr><tr><td>9266</td><td>&quot;00e15b2eac75d3…</td><td>29</td><td>8.0</td></tr><tr><td>708</td><td>&quot;00e15b2eac75d3…</td><td>28</td><td>9.0</td></tr><tr><td>4605</td><td>&quot;00e15b2eac75d3…</td><td>26</td><td>10.0</td></tr><tr><td>1276</td><td>&quot;00e15b2eac75d3…</td><td>23</td><td>11.0</td></tr><tr><td>10689</td><td>&quot;00e15b2eac75d3…</td><td>22</td><td>12.0</td></tr><tr><td>&hellip;</td><td>&hellip;</td><td>&hellip;</td><td>&hellip;</td></tr><tr><td>8129</td><td>&quot;ffa35ab2dd7300…</td><td>2</td><td>65.5</td></tr><tr><td>9810</td><td>&quot;ffa35ab2dd7300…</td><td>2</td><td>65.5</td></tr><tr><td>1916</td><td>&quot;ffa35ab2dd7300…</td><td>1</td><td>67.0</td></tr><tr><td>12801</td><td>&quot;fffe343d9e9ac0…</td><td>32</td><td>1.0</td></tr><tr><td>12002</td><td>&quot;fffe343d9e9ac0…</td><td>9</td><td>2.0</td></tr><tr><td>6745</td><td>&quot;fffe343d9e9ac0…</td><td>4</td><td>3.5</td></tr><tr><td>11951</td><td>&quot;fffe343d9e9ac0…</td><td>4</td><td>3.5</td></tr><tr><td>3315</td><td>&quot;fffe343d9e9ac0…</td><td>3</td><td>5.5</td></tr><tr><td>4171</td><td>&quot;fffe343d9e9ac0…</td><td>3</td><td>5.5</td></tr><tr><td>549</td><td>&quot;fffe343d9e9ac0…</td><td>2</td><td>8.0</td></tr><tr><td>1837</td><td>&quot;fffe343d9e9ac0…</td><td>2</td><td>8.0</td></tr><tr><td>8403</td><td>&quot;fffe343d9e9ac0…</td><td>2</td><td>8.0</td></tr></tbody></table></div>"
      ],
      "text/plain": [
       "shape: (13_372, 4)\n",
       "┌────────┬──────────────────────────────────┬────────┬──────┐\n",
       "│ yad_no ┆ sml_cd                           ┆ counts ┆ rank │\n",
       "│ ---    ┆ ---                              ┆ ---    ┆ ---  │\n",
       "│ i64    ┆ str                              ┆ u32    ┆ f64  │\n",
       "╞════════╪══════════════════════════════════╪════════╪══════╡\n",
       "│ 10163  ┆ 00e15b2eac75d33b9bc37c8a44d6b70a ┆ 84     ┆ 1.0  │\n",
       "│ 3714   ┆ 00e15b2eac75d33b9bc37c8a44d6b70a ┆ 75     ┆ 2.0  │\n",
       "│ 1055   ┆ 00e15b2eac75d33b9bc37c8a44d6b70a ┆ 49     ┆ 3.0  │\n",
       "│ 1664   ┆ 00e15b2eac75d33b9bc37c8a44d6b70a ┆ 44     ┆ 4.0  │\n",
       "│ …      ┆ …                                ┆ …      ┆ …    │\n",
       "│ 4171   ┆ fffe343d9e9ac014816f4c42528af3cd ┆ 3      ┆ 5.5  │\n",
       "│ 549    ┆ fffe343d9e9ac014816f4c42528af3cd ┆ 2      ┆ 8.0  │\n",
       "│ 1837   ┆ fffe343d9e9ac014816f4c42528af3cd ┆ 2      ┆ 8.0  │\n",
       "│ 8403   ┆ fffe343d9e9ac014816f4c42528af3cd ┆ 2      ┆ 8.0  │\n",
       "└────────┴──────────────────────────────────┴────────┴──────┘"
      ]
     },
     "execution_count": 21,
     "metadata": {},
     "output_type": "execute_result"
    }
   ],
   "source": [
    "yad_counts_df.select([\"yad_no\", cfg.exp.location_col, \"counts\", \"rank\"]).sort(\n",
    "    by=[cfg.exp.location_col, \"rank\"]\n",
    ")"
   ]
  },
  {
   "cell_type": "code",
   "execution_count": 24,
   "id": "adc8fb0c-2c46-43a7-b615-4deefb0bc82d",
   "metadata": {},
   "outputs": [
    {
     "data": {
      "text/html": [
       "<div><style>\n",
       ".dataframe > thead > tr > th,\n",
       ".dataframe > tbody > tr > td {\n",
       "  text-align: right;\n",
       "  white-space: pre-wrap;\n",
       "}\n",
       "</style>\n",
       "<small>shape: (12_381, 4)</small><table border=\"1\" class=\"dataframe\"><thead><tr><th>yad_no</th><th>sml_cd</th><th>counts</th><th>rank</th></tr><tr><td>i64</td><td>str</td><td>u32</td><td>f64</td></tr></thead><tbody><tr><td>10163</td><td>&quot;00e15b2eac75d3…</td><td>49</td><td>1.0</td></tr><tr><td>3714</td><td>&quot;00e15b2eac75d3…</td><td>44</td><td>2.0</td></tr><tr><td>12490</td><td>&quot;00e15b2eac75d3…</td><td>41</td><td>3.0</td></tr><tr><td>1055</td><td>&quot;00e15b2eac75d3…</td><td>35</td><td>4.0</td></tr><tr><td>1664</td><td>&quot;00e15b2eac75d3…</td><td>33</td><td>5.0</td></tr><tr><td>9266</td><td>&quot;00e15b2eac75d3…</td><td>25</td><td>6.0</td></tr><tr><td>4605</td><td>&quot;00e15b2eac75d3…</td><td>23</td><td>7.0</td></tr><tr><td>1276</td><td>&quot;00e15b2eac75d3…</td><td>18</td><td>8.5</td></tr><tr><td>10689</td><td>&quot;00e15b2eac75d3…</td><td>18</td><td>8.5</td></tr><tr><td>8568</td><td>&quot;00e15b2eac75d3…</td><td>17</td><td>10.0</td></tr><tr><td>9527</td><td>&quot;00e15b2eac75d3…</td><td>15</td><td>11.5</td></tr><tr><td>10840</td><td>&quot;00e15b2eac75d3…</td><td>15</td><td>11.5</td></tr><tr><td>&hellip;</td><td>&hellip;</td><td>&hellip;</td><td>&hellip;</td></tr><tr><td>3932</td><td>&quot;ffa35ab2dd7300…</td><td>2</td><td>64.0</td></tr><tr><td>9810</td><td>&quot;ffa35ab2dd7300…</td><td>1</td><td>65.5</td></tr><tr><td>13620</td><td>&quot;ffa35ab2dd7300…</td><td>1</td><td>65.5</td></tr><tr><td>12801</td><td>&quot;fffe343d9e9ac0…</td><td>23</td><td>1.0</td></tr><tr><td>12002</td><td>&quot;fffe343d9e9ac0…</td><td>5</td><td>2.0</td></tr><tr><td>8403</td><td>&quot;fffe343d9e9ac0…</td><td>4</td><td>3.0</td></tr><tr><td>11951</td><td>&quot;fffe343d9e9ac0…</td><td>3</td><td>4.0</td></tr><tr><td>3315</td><td>&quot;fffe343d9e9ac0…</td><td>2</td><td>5.5</td></tr><tr><td>6745</td><td>&quot;fffe343d9e9ac0…</td><td>2</td><td>5.5</td></tr><tr><td>549</td><td>&quot;fffe343d9e9ac0…</td><td>1</td><td>8.0</td></tr><tr><td>770</td><td>&quot;fffe343d9e9ac0…</td><td>1</td><td>8.0</td></tr><tr><td>1837</td><td>&quot;fffe343d9e9ac0…</td><td>1</td><td>8.0</td></tr></tbody></table></div>"
      ],
      "text/plain": [
       "shape: (12_381, 4)\n",
       "┌────────┬──────────────────────────────────┬────────┬──────┐\n",
       "│ yad_no ┆ sml_cd                           ┆ counts ┆ rank │\n",
       "│ ---    ┆ ---                              ┆ ---    ┆ ---  │\n",
       "│ i64    ┆ str                              ┆ u32    ┆ f64  │\n",
       "╞════════╪══════════════════════════════════╪════════╪══════╡\n",
       "│ 10163  ┆ 00e15b2eac75d33b9bc37c8a44d6b70a ┆ 49     ┆ 1.0  │\n",
       "│ 3714   ┆ 00e15b2eac75d33b9bc37c8a44d6b70a ┆ 44     ┆ 2.0  │\n",
       "│ 12490  ┆ 00e15b2eac75d33b9bc37c8a44d6b70a ┆ 41     ┆ 3.0  │\n",
       "│ 1055   ┆ 00e15b2eac75d33b9bc37c8a44d6b70a ┆ 35     ┆ 4.0  │\n",
       "│ …      ┆ …                                ┆ …      ┆ …    │\n",
       "│ 6745   ┆ fffe343d9e9ac014816f4c42528af3cd ┆ 2      ┆ 5.5  │\n",
       "│ 549    ┆ fffe343d9e9ac014816f4c42528af3cd ┆ 1      ┆ 8.0  │\n",
       "│ 770    ┆ fffe343d9e9ac014816f4c42528af3cd ┆ 1      ┆ 8.0  │\n",
       "│ 1837   ┆ fffe343d9e9ac014816f4c42528af3cd ┆ 1      ┆ 8.0  │\n",
       "└────────┴──────────────────────────────────┴────────┴──────┘"
      ]
     },
     "execution_count": 24,
     "metadata": {},
     "output_type": "execute_result"
    }
   ],
   "source": [
    "label_df = load_label_data(Path(cfg.dir.data_dir), \"train\")\n",
    "count_label_df = (\n",
    "    label_df.get_column(\"yad_no\").value_counts().sort(by=\"counts\", descending=True)\n",
    ")\n",
    "yad_label_counts_df = yad_df.join(count_label_df, on=\"yad_no\").with_columns(\n",
    "    pl.col(\"counts\").rank(descending=True).over(cfg.exp.location_col).alias(\"rank\")\n",
    ")\n",
    "yad_label_counts_df.select([\"yad_no\", cfg.exp.location_col, \"counts\", \"rank\"]).sort(\n",
    "    by=[cfg.exp.location_col, \"rank\"]\n",
    ")"
   ]
  },
  {
   "cell_type": "code",
   "execution_count": null,
   "id": "25ff760b-0bf3-4466-9f05-cde30939dbe0",
   "metadata": {},
   "outputs": [],
   "source": []
  }
 ],
 "metadata": {
  "kernelspec": {
   "display_name": "Python 3 (ipykernel)",
   "language": "python",
   "name": "python3"
  },
  "language_info": {
   "codemirror_mode": {
    "name": "ipython",
    "version": 3
   },
   "file_extension": ".py",
   "mimetype": "text/x-python",
   "name": "python",
   "nbconvert_exporter": "python",
   "pygments_lexer": "ipython3",
   "version": "3.10.12"
  }
 },
 "nbformat": 4,
 "nbformat_minor": 5
}
