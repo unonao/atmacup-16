{
 "cells": [
  {
   "cell_type": "code",
   "execution_count": 2,
   "id": "1b454753-c666-4c3c-b3f5-76c4f8dec766",
   "metadata": {},
   "outputs": [
    {
     "name": "stdout",
     "output_type": "stream",
     "text": [
      "/kaggle/working\n"
     ]
    }
   ],
   "source": [
    "%cd .."
   ]
  },
  {
   "cell_type": "code",
   "execution_count": 15,
   "id": "db07af42-ab59-40b9-85b3-9d0401318216",
   "metadata": {},
   "outputs": [
    {
     "name": "stdout",
     "output_type": "stream",
     "text": [
      "debug: false\n",
      "seed: 7\n",
      "dir:\n",
      "  data_dir: /kaggle/working/input/atmaCup16_Dataset\n",
      "  output_dir: /kaggle/working/output\n",
      "  exp_dir: /kaggle/working/output/exp\n",
      "  cand_unsupervised_dir: /kaggle/working/output/cand_unsupervised\n",
      "  cand_supervised_dir: /kaggle/working/output/cand_supervised\n",
      "  datasets_dir: /kaggle/working/output/datasets\n",
      "exp:\n",
      "  num_candidate: 100\n",
      "  k:\n",
      "  - 1\n",
      "  - 5\n",
      "  - 10\n",
      "  - 50\n",
      "  - 100\n",
      "  location_col: sml_cd\n",
      "\n"
     ]
    }
   ],
   "source": [
    "from hydra import compose, initialize\n",
    "from omegaconf import OmegaConf\n",
    "\n",
    "with initialize(version_base=None, config_path=\"../cand_supervised/target_encoding\"):\n",
    "    cfg = compose(config_name=\"config.yaml\", overrides=[\"exp=sml_cd\"])\n",
    "    print(OmegaConf.to_yaml(cfg))"
   ]
  },
  {
   "cell_type": "code",
   "execution_count": 12,
   "id": "b8ce988e-cac8-4112-9ac4-a372ecfcef9c",
   "metadata": {},
   "outputs": [],
   "source": [
    "import os\n",
    "import sys\n",
    "from pathlib import Path\n",
    "\n",
    "import hydra\n",
    "import numpy as np\n",
    "import polars as pl\n",
    "import torch\n",
    "from hydra.core.hydra_config import HydraConfig\n",
    "from omegaconf import DictConfig, OmegaConf\n",
    "from sklearn.neighbors import NearestNeighbors\n",
    "from sklearn.preprocessing import LabelEncoder\n",
    "from tqdm.auto import tqdm\n",
    "\n",
    "import utils\n",
    "import wandb\n",
    "from utils.load import (\n",
    "    load_image_embeddings,\n",
    "    load_label_data,\n",
    "    load_log_data,\n",
    "    load_session_data,\n",
    "    load_yad_data,\n",
    ")\n",
    "from utils.metrics import calculate_metrics"
   ]
  },
  {
   "cell_type": "markdown",
   "id": "e9fca8ba-781a-401b-ab9f-4feabf27a615",
   "metadata": {},
   "source": [
    "2種類\n",
    "- lastからの遷移\n",
    "- 全体からlastへの遷移"
   ]
  },
  {
   "cell_type": "code",
   "execution_count": null,
   "id": "622e7928-ab3b-413e-903e-e7b1b09d21b0",
   "metadata": {},
   "outputs": [],
   "source": []
  },
  {
   "cell_type": "code",
   "execution_count": null,
   "id": "e375d8e6-ca8f-49c0-8840-ce3caf0050e8",
   "metadata": {},
   "outputs": [],
   "source": []
  },
  {
   "cell_type": "code",
   "execution_count": null,
   "id": "aa28d7aa-d36d-4d0c-adf1-9f6edd8ccec9",
   "metadata": {},
   "outputs": [],
   "source": []
  },
  {
   "cell_type": "markdown",
   "id": "7327c067-8fb4-46fa-9b97-be3de8a04836",
   "metadata": {},
   "source": [
    "## 確認"
   ]
  },
  {
   "cell_type": "code",
   "execution_count": 13,
   "id": "a57d2abb-115c-4465-b8ff-41196bc03e0d",
   "metadata": {},
   "outputs": [],
   "source": [
    "log_df = load_log_data(Path(cfg.dir.data_dir), \"train\")\n",
    "yad_df = load_yad_data(Path(cfg.dir.data_dir))"
   ]
  },
  {
   "cell_type": "code",
   "execution_count": 29,
   "id": "d556d432-d8ae-4e34-9401-6f330017b4aa",
   "metadata": {},
   "outputs": [
    {
     "data": {
      "text/html": [
       "<div><style>\n",
       ".dataframe > thead > tr > th,\n",
       ".dataframe > tbody > tr > td {\n",
       "  text-align: right;\n",
       "  white-space: pre-wrap;\n",
       "}\n",
       "</style>\n",
       "<small>shape: (10, 2)</small><table border=\"1\" class=\"dataframe\"><thead><tr><th>seq_no</th><th>counts</th></tr><tr><td>i64</td><td>u32</td></tr></thead><tbody><tr><td>6</td><td>65</td></tr><tr><td>1</td><td>82793</td></tr><tr><td>7</td><td>18</td></tr><tr><td>4</td><td>833</td></tr><tr><td>9</td><td>1</td></tr><tr><td>2</td><td>15350</td></tr><tr><td>3</td><td>4025</td></tr><tr><td>0</td><td>185386</td></tr><tr><td>5</td><td>223</td></tr><tr><td>8</td><td>4</td></tr></tbody></table></div>"
      ],
      "text/plain": [
       "shape: (10, 2)\n",
       "┌────────┬────────┐\n",
       "│ seq_no ┆ counts │\n",
       "│ ---    ┆ ---    │\n",
       "│ i64    ┆ u32    │\n",
       "╞════════╪════════╡\n",
       "│ 6      ┆ 65     │\n",
       "│ 1      ┆ 82793  │\n",
       "│ 7      ┆ 18     │\n",
       "│ 4      ┆ 833    │\n",
       "│ …      ┆ …      │\n",
       "│ 3      ┆ 4025   │\n",
       "│ 0      ┆ 185386 │\n",
       "│ 5      ┆ 223    │\n",
       "│ 8      ┆ 4      │\n",
       "└────────┴────────┘"
      ]
     },
     "execution_count": 29,
     "metadata": {},
     "output_type": "execute_result"
    }
   ],
   "source": [
    "log_df.group_by(\"session_id\").agg(pl.col(\"seq_no\").max())[\"seq_no\"].value_counts()"
   ]
  },
  {
   "cell_type": "code",
   "execution_count": 16,
   "id": "e8581461-c2a9-4d4d-9ace-73b0fe5794f5",
   "metadata": {},
   "outputs": [],
   "source": [
    "count_df = log_df.get_column(\"yad_no\").value_counts().sort(by=\"counts\", descending=True)\n",
    "yad_counts_df = yad_df.join(count_df, on=\"yad_no\").with_columns(\n",
    "    pl.col(\"counts\").rank(descending=True).over(cfg.exp.location_col).alias(\"rank\")\n",
    ")"
   ]
  },
  {
   "cell_type": "code",
   "execution_count": 21,
   "id": "381bf867-20fe-4def-ad4c-b74833e4208c",
   "metadata": {},
   "outputs": [
    {
     "data": {
      "text/html": [
       "<div><style>\n",
       ".dataframe > thead > tr > th,\n",
       ".dataframe > tbody > tr > td {\n",
       "  text-align: right;\n",
       "  white-space: pre-wrap;\n",
       "}\n",
       "</style>\n",
       "<small>shape: (13_372, 4)</small><table border=\"1\" class=\"dataframe\"><thead><tr><th>yad_no</th><th>sml_cd</th><th>counts</th><th>rank</th></tr><tr><td>i64</td><td>str</td><td>u32</td><td>f64</td></tr></thead><tbody><tr><td>10163</td><td>&quot;00e15b2eac75d3…</td><td>84</td><td>1.0</td></tr><tr><td>3714</td><td>&quot;00e15b2eac75d3…</td><td>75</td><td>2.0</td></tr><tr><td>1055</td><td>&quot;00e15b2eac75d3…</td><td>49</td><td>3.0</td></tr><tr><td>1664</td><td>&quot;00e15b2eac75d3…</td><td>44</td><td>4.0</td></tr><tr><td>12490</td><td>&quot;00e15b2eac75d3…</td><td>38</td><td>5.0</td></tr><tr><td>8098</td><td>&quot;00e15b2eac75d3…</td><td>34</td><td>6.0</td></tr><tr><td>4958</td><td>&quot;00e15b2eac75d3…</td><td>32</td><td>7.0</td></tr><tr><td>9266</td><td>&quot;00e15b2eac75d3…</td><td>29</td><td>8.0</td></tr><tr><td>708</td><td>&quot;00e15b2eac75d3…</td><td>28</td><td>9.0</td></tr><tr><td>4605</td><td>&quot;00e15b2eac75d3…</td><td>26</td><td>10.0</td></tr><tr><td>1276</td><td>&quot;00e15b2eac75d3…</td><td>23</td><td>11.0</td></tr><tr><td>10689</td><td>&quot;00e15b2eac75d3…</td><td>22</td><td>12.0</td></tr><tr><td>&hellip;</td><td>&hellip;</td><td>&hellip;</td><td>&hellip;</td></tr><tr><td>8129</td><td>&quot;ffa35ab2dd7300…</td><td>2</td><td>65.5</td></tr><tr><td>9810</td><td>&quot;ffa35ab2dd7300…</td><td>2</td><td>65.5</td></tr><tr><td>1916</td><td>&quot;ffa35ab2dd7300…</td><td>1</td><td>67.0</td></tr><tr><td>12801</td><td>&quot;fffe343d9e9ac0…</td><td>32</td><td>1.0</td></tr><tr><td>12002</td><td>&quot;fffe343d9e9ac0…</td><td>9</td><td>2.0</td></tr><tr><td>6745</td><td>&quot;fffe343d9e9ac0…</td><td>4</td><td>3.5</td></tr><tr><td>11951</td><td>&quot;fffe343d9e9ac0…</td><td>4</td><td>3.5</td></tr><tr><td>3315</td><td>&quot;fffe343d9e9ac0…</td><td>3</td><td>5.5</td></tr><tr><td>4171</td><td>&quot;fffe343d9e9ac0…</td><td>3</td><td>5.5</td></tr><tr><td>549</td><td>&quot;fffe343d9e9ac0…</td><td>2</td><td>8.0</td></tr><tr><td>1837</td><td>&quot;fffe343d9e9ac0…</td><td>2</td><td>8.0</td></tr><tr><td>8403</td><td>&quot;fffe343d9e9ac0…</td><td>2</td><td>8.0</td></tr></tbody></table></div>"
      ],
      "text/plain": [
       "shape: (13_372, 4)\n",
       "┌────────┬──────────────────────────────────┬────────┬──────┐\n",
       "│ yad_no ┆ sml_cd                           ┆ counts ┆ rank │\n",
       "│ ---    ┆ ---                              ┆ ---    ┆ ---  │\n",
       "│ i64    ┆ str                              ┆ u32    ┆ f64  │\n",
       "╞════════╪══════════════════════════════════╪════════╪══════╡\n",
       "│ 10163  ┆ 00e15b2eac75d33b9bc37c8a44d6b70a ┆ 84     ┆ 1.0  │\n",
       "│ 3714   ┆ 00e15b2eac75d33b9bc37c8a44d6b70a ┆ 75     ┆ 2.0  │\n",
       "│ 1055   ┆ 00e15b2eac75d33b9bc37c8a44d6b70a ┆ 49     ┆ 3.0  │\n",
       "│ 1664   ┆ 00e15b2eac75d33b9bc37c8a44d6b70a ┆ 44     ┆ 4.0  │\n",
       "│ …      ┆ …                                ┆ …      ┆ …    │\n",
       "│ 4171   ┆ fffe343d9e9ac014816f4c42528af3cd ┆ 3      ┆ 5.5  │\n",
       "│ 549    ┆ fffe343d9e9ac014816f4c42528af3cd ┆ 2      ┆ 8.0  │\n",
       "│ 1837   ┆ fffe343d9e9ac014816f4c42528af3cd ┆ 2      ┆ 8.0  │\n",
       "│ 8403   ┆ fffe343d9e9ac014816f4c42528af3cd ┆ 2      ┆ 8.0  │\n",
       "└────────┴──────────────────────────────────┴────────┴──────┘"
      ]
     },
     "execution_count": 21,
     "metadata": {},
     "output_type": "execute_result"
    }
   ],
   "source": [
    "yad_counts_df.select([\"yad_no\", cfg.exp.location_col, \"counts\", \"rank\"]).sort(\n",
    "    by=[cfg.exp.location_col, \"rank\"]\n",
    ")"
   ]
  },
  {
   "cell_type": "code",
   "execution_count": 24,
   "id": "adc8fb0c-2c46-43a7-b615-4deefb0bc82d",
   "metadata": {},
   "outputs": [
    {
     "data": {
      "text/html": [
       "<div><style>\n",
       ".dataframe > thead > tr > th,\n",
       ".dataframe > tbody > tr > td {\n",
       "  text-align: right;\n",
       "  white-space: pre-wrap;\n",
       "}\n",
       "</style>\n",
       "<small>shape: (12_381, 4)</small><table border=\"1\" class=\"dataframe\"><thead><tr><th>yad_no</th><th>sml_cd</th><th>counts</th><th>rank</th></tr><tr><td>i64</td><td>str</td><td>u32</td><td>f64</td></tr></thead><tbody><tr><td>10163</td><td>&quot;00e15b2eac75d3…</td><td>49</td><td>1.0</td></tr><tr><td>3714</td><td>&quot;00e15b2eac75d3…</td><td>44</td><td>2.0</td></tr><tr><td>12490</td><td>&quot;00e15b2eac75d3…</td><td>41</td><td>3.0</td></tr><tr><td>1055</td><td>&quot;00e15b2eac75d3…</td><td>35</td><td>4.0</td></tr><tr><td>1664</td><td>&quot;00e15b2eac75d3…</td><td>33</td><td>5.0</td></tr><tr><td>9266</td><td>&quot;00e15b2eac75d3…</td><td>25</td><td>6.0</td></tr><tr><td>4605</td><td>&quot;00e15b2eac75d3…</td><td>23</td><td>7.0</td></tr><tr><td>1276</td><td>&quot;00e15b2eac75d3…</td><td>18</td><td>8.5</td></tr><tr><td>10689</td><td>&quot;00e15b2eac75d3…</td><td>18</td><td>8.5</td></tr><tr><td>8568</td><td>&quot;00e15b2eac75d3…</td><td>17</td><td>10.0</td></tr><tr><td>9527</td><td>&quot;00e15b2eac75d3…</td><td>15</td><td>11.5</td></tr><tr><td>10840</td><td>&quot;00e15b2eac75d3…</td><td>15</td><td>11.5</td></tr><tr><td>&hellip;</td><td>&hellip;</td><td>&hellip;</td><td>&hellip;</td></tr><tr><td>3932</td><td>&quot;ffa35ab2dd7300…</td><td>2</td><td>64.0</td></tr><tr><td>9810</td><td>&quot;ffa35ab2dd7300…</td><td>1</td><td>65.5</td></tr><tr><td>13620</td><td>&quot;ffa35ab2dd7300…</td><td>1</td><td>65.5</td></tr><tr><td>12801</td><td>&quot;fffe343d9e9ac0…</td><td>23</td><td>1.0</td></tr><tr><td>12002</td><td>&quot;fffe343d9e9ac0…</td><td>5</td><td>2.0</td></tr><tr><td>8403</td><td>&quot;fffe343d9e9ac0…</td><td>4</td><td>3.0</td></tr><tr><td>11951</td><td>&quot;fffe343d9e9ac0…</td><td>3</td><td>4.0</td></tr><tr><td>3315</td><td>&quot;fffe343d9e9ac0…</td><td>2</td><td>5.5</td></tr><tr><td>6745</td><td>&quot;fffe343d9e9ac0…</td><td>2</td><td>5.5</td></tr><tr><td>549</td><td>&quot;fffe343d9e9ac0…</td><td>1</td><td>8.0</td></tr><tr><td>770</td><td>&quot;fffe343d9e9ac0…</td><td>1</td><td>8.0</td></tr><tr><td>1837</td><td>&quot;fffe343d9e9ac0…</td><td>1</td><td>8.0</td></tr></tbody></table></div>"
      ],
      "text/plain": [
       "shape: (12_381, 4)\n",
       "┌────────┬──────────────────────────────────┬────────┬──────┐\n",
       "│ yad_no ┆ sml_cd                           ┆ counts ┆ rank │\n",
       "│ ---    ┆ ---                              ┆ ---    ┆ ---  │\n",
       "│ i64    ┆ str                              ┆ u32    ┆ f64  │\n",
       "╞════════╪══════════════════════════════════╪════════╪══════╡\n",
       "│ 10163  ┆ 00e15b2eac75d33b9bc37c8a44d6b70a ┆ 49     ┆ 1.0  │\n",
       "│ 3714   ┆ 00e15b2eac75d33b9bc37c8a44d6b70a ┆ 44     ┆ 2.0  │\n",
       "│ 12490  ┆ 00e15b2eac75d33b9bc37c8a44d6b70a ┆ 41     ┆ 3.0  │\n",
       "│ 1055   ┆ 00e15b2eac75d33b9bc37c8a44d6b70a ┆ 35     ┆ 4.0  │\n",
       "│ …      ┆ …                                ┆ …      ┆ …    │\n",
       "│ 6745   ┆ fffe343d9e9ac014816f4c42528af3cd ┆ 2      ┆ 5.5  │\n",
       "│ 549    ┆ fffe343d9e9ac014816f4c42528af3cd ┆ 1      ┆ 8.0  │\n",
       "│ 770    ┆ fffe343d9e9ac014816f4c42528af3cd ┆ 1      ┆ 8.0  │\n",
       "│ 1837   ┆ fffe343d9e9ac014816f4c42528af3cd ┆ 1      ┆ 8.0  │\n",
       "└────────┴──────────────────────────────────┴────────┴──────┘"
      ]
     },
     "execution_count": 24,
     "metadata": {},
     "output_type": "execute_result"
    }
   ],
   "source": [
    "label_df = load_label_data(Path(cfg.dir.data_dir), \"train\")\n",
    "count_label_df = (\n",
    "    label_df.get_column(\"yad_no\").value_counts().sort(by=\"counts\", descending=True)\n",
    ")\n",
    "yad_label_counts_df = yad_df.join(count_label_df, on=\"yad_no\").with_columns(\n",
    "    pl.col(\"counts\").rank(descending=True).over(cfg.exp.location_col).alias(\"rank\")\n",
    ")\n",
    "yad_label_counts_df.select([\"yad_no\", cfg.exp.location_col, \"counts\", \"rank\"]).sort(\n",
    "    by=[cfg.exp.location_col, \"rank\"]\n",
    ")"
   ]
  },
  {
   "cell_type": "code",
   "execution_count": null,
   "id": "25ff760b-0bf3-4466-9f05-cde30939dbe0",
   "metadata": {},
   "outputs": [],
   "source": []
  }
 ],
 "metadata": {
  "kernelspec": {
   "display_name": "Python 3 (ipykernel)",
   "language": "python",
   "name": "python3"
  },
  "language_info": {
   "codemirror_mode": {
    "name": "ipython",
    "version": 3
   },
   "file_extension": ".py",
   "mimetype": "text/x-python",
   "name": "python",
   "nbconvert_exporter": "python",
   "pygments_lexer": "ipython3",
   "version": "3.10.12"
  }
 },
 "nbformat": 4,
 "nbformat_minor": 5
}
