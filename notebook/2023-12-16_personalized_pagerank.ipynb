{
 "cells": [
  {
   "cell_type": "code",
   "execution_count": 1,
   "id": "448e538f-66a0-4ccb-8436-cbec767ad735",
   "metadata": {},
   "outputs": [
    {
     "name": "stdout",
     "output_type": "stream",
     "text": [
      "/kaggle/working\n"
     ]
    }
   ],
   "source": [
    "%cd .."
   ]
  },
  {
   "cell_type": "code",
   "execution_count": 3,
   "id": "41b478df-09b8-4e9b-9122-e18f65600b7a",
   "metadata": {},
   "outputs": [
    {
     "name": "stdout",
     "output_type": "stream",
     "text": [
      "debug: false\n",
      "seed: 7\n",
      "dir:\n",
      "  data_dir: /kaggle/working/input/atmaCup16_Dataset\n",
      "  output_dir: /kaggle/working/output\n",
      "  exp_dir: /kaggle/working/output/exp\n",
      "  cand_unsupervised_dir: /kaggle/working/output/cand_unsupervised\n",
      "  cand_supervised_dir: /kaggle/working/output/cand_supervised\n",
      "  datasets_dir: /kaggle/working/output/datasets\n",
      "exp:\n",
      "  num_candidate: 100\n",
      "  k:\n",
      "  - 1\n",
      "  - 5\n",
      "  - 10\n",
      "  - 50\n",
      "  - 100\n",
      "\n"
     ]
    }
   ],
   "source": [
    "from hydra import compose, initialize\n",
    "from omegaconf import OmegaConf\n",
    "\n",
    "with initialize(\n",
    "    version_base=None, config_path=\"../cand_unsupervised/personalized_pagerank\"\n",
    "):\n",
    "    cfg = compose(config_name=\"config.yaml\", overrides=[\"exp=base\"])\n",
    "    print(OmegaConf.to_yaml(cfg))"
   ]
  },
  {
   "cell_type": "code",
   "execution_count": 26,
   "id": "e0bd2d1f-76b2-4954-9c17-a21f23f824b3",
   "metadata": {},
   "outputs": [],
   "source": [
    "import os\n",
    "import sys\n",
    "from pathlib import Path\n",
    "\n",
    "import hydra\n",
    "import igraph as ig\n",
    "import numpy as np\n",
    "import polars as pl\n",
    "import scipy.sparse as sparse\n",
    "from hydra.core.hydra_config import HydraConfig\n",
    "from igraph import Graph\n",
    "from omegaconf import DictConfig, OmegaConf\n",
    "from scipy.sparse import csr_matrix, eye\n",
    "from tqdm.auto import tqdm\n",
    "\n",
    "import utils\n",
    "from utils.load import load_label_data, load_log_data, load_yad_data\n",
    "from utils.metrics import calculate_metrics"
   ]
  },
  {
   "cell_type": "code",
   "execution_count": 5,
   "id": "579bd6fd-7bc6-4fe6-983a-22322c1efa25",
   "metadata": {},
   "outputs": [
    {
     "name": "stdout",
     "output_type": "stream",
     "text": [
      "[load data] done in 0.1 s\n"
     ]
    },
    {
     "name": "stderr",
     "output_type": "stream",
     "text": [
      "[2.4GB(+1.8GB):15.3sec] making graph \n"
     ]
    }
   ],
   "source": [
    "with utils.timer(\"load data\"):\n",
    "    train_log_df = load_log_data(Path(cfg.dir.data_dir), \"train\")\n",
    "    test_log_df = load_log_data(Path(cfg.dir.data_dir), \"test\")\n",
    "    all_log_df = pl.concat([train_log_df, test_log_df])\n",
    "\n",
    "\"\"\"\n",
    "グラフ作成\n",
    "\"\"\"\n",
    "with utils.trace(\"making graph\"):\n",
    "    # 連番に変換\n",
    "    all_log_cast_df = all_log_df.with_columns(\n",
    "        pl.col(\"yad_no\").cast(str).cast(pl.Categorical).to_physical().alias(\"yid\"),\n",
    "    )\n",
    "\n",
    "    unique_df = all_log_cast_df.unique([\"yad_no\", \"yid\"])\n",
    "    unique_yids = unique_df[\"yid\"].to_numpy()\n",
    "    unique_yad_nos = unique_df[\"yad_no\"].to_list()\n",
    "    yid2yad_no = dict(zip(unique_yids, unique_yad_nos))\n",
    "\n",
    "    # 遷移を作成\n",
    "    transition_dfs = []\n",
    "\n",
    "    for rti in [-1, 1]:\n",
    "        if rti == 0:\n",
    "            continue\n",
    "        df = (\n",
    "            all_log_cast_df.with_columns(\n",
    "                pl.col(\"yid\").alias(\"from_id\"),\n",
    "                pl.col(\"yid\").shift(-(rti)).over(\"session_id\").alias(\"to_id\"),\n",
    "            )\n",
    "            .filter(~pl.col(\"to_id\").is_null())\n",
    "            .filter(pl.col(\"from_id\") != pl.col(\"to_id\"))  # 同じものへは遷移しない\n",
    "            .select([\"from_id\", \"to_id\"])\n",
    "        )\n",
    "        transition_dfs.append(df)\n",
    "    transition_df = pl.concat(transition_dfs)\n",
    "\n",
    "    # 行列の作成\n",
    "    matrix = sparse.csr_matrix(\n",
    "        (\n",
    "            np.ones(len(transition_df)),\n",
    "            (\n",
    "                transition_df[\"from_id\"].to_numpy(),\n",
    "                transition_df[\"to_id\"].to_numpy(),\n",
    "            ),\n",
    "        )\n",
    "    ).toarray()\n",
    "\n",
    "    graph = Graph.Adjacency(matrix)"
   ]
  },
  {
   "cell_type": "code",
   "execution_count": 6,
   "id": "3f51cdd4-0a91-4f4f-afd2-30d4cc6e900a",
   "metadata": {},
   "outputs": [
    {
     "data": {
      "text/plain": [
       "13561"
      ]
     },
     "execution_count": 6,
     "metadata": {},
     "output_type": "execute_result"
    }
   ],
   "source": []
  },
  {
   "cell_type": "code",
   "execution_count": 27,
   "id": "467430e8-d0fb-4e8e-b954-7f05aaa4cd66",
   "metadata": {
    "scrolled": true
   },
   "outputs": [
    {
     "data": {
      "application/vnd.jupyter.widget-view+json": {
       "model_id": "9bf5f7c14cb1481fa883f7a916f0744b",
       "version_major": 2,
       "version_minor": 0
      },
      "text/plain": [
       "  0%|          | 0/13561 [00:00<?, ?it/s]"
      ]
     },
     "metadata": {},
     "output_type": "display_data"
    },
    {
     "ename": "KeyboardInterrupt",
     "evalue": "",
     "output_type": "error",
     "traceback": [
      "\u001b[0;31m---------------------------------------------------------------------------\u001b[0m",
      "\u001b[0;31mKeyboardInterrupt\u001b[0m                         Traceback (most recent call last)",
      "Cell \u001b[0;32mIn[27], line 7\u001b[0m\n\u001b[1;32m      5\u001b[0m K \u001b[38;5;241m=\u001b[39m \u001b[38;5;241m100\u001b[39m\n\u001b[1;32m      6\u001b[0m \u001b[38;5;28;01mfor\u001b[39;00m yid \u001b[38;5;129;01min\u001b[39;00m tqdm(\u001b[38;5;28mrange\u001b[39m(graph\u001b[38;5;241m.\u001b[39mvcount())):\n\u001b[0;32m----> 7\u001b[0m     ppr \u001b[38;5;241m=\u001b[39m np\u001b[38;5;241m.\u001b[39marray(\u001b[43mgraph\u001b[49m\u001b[38;5;241;43m.\u001b[39;49m\u001b[43mpersonalized_pagerank\u001b[49m\u001b[43m(\u001b[49m\u001b[43mreset_vertices\u001b[49m\u001b[38;5;241;43m=\u001b[39;49m\u001b[43myid\u001b[49m\u001b[43m)\u001b[49m)\n\u001b[1;32m      8\u001b[0m     top_k_indices \u001b[38;5;241m=\u001b[39m np\u001b[38;5;241m.\u001b[39margsort(\u001b[38;5;241m-\u001b[39mppr)[:K]\n\u001b[1;32m      9\u001b[0m     top_k_values \u001b[38;5;241m=\u001b[39m ppr[top_k_indices]\n",
      "\u001b[0;31mKeyboardInterrupt\u001b[0m: "
     ]
    }
   ],
   "source": [
    "from_yad_no = []\n",
    "to_yad_nos = []\n",
    "scores = []\n",
    "\n",
    "K = 100\n",
    "for yid in tqdm(range(graph.vcount())):\n",
    "    ppr = np.array(graph.personalized_pagerank(reset_vertices=yid))\n",
    "    top_k_indices = np.argsort(-ppr)[:K]\n",
    "    top_k_values = ppr[top_k_indices]\n",
    "    from_yad_no.append(yid2yad_no[yid])\n",
    "    to_yad_nos.append([yid2yad_no[y] for y in top_k_indices])\n",
    "    scores.append(top_k_values)"
   ]
  },
  {
   "cell_type": "code",
   "execution_count": 15,
   "id": "25552f17-aed8-4f36-bd55-5be025c0bbb4",
   "metadata": {},
   "outputs": [],
   "source": [
    "yad2yad_df = pl.DataFrame(\n",
    "    {\n",
    "        \"from_yad_no\": from_yad_no,  # unique_sids と同じ順番\n",
    "        \"to_yad_nos\": to_yad_nos,\n",
    "        \"score\": scores,\n",
    "    }\n",
    ")\n",
    "yad2yad_df = (\n",
    "    yad2yad_df.explode([\"to_yad_nos\", \"score\"])\n",
    "    .rename({\"to_yad_nos\": \"to_yad_no\"})\n",
    "    .filter((pl.col(\"score\") > 0) & (pl.col(\"from_yad_no\") != pl.col(\"to_yad_no\")))\n",
    ")"
   ]
  },
  {
   "cell_type": "code",
   "execution_count": 25,
   "id": "d7ba0b85-914c-48e9-bb0a-ee35d1155ff7",
   "metadata": {},
   "outputs": [
    {
     "data": {
      "text/html": [
       "<div><style>\n",
       ".dataframe > thead > tr > th,\n",
       ".dataframe > tbody > tr > td {\n",
       "  text-align: right;\n",
       "  white-space: pre-wrap;\n",
       "}\n",
       "</style>\n",
       "<small>shape: (10, 3)</small><table border=\"1\" class=\"dataframe\"><thead><tr><th>from_yad_no</th><th>to_yad_no</th><th>score</th></tr><tr><td>i64</td><td>i64</td><td>f64</td></tr></thead><tbody><tr><td>2395</td><td>11882</td><td>0.197548</td></tr><tr><td>2395</td><td>2808</td><td>0.17292</td></tr><tr><td>2395</td><td>4101</td><td>0.043366</td></tr><tr><td>2395</td><td>3324</td><td>0.039428</td></tr><tr><td>2395</td><td>5821</td><td>0.037559</td></tr><tr><td>2395</td><td>12837</td><td>0.030706</td></tr><tr><td>2395</td><td>5289</td><td>0.019935</td></tr><tr><td>2395</td><td>7281</td><td>0.014974</td></tr><tr><td>2395</td><td>8668</td><td>0.006999</td></tr><tr><td>2395</td><td>11134</td><td>0.006979</td></tr></tbody></table></div>"
      ],
      "text/plain": [
       "shape: (10, 3)\n",
       "┌─────────────┬───────────┬──────────┐\n",
       "│ from_yad_no ┆ to_yad_no ┆ score    │\n",
       "│ ---         ┆ ---       ┆ ---      │\n",
       "│ i64         ┆ i64       ┆ f64      │\n",
       "╞═════════════╪═══════════╪══════════╡\n",
       "│ 2395        ┆ 11882     ┆ 0.197548 │\n",
       "│ 2395        ┆ 2808      ┆ 0.17292  │\n",
       "│ 2395        ┆ 4101      ┆ 0.043366 │\n",
       "│ 2395        ┆ 3324      ┆ 0.039428 │\n",
       "│ …           ┆ …         ┆ …        │\n",
       "│ 2395        ┆ 5289      ┆ 0.019935 │\n",
       "│ 2395        ┆ 7281      ┆ 0.014974 │\n",
       "│ 2395        ┆ 8668      ┆ 0.006999 │\n",
       "│ 2395        ┆ 11134     ┆ 0.006979 │\n",
       "└─────────────┴───────────┴──────────┘"
      ]
     },
     "execution_count": 25,
     "metadata": {},
     "output_type": "execute_result"
    }
   ],
   "source": [
    "yad2yad_df.head(10)"
   ]
  },
  {
   "cell_type": "code",
   "execution_count": 23,
   "id": "1638201e-6802-472a-8002-90f5476e5b63",
   "metadata": {},
   "outputs": [],
   "source": [
    "train_label_df = (\n",
    "    train_log_df.group_by(\"session_id\")\n",
    "    .agg(pl.all().sort_by(\"seq_no\").last())\n",
    "    .sort(by=\"session_id\")\n",
    "    .join(\n",
    "        load_label_data(Path(cfg.dir.data_dir)).rename({\"yad_no\": \"label\"}),\n",
    "        on=\"session_id\",\n",
    "    )\n",
    ")"
   ]
  },
  {
   "cell_type": "code",
   "execution_count": 24,
   "id": "6c9147a7-0731-44f1-ad78-170518bdb439",
   "metadata": {},
   "outputs": [
    {
     "data": {
      "text/html": [
       "<div><style>\n",
       ".dataframe > thead > tr > th,\n",
       ".dataframe > tbody > tr > td {\n",
       "  text-align: right;\n",
       "  white-space: pre-wrap;\n",
       "}\n",
       "</style>\n",
       "<small>shape: (7, 4)</small><table border=\"1\" class=\"dataframe\"><thead><tr><th>session_id</th><th>seq_no</th><th>yad_no</th><th>label</th></tr><tr><td>str</td><td>i64</td><td>i64</td><td>i64</td></tr></thead><tbody><tr><td>&quot;000007603d533d…</td><td>0</td><td>2395</td><td>4101</td></tr><tr><td>&quot;3801fd3f98a4a6…</td><td>0</td><td>2395</td><td>5289</td></tr><tr><td>&quot;abfef2e8d37839…</td><td>0</td><td>2395</td><td>3324</td></tr><tr><td>&quot;c216d6876152be…</td><td>1</td><td>2395</td><td>11882</td></tr><tr><td>&quot;c7a8f1743fd7eb…</td><td>0</td><td>2395</td><td>11882</td></tr><tr><td>&quot;e0327742930846…</td><td>1</td><td>2395</td><td>2808</td></tr><tr><td>&quot;f36d727e727476…</td><td>0</td><td>2395</td><td>2808</td></tr></tbody></table></div>"
      ],
      "text/plain": [
       "shape: (7, 4)\n",
       "┌──────────────────────────────────┬────────┬────────┬───────┐\n",
       "│ session_id                       ┆ seq_no ┆ yad_no ┆ label │\n",
       "│ ---                              ┆ ---    ┆ ---    ┆ ---   │\n",
       "│ str                              ┆ i64    ┆ i64    ┆ i64   │\n",
       "╞══════════════════════════════════╪════════╪════════╪═══════╡\n",
       "│ 000007603d533d30453cc45d0f3d119f ┆ 0      ┆ 2395   ┆ 4101  │\n",
       "│ 3801fd3f98a4a62e31aa94e3ce156619 ┆ 0      ┆ 2395   ┆ 5289  │\n",
       "│ abfef2e8d378391ce29bc1214e141fc5 ┆ 0      ┆ 2395   ┆ 3324  │\n",
       "│ c216d6876152be50a9a4468662f0e7a4 ┆ 1      ┆ 2395   ┆ 11882 │\n",
       "│ c7a8f1743fd7ebfeedaeaced961680b9 ┆ 0      ┆ 2395   ┆ 11882 │\n",
       "│ e032774293084603c84ceb084cb60155 ┆ 1      ┆ 2395   ┆ 2808  │\n",
       "│ f36d727e727476c979bd75d4f0c6cac5 ┆ 0      ┆ 2395   ┆ 2808  │\n",
       "└──────────────────────────────────┴────────┴────────┴───────┘"
      ]
     },
     "execution_count": 24,
     "metadata": {},
     "output_type": "execute_result"
    }
   ],
   "source": [
    "train_label_df.filter(pl.col(\"yad_no\") == 2395)"
   ]
  },
  {
   "cell_type": "code",
   "execution_count": null,
   "id": "c6b8314b-c6b1-45e1-991d-5a91bd16b5ff",
   "metadata": {},
   "outputs": [],
   "source": []
  }
 ],
 "metadata": {
  "kernelspec": {
   "display_name": "Python 3 (ipykernel)",
   "language": "python",
   "name": "python3"
  },
  "language_info": {
   "codemirror_mode": {
    "name": "ipython",
    "version": 3
   },
   "file_extension": ".py",
   "mimetype": "text/x-python",
   "name": "python",
   "nbconvert_exporter": "python",
   "pygments_lexer": "ipython3",
   "version": "3.10.12"
  }
 },
 "nbformat": 4,
 "nbformat_minor": 5
}
