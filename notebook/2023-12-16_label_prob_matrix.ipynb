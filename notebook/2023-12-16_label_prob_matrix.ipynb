{
 "cells": [
  {
   "cell_type": "code",
   "execution_count": 1,
   "id": "ecc9f091-0e67-439e-81b1-ab6b3cfac03f",
   "metadata": {},
   "outputs": [
    {
     "name": "stdout",
     "output_type": "stream",
     "text": [
      "/kaggle/working\n"
     ]
    }
   ],
   "source": [
    "%cd .."
   ]
  },
  {
   "cell_type": "code",
   "execution_count": 2,
   "id": "db18c8e1-bbca-4ac0-b9d1-95299ad42625",
   "metadata": {},
   "outputs": [
    {
     "name": "stdout",
     "output_type": "stream",
     "text": [
      "debug: false\n",
      "seed: 7\n",
      "dir:\n",
      "  data_dir: /kaggle/working/input/atmaCup16_Dataset\n",
      "  output_dir: /kaggle/working/output\n",
      "  exp_dir: /kaggle/working/output/exp\n",
      "  cand_unsupervised_dir: /kaggle/working/output/cand_unsupervised\n",
      "  cand_supervised_dir: /kaggle/working/output/cand_supervised\n",
      "  datasets_dir: /kaggle/working/output/datasets\n",
      "exp:\n",
      "  num_candidate: 100\n",
      "  k:\n",
      "  - 1\n",
      "  - 5\n",
      "  - 10\n",
      "  - 50\n",
      "  - 100\n",
      "  range_transitions:\n",
      "  - -1\n",
      "  - 1\n",
      "  transition_times: 2\n",
      "  self_loop_prob: 0.5\n",
      "\n"
     ]
    }
   ],
   "source": [
    "from hydra import compose, initialize\n",
    "from omegaconf import OmegaConf\n",
    "\n",
    "with initialize(version_base=None, config_path=\"../cand_supervised/prob_matrix_filter\"):\n",
    "    cfg = compose(config_name=\"config.yaml\", overrides=[\"exp=two002\"])\n",
    "    print(OmegaConf.to_yaml(cfg))"
   ]
  },
  {
   "cell_type": "code",
   "execution_count": 3,
   "id": "edc6281f-3df0-4501-924c-38b4e0b73bec",
   "metadata": {},
   "outputs": [],
   "source": [
    "import logging\n",
    "import os\n",
    "import pickle\n",
    "import sys\n",
    "import time\n",
    "from pathlib import Path\n",
    "\n",
    "import hydra\n",
    "import lightgbm as lgb\n",
    "import matplotlib.pyplot as plt\n",
    "import numpy as np\n",
    "import pandas as pd\n",
    "import polars as pl\n",
    "import scipy.sparse as sparse\n",
    "from hydra.core.hydra_config import HydraConfig\n",
    "from omegaconf import DictConfig, OmegaConf\n",
    "from scipy.sparse import csr_matrix, eye\n",
    "from sklearn.preprocessing import normalize\n",
    "from tqdm.auto import tqdm\n",
    "\n",
    "import utils\n",
    "import wandb\n",
    "from utils.load import load_label_data, load_log_data, load_session_data, load_yad_data\n",
    "from utils.logger import get_logger\n",
    "from utils.metrics import calculate_metrics"
   ]
  },
  {
   "cell_type": "code",
   "execution_count": 4,
   "id": "ec1c5ec1-4635-48fc-9a1b-64c8c4ea6418",
   "metadata": {},
   "outputs": [
    {
     "name": "stdout",
     "output_type": "stream",
     "text": [
      "[load data] done in 0.1 s\n"
     ]
    }
   ],
   "source": [
    "with utils.timer(\"load data\"):\n",
    "    train_log_df = load_log_data(Path(cfg.dir.data_dir), \"train\")\n",
    "    train_label_df = load_label_data(Path(cfg.dir.data_dir))\n",
    "    test_log_df = load_log_data(Path(cfg.dir.data_dir), \"test\")\n",
    "\n",
    "    # 最後にlabelが来るとしたときのseq_noを計算しておく\n",
    "    last_seq_df = train_log_df.group_by(\"session_id\").agg(pl.col(\"seq_no\").max() + 1)\n",
    "    # labelを付与\n",
    "    label_seq_df = last_seq_df.join(train_label_df, on=\"session_id\")\n",
    "    all_log_df = pl.concat([train_log_df, label_seq_df, test_log_df]).sort(\n",
    "        [\"session_id\", \"seq_no\"]\n",
    "    )"
   ]
  },
  {
   "cell_type": "code",
   "execution_count": null,
   "id": "02663c2d-e62e-46c8-8323-793340ecd969",
   "metadata": {},
   "outputs": [],
   "source": []
  }
 ],
 "metadata": {
  "kernelspec": {
   "display_name": "Python 3 (ipykernel)",
   "language": "python",
   "name": "python3"
  },
  "language_info": {
   "codemirror_mode": {
    "name": "ipython",
    "version": 3
   },
   "file_extension": ".py",
   "mimetype": "text/x-python",
   "name": "python",
   "nbconvert_exporter": "python",
   "pygments_lexer": "ipython3",
   "version": "3.10.12"
  }
 },
 "nbformat": 4,
 "nbformat_minor": 5
}
