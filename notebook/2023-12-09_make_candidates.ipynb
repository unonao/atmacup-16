{
 "cells": [
  {
   "cell_type": "code",
   "execution_count": 1,
   "id": "e2665c5f-ae80-4d78-aae7-a06f641359b2",
   "metadata": {},
   "outputs": [
    {
     "name": "stdout",
     "output_type": "stream",
     "text": [
      "/kaggle/working\n"
     ]
    }
   ],
   "source": [
    "%cd .."
   ]
  },
  {
   "cell_type": "code",
   "execution_count": 2,
   "id": "a7a7f320-abc5-4569-90b0-730fd820b2be",
   "metadata": {},
   "outputs": [
    {
     "name": "stdout",
     "output_type": "stream",
     "text": [
      "debug: true\n",
      "seed: 7\n",
      "dir:\n",
      "  data_dir: /kaggle/working/input/atmaCup16_Dataset\n",
      "  output_dir: /kaggle/working/output\n",
      "  exp_dir: /kaggle/working/output/exp\n",
      "  cand_unsupervised_dir: /kaggle/working/output/cand_unsupervised\n",
      "  cand_supervised_dir: /kaggle/working/output/cand_supervised\n",
      "  datasets_dir: /kaggle/working/output/datasets\n",
      "exp:\n",
      "  fold_path: /kaggle/working/output/datasets/make_cv/base/train_fold.parquet\n",
      "  candidate_info_list:\n",
      "  - name: transition_prob/base\n",
      "    max_num_candidates: 100\n",
      "    dir: /kaggle/working/output/cand_unsupervised/transition_prob/base\n",
      "    features:\n",
      "    - name: yad2yad_feature\n",
      "  - name: ranking_location/sml_cd\n",
      "    max_num_candidates: 50\n",
      "    dir: /kaggle/working/output/cand_unsupervised/ranking_location/sml_cd\n",
      "    features:\n",
      "    - name: yad_feature\n",
      "  - name: ranking_location/lrg_cd\n",
      "    max_num_candidates: 50\n",
      "    dir: /kaggle/working/output/cand_unsupervised/ranking_location/lrg_cd\n",
      "    features:\n",
      "    - name: yad_feature\n",
      "\n"
     ]
    }
   ],
   "source": [
    "from hydra import compose, initialize\n",
    "from omegaconf import OmegaConf\n",
    "\n",
    "with initialize(version_base=None, config_path=\"../generate_datasets/001_baseline\"):\n",
    "    cfg = compose(config_name=\"config.yaml\", overrides=[\"debug=True\"])\n",
    "    print(OmegaConf.to_yaml(cfg))"
   ]
  },
  {
   "cell_type": "code",
   "execution_count": 9,
   "id": "c7a3b3ce-35c3-4a42-ae58-29226a4fb29a",
   "metadata": {},
   "outputs": [],
   "source": [
    "import os\n",
    "import sys\n",
    "from pathlib import Path\n",
    "\n",
    "import hydra\n",
    "import polars as pl\n",
    "from hydra.core.hydra_config import HydraConfig\n",
    "from omegaconf import DictConfig, OmegaConf\n",
    "\n",
    "import utils\n",
    "from utils.load import load_label_data, load_log_data, load_session_data, load_yad_data\n",
    "from utils.metrics import calculate_metrics"
   ]
  },
  {
   "cell_type": "code",
   "execution_count": 4,
   "id": "8c997ed5-a3b4-4f9a-a67b-350c4f4a68a7",
   "metadata": {},
   "outputs": [],
   "source": [
    "mode = \"train\""
   ]
  },
  {
   "cell_type": "code",
   "execution_count": 5,
   "id": "47cfa9e6-fa24-4cb2-be6c-3c31abee9303",
   "metadata": {},
   "outputs": [],
   "source": [
    "def load_and_union_candidates(cfg, mode: str):\n",
    "    # logデータのsession中のyad_noを候補に加える\n",
    "    log_df = load_log_data(Path(cfg.dir.data_dir), mode)\n",
    "    df = log_df.group_by(\"session_id\").agg(pl.col(\"yad_no\").alias(\"candidates\"))\n",
    "    dfs = [df]\n",
    "    for candidate_info in cfg.exp.candidate_info_list:\n",
    "        df = pl.read_parquet(Path(candidate_info[\"dir\"]) / f\"{mode}_candidate.parquet\")\n",
    "        df = df.with_columns(\n",
    "            pl.col(\"candidates\")\n",
    "            .list.head(candidate_info[\"max_num_candidates\"])\n",
    "            .alias(\"candidates\")\n",
    "        ).filter(pl.col(\"candidates\").list.len() > 0)\n",
    "\n",
    "        dfs.append(df)\n",
    "    df = pl.concat(dfs)\n",
    "    df = (\n",
    "        df.group_by(\"session_id\")\n",
    "        .agg(pl.col(\"candidates\").flatten())\n",
    "        .with_columns(pl.col(\"candidates\").list.unique())\n",
    "    ).select([\"session_id\", \"candidates\"])\n",
    "\n",
    "    if cfg.debug:\n",
    "        df = df.with_columns(pl.col(\"candidates\").list.head(5))\n",
    "\n",
    "    # リストを展開\n",
    "    candidate_df = df.explode(\"candidates\")\n",
    "\n",
    "    # セッション最後のyad_noを除外\n",
    "    last_df = (\n",
    "        load_log_data(Path(cfg.dir.data_dir), mode)\n",
    "        .group_by(\"session_id\")\n",
    "        .agg(pl.col(\"yad_no\").last().alias(\"candidates\"))\n",
    "        .with_columns(pl.lit(True).alias(\"last\"))\n",
    "        .sort(by=\"session_id\")\n",
    "    )\n",
    "    candidate_df = (\n",
    "        candidate_df.join(last_df, on=[\"session_id\", \"candidates\"], how=\"left\")\n",
    "        .filter(pl.col(\"last\").is_null())\n",
    "        .drop(\"last\")\n",
    "    )\n",
    "    return candidate_df"
   ]
  },
  {
   "cell_type": "code",
   "execution_count": 6,
   "id": "9c492250-7e2e-4436-a532-c4f0a8741609",
   "metadata": {},
   "outputs": [],
   "source": [
    "def convert_to_32bit(df):\n",
    "    df = df.with_columns(\n",
    "        [pl.col(col).cast(pl.Int32) for col in df.columns if df[col].dtype == pl.Int64]\n",
    "    ).with_columns(\n",
    "        [\n",
    "            pl.col(col).cast(pl.Float32)\n",
    "            for col in df.columns\n",
    "            if df[col].dtype == pl.Float64\n",
    "        ]\n",
    "    )\n",
    "    return df"
   ]
  },
  {
   "cell_type": "code",
   "execution_count": 7,
   "id": "cc013e8e-0e30-43a8-82a1-d4442c8f4568",
   "metadata": {},
   "outputs": [],
   "source": [
    "candidate_df = load_and_union_candidates(cfg, mode)"
   ]
  },
  {
   "cell_type": "code",
   "execution_count": 8,
   "id": "7a0cf67a-7f50-4f26-8301-e02ffc640080",
   "metadata": {},
   "outputs": [
    {
     "name": "stdout",
     "output_type": "stream",
     "text": [
      "(1415117, 2)\n"
     ]
    },
    {
     "data": {
      "text/html": [
       "<div><style>\n",
       ".dataframe > thead > tr > th,\n",
       ".dataframe > tbody > tr > td {\n",
       "  text-align: right;\n",
       "  white-space: pre-wrap;\n",
       "}\n",
       "</style>\n",
       "<small>shape: (5, 2)</small><table border=\"1\" class=\"dataframe\"><thead><tr><th>session_id</th><th>candidates</th></tr><tr><td>str</td><td>i32</td></tr></thead><tbody><tr><td>&quot;3c4f8bbb00915a…</td><td>540</td></tr><tr><td>&quot;3c4f8bbb00915a…</td><td>554</td></tr><tr><td>&quot;3c4f8bbb00915a…</td><td>781</td></tr><tr><td>&quot;3c4f8bbb00915a…</td><td>825</td></tr><tr><td>&quot;3c4f8bbb00915a…</td><td>1092</td></tr></tbody></table></div>"
      ],
      "text/plain": [
       "shape: (5, 2)\n",
       "┌──────────────────────────────────┬────────────┐\n",
       "│ session_id                       ┆ candidates │\n",
       "│ ---                              ┆ ---        │\n",
       "│ str                              ┆ i32        │\n",
       "╞══════════════════════════════════╪════════════╡\n",
       "│ 3c4f8bbb00915a25397145fb3fb49d2f ┆ 540        │\n",
       "│ 3c4f8bbb00915a25397145fb3fb49d2f ┆ 554        │\n",
       "│ 3c4f8bbb00915a25397145fb3fb49d2f ┆ 781        │\n",
       "│ 3c4f8bbb00915a25397145fb3fb49d2f ┆ 825        │\n",
       "│ 3c4f8bbb00915a25397145fb3fb49d2f ┆ 1092       │\n",
       "└──────────────────────────────────┴────────────┘"
      ]
     },
     "execution_count": 8,
     "metadata": {},
     "output_type": "execute_result"
    }
   ],
   "source": [
    "candidate_df = convert_to_32bit(candidate_df)\n",
    "print(candidate_df.shape)\n",
    "candidate_df.head()"
   ]
  },
  {
   "cell_type": "code",
   "execution_count": 58,
   "id": "a6e2e474-db0f-4823-b804-2c07cc0b4f03",
   "metadata": {},
   "outputs": [
    {
     "data": {
      "text/html": [
       "<div><style>\n",
       ".dataframe > thead > tr > th,\n",
       ".dataframe > tbody > tr > td {\n",
       "  text-align: right;\n",
       "  white-space: pre-wrap;\n",
       "}\n",
       "</style>\n",
       "<small>shape: (5, 4)</small><table border=\"1\" class=\"dataframe\"><thead><tr><th>session_id</th><th>yad_no</th><th>original</th><th>label</th></tr><tr><td>str</td><td>i64</td><td>bool</td><td>bool</td></tr></thead><tbody><tr><td>&quot;000007603d533d…</td><td>4101</td><td>false</td><td>true</td></tr><tr><td>&quot;0000ca043ed437…</td><td>8253</td><td>false</td><td>true</td></tr><tr><td>&quot;0000d4835cf113…</td><td>4863</td><td>false</td><td>true</td></tr><tr><td>&quot;0000fcda1ae1b2…</td><td>1652</td><td>false</td><td>true</td></tr><tr><td>&quot;000104bdffaaad…</td><td>96</td><td>false</td><td>true</td></tr></tbody></table></div>"
      ],
      "text/plain": [
       "shape: (5, 4)\n",
       "┌──────────────────────────────────┬────────┬──────────┬───────┐\n",
       "│ session_id                       ┆ yad_no ┆ original ┆ label │\n",
       "│ ---                              ┆ ---    ┆ ---      ┆ ---   │\n",
       "│ str                              ┆ i64    ┆ bool     ┆ bool  │\n",
       "╞══════════════════════════════════╪════════╪══════════╪═══════╡\n",
       "│ 000007603d533d30453cc45d0f3d119f ┆ 4101   ┆ false    ┆ true  │\n",
       "│ 0000ca043ed437a1472c9d1d154eb49b ┆ 8253   ┆ false    ┆ true  │\n",
       "│ 0000d4835cf113316fe447e2f80ba1c8 ┆ 4863   ┆ false    ┆ true  │\n",
       "│ 0000fcda1ae1b2f431e55a7075d1f500 ┆ 1652   ┆ false    ┆ true  │\n",
       "│ 000104bdffaaad1a1e0a9ebacf585f33 ┆ 96     ┆ false    ┆ true  │\n",
       "└──────────────────────────────────┴────────┴──────────┴───────┘"
      ]
     },
     "execution_count": 58,
     "metadata": {},
     "output_type": "execute_result"
    }
   ],
   "source": [
    "label_df = load_label_data(Path(cfg.dir.data_dir)).with_columns(\n",
    "    pl.lit(False).alias(\"original\"), pl.lit(True).alias(\"label\")\n",
    ")\n",
    "label_df.head()"
   ]
  },
  {
   "cell_type": "code",
   "execution_count": 63,
   "id": "1fd977d0-a084-4da9-975a-1626c9de2399",
   "metadata": {},
   "outputs": [],
   "source": [
    "def concat_label_fold(cfg, mode: str, candidate_df):\n",
    "    \"\"\"\n",
    "    train に対して original, label, fold を付与する\n",
    "    validationのスコア計算時にはoriginalを外して計算を行う\n",
    "    \"\"\"\n",
    "    if mode == \"train\":\n",
    "        candidate_df = (\n",
    "            pl.concat(\n",
    "                [\n",
    "                    candidate_df.with_columns(\n",
    "                        pl.lit(True).alias(\"original\"), pl.lit(False).alias(\"label\")\n",
    "                    ),\n",
    "                    convert_to_32bit(load_label_data(Path(cfg.dir.data_dir)))\n",
    "                    .with_columns(\n",
    "                        pl.col(\"yad_no\").alias(\"candidates\"),\n",
    "                        pl.lit(False).alias(\"original\"),\n",
    "                        pl.lit(True).alias(\"label\"),\n",
    "                    )\n",
    "                    .drop(\"yad_no\"),\n",
    "                ]\n",
    "            )\n",
    "            .group_by([\"session_id\", \"candidates\"])\n",
    "            .agg(pl.sum(\"original\"), pl.sum(\"label\"))\n",
    "        )\n",
    "        fold_df = pl.read_parquet(cfg.exp.fold_path)\n",
    "        candidate_df = candidate_df.join(fold_df, on=\"session_id\")\n",
    "    return candidate_df"
   ]
  },
  {
   "cell_type": "code",
   "execution_count": 64,
   "id": "62cc809f-2779-4d8a-a699-ff96e3c53492",
   "metadata": {},
   "outputs": [
    {
     "data": {
      "text/html": [
       "<div><style>\n",
       ".dataframe > thead > tr > th,\n",
       ".dataframe > tbody > tr > td {\n",
       "  text-align: right;\n",
       "  white-space: pre-wrap;\n",
       "}\n",
       "</style>\n",
       "<small>shape: (5, 5)</small><table border=\"1\" class=\"dataframe\"><thead><tr><th>session_id</th><th>candidates</th><th>original</th><th>label</th><th>fold</th></tr><tr><td>str</td><td>i32</td><td>u32</td><td>u32</td><td>i64</td></tr></thead><tbody><tr><td>&quot;bbdbf88dd0d1d7…</td><td>781</td><td>1</td><td>0</td><td>1</td></tr><tr><td>&quot;bbdbf88dd0d1d7…</td><td>1092</td><td>1</td><td>0</td><td>1</td></tr><tr><td>&quot;03256142f584cb…</td><td>2040</td><td>1</td><td>0</td><td>1</td></tr><tr><td>&quot;02f96519fc2974…</td><td>397</td><td>1</td><td>0</td><td>0</td></tr><tr><td>&quot;a00f5a46ab3faa…</td><td>708</td><td>1</td><td>0</td><td>2</td></tr></tbody></table></div>"
      ],
      "text/plain": [
       "shape: (5, 5)\n",
       "┌──────────────────────────────────┬────────────┬──────────┬───────┬──────┐\n",
       "│ session_id                       ┆ candidates ┆ original ┆ label ┆ fold │\n",
       "│ ---                              ┆ ---        ┆ ---      ┆ ---   ┆ ---  │\n",
       "│ str                              ┆ i32        ┆ u32      ┆ u32   ┆ i64  │\n",
       "╞══════════════════════════════════╪════════════╪══════════╪═══════╪══════╡\n",
       "│ bbdbf88dd0d1d7158c614b527b5d75a2 ┆ 781        ┆ 1        ┆ 0     ┆ 1    │\n",
       "│ bbdbf88dd0d1d7158c614b527b5d75a2 ┆ 1092       ┆ 1        ┆ 0     ┆ 1    │\n",
       "│ 03256142f584cb07a932dcd7c5ab8d4b ┆ 2040       ┆ 1        ┆ 0     ┆ 1    │\n",
       "│ 02f96519fc2974ac64c5d5900c9b47d0 ┆ 397        ┆ 1        ┆ 0     ┆ 0    │\n",
       "│ a00f5a46ab3faaf3f0c31909ad623efd ┆ 708        ┆ 1        ┆ 0     ┆ 2    │\n",
       "└──────────────────────────────────┴────────────┴──────────┴───────┴──────┘"
      ]
     },
     "execution_count": 64,
     "metadata": {},
     "output_type": "execute_result"
    }
   ],
   "source": [
    "concat_label_fold(cfg, mode, candidate_df).head()"
   ]
  },
  {
   "cell_type": "code",
   "execution_count": 22,
   "id": "4b4de6b9-a177-4d76-a899-a89b70d782a1",
   "metadata": {},
   "outputs": [
    {
     "data": {
      "text/html": [
       "<div><style>\n",
       ".dataframe > thead > tr > th,\n",
       ".dataframe > tbody > tr > td {\n",
       "  text-align: right;\n",
       "  white-space: pre-wrap;\n",
       "}\n",
       "</style>\n",
       "<small>shape: (5, 13)</small><table border=\"1\" class=\"dataframe\"><thead><tr><th>yad_no</th><th>yad_type</th><th>total_room_cnt</th><th>wireless_lan_flg</th><th>onsen_flg</th><th>kd_stn_5min</th><th>kd_bch_5min</th><th>kd_slp_5min</th><th>kd_conv_walk_5min</th><th>wid_cd</th><th>ken_cd</th><th>lrg_cd</th><th>sml_cd</th></tr><tr><td>i64</td><td>i64</td><td>f64</td><td>f64</td><td>i64</td><td>f64</td><td>f64</td><td>f64</td><td>f64</td><td>str</td><td>str</td><td>str</td><td>str</td></tr></thead><tbody><tr><td>1</td><td>0</td><td>129.0</td><td>1.0</td><td>0</td><td>1.0</td><td>0.0</td><td>0.0</td><td>1.0</td><td>&quot;f0112abf369fb0…</td><td>&quot;072c85e1653e10…</td><td>&quot;449c52ef581d5f…</td><td>&quot;677a32689cd1ad…</td></tr><tr><td>2</td><td>0</td><td>23.0</td><td>1.0</td><td>0</td><td>0.0</td><td>0.0</td><td>0.0</td><td>0.0</td><td>&quot;d86102dd9c232b…</td><td>&quot;b4d2fb4e51ea7b…</td><td>&quot;5c9a8f48e9df02…</td><td>&quot;4ee16ee838dd27…</td></tr><tr><td>3</td><td>0</td><td>167.0</td><td>1.0</td><td>1</td><td>1.0</td><td>0.0</td><td>0.0</td><td>1.0</td><td>&quot;46e33861f921c3…</td><td>&quot;572d60f0f5212a…</td><td>&quot;8a623b960557e8…</td><td>&quot;ab9480fd72a44d…</td></tr><tr><td>4</td><td>0</td><td>144.0</td><td>1.0</td><td>0</td><td>1.0</td><td>0.0</td><td>0.0</td><td>1.0</td><td>&quot;46e33861f921c3…</td><td>&quot;107c7305a74c8d…</td><td>&quot;52c9ea83f2cfe9…</td><td>&quot;1cc3e1838bb0fd…</td></tr><tr><td>5</td><td>0</td><td>41.0</td><td>1.0</td><td>1</td><td>0.0</td><td>0.0</td><td>0.0</td><td>0.0</td><td>&quot;43875109d1dab9…</td><td>&quot;75617bb07a2785…</td><td>&quot;9ea5a911019b66…</td><td>&quot;be1b876af18afc…</td></tr></tbody></table></div>"
      ],
      "text/plain": [
       "shape: (5, 13)\n",
       "┌────────┬──────────┬────────────┬────────────┬───┬────────────┬───────────┬───────────┬───────────┐\n",
       "│ yad_no ┆ yad_type ┆ total_room ┆ wireless_l ┆ … ┆ wid_cd     ┆ ken_cd    ┆ lrg_cd    ┆ sml_cd    │\n",
       "│ ---    ┆ ---      ┆ _cnt       ┆ an_flg     ┆   ┆ ---        ┆ ---       ┆ ---       ┆ ---       │\n",
       "│ i64    ┆ i64      ┆ ---        ┆ ---        ┆   ┆ str        ┆ str       ┆ str       ┆ str       │\n",
       "│        ┆          ┆ f64        ┆ f64        ┆   ┆            ┆           ┆           ┆           │\n",
       "╞════════╪══════════╪════════════╪════════════╪═══╪════════════╪═══════════╪═══════════╪═══════════╡\n",
       "│ 1      ┆ 0        ┆ 129.0      ┆ 1.0        ┆ … ┆ f0112abf36 ┆ 072c85e16 ┆ 449c52ef5 ┆ 677a32689 │\n",
       "│        ┆          ┆            ┆            ┆   ┆ 9fb03cdc5f ┆ 53e10c9c7 ┆ 81d5f9ef3 ┆ cd1ad74e8 │\n",
       "│        ┆          ┆            ┆            ┆   ┆ 5309300913 ┆ dd065ad00 ┆ 11189469a ┆ 67f1fbe43 │\n",
       "│        ┆          ┆            ┆            ┆   ┆ da         ┆ 7125a     ┆ 0520e     ┆ a3e1c     │\n",
       "│ 2      ┆ 0        ┆ 23.0       ┆ 1.0        ┆ … ┆ d86102dd9c ┆ b4d2fb4e5 ┆ 5c9a8f48e ┆ 4ee16ee83 │\n",
       "│        ┆          ┆            ┆            ┆   ┆ 232bade9a9 ┆ 1ea7bca80 ┆ 9df0234da ┆ 8dd2703cc │\n",
       "│        ┆          ┆            ┆            ┆   ┆ 7dccad40df ┆ eb1270aa4 ┆ 012747a02 ┆ 9a1d5a535 │\n",
       "│        ┆          ┆            ┆            ┆   ┆ 48         ┆ 74a54     ┆ d4b29     ┆ f0ced     │\n",
       "│ 3      ┆ 0        ┆ 167.0      ┆ 1.0        ┆ … ┆ 46e33861f9 ┆ 572d60f0f ┆ 8a623b960 ┆ ab9480fd7 │\n",
       "│        ┆          ┆            ┆            ┆   ┆ 21c3e38b81 ┆ 5212aacda ┆ 557e87bd1 ┆ 2a44d5169 │\n",
       "│        ┆          ┆            ┆            ┆   ┆ 998fbf283f ┆ 515ebf81f ┆ f4edf71b6 ┆ 0ab16c4ad │\n",
       "│        ┆          ┆            ┆            ┆   ┆ 01         ┆ b0a3a     ┆ 255be     ┆ 4d49c     │\n",
       "│ 4      ┆ 0        ┆ 144.0      ┆ 1.0        ┆ … ┆ 46e33861f9 ┆ 107c7305a ┆ 52c9ea83f ┆ 1cc3e1838 │\n",
       "│        ┆          ┆            ┆            ┆   ┆ 21c3e38b81 ┆ 74c8dcc4f ┆ 2cfe92be5 ┆ bb0fd0fde │\n",
       "│        ┆          ┆            ┆            ┆   ┆ 998fbf283f ┆ 143de208b ┆ 4cb6bc961 ┆ 0396130b1 │\n",
       "│        ┆          ┆            ┆            ┆   ┆ 01         ┆ f7ec2     ┆ edf21     ┆ f82b9     │\n",
       "│ 5      ┆ 0        ┆ 41.0       ┆ 1.0        ┆ … ┆ 43875109d1 ┆ 75617bb07 ┆ 9ea5a9110 ┆ be1b876af │\n",
       "│        ┆          ┆            ┆            ┆   ┆ dab9359281 ┆ a2785a948 ┆ 19b66ccd4 ┆ 18afc4dee │\n",
       "│        ┆          ┆            ┆            ┆   ┆ 2c50d18270 ┆ ab1958909 ┆ 2f556c42a ┆ b3081591d │\n",
       "│        ┆          ┆            ┆            ┆   ┆ a7         ┆ 211f1     ┆ 2fe2f     ┆ 2a910     │\n",
       "└────────┴──────────┴────────────┴────────────┴───┴────────────┴───────────┴───────────┴───────────┘"
      ]
     },
     "execution_count": 22,
     "metadata": {},
     "output_type": "execute_result"
    }
   ],
   "source": [
    "yad_df.fill_null(0).head()"
   ]
  },
  {
   "cell_type": "code",
   "execution_count": 39,
   "id": "742de24a-fafd-4fba-8aea-82c93e730b62",
   "metadata": {},
   "outputs": [],
   "source": [
    "def concat_session_feature(cfg, mode: str, candidate_df: pl.DataFrame):\n",
    "    \"\"\"\n",
    "    # TODO: categorical_colの情報もあとで追加する\n",
    "    session_id, seq_no, yad_no に yado.csv を結合して集約し、セッションに関する特徴量を作成する\n",
    "    \"\"\"\n",
    "    log_df = load_log_data(Path(cfg.dir.data_dir), mode)\n",
    "    yad_df = load_yad_data(Path(cfg.dir.data_dir))\n",
    "    log_yad_df = log_df.join(yad_df.fill_null(0), on=\"yad_no\")\n",
    "    log_yad_df = log_yad_df.group_by(by=\"session_id\").agg(\n",
    "        [pl.sum(col).name.suffix(\"_session_sum\") for col in numerical_col]\n",
    "        + [pl.min(col).name.suffix(\"_session_min\") for col in numerical_col]\n",
    "        + [pl.max(col).name.suffix(\"_session_max\") for col in numerical_col]\n",
    "        + [pl.std(col).name.suffix(\"_session_std\") for col in numerical_col]\n",
    "    )\n",
    "\n",
    "    candidate_df = candidate_df.join(log_yad_df, on=\"session_id\")\n",
    "\n",
    "    return candidate_df"
   ]
  },
  {
   "cell_type": "code",
   "execution_count": 41,
   "id": "4bf2ae5b-0123-422a-8bd8-d40a1fc489b3",
   "metadata": {},
   "outputs": [
    {
     "data": {
      "text/html": [
       "<div><style>\n",
       ".dataframe > thead > tr > th,\n",
       ".dataframe > tbody > tr > td {\n",
       "  text-align: right;\n",
       "  white-space: pre-wrap;\n",
       "}\n",
       "</style>\n",
       "<small>shape: (5, 26)</small><table border=\"1\" class=\"dataframe\"><thead><tr><th>session_id</th><th>candidates</th><th>total_room_cnt_session_sum</th><th>wireless_lan_flg_session_sum</th><th>onsen_flg_session_sum</th><th>kd_stn_5min_session_sum</th><th>kd_bch_5min_session_sum</th><th>kd_slp_5min_session_sum</th><th>total_room_cnt_session_min</th><th>wireless_lan_flg_session_min</th><th>onsen_flg_session_min</th><th>kd_stn_5min_session_min</th><th>kd_bch_5min_session_min</th><th>kd_slp_5min_session_min</th><th>total_room_cnt_session_max</th><th>wireless_lan_flg_session_max</th><th>onsen_flg_session_max</th><th>kd_stn_5min_session_max</th><th>kd_bch_5min_session_max</th><th>kd_slp_5min_session_max</th><th>total_room_cnt_session_std</th><th>wireless_lan_flg_session_std</th><th>onsen_flg_session_std</th><th>kd_stn_5min_session_std</th><th>kd_bch_5min_session_std</th><th>kd_slp_5min_session_std</th></tr><tr><td>str</td><td>i32</td><td>f64</td><td>f64</td><td>i64</td><td>f64</td><td>f64</td><td>f64</td><td>f64</td><td>f64</td><td>i64</td><td>f64</td><td>f64</td><td>f64</td><td>f64</td><td>f64</td><td>i64</td><td>f64</td><td>f64</td><td>f64</td><td>f64</td><td>f64</td><td>f64</td><td>f64</td><td>f64</td><td>f64</td></tr></thead><tbody><tr><td>&quot;3c4f8bbb00915a…</td><td>540</td><td>493.0</td><td>1.0</td><td>0</td><td>1.0</td><td>0.0</td><td>0.0</td><td>493.0</td><td>1.0</td><td>0</td><td>1.0</td><td>0.0</td><td>0.0</td><td>493.0</td><td>1.0</td><td>0</td><td>1.0</td><td>0.0</td><td>0.0</td><td>null</td><td>null</td><td>null</td><td>null</td><td>null</td><td>null</td></tr><tr><td>&quot;3c4f8bbb00915a…</td><td>554</td><td>493.0</td><td>1.0</td><td>0</td><td>1.0</td><td>0.0</td><td>0.0</td><td>493.0</td><td>1.0</td><td>0</td><td>1.0</td><td>0.0</td><td>0.0</td><td>493.0</td><td>1.0</td><td>0</td><td>1.0</td><td>0.0</td><td>0.0</td><td>null</td><td>null</td><td>null</td><td>null</td><td>null</td><td>null</td></tr><tr><td>&quot;3c4f8bbb00915a…</td><td>781</td><td>493.0</td><td>1.0</td><td>0</td><td>1.0</td><td>0.0</td><td>0.0</td><td>493.0</td><td>1.0</td><td>0</td><td>1.0</td><td>0.0</td><td>0.0</td><td>493.0</td><td>1.0</td><td>0</td><td>1.0</td><td>0.0</td><td>0.0</td><td>null</td><td>null</td><td>null</td><td>null</td><td>null</td><td>null</td></tr><tr><td>&quot;3c4f8bbb00915a…</td><td>825</td><td>493.0</td><td>1.0</td><td>0</td><td>1.0</td><td>0.0</td><td>0.0</td><td>493.0</td><td>1.0</td><td>0</td><td>1.0</td><td>0.0</td><td>0.0</td><td>493.0</td><td>1.0</td><td>0</td><td>1.0</td><td>0.0</td><td>0.0</td><td>null</td><td>null</td><td>null</td><td>null</td><td>null</td><td>null</td></tr><tr><td>&quot;3c4f8bbb00915a…</td><td>1092</td><td>493.0</td><td>1.0</td><td>0</td><td>1.0</td><td>0.0</td><td>0.0</td><td>493.0</td><td>1.0</td><td>0</td><td>1.0</td><td>0.0</td><td>0.0</td><td>493.0</td><td>1.0</td><td>0</td><td>1.0</td><td>0.0</td><td>0.0</td><td>null</td><td>null</td><td>null</td><td>null</td><td>null</td><td>null</td></tr></tbody></table></div>"
      ],
      "text/plain": [
       "shape: (5, 26)\n",
       "┌───────────┬───────────┬───────────┬───────────┬───┬───────────┬───────────┬───────────┬──────────┐\n",
       "│ session_i ┆ candidate ┆ total_roo ┆ wireless_ ┆ … ┆ onsen_flg ┆ kd_stn_5m ┆ kd_bch_5m ┆ kd_slp_5 │\n",
       "│ d         ┆ s         ┆ m_cnt_ses ┆ lan_flg_s ┆   ┆ _session_ ┆ in_sessio ┆ in_sessio ┆ min_sess │\n",
       "│ ---       ┆ ---       ┆ sion_sum  ┆ ession_su ┆   ┆ std       ┆ n_std     ┆ n_std     ┆ ion_std  │\n",
       "│ str       ┆ i32       ┆ ---       ┆ m         ┆   ┆ ---       ┆ ---       ┆ ---       ┆ ---      │\n",
       "│           ┆           ┆ f64       ┆ ---       ┆   ┆ f64       ┆ f64       ┆ f64       ┆ f64      │\n",
       "│           ┆           ┆           ┆ f64       ┆   ┆           ┆           ┆           ┆          │\n",
       "╞═══════════╪═══════════╪═══════════╪═══════════╪═══╪═══════════╪═══════════╪═══════════╪══════════╡\n",
       "│ 3c4f8bbb0 ┆ 540       ┆ 493.0     ┆ 1.0       ┆ … ┆ null      ┆ null      ┆ null      ┆ null     │\n",
       "│ 0915a2539 ┆           ┆           ┆           ┆   ┆           ┆           ┆           ┆          │\n",
       "│ 7145fb3fb ┆           ┆           ┆           ┆   ┆           ┆           ┆           ┆          │\n",
       "│ 49d2f     ┆           ┆           ┆           ┆   ┆           ┆           ┆           ┆          │\n",
       "│ 3c4f8bbb0 ┆ 554       ┆ 493.0     ┆ 1.0       ┆ … ┆ null      ┆ null      ┆ null      ┆ null     │\n",
       "│ 0915a2539 ┆           ┆           ┆           ┆   ┆           ┆           ┆           ┆          │\n",
       "│ 7145fb3fb ┆           ┆           ┆           ┆   ┆           ┆           ┆           ┆          │\n",
       "│ 49d2f     ┆           ┆           ┆           ┆   ┆           ┆           ┆           ┆          │\n",
       "│ 3c4f8bbb0 ┆ 781       ┆ 493.0     ┆ 1.0       ┆ … ┆ null      ┆ null      ┆ null      ┆ null     │\n",
       "│ 0915a2539 ┆           ┆           ┆           ┆   ┆           ┆           ┆           ┆          │\n",
       "│ 7145fb3fb ┆           ┆           ┆           ┆   ┆           ┆           ┆           ┆          │\n",
       "│ 49d2f     ┆           ┆           ┆           ┆   ┆           ┆           ┆           ┆          │\n",
       "│ 3c4f8bbb0 ┆ 825       ┆ 493.0     ┆ 1.0       ┆ … ┆ null      ┆ null      ┆ null      ┆ null     │\n",
       "│ 0915a2539 ┆           ┆           ┆           ┆   ┆           ┆           ┆           ┆          │\n",
       "│ 7145fb3fb ┆           ┆           ┆           ┆   ┆           ┆           ┆           ┆          │\n",
       "│ 49d2f     ┆           ┆           ┆           ┆   ┆           ┆           ┆           ┆          │\n",
       "│ 3c4f8bbb0 ┆ 1092      ┆ 493.0     ┆ 1.0       ┆ … ┆ null      ┆ null      ┆ null      ┆ null     │\n",
       "│ 0915a2539 ┆           ┆           ┆           ┆   ┆           ┆           ┆           ┆          │\n",
       "│ 7145fb3fb ┆           ┆           ┆           ┆   ┆           ┆           ┆           ┆          │\n",
       "│ 49d2f     ┆           ┆           ┆           ┆   ┆           ┆           ┆           ┆          │\n",
       "└───────────┴───────────┴───────────┴───────────┴───┴───────────┴───────────┴───────────┴──────────┘"
      ]
     },
     "execution_count": 41,
     "metadata": {},
     "output_type": "execute_result"
    }
   ],
   "source": [
    "candidate_session_df = concat_session_feature(cfg, mode, candidate_df)\n",
    "candidate_session_df.head()"
   ]
  },
  {
   "cell_type": "code",
   "execution_count": 49,
   "id": "69e2f3df-36ff-41ec-b7a7-7566a2a56600",
   "metadata": {},
   "outputs": [],
   "source": [
    "def concat_candidate_feature(cfg, mode: str, candidate_df: pl.DataFrame):\n",
    "    \"\"\"\n",
    "    # TODO: categorical_colの情報もあとで追加する\n",
    "    candidateの特徴量を抽出する\n",
    "    \"\"\"\n",
    "    yad_df = load_yad_data(Path(cfg.dir.data_dir))\n",
    "    yad_df = convert_to_32bit(yad_df)\n",
    "    candidate_yad_df = candidate_df.join(\n",
    "        yad_df.select([\"yad_no\"] + numerical_col),\n",
    "        left_on=\"candidates\",\n",
    "        right_on=\"yad_no\",\n",
    "    )\n",
    "    return candidate_yad_df"
   ]
  },
  {
   "cell_type": "code",
   "execution_count": 53,
   "id": "fc6b3aa1-6a80-4d9d-96d3-d7cd9ab0e6a9",
   "metadata": {},
   "outputs": [
    {
     "data": {
      "text/html": [
       "<div><style>\n",
       ".dataframe > thead > tr > th,\n",
       ".dataframe > tbody > tr > td {\n",
       "  text-align: right;\n",
       "  white-space: pre-wrap;\n",
       "}\n",
       "</style>\n",
       "<small>shape: (5, 32)</small><table border=\"1\" class=\"dataframe\"><thead><tr><th>session_id</th><th>candidates</th><th>total_room_cnt_session_sum</th><th>wireless_lan_flg_session_sum</th><th>onsen_flg_session_sum</th><th>kd_stn_5min_session_sum</th><th>kd_bch_5min_session_sum</th><th>kd_slp_5min_session_sum</th><th>total_room_cnt_session_min</th><th>wireless_lan_flg_session_min</th><th>onsen_flg_session_min</th><th>kd_stn_5min_session_min</th><th>kd_bch_5min_session_min</th><th>kd_slp_5min_session_min</th><th>total_room_cnt_session_max</th><th>wireless_lan_flg_session_max</th><th>onsen_flg_session_max</th><th>kd_stn_5min_session_max</th><th>kd_bch_5min_session_max</th><th>kd_slp_5min_session_max</th><th>total_room_cnt_session_std</th><th>wireless_lan_flg_session_std</th><th>onsen_flg_session_std</th><th>kd_stn_5min_session_std</th><th>kd_bch_5min_session_std</th><th>kd_slp_5min_session_std</th><th>total_room_cnt</th><th>wireless_lan_flg</th><th>onsen_flg</th><th>kd_stn_5min</th><th>kd_bch_5min</th><th>kd_slp_5min</th></tr><tr><td>str</td><td>i32</td><td>f64</td><td>f64</td><td>i64</td><td>f64</td><td>f64</td><td>f64</td><td>f64</td><td>f64</td><td>i64</td><td>f64</td><td>f64</td><td>f64</td><td>f64</td><td>f64</td><td>i64</td><td>f64</td><td>f64</td><td>f64</td><td>f64</td><td>f64</td><td>f64</td><td>f64</td><td>f64</td><td>f64</td><td>f32</td><td>f32</td><td>i32</td><td>f32</td><td>f32</td><td>f32</td></tr></thead><tbody><tr><td>&quot;3c4f8bbb00915a…</td><td>540</td><td>493.0</td><td>1.0</td><td>0</td><td>1.0</td><td>0.0</td><td>0.0</td><td>493.0</td><td>1.0</td><td>0</td><td>1.0</td><td>0.0</td><td>0.0</td><td>493.0</td><td>1.0</td><td>0</td><td>1.0</td><td>0.0</td><td>0.0</td><td>null</td><td>null</td><td>null</td><td>null</td><td>null</td><td>null</td><td>103.0</td><td>1.0</td><td>0</td><td>1.0</td><td>null</td><td>null</td></tr><tr><td>&quot;3c4f8bbb00915a…</td><td>554</td><td>493.0</td><td>1.0</td><td>0</td><td>1.0</td><td>0.0</td><td>0.0</td><td>493.0</td><td>1.0</td><td>0</td><td>1.0</td><td>0.0</td><td>0.0</td><td>493.0</td><td>1.0</td><td>0</td><td>1.0</td><td>0.0</td><td>0.0</td><td>null</td><td>null</td><td>null</td><td>null</td><td>null</td><td>null</td><td>134.0</td><td>1.0</td><td>0</td><td>null</td><td>null</td><td>null</td></tr><tr><td>&quot;3c4f8bbb00915a…</td><td>781</td><td>493.0</td><td>1.0</td><td>0</td><td>1.0</td><td>0.0</td><td>0.0</td><td>493.0</td><td>1.0</td><td>0</td><td>1.0</td><td>0.0</td><td>0.0</td><td>493.0</td><td>1.0</td><td>0</td><td>1.0</td><td>0.0</td><td>0.0</td><td>null</td><td>null</td><td>null</td><td>null</td><td>null</td><td>null</td><td>228.0</td><td>1.0</td><td>0</td><td>1.0</td><td>null</td><td>null</td></tr><tr><td>&quot;3c4f8bbb00915a…</td><td>825</td><td>493.0</td><td>1.0</td><td>0</td><td>1.0</td><td>0.0</td><td>0.0</td><td>493.0</td><td>1.0</td><td>0</td><td>1.0</td><td>0.0</td><td>0.0</td><td>493.0</td><td>1.0</td><td>0</td><td>1.0</td><td>0.0</td><td>0.0</td><td>null</td><td>null</td><td>null</td><td>null</td><td>null</td><td>null</td><td>203.0</td><td>1.0</td><td>0</td><td>1.0</td><td>null</td><td>null</td></tr><tr><td>&quot;3c4f8bbb00915a…</td><td>1092</td><td>493.0</td><td>1.0</td><td>0</td><td>1.0</td><td>0.0</td><td>0.0</td><td>493.0</td><td>1.0</td><td>0</td><td>1.0</td><td>0.0</td><td>0.0</td><td>493.0</td><td>1.0</td><td>0</td><td>1.0</td><td>0.0</td><td>0.0</td><td>null</td><td>null</td><td>null</td><td>null</td><td>null</td><td>null</td><td>296.0</td><td>1.0</td><td>0</td><td>1.0</td><td>null</td><td>null</td></tr></tbody></table></div>"
      ],
      "text/plain": [
       "shape: (5, 32)\n",
       "┌───────────┬───────────┬───────────┬───────────┬───┬───────────┬───────────┬───────────┬──────────┐\n",
       "│ session_i ┆ candidate ┆ total_roo ┆ wireless_ ┆ … ┆ onsen_flg ┆ kd_stn_5m ┆ kd_bch_5m ┆ kd_slp_5 │\n",
       "│ d         ┆ s         ┆ m_cnt_ses ┆ lan_flg_s ┆   ┆ ---       ┆ in        ┆ in        ┆ min      │\n",
       "│ ---       ┆ ---       ┆ sion_sum  ┆ ession_su ┆   ┆ i32       ┆ ---       ┆ ---       ┆ ---      │\n",
       "│ str       ┆ i32       ┆ ---       ┆ m         ┆   ┆           ┆ f32       ┆ f32       ┆ f32      │\n",
       "│           ┆           ┆ f64       ┆ ---       ┆   ┆           ┆           ┆           ┆          │\n",
       "│           ┆           ┆           ┆ f64       ┆   ┆           ┆           ┆           ┆          │\n",
       "╞═══════════╪═══════════╪═══════════╪═══════════╪═══╪═══════════╪═══════════╪═══════════╪══════════╡\n",
       "│ 3c4f8bbb0 ┆ 540       ┆ 493.0     ┆ 1.0       ┆ … ┆ 0         ┆ 1.0       ┆ null      ┆ null     │\n",
       "│ 0915a2539 ┆           ┆           ┆           ┆   ┆           ┆           ┆           ┆          │\n",
       "│ 7145fb3fb ┆           ┆           ┆           ┆   ┆           ┆           ┆           ┆          │\n",
       "│ 49d2f     ┆           ┆           ┆           ┆   ┆           ┆           ┆           ┆          │\n",
       "│ 3c4f8bbb0 ┆ 554       ┆ 493.0     ┆ 1.0       ┆ … ┆ 0         ┆ null      ┆ null      ┆ null     │\n",
       "│ 0915a2539 ┆           ┆           ┆           ┆   ┆           ┆           ┆           ┆          │\n",
       "│ 7145fb3fb ┆           ┆           ┆           ┆   ┆           ┆           ┆           ┆          │\n",
       "│ 49d2f     ┆           ┆           ┆           ┆   ┆           ┆           ┆           ┆          │\n",
       "│ 3c4f8bbb0 ┆ 781       ┆ 493.0     ┆ 1.0       ┆ … ┆ 0         ┆ 1.0       ┆ null      ┆ null     │\n",
       "│ 0915a2539 ┆           ┆           ┆           ┆   ┆           ┆           ┆           ┆          │\n",
       "│ 7145fb3fb ┆           ┆           ┆           ┆   ┆           ┆           ┆           ┆          │\n",
       "│ 49d2f     ┆           ┆           ┆           ┆   ┆           ┆           ┆           ┆          │\n",
       "│ 3c4f8bbb0 ┆ 825       ┆ 493.0     ┆ 1.0       ┆ … ┆ 0         ┆ 1.0       ┆ null      ┆ null     │\n",
       "│ 0915a2539 ┆           ┆           ┆           ┆   ┆           ┆           ┆           ┆          │\n",
       "│ 7145fb3fb ┆           ┆           ┆           ┆   ┆           ┆           ┆           ┆          │\n",
       "│ 49d2f     ┆           ┆           ┆           ┆   ┆           ┆           ┆           ┆          │\n",
       "│ 3c4f8bbb0 ┆ 1092      ┆ 493.0     ┆ 1.0       ┆ … ┆ 0         ┆ 1.0       ┆ null      ┆ null     │\n",
       "│ 0915a2539 ┆           ┆           ┆           ┆   ┆           ┆           ┆           ┆          │\n",
       "│ 7145fb3fb ┆           ┆           ┆           ┆   ┆           ┆           ┆           ┆          │\n",
       "│ 49d2f     ┆           ┆           ┆           ┆   ┆           ┆           ┆           ┆          │\n",
       "└───────────┴───────────┴───────────┴───────────┴───┴───────────┴───────────┴───────────┴──────────┘"
      ]
     },
     "execution_count": 53,
     "metadata": {},
     "output_type": "execute_result"
    }
   ],
   "source": [
    "candidate_session_cand_df = concat_candidate_feature(cfg, mode, candidate_session_df)\n",
    "candidate_session_cand_df.head()"
   ]
  },
  {
   "cell_type": "code",
   "execution_count": null,
   "id": "cb2c3de8-8f05-4e67-997d-ac0238d6c718",
   "metadata": {},
   "outputs": [],
   "source": [
    "def concat_session_candidate_feature(cfg, mode: str, candidate_df: pl.DataFrame):\n",
    "    \"\"\"\n",
    "    session中の特徴とcandidateの関係性を特徴量として抽出する\n",
    "    例：session中におけるcandidateの出現回数(割合)、candidateと同一地域のものを見た回数(割合)\n",
    "    \"\"\"\n",
    "    pass"
   ]
  },
  {
   "cell_type": "code",
   "execution_count": 55,
   "id": "25546642-b1d9-4012-ae43-e242e5985c80",
   "metadata": {},
   "outputs": [],
   "source": []
  },
  {
   "cell_type": "code",
   "execution_count": 52,
   "id": "56a5e25f-6b27-461c-862a-a1d3e34c9092",
   "metadata": {},
   "outputs": [
    {
     "data": {
      "text/html": [
       "<div><style>\n",
       ".dataframe > thead > tr > th,\n",
       ".dataframe > tbody > tr > td {\n",
       "  text-align: right;\n",
       "  white-space: pre-wrap;\n",
       "}\n",
       "</style>\n",
       "<small>shape: (288_698, 2)</small><table border=\"1\" class=\"dataframe\"><thead><tr><th>session_id</th><th>fold</th></tr><tr><td>str</td><td>i64</td></tr></thead><tbody><tr><td>&quot;000007603d533d…</td><td>2</td></tr><tr><td>&quot;0000ca043ed437…</td><td>2</td></tr><tr><td>&quot;0000d4835cf113…</td><td>0</td></tr><tr><td>&quot;0000fcda1ae1b2…</td><td>4</td></tr><tr><td>&quot;000104bdffaaad…</td><td>3</td></tr><tr><td>&quot;00011afe25c343…</td><td>1</td></tr><tr><td>&quot;000125c737df18…</td><td>0</td></tr><tr><td>&quot;0001763050a10b…</td><td>1</td></tr><tr><td>&quot;000178c4d4d567…</td><td>1</td></tr><tr><td>&quot;0001e6a407a85d…</td><td>1</td></tr><tr><td>&quot;0002499cf2713a…</td><td>4</td></tr><tr><td>&quot;00026fd325b5d6…</td><td>4</td></tr><tr><td>&hellip;</td><td>&hellip;</td></tr><tr><td>&quot;fffd8c4fa7b5be…</td><td>0</td></tr><tr><td>&quot;fffe2d9e5982f5…</td><td>3</td></tr><tr><td>&quot;fffe3dedeb89ae…</td><td>0</td></tr><tr><td>&quot;fffe40478b2163…</td><td>0</td></tr><tr><td>&quot;fffe78a078a176…</td><td>3</td></tr><tr><td>&quot;fffe8a472ae6a9…</td><td>1</td></tr><tr><td>&quot;fffe8c99c5b332…</td><td>3</td></tr><tr><td>&quot;ffff2262d38abd…</td><td>1</td></tr><tr><td>&quot;ffff2360540745…</td><td>3</td></tr><tr><td>&quot;ffff7fb4617164…</td><td>4</td></tr><tr><td>&quot;ffffcd5bc19d62…</td><td>0</td></tr><tr><td>&quot;fffffa7baf3700…</td><td>2</td></tr></tbody></table></div>"
      ],
      "text/plain": [
       "shape: (288_698, 2)\n",
       "┌──────────────────────────────────┬──────┐\n",
       "│ session_id                       ┆ fold │\n",
       "│ ---                              ┆ ---  │\n",
       "│ str                              ┆ i64  │\n",
       "╞══════════════════════════════════╪══════╡\n",
       "│ 000007603d533d30453cc45d0f3d119f ┆ 2    │\n",
       "│ 0000ca043ed437a1472c9d1d154eb49b ┆ 2    │\n",
       "│ 0000d4835cf113316fe447e2f80ba1c8 ┆ 0    │\n",
       "│ 0000fcda1ae1b2f431e55a7075d1f500 ┆ 4    │\n",
       "│ …                                ┆ …    │\n",
       "│ ffff2360540745117193ecadcdc06538 ┆ 3    │\n",
       "│ ffff7fb4617164b2604aaf51c40bf82d ┆ 4    │\n",
       "│ ffffcd5bc19d62cad5a3815c87818d83 ┆ 0    │\n",
       "│ fffffa7baf370083ebcdd98f26a7e31a ┆ 2    │\n",
       "└──────────────────────────────────┴──────┘"
      ]
     },
     "execution_count": 52,
     "metadata": {},
     "output_type": "execute_result"
    }
   ],
   "source": []
  },
  {
   "cell_type": "code",
   "execution_count": null,
   "id": "f1342740-73bf-4a3d-bcd4-6f44ecd76321",
   "metadata": {},
   "outputs": [],
   "source": []
  },
  {
   "cell_type": "code",
   "execution_count": null,
   "id": "b4908850-13aa-4018-b593-30671c3d3b72",
   "metadata": {},
   "outputs": [],
   "source": []
  }
 ],
 "metadata": {
  "kernelspec": {
   "display_name": "Python 3 (ipykernel)",
   "language": "python",
   "name": "python3"
  },
  "language_info": {
   "codemirror_mode": {
    "name": "ipython",
    "version": 3
   },
   "file_extension": ".py",
   "mimetype": "text/x-python",
   "name": "python",
   "nbconvert_exporter": "python",
   "pygments_lexer": "ipython3",
   "version": "3.10.12"
  }
 },
 "nbformat": 4,
 "nbformat_minor": 5
}
