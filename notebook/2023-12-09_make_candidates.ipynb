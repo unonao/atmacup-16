{
 "cells": [
  {
   "cell_type": "code",
   "execution_count": 1,
   "id": "e2665c5f-ae80-4d78-aae7-a06f641359b2",
   "metadata": {},
   "outputs": [
    {
     "name": "stdout",
     "output_type": "stream",
     "text": [
      "/kaggle/working\n"
     ]
    }
   ],
   "source": [
    "%cd .."
   ]
  },
  {
   "cell_type": "code",
   "execution_count": 18,
   "id": "a7a7f320-abc5-4569-90b0-730fd820b2be",
   "metadata": {},
   "outputs": [
    {
     "name": "stdout",
     "output_type": "stream",
     "text": [
      "debug: false\n",
      "seed: 7\n",
      "dir:\n",
      "  data_dir: /kaggle/working/input/atmaCup16_Dataset\n",
      "  output_dir: /kaggle/working/output\n",
      "  exp_dir: /kaggle/working/output/exp\n",
      "  cand_unsupervised_dir: /kaggle/working/output/cand_unsupervised\n",
      "  cand_supervised_dir: /kaggle/working/output/cand_supervised\n",
      "  datasets_dir: /kaggle/working/output/datasets\n",
      "exp:\n",
      "  fold_path: /kaggle/working/output/datasets/make_cv/base/train_fold.parquet\n",
      "  candidate_info_list:\n",
      "  - name: transition_prob/base\n",
      "    max_num_candidates: 100\n",
      "    dir: /kaggle/working/output/cand_unsupervised/transition_prob/base\n",
      "    features:\n",
      "    - name: yad2yad_feature\n",
      "  - name: ranking_location/sml_cd\n",
      "    max_num_candidates: 50\n",
      "    dir: /kaggle/working/output/cand_unsupervised/ranking_location/sml_cd\n",
      "    features:\n",
      "    - name: yad_feature\n",
      "  - name: ranking_location/lrg_cd\n",
      "    max_num_candidates: 50\n",
      "    dir: /kaggle/working/output/cand_unsupervised/ranking_location/lrg_cd\n",
      "    features:\n",
      "    - name: yad_feature\n",
      "\n"
     ]
    }
   ],
   "source": [
    "from hydra import compose, initialize\n",
    "from omegaconf import OmegaConf\n",
    "\n",
    "with initialize(version_base=None, config_path=\"../generate_datasets/001_baseline\"):\n",
    "    cfg = compose(config_name=\"config.yaml\")\n",
    "    print(OmegaConf.to_yaml(cfg))"
   ]
  },
  {
   "cell_type": "code",
   "execution_count": 3,
   "id": "c7a3b3ce-35c3-4a42-ae58-29226a4fb29a",
   "metadata": {},
   "outputs": [],
   "source": [
    "import os\n",
    "import sys\n",
    "from pathlib import Path\n",
    "\n",
    "import hydra\n",
    "import polars as pl\n",
    "from hydra.core.hydra_config import HydraConfig\n",
    "from omegaconf import DictConfig, OmegaConf\n",
    "\n",
    "import utils\n",
    "from utils.load import load_label_data, load_log_data, load_session_data\n",
    "from utils.metrics import calculate_metrics"
   ]
  },
  {
   "cell_type": "code",
   "execution_count": 37,
   "id": "8c997ed5-a3b4-4f9a-a67b-350c4f4a68a7",
   "metadata": {},
   "outputs": [],
   "source": [
    "mode = \"train\""
   ]
  },
  {
   "cell_type": "code",
   "execution_count": 76,
   "id": "47cfa9e6-fa24-4cb2-be6c-3c31abee9303",
   "metadata": {},
   "outputs": [],
   "source": [
    "def load_and_union_candidates(cfg, mode: str):\n",
    "    # logデータのsession中のyad_noを候補に加える\n",
    "    log_df = load_log_data(Path(cfg.dir.data_dir), mode)\n",
    "    df = log_df.group_by(\"session_id\").agg(pl.col(\"yad_no\").alias(\"candidates\"))\n",
    "    dfs = [df]\n",
    "    for candidate_info in cfg.exp.candidate_info_list:\n",
    "        df = pl.read_parquet(Path(candidate_info[\"dir\"]) / f\"{mode}_candidate.parquet\")\n",
    "        df = df.with_columns(\n",
    "            pl.col(\"candidates\")\n",
    "            .list.head(candidate_info[\"max_num_candidates\"])\n",
    "            .alias(\"candidates\")\n",
    "        ).filter(pl.col(\"candidates\").list.len() > 0)\n",
    "\n",
    "        dfs.append(df)\n",
    "    df = pl.concat(dfs)\n",
    "    df = (\n",
    "        df.group_by(\"session_id\")\n",
    "        .agg(pl.col(\"candidates\").flatten())\n",
    "        .with_columns(pl.col(\"candidates\").list.unique())\n",
    "    ).select([\"session_id\", \"candidates\"])\n",
    "\n",
    "    # リストを展開\n",
    "    candidate_df = df.explode(\"candidates\")\n",
    "\n",
    "    # セッション最後のyad_noを除外\n",
    "    last_df = (\n",
    "        load_log_data(Path(cfg.dir.data_dir), mode)\n",
    "        .group_by(\"session_id\")\n",
    "        .agg(pl.col(\"yad_no\").last().alias(\"candidates\"))\n",
    "        .with_columns(pl.lit(True).alias(\"last\"))\n",
    "        .sort(by=\"session_id\")\n",
    "    )\n",
    "    candidate_df = (\n",
    "        candidate_df.join(last_df, on=[\"session_id\", \"candidates\"], how=\"left\")\n",
    "        .filter(pl.col(\"last\").is_null())\n",
    "        .drop(\"last\")\n",
    "    )\n",
    "    return candidate_df"
   ]
  },
  {
   "cell_type": "code",
   "execution_count": 84,
   "id": "9c492250-7e2e-4436-a532-c4f0a8741609",
   "metadata": {},
   "outputs": [],
   "source": [
    "def convert_to_32bit(df):\n",
    "    df = df.with_columns(\n",
    "        [pl.col(col).cast(pl.Int32) for col in df.columns if df[col].dtype == pl.Int64]\n",
    "    ).with_columns(\n",
    "        [\n",
    "            pl.col(col).cast(pl.Float32)\n",
    "            for col in df.columns\n",
    "            if df[col].dtype == pl.Float64\n",
    "        ]\n",
    "    )\n",
    "    return df"
   ]
  },
  {
   "cell_type": "code",
   "execution_count": null,
   "id": "cc013e8e-0e30-43a8-82a1-d4442c8f4568",
   "metadata": {},
   "outputs": [],
   "source": [
    "candidate_df = load_and_union_candidates(cfg, mode)"
   ]
  },
  {
   "cell_type": "code",
   "execution_count": 85,
   "id": "7a0cf67a-7f50-4f26-8301-e02ffc640080",
   "metadata": {},
   "outputs": [
    {
     "data": {
      "text/html": [
       "<div><style>\n",
       ".dataframe > thead > tr,\n",
       ".dataframe > tbody > tr {\n",
       "  text-align: right;\n",
       "  white-space: pre-wrap;\n",
       "}\n",
       "</style>\n",
       "<small>shape: (5, 2)</small><table border=\"1\" class=\"dataframe\"><thead><tr><th>session_id</th><th>candidates</th></tr><tr><td>str</td><td>i32</td></tr></thead><tbody><tr><td>&quot;f34454bc86fa15…</td><td>38</td></tr><tr><td>&quot;f34454bc86fa15…</td><td>150</td></tr><tr><td>&quot;f34454bc86fa15…</td><td>488</td></tr><tr><td>&quot;f34454bc86fa15…</td><td>519</td></tr><tr><td>&quot;f34454bc86fa15…</td><td>780</td></tr></tbody></table></div>"
      ],
      "text/plain": [
       "shape: (5, 2)\n",
       "┌──────────────────────────────────┬────────────┐\n",
       "│ session_id                       ┆ candidates │\n",
       "│ ---                              ┆ ---        │\n",
       "│ str                              ┆ i32        │\n",
       "╞══════════════════════════════════╪════════════╡\n",
       "│ f34454bc86fa150025906e43e08587e3 ┆ 38         │\n",
       "│ f34454bc86fa150025906e43e08587e3 ┆ 150        │\n",
       "│ f34454bc86fa150025906e43e08587e3 ┆ 488        │\n",
       "│ f34454bc86fa150025906e43e08587e3 ┆ 519        │\n",
       "│ f34454bc86fa150025906e43e08587e3 ┆ 780        │\n",
       "└──────────────────────────────────┴────────────┘"
      ]
     },
     "execution_count": 85,
     "metadata": {},
     "output_type": "execute_result"
    }
   ],
   "source": [
    "candidate_df = convert_to_32bit(candidate_df)\n",
    "candidate_df.head()"
   ]
  },
  {
   "cell_type": "code",
   "execution_count": null,
   "id": "4bf2ae5b-0123-422a-8bd8-d40a1fc489b3",
   "metadata": {},
   "outputs": [],
   "source": [
    "def concat_session_feature(cfg, mode: str, candidate_df: pl.DataFrame):\n",
    "    \"\"\"\n",
    "    session_id, seq_no, yad_no に yado.csv を結合して集約し、セッションに関する特徴量を作成する\n",
    "    \"\"\"\n",
    "    pass"
   ]
  },
  {
   "cell_type": "code",
   "execution_count": null,
   "id": "69e2f3df-36ff-41ec-b7a7-7566a2a56600",
   "metadata": {},
   "outputs": [],
   "source": [
    "def concat_candidate_feature(cfg, mode: str, candidate_df: pl.DataFrame):\n",
    "    \"\"\"\n",
    "    candidateの特徴量を抽出する\n",
    "    \"\"\"\n",
    "    pass"
   ]
  },
  {
   "cell_type": "code",
   "execution_count": null,
   "id": "cb2c3de8-8f05-4e67-997d-ac0238d6c718",
   "metadata": {},
   "outputs": [],
   "source": [
    "def concat_session_candidate_feature(cfg, mode: str, candidate_df: pl.DataFrame):\n",
    "    \"\"\"\n",
    "    session中の特徴とcandidateの関係性を特徴量として抽出する\n",
    "    例：session中におけるcandidateの出現回数(割合)、candidateと同一地域のものを見た回数(割合)\n",
    "    \"\"\"\n",
    "    pass"
   ]
  },
  {
   "cell_type": "code",
   "execution_count": null,
   "id": "25546642-b1d9-4012-ae43-e242e5985c80",
   "metadata": {},
   "outputs": [],
   "source": []
  },
  {
   "cell_type": "code",
   "execution_count": null,
   "id": "56a5e25f-6b27-461c-862a-a1d3e34c9092",
   "metadata": {},
   "outputs": [],
   "source": []
  },
  {
   "cell_type": "code",
   "execution_count": null,
   "id": "f1342740-73bf-4a3d-bcd4-6f44ecd76321",
   "metadata": {},
   "outputs": [],
   "source": [
    "def concat_label_fold(cfg, mode: str, candidate_df):\n",
    "    pass"
   ]
  },
  {
   "cell_type": "code",
   "execution_count": null,
   "id": "b4908850-13aa-4018-b593-30671c3d3b72",
   "metadata": {},
   "outputs": [],
   "source": []
  }
 ],
 "metadata": {
  "kernelspec": {
   "display_name": "Python 3 (ipykernel)",
   "language": "python",
   "name": "python3"
  },
  "language_info": {
   "codemirror_mode": {
    "name": "ipython",
    "version": 3
   },
   "file_extension": ".py",
   "mimetype": "text/x-python",
   "name": "python",
   "nbconvert_exporter": "python",
   "pygments_lexer": "ipython3",
   "version": "3.10.12"
  }
 },
 "nbformat": 4,
 "nbformat_minor": 5
}
