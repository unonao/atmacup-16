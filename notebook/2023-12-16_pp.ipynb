{
 "cells": [
  {
   "cell_type": "markdown",
   "id": "0fef7a7d-857e-4750-97f4-152c2f42b98c",
   "metadata": {},
   "source": [
    "## 後処理でうまく汎化させる方法を見つける\n",
    "\n",
    "- seq_len==1 の上位を変更する\n",
    "- 確率行列(のpower) を用いて、lastから最も遷移し易いものを候補とする\n",
    "\n",
    "### バリエーション\n",
    "\n",
    "- 確率行列のpowerの回数を変えてみる\n",
    "- 確率行列をlabelも含めて生成してみる（oofでのスコア計算はリークしてしまいうまくいかないが、提出してどうなるかを確かめる"
   ]
  },
  {
   "cell_type": "code",
   "execution_count": 2,
   "id": "0e120ef5-236d-4751-95c8-2d3f5a72c6ea",
   "metadata": {},
   "outputs": [
    {
     "name": "stdout",
     "output_type": "stream",
     "text": [
      "/kaggle/working\n"
     ]
    }
   ],
   "source": [
    "%cd .."
   ]
  },
  {
   "cell_type": "code",
   "execution_count": 23,
   "id": "772edaa5-ebc1-4afd-99a1-4e38cabee474",
   "metadata": {},
   "outputs": [
    {
     "name": "stdout",
     "output_type": "stream",
     "text": [
      "debug: false\n",
      "seed: 42\n",
      "dir:\n",
      "  data_dir: /kaggle/working/input/atmaCup16_Dataset\n",
      "  output_dir: /kaggle/working/output\n",
      "  exp_dir: /kaggle/working/output/exp\n",
      "  cand_unsupervised_dir: /kaggle/working/output/cand_unsupervised\n",
      "  cand_supervised_dir: /kaggle/working/output/cand_supervised\n",
      "  datasets_dir: /kaggle/working/output/datasets\n",
      "exp:\n",
      "  other_dirs:\n",
      "  - output/exp/008_split/base\n",
      "  first_dirs:\n",
      "  - output/exp/008_split/v025_003_first\n",
      "  transision_path: output/cand_unsupervised/prob_matrix_filter/two002/yad2yad_feature.parquet\n",
      "  score_col: transition_prob\n",
      "\n"
     ]
    }
   ],
   "source": [
    "from hydra import compose, initialize\n",
    "from omegaconf import OmegaConf\n",
    "\n",
    "with initialize(version_base=None, config_path=\"../experiments/ensemble_002\"):\n",
    "    cfg = compose(config_name=\"config.yaml\", overrides=[\"exp=003\"])\n",
    "    print(OmegaConf.to_yaml(cfg))"
   ]
  },
  {
   "cell_type": "code",
   "execution_count": 6,
   "id": "1780c277-4a08-4bce-8f0c-8f771aa1bddb",
   "metadata": {},
   "outputs": [],
   "source": [
    "import logging\n",
    "import os\n",
    "import pickle\n",
    "import sys\n",
    "import time\n",
    "from pathlib import Path\n",
    "\n",
    "import hydra\n",
    "import lightgbm as lgb\n",
    "import matplotlib.pyplot as plt\n",
    "import numpy as np\n",
    "import pandas as pd\n",
    "import polars as pl\n",
    "from hydra.core.hydra_config import HydraConfig\n",
    "from omegaconf import DictConfig, OmegaConf\n",
    "from tqdm.auto import tqdm\n",
    "\n",
    "import utils\n",
    "from utils.load import load_label_data, load_log_data, load_session_data\n",
    "from utils.logger import get_logger\n",
    "from utils.metrics import calculate_metrics"
   ]
  },
  {
   "cell_type": "code",
   "execution_count": 12,
   "id": "fe6ec98a-0a26-49ad-b368-5eb072ef4b2e",
   "metadata": {},
   "outputs": [],
   "source": [
    "logger = get_logger(__name__, \"./notebook/run.log\")"
   ]
  },
  {
   "cell_type": "code",
   "execution_count": 9,
   "id": "d41fdb83-b7a3-4f6f-b5ac-2bb5d0553668",
   "metadata": {},
   "outputs": [],
   "source": [
    "other_oof_df = pl.read_parquet(Path(cfg.exp.other_dirs[0]) / \"oof_pred.parquet\")\n",
    "other_test_df = pl.read_parquet(Path(cfg.exp.other_dirs[0]) / \"test_pred.parquet\")\n",
    "first_oof_df = pl.read_parquet(Path(cfg.exp.first_dirs[0]) / \"oof_pred.parquet\")\n",
    "first_test_df = pl.read_parquet(Path(cfg.exp.first_dirs[0]) / \"test_pred.parquet\")"
   ]
  },
  {
   "cell_type": "code",
   "execution_count": 14,
   "id": "2d8e432c-1a8b-4ec5-8719-739609d4aedf",
   "metadata": {},
   "outputs": [],
   "source": [
    "def make_eval_df(cfg, other_oof_df: pl.DataFrame, first_oof_df: pl.DataFrame):\n",
    "    other_oof_df = other_oof_df.filter(pl.col(\"session_count\") != 1).drop(\n",
    "        \"session_count\"\n",
    "    )\n",
    "    first_oof_df = first_oof_df.filter(pl.col(\"session_count\") == 1).drop(\n",
    "        \"session_count\"\n",
    "    )\n",
    "    pred_df = pl.concat([other_oof_df, first_oof_df]).sort(\n",
    "        by=[\"session_id\", \"pred\"], descending=True\n",
    "    )\n",
    "    pred_candidates_df = pred_df.group_by(\"session_id\").agg(pl.col(\"candidates\"))\n",
    "    train_label_df = load_label_data(Path(cfg.dir.data_dir))\n",
    "    candidaates_df = pred_candidates_df.join(\n",
    "        train_label_df, on=\"session_id\", how=\"left\"\n",
    "    )\n",
    "    return candidaates_df"
   ]
  },
  {
   "cell_type": "code",
   "execution_count": 15,
   "id": "c082d21f-9b3f-4e7e-ad71-3246b55ee291",
   "metadata": {},
   "outputs": [
    {
     "name": "stderr",
     "output_type": "stream",
     "text": [
      "shape: (5, 3)\n",
      "┌──────────────────────────────────┬───────────────────────┬────────┐\n",
      "│ session_id                       ┆ candidates            ┆ yad_no │\n",
      "│ ---                              ┆ ---                   ┆ ---    │\n",
      "│ str                              ┆ list[i32]             ┆ i64    │\n",
      "╞══════════════════════════════════╪═══════════════════════╪════════╡\n",
      "│ 186768e7232523202944561d05c561d5 ┆ [1405, 3954, … 2524]  ┆ 3954   │\n",
      "│ 46f542caf1efc6c39cedf30d2119a816 ┆ [6893, 1587, … 9941]  ┆ 2118   │\n",
      "│ badeb10fc0ba79786ba13913c7bbbea8 ┆ [6199, 11037, … 6178] ┆ 12986  │\n",
      "│ 34de4dd4beb7e479b0c4ec4934b30723 ┆ [7215, 12122, … 8406] ┆ 3519   │\n",
      "│ 85e893285ec16fb2bb64620c8596a44d ┆ [630, 6418, … 303]    ┆ 2187   │\n",
      "└──────────────────────────────────┴───────────────────────┴────────┘\n",
      "shape: (5, 3)\n",
      "┌──────────────────────────────────┬───────────────────────┬────────┐\n",
      "│ session_id                       ┆ candidates            ┆ yad_no │\n",
      "│ ---                              ┆ ---                   ┆ ---    │\n",
      "│ str                              ┆ list[i32]             ┆ i64    │\n",
      "╞══════════════════════════════════╪═══════════════════════╪════════╡\n",
      "│ 186768e7232523202944561d05c561d5 ┆ [1405, 3954, … 2524]  ┆ 3954   │\n",
      "│ 46f542caf1efc6c39cedf30d2119a816 ┆ [6893, 1587, … 9941]  ┆ 2118   │\n",
      "│ badeb10fc0ba79786ba13913c7bbbea8 ┆ [6199, 11037, … 6178] ┆ 12986  │\n",
      "│ 34de4dd4beb7e479b0c4ec4934b30723 ┆ [7215, 12122, … 8406] ┆ 3519   │\n",
      "│ 85e893285ec16fb2bb64620c8596a44d ┆ [630, 6418, … 303]    ┆ 2187   │\n",
      "└──────────────────────────────────┴───────────────────────┴────────┘\n"
     ]
    },
    {
     "name": "stdout",
     "output_type": "stream",
     "text": [
      "k: 10\n",
      "avg_num_candidates: 9.991298865942957\n",
      "recall: 0.6098448898156551\n",
      "precision: 0.06098448898156552\n"
     ]
    },
    {
     "name": "stderr",
     "output_type": "stream",
     "text": [
      "[{'k': 10, 'avg_num_candidates': 9.991298865942957, 'recall': 0.6098448898156551, 'precision': 0.06098448898156552, 'map@k': 0.40712217314583793}]\n",
      "[{'k': 10, 'avg_num_candidates': 9.991298865942957, 'recall': 0.6098448898156551, 'precision': 0.06098448898156552, 'map@k': 0.40712217314583793}]\n"
     ]
    },
    {
     "name": "stdout",
     "output_type": "stream",
     "text": [
      "map@k: 0.40712217314583793\n",
      "\n"
     ]
    },
    {
     "name": "stderr",
     "output_type": "stream",
     "text": [
      "[5.0GB(+1.0GB):9.1sec] eval \n"
     ]
    }
   ],
   "source": [
    "with utils.trace(\"eval\"):\n",
    "    oof_candidate_df = make_eval_df(cfg, other_oof_df, first_oof_df)\n",
    "    logger.info(oof_candidate_df.head())\n",
    "    metrics = calculate_metrics(\n",
    "        oof_candidate_df, candidates_col=\"candidates\", label_col=\"yad_no\", k=[10]\n",
    "    )\n",
    "    logger.info(metrics)"
   ]
  },
  {
   "cell_type": "markdown",
   "id": "77a565b0-58a9-4ec1-a6df-07cdbb3f4d70",
   "metadata": {},
   "source": [
    "\n",
    "## 遷移確率で修正してみる\n"
   ]
  },
  {
   "cell_type": "code",
   "execution_count": 19,
   "id": "7352189c-cf66-47de-851c-d9aa7c0397e2",
   "metadata": {},
   "outputs": [],
   "source": [
    "transition_df = pl.read_parquet(cfg.exp.transision_path).filter(\n",
    "    pl.col(\"from_yad_no\") != pl.col(\"to_yad_no\")\n",
    ")"
   ]
  },
  {
   "cell_type": "code",
   "execution_count": 22,
   "id": "4d0874ab-38d4-461b-bf26-f14486c9fc32",
   "metadata": {},
   "outputs": [
    {
     "data": {
      "text/html": [
       "<div><style>\n",
       ".dataframe > thead > tr > th,\n",
       ".dataframe > tbody > tr > td {\n",
       "  text-align: right;\n",
       "  white-space: pre-wrap;\n",
       "}\n",
       "</style>\n",
       "<small>shape: (5, 4)</small><table border=\"1\" class=\"dataframe\"><thead><tr><th>session_id</th><th>candidates</th><th>pred</th><th>session_count</th></tr><tr><td>str</td><td>i32</td><td>f64</td><td>i32</td></tr></thead><tbody><tr><td>&quot;fffffa7baf3700…</td><td>2439</td><td>0.223318</td><td>2</td></tr><tr><td>&quot;fffffa7baf3700…</td><td>10095</td><td>0.203527</td><td>2</td></tr><tr><td>&quot;fffffa7baf3700…</td><td>1372</td><td>0.144034</td><td>2</td></tr><tr><td>&quot;fffffa7baf3700…</td><td>9624</td><td>0.132992</td><td>2</td></tr><tr><td>&quot;fffffa7baf3700…</td><td>12154</td><td>0.132992</td><td>2</td></tr></tbody></table></div>"
      ],
      "text/plain": [
       "shape: (5, 4)\n",
       "┌──────────────────────────────────┬────────────┬──────────┬───────────────┐\n",
       "│ session_id                       ┆ candidates ┆ pred     ┆ session_count │\n",
       "│ ---                              ┆ ---        ┆ ---      ┆ ---           │\n",
       "│ str                              ┆ i32        ┆ f64      ┆ i32           │\n",
       "╞══════════════════════════════════╪════════════╪══════════╪═══════════════╡\n",
       "│ fffffa7baf370083ebcdd98f26a7e31a ┆ 2439       ┆ 0.223318 ┆ 2             │\n",
       "│ fffffa7baf370083ebcdd98f26a7e31a ┆ 10095      ┆ 0.203527 ┆ 2             │\n",
       "│ fffffa7baf370083ebcdd98f26a7e31a ┆ 1372       ┆ 0.144034 ┆ 2             │\n",
       "│ fffffa7baf370083ebcdd98f26a7e31a ┆ 9624       ┆ 0.132992 ┆ 2             │\n",
       "│ fffffa7baf370083ebcdd98f26a7e31a ┆ 12154      ┆ 0.132992 ┆ 2             │\n",
       "└──────────────────────────────────┴────────────┴──────────┴───────────────┘"
      ]
     },
     "execution_count": 22,
     "metadata": {},
     "output_type": "execute_result"
    }
   ],
   "source": [
    "first_oof_df.head()"
   ]
  },
  {
   "cell_type": "code",
   "execution_count": 26,
   "id": "29214445-dc49-4ca5-ac8a-b5ec73ac0a4a",
   "metadata": {},
   "outputs": [],
   "source": [
    "def concat_label_pred(cfg, first_df, transition_df, mode):\n",
    "    # 最後のyad_noを作る＆そのセッションでの長さを計算&長さ１のものだけ残す\n",
    "    log_df = load_log_data(Path(cfg.dir.data_dir), mode)\n",
    "    last_log_df = (\n",
    "        log_df.with_columns(\n",
    "            (pl.col(\"seq_no\").max().over(\"session_id\") + 1).alias(\"session_count\")\n",
    "        )\n",
    "        .filter(pl.col(\"session_count\") == 1)\n",
    "        .rename({\"yad_no\": \"from_yad_no\"})\n",
    "    )\n",
    "    # session と結合\n",
    "    session_df = load_session_data(Path(cfg.dir.data_dir), mode)\n",
    "    session_last_df = session_df.join(\n",
    "        last_log_df.select([\"session_id\", \"from_yad_no\", \"session_count\"]),\n",
    "        on=\"session_id\",\n",
    "    )\n",
    "\n",
    "    # transitionと結合\n",
    "    first_df_from_label = (\n",
    "        session_last_df.join(\n",
    "            transition_df.rename({cfg.exp.score_col: \"pred\"}), on=\"from_yad_no\"\n",
    "        )\n",
    "        .with_columns(\n",
    "            pl.col(\"to_yad_no\").alias(\"candidates\").cast(pl.Int32),\n",
    "            pl.col(\"session_count\").cast(pl.Int32),\n",
    "            pl.col(\"pred\") * 1000,\n",
    "        )\n",
    "        .drop([\"from_yad_no\", \"to_yad_no\"])\n",
    "        .select([\"session_id\", \"candidates\", \"pred\", \"session_count\"])\n",
    "    )\n",
    "\n",
    "    # first と結合\n",
    "    result = (\n",
    "        pl.concat([first_df, first_df_from_label])\n",
    "        .group_by([\"session_id\", \"candidates\"])\n",
    "        .agg(pl.col(\"pred\").sum(), pl.col(\"session_count\").max())\n",
    "        .sort(by=[\"session_id\", \"pred\"], descending=True)\n",
    "    )\n",
    "    return result"
   ]
  },
  {
   "cell_type": "code",
   "execution_count": 27,
   "id": "bf382253-a990-4e13-a359-e6eb241b9787",
   "metadata": {},
   "outputs": [
    {
     "name": "stderr",
     "output_type": "stream",
     "text": [
      "shape: (5, 3)\n",
      "┌──────────────────────────────────┬────────────────────────┬────────┐\n",
      "│ session_id                       ┆ candidates             ┆ yad_no │\n",
      "│ ---                              ┆ ---                    ┆ ---    │\n",
      "│ str                              ┆ list[i32]              ┆ i64    │\n",
      "╞══════════════════════════════════╪════════════════════════╪════════╡\n",
      "│ 32f17966c7468726a20cee23a7ed1a29 ┆ [11407, 1050, … 10983] ┆ 12736  │\n",
      "│ 2de19706348d0401830ba078cdc43ee9 ┆ [364, 8809, … 801]     ┆ 364    │\n",
      "│ 88d3cb4f009273bcfabdb5905c9a9e84 ┆ [11470, 7256, … 6629]  ┆ 5340   │\n",
      "│ 9dbf3e1f0763479397540d3e103356cc ┆ [4391, 2995, … 535]    ┆ 11996  │\n",
      "│ c26bffdd0ccd6fd25bea43ea9974abcd ┆ [5552, 9432, … 5828]   ┆ 5552   │\n",
      "└──────────────────────────────────┴────────────────────────┴────────┘\n",
      "shape: (5, 3)\n",
      "┌──────────────────────────────────┬────────────────────────┬────────┐\n",
      "│ session_id                       ┆ candidates             ┆ yad_no │\n",
      "│ ---                              ┆ ---                    ┆ ---    │\n",
      "│ str                              ┆ list[i32]              ┆ i64    │\n",
      "╞══════════════════════════════════╪════════════════════════╪════════╡\n",
      "│ 32f17966c7468726a20cee23a7ed1a29 ┆ [11407, 1050, … 10983] ┆ 12736  │\n",
      "│ 2de19706348d0401830ba078cdc43ee9 ┆ [364, 8809, … 801]     ┆ 364    │\n",
      "│ 88d3cb4f009273bcfabdb5905c9a9e84 ┆ [11470, 7256, … 6629]  ┆ 5340   │\n",
      "│ 9dbf3e1f0763479397540d3e103356cc ┆ [4391, 2995, … 535]    ┆ 11996  │\n",
      "│ c26bffdd0ccd6fd25bea43ea9974abcd ┆ [5552, 9432, … 5828]   ┆ 5552   │\n",
      "└──────────────────────────────────┴────────────────────────┴────────┘\n"
     ]
    },
    {
     "name": "stdout",
     "output_type": "stream",
     "text": [
      "k: 10\n",
      "avg_num_candidates: 9.991298865942957\n",
      "recall: 0.6116114417141788\n",
      "precision: 0.06116114417141788\n"
     ]
    },
    {
     "name": "stderr",
     "output_type": "stream",
     "text": [
      "[{'k': 10, 'avg_num_candidates': 9.991298865942957, 'recall': 0.6116114417141788, 'precision': 0.06116114417141788, 'map@k': 0.40763716728427263}]\n",
      "[{'k': 10, 'avg_num_candidates': 9.991298865942957, 'recall': 0.6116114417141788, 'precision': 0.06116114417141788, 'map@k': 0.40763716728427263}]\n"
     ]
    },
    {
     "name": "stdout",
     "output_type": "stream",
     "text": [
      "map@k: 0.40763716728427263\n",
      "\n"
     ]
    },
    {
     "name": "stderr",
     "output_type": "stream",
     "text": [
      "[5.7GB(+0.3GB):13.4sec] post process for eval \n"
     ]
    }
   ],
   "source": [
    "with utils.trace(\"post process for eval\"):\n",
    "    oof_candidate_df = make_eval_df(\n",
    "        cfg, other_oof_df, concat_label_pred(cfg, first_oof_df, transition_df, \"train\")\n",
    "    )\n",
    "    logger.info(oof_candidate_df.head())\n",
    "    metrics = calculate_metrics(\n",
    "        oof_candidate_df, candidates_col=\"candidates\", label_col=\"yad_no\", k=[10]\n",
    "    )\n",
    "    logger.info(metrics)"
   ]
  },
  {
   "cell_type": "code",
   "execution_count": null,
   "id": "81087aa3-f8ee-4a18-8502-c3447ce509ee",
   "metadata": {},
   "outputs": [],
   "source": [
    "seq_len_df = train_log_df.group_by(\"session_id\").agg(\n",
    "    (pl.col(\"seq_no\").max() + 1).alias(\"seq_len\")\n",
    ")\n",
    "oof_candidate_df = oof_candidate_df.join(seq_len_df, on=\"session_id\")\n",
    "for i in range(1, 10):\n",
    "    print(i)\n",
    "    metrics_list = calculate_metrics(\n",
    "        oof_candidate_df.filter(pl.col(\"seq_len\") == i),\n",
    "        candidates_col=\"candidates\",\n",
    "        label_col=\"yad_no\",\n",
    "        k=10,\n",
    "    )\n",
    "    for metrics in metrics_list:\n",
    "        metrics = {f\"{k}/each_seq_len\": v for k, v in metrics.items()}\n",
    "        metrics[\"seq_len\"] = i\n",
    "        print(metrics)"
   ]
  }
 ],
 "metadata": {
  "kernelspec": {
   "display_name": "Python 3 (ipykernel)",
   "language": "python",
   "name": "python3"
  },
  "language_info": {
   "codemirror_mode": {
    "name": "ipython",
    "version": 3
   },
   "file_extension": ".py",
   "mimetype": "text/x-python",
   "name": "python",
   "nbconvert_exporter": "python",
   "pygments_lexer": "ipython3",
   "version": "3.10.12"
  }
 },
 "nbformat": 4,
 "nbformat_minor": 5
}
