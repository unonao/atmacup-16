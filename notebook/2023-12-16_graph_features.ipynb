{
 "cells": [
  {
   "cell_type": "code",
   "execution_count": 1,
   "id": "ac9e8810-8b9f-4eeb-ac3a-890736c84a11",
   "metadata": {},
   "outputs": [
    {
     "name": "stdout",
     "output_type": "stream",
     "text": [
      "/kaggle/working\n"
     ]
    }
   ],
   "source": [
    "%cd .."
   ]
  },
  {
   "cell_type": "code",
   "execution_count": 2,
   "id": "8a06c817-1ef7-4db1-8006-58bda1d5c66a",
   "metadata": {},
   "outputs": [
    {
     "name": "stdout",
     "output_type": "stream",
     "text": [
      "debug: false\n",
      "seed: 7\n",
      "dir:\n",
      "  data_dir: /kaggle/working/input/atmaCup16_Dataset\n",
      "  output_dir: /kaggle/working/output\n",
      "  exp_dir: /kaggle/working/output/exp\n",
      "  cand_unsupervised_dir: /kaggle/working/output/cand_unsupervised\n",
      "  cand_supervised_dir: /kaggle/working/output/cand_supervised\n",
      "  datasets_dir: /kaggle/working/output/datasets\n",
      "exp: {}\n",
      "\n"
     ]
    }
   ],
   "source": [
    "from hydra import compose, initialize\n",
    "from omegaconf import OmegaConf\n",
    "\n",
    "with initialize(version_base=None, config_path=\"../cand_unsupervised/feat_graph\"):\n",
    "    cfg = compose(config_name=\"config.yaml\", overrides=[\"exp=base\"])\n",
    "    print(OmegaConf.to_yaml(cfg))"
   ]
  },
  {
   "cell_type": "code",
   "execution_count": 11,
   "id": "747988e5-bfab-46c3-a584-96996ed10ae5",
   "metadata": {},
   "outputs": [],
   "source": [
    "import os\n",
    "import sys\n",
    "from pathlib import Path\n",
    "\n",
    "import hydra\n",
    "import igraph as ig\n",
    "import numpy as np\n",
    "import polars as pl\n",
    "import scipy.sparse as sparse\n",
    "from hydra.core.hydra_config import HydraConfig\n",
    "from omegaconf import DictConfig, OmegaConf\n",
    "from scipy.sparse import csr_matrix, eye\n",
    "\n",
    "import utils\n",
    "from utils.load import load_log_data, load_yad_data\n",
    "from utils.metrics import calculate_metrics"
   ]
  },
  {
   "cell_type": "code",
   "execution_count": 5,
   "id": "738f28c1-999a-49fd-a737-c1b439d548a3",
   "metadata": {},
   "outputs": [
    {
     "name": "stdout",
     "output_type": "stream",
     "text": [
      "[load data] done in 0.1 s\n"
     ]
    }
   ],
   "source": [
    "with utils.timer(\"load data\"):\n",
    "    train_log_df = load_log_data(Path(cfg.dir.data_dir), \"train\")\n",
    "    test_log_df = load_log_data(Path(cfg.dir.data_dir), \"test\")\n",
    "    yad_df = load_yad_data(Path(cfg.dir.data_dir))\n",
    "    all_log_df = pl.concat([train_log_df, test_log_df])"
   ]
  },
  {
   "cell_type": "code",
   "execution_count": 6,
   "id": "48227d2d-f277-47fb-a50b-73d653152acc",
   "metadata": {},
   "outputs": [
    {
     "data": {
      "text/html": [
       "<div><style>\n",
       ".dataframe > thead > tr > th,\n",
       ".dataframe > tbody > tr > td {\n",
       "  text-align: right;\n",
       "  white-space: pre-wrap;\n",
       "}\n",
       "</style>\n",
       "<small>shape: (5, 2)</small><table border=\"1\" class=\"dataframe\"><thead><tr><th>from_id</th><th>to_id</th></tr><tr><td>u32</td><td>u32</td></tr></thead><tbody><tr><td>5</td><td>4</td></tr><tr><td>13</td><td>12</td></tr><tr><td>17</td><td>16</td></tr><tr><td>20</td><td>19</td></tr><tr><td>26</td><td>25</td></tr></tbody></table></div>"
      ],
      "text/plain": [
       "shape: (5, 2)\n",
       "┌─────────┬───────┐\n",
       "│ from_id ┆ to_id │\n",
       "│ ---     ┆ ---   │\n",
       "│ u32     ┆ u32   │\n",
       "╞═════════╪═══════╡\n",
       "│ 5       ┆ 4     │\n",
       "│ 13      ┆ 12    │\n",
       "│ 17      ┆ 16    │\n",
       "│ 20      ┆ 19    │\n",
       "│ 26      ┆ 25    │\n",
       "└─────────┴───────┘"
      ]
     },
     "execution_count": 6,
     "metadata": {},
     "output_type": "execute_result"
    }
   ],
   "source": [
    "# 連番に変換\n",
    "\n",
    "all_log_cast_df = all_log_df.with_columns(\n",
    "    pl.col(\"yad_no\").cast(str).cast(pl.Categorical).to_physical().alias(\"yid\"),\n",
    ")\n",
    "\n",
    "unique_df = all_log_cast_df.unique([\"yad_no\", \"yid\"])\n",
    "unique_yids = unique_df[\"yid\"].to_numpy()\n",
    "unique_yad_nos = unique_df[\"yad_no\"].to_list()\n",
    "yid2yad_no = dict(zip(unique_yids, unique_yad_nos))\n",
    "\n",
    "\n",
    "# 遷移を作成\n",
    "transition_dfs = []\n",
    "\n",
    "for rti in [-1, 1]:\n",
    "    if rti == 0:\n",
    "        continue\n",
    "    df = (\n",
    "        all_log_cast_df.with_columns(\n",
    "            pl.col(\"yid\").alias(\"from_id\"),\n",
    "            pl.col(\"yid\").shift(-(rti)).over(\"session_id\").alias(\"to_id\"),\n",
    "        )\n",
    "        .filter(~pl.col(\"to_id\").is_null())\n",
    "        .filter(pl.col(\"from_id\") != pl.col(\"to_id\"))  # 同じものへは遷移しない\n",
    "        .select([\"from_id\", \"to_id\"])\n",
    "    )\n",
    "    transition_dfs.append(df)\n",
    "transition_df = pl.concat(transition_dfs)\n",
    "transition_df.head()"
   ]
  },
  {
   "cell_type": "code",
   "execution_count": 12,
   "id": "00d9018a-503c-415f-b603-a86024813fa5",
   "metadata": {},
   "outputs": [],
   "source": [
    "# 行列の作成\n",
    "matrix = sparse.csr_matrix(\n",
    "    (\n",
    "        np.ones(len(transition_df)),\n",
    "        (\n",
    "            transition_df[\"from_id\"].to_numpy(),\n",
    "            transition_df[\"to_id\"].to_numpy(),\n",
    "        ),\n",
    "    )\n",
    ").toarray()"
   ]
  },
  {
   "cell_type": "code",
   "execution_count": null,
   "id": "7b61d1cf-b18d-40da-951c-511c909f7ede",
   "metadata": {},
   "outputs": [],
   "source": []
  },
  {
   "cell_type": "code",
   "execution_count": 13,
   "id": "dafbccce-ee7f-4563-aaf7-800dc24cfa36",
   "metadata": {},
   "outputs": [],
   "source": [
    "from igraph import Graph\n",
    "\n",
    "graph = Graph.Adjacency(matrix)"
   ]
  },
  {
   "cell_type": "code",
   "execution_count": 15,
   "id": "cc738505-6cb3-4cf1-a349-b293cd154f6a",
   "metadata": {},
   "outputs": [
    {
     "data": {
      "text/plain": [
       "'IGRAPH D--- 13561 412354 -- '"
      ]
     },
     "execution_count": 15,
     "metadata": {},
     "output_type": "execute_result"
    }
   ],
   "source": [
    "graph.summary(verbosity=0)"
   ]
  },
  {
   "cell_type": "code",
   "execution_count": 17,
   "id": "bbcee50b-5803-4e9c-a248-dc0a6dd53b7e",
   "metadata": {},
   "outputs": [
    {
     "data": {
      "text/plain": [
       "13561"
      ]
     },
     "execution_count": 17,
     "metadata": {},
     "output_type": "execute_result"
    }
   ],
   "source": [
    "len(graph.pagerank())"
   ]
  },
  {
   "cell_type": "code",
   "execution_count": 26,
   "id": "319f7945-9e6c-4610-9e92-b49905a58020",
   "metadata": {},
   "outputs": [
    {
     "data": {
      "text/plain": [
       "([0.5,\n",
       "  0.7857142857142857,\n",
       "  0.0,\n",
       "  0.3717948717948718,\n",
       "  0.5627705627705628,\n",
       "  0.7543859649122807,\n",
       "  0.0,\n",
       "  0.3613445378151261,\n",
       "  0.2502194907813872,\n",
       "  0.625],\n",
       " 13561)"
      ]
     },
     "execution_count": 26,
     "metadata": {},
     "output_type": "execute_result"
    }
   ],
   "source": [
    "graph.transitivity_local_undirected()[:10], len(graph.transitivity_local_undirected())"
   ]
  },
  {
   "cell_type": "code",
   "execution_count": 24,
   "id": "6aed0b6f-c98a-41a5-9dc6-ed2fe2591e4d",
   "metadata": {},
   "outputs": [
    {
     "data": {
      "text/plain": [
       "[6.239840384214559e-11,\n",
       " 7.286884748596017e-09,\n",
       " 0.18612518373664153,\n",
       " 2.1702977745708375e-06,\n",
       " 8.05220883065554e-10,\n",
       " 7.436100091690683e-10,\n",
       " 2.7158022696140015e-13,\n",
       " 1.528073839631305e-10,\n",
       " 2.3136232163932345e-08,\n",
       " 1.4536256633993815e-08]"
      ]
     },
     "execution_count": 24,
     "metadata": {},
     "output_type": "execute_result"
    }
   ],
   "source": [
    "# enumerate で 1万頂点分を100個ずつ取るとか\n",
    "graph.personalized_pagerank(reset_vertices=2)[:10]"
   ]
  },
  {
   "cell_type": "code",
   "execution_count": null,
   "id": "f451177d-b4a5-4dc3-a00e-2056ce5d95ec",
   "metadata": {},
   "outputs": [],
   "source": []
  }
 ],
 "metadata": {
  "kernelspec": {
   "display_name": "Python 3 (ipykernel)",
   "language": "python",
   "name": "python3"
  },
  "language_info": {
   "codemirror_mode": {
    "name": "ipython",
    "version": 3
   },
   "file_extension": ".py",
   "mimetype": "text/x-python",
   "name": "python",
   "nbconvert_exporter": "python",
   "pygments_lexer": "ipython3",
   "version": "3.10.12"
  }
 },
 "nbformat": 4,
 "nbformat_minor": 5
}
