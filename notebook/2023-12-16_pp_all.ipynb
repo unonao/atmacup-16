{
 "cells": [
  {
   "cell_type": "markdown",
   "id": "238c4fa0-4540-4fae-861f-14344eed58ac",
   "metadata": {},
   "source": [
    "# 遷移確率を用いた後処理で全データを修正する"
   ]
  },
  {
   "cell_type": "code",
   "execution_count": 1,
   "id": "7e898b3f-a222-4638-8f7c-ea7e24fb102a",
   "metadata": {},
   "outputs": [
    {
     "name": "stdout",
     "output_type": "stream",
     "text": [
      "/kaggle/working\n"
     ]
    }
   ],
   "source": [
    "%cd .."
   ]
  },
  {
   "cell_type": "code",
   "execution_count": null,
   "id": "62a8eae7-8616-49b3-a785-f7a8b4ffb7b8",
   "metadata": {},
   "outputs": [],
   "source": []
  }
 ],
 "metadata": {
  "kernelspec": {
   "display_name": "Python 3 (ipykernel)",
   "language": "python",
   "name": "python3"
  },
  "language_info": {
   "codemirror_mode": {
    "name": "ipython",
    "version": 3
   },
   "file_extension": ".py",
   "mimetype": "text/x-python",
   "name": "python",
   "nbconvert_exporter": "python",
   "pygments_lexer": "ipython3",
   "version": "3.10.12"
  }
 },
 "nbformat": 4,
 "nbformat_minor": 5
}
