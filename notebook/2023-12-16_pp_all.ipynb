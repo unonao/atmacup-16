{
 "cells": [
  {
   "cell_type": "markdown",
   "id": "238c4fa0-4540-4fae-861f-14344eed58ac",
   "metadata": {},
   "source": [
    "# 遷移確率を用いた後処理で全データを修正する"
   ]
  },
  {
   "cell_type": "code",
   "execution_count": 1,
   "id": "7e898b3f-a222-4638-8f7c-ea7e24fb102a",
   "metadata": {},
   "outputs": [
    {
     "name": "stdout",
     "output_type": "stream",
     "text": [
      "/kaggle/working\n"
     ]
    }
   ],
   "source": [
    "%cd .."
   ]
  },
  {
   "cell_type": "code",
   "execution_count": 62,
   "id": "62a8eae7-8616-49b3-a785-f7a8b4ffb7b8",
   "metadata": {},
   "outputs": [
    {
     "name": "stdout",
     "output_type": "stream",
     "text": [
      "debug: false\n",
      "seed: 42\n",
      "dir:\n",
      "  data_dir: /kaggle/working/input/atmaCup16_Dataset\n",
      "  output_dir: /kaggle/working/output\n",
      "  exp_dir: /kaggle/working/output/exp\n",
      "  cand_unsupervised_dir: /kaggle/working/output/cand_unsupervised\n",
      "  cand_supervised_dir: /kaggle/working/output/cand_supervised\n",
      "  datasets_dir: /kaggle/working/output/datasets\n",
      "exp:\n",
      "  other_dirs:\n",
      "  - output/exp/008_split/base\n",
      "  first_dirs:\n",
      "  - output/exp/008_split/v025_003_first\n",
      "  transision_path: output/cand_unsupervised/prob_matrix_filter/two002/yad2yad_feature.parquet\n",
      "  score_col: transition_prob\n",
      "\n"
     ]
    }
   ],
   "source": [
    "from hydra import compose, initialize\n",
    "from omegaconf import OmegaConf\n",
    "\n",
    "with initialize(version_base=None, config_path=\"../experiments/ensemble_003\"):\n",
    "    cfg = compose(config_name=\"config.yaml\", overrides=[\"exp=002\"])\n",
    "    print(OmegaConf.to_yaml(cfg))"
   ]
  },
  {
   "cell_type": "code",
   "execution_count": 3,
   "id": "043e9550-2978-4641-bcec-5c50c311d144",
   "metadata": {},
   "outputs": [],
   "source": [
    "import logging\n",
    "import os\n",
    "import pickle\n",
    "import sys\n",
    "import time\n",
    "from pathlib import Path\n",
    "\n",
    "import hydra\n",
    "import lightgbm as lgb\n",
    "import matplotlib.pyplot as plt\n",
    "import numpy as np\n",
    "import pandas as pd\n",
    "import polars as pl\n",
    "from hydra.core.hydra_config import HydraConfig\n",
    "from omegaconf import DictConfig, OmegaConf\n",
    "from tqdm.auto import tqdm\n",
    "\n",
    "import utils\n",
    "from utils.load import load_label_data, load_log_data, load_session_data\n",
    "from utils.logger import get_logger\n",
    "from utils.metrics import calculate_metrics"
   ]
  },
  {
   "cell_type": "code",
   "execution_count": 4,
   "id": "a1ce26a5-5ce7-4b65-b9b3-0255fd283594",
   "metadata": {},
   "outputs": [],
   "source": [
    "logger = get_logger(__name__, \"./notebook/run.log\")"
   ]
  },
  {
   "cell_type": "code",
   "execution_count": 63,
   "id": "9128f9ac-4e30-48c8-bfb4-e0ebbafa1d8a",
   "metadata": {},
   "outputs": [],
   "source": [
    "other_oof_df = pl.read_parquet(Path(cfg.exp.other_dirs[0]) / \"oof_pred.parquet\")\n",
    "other_test_df = pl.read_parquet(Path(cfg.exp.other_dirs[0]) / \"test_pred.parquet\")\n",
    "first_oof_df = pl.read_parquet(Path(cfg.exp.first_dirs[0]) / \"oof_pred.parquet\")\n",
    "first_test_df = pl.read_parquet(Path(cfg.exp.first_dirs[0]) / \"test_pred.parquet\")"
   ]
  },
  {
   "cell_type": "code",
   "execution_count": 64,
   "id": "400471f0-5e7f-40b6-8971-c90a76043834",
   "metadata": {},
   "outputs": [],
   "source": [
    "def make_eval_df(cfg, other_oof_df: pl.DataFrame, first_oof_df: pl.DataFrame):\n",
    "    other_oof_df = other_oof_df.filter(pl.col(\"session_count\") != 1).drop(\n",
    "        \"session_count\"\n",
    "    )\n",
    "    first_oof_df = first_oof_df.filter(pl.col(\"session_count\") == 1).drop(\n",
    "        \"session_count\"\n",
    "    )\n",
    "    pred_df = pl.concat([other_oof_df, first_oof_df]).sort(\n",
    "        by=[\"session_id\", \"pred\"], descending=True\n",
    "    )\n",
    "    pred_candidates_df = pred_df.group_by(\"session_id\").agg(pl.col(\"candidates\"))\n",
    "    train_label_df = load_label_data(Path(cfg.dir.data_dir))\n",
    "    candidaates_df = pred_candidates_df.join(\n",
    "        train_label_df, on=\"session_id\", how=\"left\"\n",
    "    )\n",
    "    return candidaates_df"
   ]
  },
  {
   "cell_type": "code",
   "execution_count": 65,
   "id": "1b788fcf-6b71-4482-8817-9937fba4ee73",
   "metadata": {},
   "outputs": [
    {
     "name": "stderr",
     "output_type": "stream",
     "text": [
      "shape: (5, 3)\n",
      "┌──────────────────────────────────┬─────────────────────────┬────────┐\n",
      "│ session_id                       ┆ candidates              ┆ yad_no │\n",
      "│ ---                              ┆ ---                     ┆ ---    │\n",
      "│ str                              ┆ list[i32]               ┆ i64    │\n",
      "╞══════════════════════════════════╪═════════════════════════╪════════╡\n",
      "│ 076bb066678fcf6a651bc84bafafd243 ┆ [844, 6905, … 7057]     ┆ 2318   │\n",
      "│ 7b21600deb0c894b46a06a064fb6946a ┆ [583, 3290, … 3851]     ┆ 7201   │\n",
      "│ fc505334e7b5ae0368c4952f8e069e04 ┆ [3764, 4770, … 5937]    ┆ 3764   │\n",
      "│ 0435a419e0b4803651c641dd3a86078e ┆ [7722, 7458, … 12358]   ┆ 7722   │\n",
      "│ eba58c3b9f7bb4f4482ef16bf35b67e8 ┆ [12645, 10827, … 10371] ┆ 13795  │\n",
      "└──────────────────────────────────┴─────────────────────────┴────────┘\n",
      "[{'k': 10, 'avg_num_candidates': 9.991298865942957, 'recall': 0.6098448898156551, 'precision': 0.06098448898156552, 'map@k': 0.407122173145838}]\n",
      "1\n",
      "{'k/each_seq_len': 10, 'avg_num_candidates/each_seq_len': 9.991655249047932, 'recall/each_seq_len': 0.39830947320725407, 'precision/each_seq_len': 0.03983094732072541, 'map@k/each_seq_len': 0.13958931077996167, 'seq_len': 1}\n",
      "2\n",
      "{'k/each_seq_len': 10, 'avg_num_candidates/each_seq_len': 9.990796323360671, 'recall/each_seq_len': 0.9869191839889846, 'precision/each_seq_len': 0.09869191839889847, 'map@k/each_seq_len': 0.8756725704707418, 'seq_len': 2}\n",
      "3\n",
      "{'k/each_seq_len': 10, 'avg_num_candidates/each_seq_len': 9.991074918566776, 'recall/each_seq_len': 0.9994788273615636, 'precision/each_seq_len': 0.09994788273615637, 'map@k/each_seq_len': 0.9220880254381882, 'seq_len': 3}\n",
      "4\n",
      "{'k/each_seq_len': 10, 'avg_num_candidates/each_seq_len': 9.985590062111802, 'recall/each_seq_len': 0.999751552795031, 'precision/each_seq_len': 0.09997515527950313, 'map@k/each_seq_len': 0.962072759538598, 'seq_len': 4}\n",
      "5\n",
      "{'k/each_seq_len': 10, 'avg_num_candidates/each_seq_len': 9.995198079231693, 'recall/each_seq_len': 1.0, 'precision/each_seq_len': 0.10000000000000002, 'map@k/each_seq_len': 0.985594237695078, 'seq_len': 5}\n",
      "6\n",
      "{'k/each_seq_len': 10, 'avg_num_candidates/each_seq_len': 9.98206278026906, 'recall/each_seq_len': 1.0, 'precision/each_seq_len': 0.09999999999999999, 'map@k/each_seq_len': 0.9977578475336323, 'seq_len': 6}\n",
      "7\n",
      "{'k/each_seq_len': 10, 'avg_num_candidates/each_seq_len': 10.0, 'recall/each_seq_len': 1.0, 'precision/each_seq_len': 0.09999999999999999, 'map@k/each_seq_len': 1.0, 'seq_len': 7}\n",
      "8\n",
      "{'k/each_seq_len': 10, 'avg_num_candidates/each_seq_len': 10.0, 'recall/each_seq_len': 1.0, 'precision/each_seq_len': 0.10000000000000002, 'map@k/each_seq_len': 1.0, 'seq_len': 8}\n",
      "9\n",
      "{'k/each_seq_len': 10, 'avg_num_candidates/each_seq_len': 10.0, 'recall/each_seq_len': 1.0, 'precision/each_seq_len': 0.1, 'map@k/each_seq_len': 1.0, 'seq_len': 9}\n",
      "[11.9GB(-3.2GB):13.2sec] eval \n"
     ]
    }
   ],
   "source": [
    "with utils.trace(\"eval\"):\n",
    "    oof_candidate_df = make_eval_df(cfg, other_oof_df, first_oof_df)\n",
    "    logger.info(oof_candidate_df.head())\n",
    "    metrics = calculate_metrics(\n",
    "        oof_candidate_df,\n",
    "        candidates_col=\"candidates\",\n",
    "        label_col=\"yad_no\",\n",
    "        k=[10],\n",
    "        is_print=False,\n",
    "    )\n",
    "    logger.info(metrics)\n",
    "    # seq_lenごとのmetrics\n",
    "    train_log_df = load_log_data(Path(cfg.dir.data_dir), \"train\")\n",
    "    seq_len_df = train_log_df.group_by(\"session_id\").agg(\n",
    "        (pl.col(\"seq_no\").max() + 1).alias(\"seq_len\")\n",
    "    )\n",
    "    oof_candidate_df = oof_candidate_df.join(seq_len_df, on=\"session_id\")\n",
    "    for i in range(1, 10):\n",
    "        logger.info(i)\n",
    "        metrics_list = calculate_metrics(\n",
    "            oof_candidate_df.filter(pl.col(\"seq_len\") == i),\n",
    "            candidates_col=\"candidates\",\n",
    "            label_col=\"yad_no\",\n",
    "            k=10,\n",
    "            is_print=False,\n",
    "        )\n",
    "        for metrics in metrics_list:\n",
    "            metrics = {f\"{k}/each_seq_len\": v for k, v in metrics.items()}\n",
    "            metrics[\"seq_len\"] = i\n",
    "            logger.info(metrics)"
   ]
  },
  {
   "cell_type": "markdown",
   "id": "5297abe7-4b0f-406c-8418-c65fd5bf883c",
   "metadata": {},
   "source": [
    "## 遷移確率で修正する\n",
    "- logに遷移確率をjoin\n",
    "- session, to_yad_no でgroupしてprobのsumを取る\n",
    "- logのlastを削除する\n",
    "- probで降順にソートしてcandidateを作る"
   ]
  },
  {
   "cell_type": "code",
   "execution_count": 69,
   "id": "9f4ce13d-1007-4f63-8ab5-c92c1efbb732",
   "metadata": {},
   "outputs": [],
   "source": [
    "def concat_label_pred(cfg, other_df, first_df, mode):\n",
    "    # logに遷移確率をjoin\n",
    "    log_df = load_log_data(Path(cfg.dir.data_dir), mode).with_columns(\n",
    "        pl.col(\"seq_no\").count().over(\"session_id\").alias(\"session_count\")\n",
    "    )\n",
    "    transition_df = pl.read_parquet(cfg.exp.transision_path)\n",
    "    log_df = log_df.join(transition_df, left_on=\"yad_no\", right_on=\"from_yad_no\")\n",
    "\n",
    "    # session, to_yad_no でgroupしてprobのsumを取る\n",
    "    prob_df = (\n",
    "        log_df.group_by([\"session_id\", \"to_yad_no\"])\n",
    "        .agg(\n",
    "            (pl.col(cfg.exp.score_col).sum().alias(\"pred\") + 1) * 100,\n",
    "            pl.col(\"session_count\").max(),\n",
    "        )\n",
    "        .rename({\"to_yad_no\": \"candidates\"})\n",
    "    )\n",
    "\n",
    "    # log のlastは答えにならないので削除する\n",
    "    last_df = (\n",
    "        load_log_data(Path(cfg.dir.data_dir), mode)\n",
    "        .group_by(\"session_id\")\n",
    "        .agg(pl.col(\"yad_no\").last().alias(\"candidates\"))\n",
    "        .with_columns(pl.lit(True).alias(\"last\"))\n",
    "        .sort(by=\"session_id\")\n",
    "    )\n",
    "    removed_prob_df = (\n",
    "        prob_df.join(last_df, on=[\"session_id\", \"candidates\"], how=\"left\")\n",
    "        .filter(pl.col(\"last\").is_null())\n",
    "        .drop(\"last\")\n",
    "    ).with_columns(pl.col(\"candidates\").cast(pl.Int32))\n",
    "\n",
    "    # first と結合\n",
    "    first_result = (\n",
    "        pl.concat(\n",
    "            [\n",
    "                first_df,\n",
    "                removed_prob_df.with_columns(pl.col(\"session_count\").cast(pl.Int32)),\n",
    "            ]\n",
    "        )\n",
    "        .filter(pl.col(\"session_count\") == 1)\n",
    "        .group_by([\"session_id\", \"candidates\"])\n",
    "        .agg(pl.col(\"pred\").sum(), pl.col(\"session_count\").max())\n",
    "        .sort(by=[\"session_id\", \"pred\"], descending=True)\n",
    "    )\n",
    "\n",
    "    other_result = (\n",
    "        pl.concat(\n",
    "            [\n",
    "                other_df,\n",
    "                removed_prob_df.with_columns(pl.col(\"session_count\").cast(pl.UInt32)),\n",
    "            ]\n",
    "        )\n",
    "        .filter(pl.col(\"session_count\") != 1)\n",
    "        .group_by([\"session_id\", \"candidates\"])\n",
    "        .agg(pl.col(\"pred\").sum(), pl.col(\"session_count\").max())\n",
    "        .sort(by=[\"session_id\", \"pred\"], descending=True)\n",
    "    )\n",
    "    return other_result, first_result"
   ]
  },
  {
   "cell_type": "code",
   "execution_count": 70,
   "id": "df109ef3-0480-4b56-808c-04d8a5d7a022",
   "metadata": {},
   "outputs": [
    {
     "name": "stderr",
     "output_type": "stream",
     "text": [
      "shape: (5, 3)\n",
      "┌──────────────────────────────────┬─────────────────────────┬────────┐\n",
      "│ session_id                       ┆ candidates              ┆ yad_no │\n",
      "│ ---                              ┆ ---                     ┆ ---    │\n",
      "│ str                              ┆ list[i32]               ┆ i64    │\n",
      "╞══════════════════════════════════╪═════════════════════════╪════════╡\n",
      "│ 1f45276df1cd99bb7753fc11d1fbaf89 ┆ [12148, 4792, … 12907]  ┆ 7874   │\n",
      "│ af84512a0f6aad4c9ccd99395998b61b ┆ [13220, 12432, … 13542] ┆ 899    │\n",
      "│ f0cff0fa13313f35d5b9420ac8588d35 ┆ [3187, 6703, … 635]     ┆ 1368   │\n",
      "│ 3738887cbe7e34e0445f88510806d4e6 ┆ [7301, 6087, … 2086]    ┆ 7301   │\n",
      "│ fcee292499832e5bcbf47a0321f83c48 ┆ [8798, 7512, … 6986]    ┆ 1784   │\n",
      "└──────────────────────────────────┴─────────────────────────┴────────┘\n",
      "[{'k': 10, 'avg_num_candidates': 9.992940720060409, 'recall': 0.6115456289963906, 'precision': 0.061154562899639074, 'map@k': 0.400604628915788}]\n"
     ]
    },
    {
     "name": "stdout",
     "output_type": "stream",
     "text": [
      "{'k': 10, 'avg_num_candidates': 9.992940720060409, 'recall': 0.6115456289963906, 'precision': 0.061154562899639074, 'map@k': 0.400604628915788}\n"
     ]
    },
    {
     "name": "stderr",
     "output_type": "stream",
     "text": [
      "1\n",
      "{'k/each_seq_len': 10, 'avg_num_candidates/each_seq_len': 9.991655249047932, 'recall/each_seq_len': 0.4015082045030369, 'precision/each_seq_len': 0.040150820450303694, 'map@k/each_seq_len': 0.14036466427234875, 'seq_len': 1}\n",
      "2\n",
      "{'k/each_seq_len': 10, 'avg_num_candidates/each_seq_len': 9.994758010942954, 'recall/each_seq_len': 0.985747587356419, 'precision/each_seq_len': 0.09857475873564192, 'map@k/each_seq_len': 0.8606724094265312, 'seq_len': 2}\n",
      "3\n",
      "{'k/each_seq_len': 10, 'avg_num_candidates/each_seq_len': 9.997394136807818, 'recall/each_seq_len': 0.9992182410423452, 'precision/each_seq_len': 0.09992182410423454, 'map@k/each_seq_len': 0.8746793082053669, 'seq_len': 3}\n",
      "4\n",
      "{'k/each_seq_len': 10, 'avg_num_candidates/each_seq_len': 9.995776397515527, 'recall/each_seq_len': 0.9995031055900621, 'precision/each_seq_len': 0.09995031055900623, 'map@k/each_seq_len': 0.9517308488612837, 'seq_len': 4}\n",
      "5\n",
      "{'k/each_seq_len': 10, 'avg_num_candidates/each_seq_len': 10.0, 'recall/each_seq_len': 1.0, 'precision/each_seq_len': 0.10000000000000002, 'map@k/each_seq_len': 0.9704881952781113, 'seq_len': 5}\n",
      "6\n",
      "{'k/each_seq_len': 10, 'avg_num_candidates/each_seq_len': 10.0, 'recall/each_seq_len': 1.0, 'precision/each_seq_len': 0.09999999999999999, 'map@k/each_seq_len': 0.9910313901345291, 'seq_len': 6}\n",
      "7\n",
      "{'k/each_seq_len': 10, 'avg_num_candidates/each_seq_len': 10.0, 'recall/each_seq_len': 1.0, 'precision/each_seq_len': 0.09999999999999999, 'map@k/each_seq_len': 1.0, 'seq_len': 7}\n",
      "8\n",
      "{'k/each_seq_len': 10, 'avg_num_candidates/each_seq_len': 10.0, 'recall/each_seq_len': 1.0, 'precision/each_seq_len': 0.10000000000000002, 'map@k/each_seq_len': 1.0, 'seq_len': 8}\n",
      "9\n",
      "{'k/each_seq_len': 10, 'avg_num_candidates/each_seq_len': 10.0, 'recall/each_seq_len': 1.0, 'precision/each_seq_len': 0.1, 'map@k/each_seq_len': 1.0, 'seq_len': 9}\n"
     ]
    }
   ],
   "source": [
    "mode = \"train\"\n",
    "\n",
    "other_df, first_df = concat_label_pred(cfg, other_oof_df, first_oof_df, mode)\n",
    "oof_candidate_df = make_eval_df(cfg, other_df, first_df)\n",
    "logger.info(oof_candidate_df.head())\n",
    "metrics = calculate_metrics(\n",
    "    oof_candidate_df, candidates_col=\"candidates\", label_col=\"yad_no\", k=[10]\n",
    ")\n",
    "logger.info(metrics)\n",
    "# seq_lenごとのmetrics\n",
    "train_log_df = load_log_data(Path(cfg.dir.data_dir), \"train\")\n",
    "seq_len_df = train_log_df.group_by(\"session_id\").agg(\n",
    "    (pl.col(\"seq_no\").max() + 1).alias(\"seq_len\")\n",
    ")\n",
    "oof_candidate_df = oof_candidate_df.join(seq_len_df, on=\"session_id\")\n",
    "for i in range(1, 10):\n",
    "    logger.info(i)\n",
    "    metrics_list = calculate_metrics(\n",
    "        oof_candidate_df.filter(pl.col(\"seq_len\") == i),\n",
    "        candidates_col=\"candidates\",\n",
    "        label_col=\"yad_no\",\n",
    "        k=10,\n",
    "        is_print=False,\n",
    "    )\n",
    "    for metrics in metrics_list:\n",
    "        metrics = {f\"{k}/each_seq_len\": v for k, v in metrics.items()}\n",
    "        metrics[\"seq_len\"] = i\n",
    "        logger.info(metrics)"
   ]
  },
  {
   "cell_type": "code",
   "execution_count": null,
   "id": "7b43072a-c960-4095-b252-36b70475b671",
   "metadata": {},
   "outputs": [],
   "source": []
  },
  {
   "cell_type": "code",
   "execution_count": null,
   "id": "a0178ba6-3d8d-440e-af68-fb96fb3c1e93",
   "metadata": {},
   "outputs": [],
   "source": []
  },
  {
   "cell_type": "code",
   "execution_count": 55,
   "id": "f4632c30-d161-4583-b298-2530d386d7df",
   "metadata": {},
   "outputs": [
    {
     "data": {
      "text/html": [
       "<div><style>\n",
       ".dataframe > thead > tr > th,\n",
       ".dataframe > tbody > tr > td {\n",
       "  text-align: right;\n",
       "  white-space: pre-wrap;\n",
       "}\n",
       "</style>\n",
       "<small>shape: (5, 6)</small><table border=\"1\" class=\"dataframe\"><thead><tr><th>session_id</th><th>seq_no</th><th>yad_no</th><th>session_count</th><th>to_yad_no</th><th>transition_prob</th></tr><tr><td>str</td><td>i64</td><td>i64</td><td>u32</td><td>i64</td><td>f64</td></tr></thead><tbody><tr><td>&quot;000007603d533d…</td><td>0</td><td>2395</td><td>1</td><td>2395</td><td>0.5</td></tr><tr><td>&quot;000007603d533d…</td><td>0</td><td>2395</td><td>1</td><td>11882</td><td>0.263158</td></tr><tr><td>&quot;000007603d533d…</td><td>0</td><td>2395</td><td>1</td><td>2808</td><td>0.184211</td></tr><tr><td>&quot;000007603d533d…</td><td>0</td><td>2395</td><td>1</td><td>5289</td><td>0.026316</td></tr><tr><td>&quot;000007603d533d…</td><td>0</td><td>2395</td><td>1</td><td>4101</td><td>0.026316</td></tr></tbody></table></div>"
      ],
      "text/plain": [
       "shape: (5, 6)\n",
       "┌──────────────────────────────────┬────────┬────────┬───────────────┬───────────┬─────────────────┐\n",
       "│ session_id                       ┆ seq_no ┆ yad_no ┆ session_count ┆ to_yad_no ┆ transition_prob │\n",
       "│ ---                              ┆ ---    ┆ ---    ┆ ---           ┆ ---       ┆ ---             │\n",
       "│ str                              ┆ i64    ┆ i64    ┆ u32           ┆ i64       ┆ f64             │\n",
       "╞══════════════════════════════════╪════════╪════════╪═══════════════╪═══════════╪═════════════════╡\n",
       "│ 000007603d533d30453cc45d0f3d119f ┆ 0      ┆ 2395   ┆ 1             ┆ 2395      ┆ 0.5             │\n",
       "│ 000007603d533d30453cc45d0f3d119f ┆ 0      ┆ 2395   ┆ 1             ┆ 11882     ┆ 0.263158        │\n",
       "│ 000007603d533d30453cc45d0f3d119f ┆ 0      ┆ 2395   ┆ 1             ┆ 2808      ┆ 0.184211        │\n",
       "│ 000007603d533d30453cc45d0f3d119f ┆ 0      ┆ 2395   ┆ 1             ┆ 5289      ┆ 0.026316        │\n",
       "│ 000007603d533d30453cc45d0f3d119f ┆ 0      ┆ 2395   ┆ 1             ┆ 4101      ┆ 0.026316        │\n",
       "└──────────────────────────────────┴────────┴────────┴───────────────┴───────────┴─────────────────┘"
      ]
     },
     "execution_count": 55,
     "metadata": {},
     "output_type": "execute_result"
    }
   ],
   "source": [
    "# logに遷移確率をjoin\n",
    "log_df = load_log_data(Path(cfg.dir.data_dir), mode).with_columns(\n",
    "    pl.col(\"seq_no\").count().over(\"session_id\").alias(\"session_count\")\n",
    ")\n",
    "transition_df = pl.read_parquet(cfg.exp.transision_path)\n",
    "log_df = log_df.join(transition_df, left_on=\"yad_no\", right_on=\"from_yad_no\")\n",
    "log_df.head()"
   ]
  },
  {
   "cell_type": "code",
   "execution_count": 57,
   "id": "947b1249-33f0-4ecd-9e8d-4d071d3c4fd0",
   "metadata": {},
   "outputs": [
    {
     "name": "stdout",
     "output_type": "stream",
     "text": [
      "(6975028, 4)\n"
     ]
    },
    {
     "data": {
      "text/html": [
       "<div><style>\n",
       ".dataframe > thead > tr > th,\n",
       ".dataframe > tbody > tr > td {\n",
       "  text-align: right;\n",
       "  white-space: pre-wrap;\n",
       "}\n",
       "</style>\n",
       "<small>shape: (5, 4)</small><table border=\"1\" class=\"dataframe\"><thead><tr><th>session_id</th><th>candidates</th><th>pred</th><th>session_count</th></tr><tr><td>str</td><td>i64</td><td>f64</td><td>u32</td></tr></thead><tbody><tr><td>&quot;fffffa7baf3700…</td><td>11822</td><td>162.857143</td><td>2</td></tr><tr><td>&quot;fffffa7baf3700…</td><td>2439</td><td>157.894737</td><td>2</td></tr><tr><td>&quot;fffffa7baf3700…</td><td>2981</td><td>120.877193</td><td>2</td></tr><tr><td>&quot;fffffa7baf3700…</td><td>10095</td><td>111.854637</td><td>2</td></tr><tr><td>&quot;fffffa7baf3700…</td><td>3</td><td>107.243108</td><td>2</td></tr></tbody></table></div>"
      ],
      "text/plain": [
       "shape: (5, 4)\n",
       "┌──────────────────────────────────┬────────────┬────────────┬───────────────┐\n",
       "│ session_id                       ┆ candidates ┆ pred       ┆ session_count │\n",
       "│ ---                              ┆ ---        ┆ ---        ┆ ---           │\n",
       "│ str                              ┆ i64        ┆ f64        ┆ u32           │\n",
       "╞══════════════════════════════════╪════════════╪════════════╪═══════════════╡\n",
       "│ fffffa7baf370083ebcdd98f26a7e31a ┆ 11822      ┆ 162.857143 ┆ 2             │\n",
       "│ fffffa7baf370083ebcdd98f26a7e31a ┆ 2439       ┆ 157.894737 ┆ 2             │\n",
       "│ fffffa7baf370083ebcdd98f26a7e31a ┆ 2981       ┆ 120.877193 ┆ 2             │\n",
       "│ fffffa7baf370083ebcdd98f26a7e31a ┆ 10095      ┆ 111.854637 ┆ 2             │\n",
       "│ fffffa7baf370083ebcdd98f26a7e31a ┆ 3          ┆ 107.243108 ┆ 2             │\n",
       "└──────────────────────────────────┴────────────┴────────────┴───────────────┘"
      ]
     },
     "execution_count": 57,
     "metadata": {},
     "output_type": "execute_result"
    }
   ],
   "source": [
    "# session, to_yad_no でgroupしてprobのsumを取る\n",
    "prob_df = (\n",
    "    log_df.group_by([\"session_id\", \"to_yad_no\"])\n",
    "    .agg(\n",
    "        (pl.col(cfg.exp.score_col).sum().alias(\"pred\") + 1) * 100,\n",
    "        pl.col(\"session_count\").max(),\n",
    "    )\n",
    "    .rename({\"to_yad_no\": \"candidates\"})\n",
    ").sort(by=[\"session_id\", \"pred\"], descending=True)\n",
    "print(prob_df.shape)\n",
    "prob_df.head()"
   ]
  },
  {
   "cell_type": "code",
   "execution_count": 58,
   "id": "3e4ef44d-fc54-46c7-94c2-e1e0502f7cb2",
   "metadata": {},
   "outputs": [
    {
     "name": "stdout",
     "output_type": "stream",
     "text": [
      "(6686330, 4)\n"
     ]
    },
    {
     "data": {
      "text/html": [
       "<div><style>\n",
       ".dataframe > thead > tr > th,\n",
       ".dataframe > tbody > tr > td {\n",
       "  text-align: right;\n",
       "  white-space: pre-wrap;\n",
       "}\n",
       "</style>\n",
       "<small>shape: (5, 4)</small><table border=\"1\" class=\"dataframe\"><thead><tr><th>session_id</th><th>candidates</th><th>pred</th><th>session_count</th></tr><tr><td>str</td><td>i32</td><td>f64</td><td>u32</td></tr></thead><tbody><tr><td>&quot;fffffa7baf3700…</td><td>2439</td><td>157.894737</td><td>2</td></tr><tr><td>&quot;fffffa7baf3700…</td><td>2981</td><td>120.877193</td><td>2</td></tr><tr><td>&quot;fffffa7baf3700…</td><td>10095</td><td>111.854637</td><td>2</td></tr><tr><td>&quot;fffffa7baf3700…</td><td>3</td><td>107.243108</td><td>2</td></tr><tr><td>&quot;fffffa7baf3700…</td><td>1372</td><td>106.691729</td><td>2</td></tr></tbody></table></div>"
      ],
      "text/plain": [
       "shape: (5, 4)\n",
       "┌──────────────────────────────────┬────────────┬────────────┬───────────────┐\n",
       "│ session_id                       ┆ candidates ┆ pred       ┆ session_count │\n",
       "│ ---                              ┆ ---        ┆ ---        ┆ ---           │\n",
       "│ str                              ┆ i32        ┆ f64        ┆ u32           │\n",
       "╞══════════════════════════════════╪════════════╪════════════╪═══════════════╡\n",
       "│ fffffa7baf370083ebcdd98f26a7e31a ┆ 2439       ┆ 157.894737 ┆ 2             │\n",
       "│ fffffa7baf370083ebcdd98f26a7e31a ┆ 2981       ┆ 120.877193 ┆ 2             │\n",
       "│ fffffa7baf370083ebcdd98f26a7e31a ┆ 10095      ┆ 111.854637 ┆ 2             │\n",
       "│ fffffa7baf370083ebcdd98f26a7e31a ┆ 3          ┆ 107.243108 ┆ 2             │\n",
       "│ fffffa7baf370083ebcdd98f26a7e31a ┆ 1372       ┆ 106.691729 ┆ 2             │\n",
       "└──────────────────────────────────┴────────────┴────────────┴───────────────┘"
      ]
     },
     "execution_count": 58,
     "metadata": {},
     "output_type": "execute_result"
    }
   ],
   "source": [
    "# log のlastは答えにならないので削除する\n",
    "last_df = (\n",
    "    load_log_data(Path(cfg.dir.data_dir), mode)\n",
    "    .group_by(\"session_id\")\n",
    "    .agg(pl.col(\"yad_no\").last().alias(\"candidates\"))\n",
    "    .with_columns(pl.lit(True).alias(\"last\"))\n",
    "    .sort(by=\"session_id\")\n",
    ")\n",
    "removed_prob_df = (\n",
    "    prob_df.join(last_df, on=[\"session_id\", \"candidates\"], how=\"left\")\n",
    "    .filter(pl.col(\"last\").is_null())\n",
    "    .drop(\"last\")\n",
    ").with_columns(pl.col(\"candidates\").cast(pl.Int32))\n",
    "print(removed_prob_df.shape)\n",
    "removed_prob_df.head()"
   ]
  },
  {
   "cell_type": "code",
   "execution_count": 23,
   "id": "48f335f1-6859-4ef1-a663-2a68ddadd8a4",
   "metadata": {},
   "outputs": [],
   "source": [
    "# probで降順にソートしてcandidateを作る\n",
    "\n",
    "# first と結合\n",
    "first_result = (\n",
    "    pl.concat([first_df, first_df_from_label])\n",
    "    .group_by([\"session_id\", \"candidates\"])\n",
    "    .agg(pl.col(\"pred\").sum(), pl.col(\"session_count\").max())\n",
    "    .sort(by=[\"session_id\", \"pred\"], descending=True)\n",
    ")"
   ]
  },
  {
   "cell_type": "code",
   "execution_count": 25,
   "id": "81fc2276-8eb9-462f-9369-1c42f2737cba",
   "metadata": {},
   "outputs": [],
   "source": [
    "pred_candidates_df = result.group_by(\"session_id\").agg(pl.col(\"candidates\"))\n",
    "train_label_df = load_label_data(Path(cfg.dir.data_dir))\n",
    "candidaates_df = pred_candidates_df.join(train_label_df, on=\"session_id\", how=\"left\")"
   ]
  },
  {
   "cell_type": "code",
   "execution_count": 26,
   "id": "cfe53397-8f62-44cc-8e40-54e507677782",
   "metadata": {},
   "outputs": [
    {
     "data": {
      "text/html": [
       "<div><style>\n",
       ".dataframe > thead > tr > th,\n",
       ".dataframe > tbody > tr > td {\n",
       "  text-align: right;\n",
       "  white-space: pre-wrap;\n",
       "}\n",
       "</style>\n",
       "<small>shape: (285_229, 3)</small><table border=\"1\" class=\"dataframe\"><thead><tr><th>session_id</th><th>candidates</th><th>yad_no</th></tr><tr><td>str</td><td>list[i64]</td><td>i64</td></tr></thead><tbody><tr><td>&quot;e1415bc59a3b95…</td><td>[5490, 1908, 7749]</td><td>7749</td></tr><tr><td>&quot;a0c099ff4f1523…</td><td>[12802, 5366, … 9652]</td><td>11823</td></tr><tr><td>&quot;856a240716615a…</td><td>[2499, 6960, … 13320]</td><td>6960</td></tr><tr><td>&quot;41d8ef4fba7acc…</td><td>[9261, 1019, … 11878]</td><td>9261</td></tr><tr><td>&quot;422e390c35af20…</td><td>[10095, 2334, … 1028]</td><td>5710</td></tr><tr><td>&quot;772c5717ca7276…</td><td>[12582, 2888, … 6895]</td><td>1791</td></tr><tr><td>&quot;73a9d23563436a…</td><td>[11844, 3537, … 8753]</td><td>4373</td></tr><tr><td>&quot;e588f9a585f413…</td><td>[3267, 6538, … 13303]</td><td>6538</td></tr><tr><td>&quot;a931571506f59d…</td><td>[7915, 8690, … 1534]</td><td>3587</td></tr><tr><td>&quot;115a98ca1d0a9e…</td><td>[5222, 12444, … 12019]</td><td>5222</td></tr><tr><td>&quot;19687bdd6d27a7…</td><td>[5950, 10276, … 6607]</td><td>10702</td></tr><tr><td>&quot;dfc46daf67c2a3…</td><td>[5185, 1150, … 11017]</td><td>9224</td></tr><tr><td>&hellip;</td><td>&hellip;</td><td>&hellip;</td></tr><tr><td>&quot;d383c27189e639…</td><td>[13079, 13210, … 7272]</td><td>9033</td></tr><tr><td>&quot;6de589e7be70e9…</td><td>[7428, 9763, … 6182]</td><td>7428</td></tr><tr><td>&quot;58c270f3c38e53…</td><td>[6933, 1735, … 12829]</td><td>6933</td></tr><tr><td>&quot;b737f369b1948a…</td><td>[7644, 12843, … 10467]</td><td>12988</td></tr><tr><td>&quot;81d1ada5931193…</td><td>[5135, 11791, … 13634]</td><td>5135</td></tr><tr><td>&quot;dc6b34e5547199…</td><td>[9537, 280, … 11227]</td><td>3872</td></tr><tr><td>&quot;3b7c088cbc7d72…</td><td>[369, 5978]</td><td>369</td></tr><tr><td>&quot;4f7bc461342c5c…</td><td>[3418, 6365, … 9525]</td><td>6180</td></tr><tr><td>&quot;415b7a2efc5971…</td><td>[10997, 7062, … 7641]</td><td>10997</td></tr><tr><td>&quot;0ec77a98c6e716…</td><td>[10069, 13482, … 5827]</td><td>2069</td></tr><tr><td>&quot;70f6b850c9840a…</td><td>[13106, 9508, … 4248]</td><td>9508</td></tr><tr><td>&quot;0bed6150c77ee3…</td><td>[6526, 13788, … 12694]</td><td>6526</td></tr></tbody></table></div>"
      ],
      "text/plain": [
       "shape: (285_229, 3)\n",
       "┌──────────────────────────────────┬────────────────────────┬────────┐\n",
       "│ session_id                       ┆ candidates             ┆ yad_no │\n",
       "│ ---                              ┆ ---                    ┆ ---    │\n",
       "│ str                              ┆ list[i64]              ┆ i64    │\n",
       "╞══════════════════════════════════╪════════════════════════╪════════╡\n",
       "│ e1415bc59a3b9530897ce2a6ebcf55b5 ┆ [5490, 1908, 7749]     ┆ 7749   │\n",
       "│ a0c099ff4f1523c9dad140fc95200d7f ┆ [12802, 5366, … 9652]  ┆ 11823  │\n",
       "│ 856a240716615ad8552dfe318efcb317 ┆ [2499, 6960, … 13320]  ┆ 6960   │\n",
       "│ 41d8ef4fba7acc757dc97406fadbe684 ┆ [9261, 1019, … 11878]  ┆ 9261   │\n",
       "│ …                                ┆ …                      ┆ …      │\n",
       "│ 415b7a2efc597169e0ab525de6ed248b ┆ [10997, 7062, … 7641]  ┆ 10997  │\n",
       "│ 0ec77a98c6e716ad1420e7e223144869 ┆ [10069, 13482, … 5827] ┆ 2069   │\n",
       "│ 70f6b850c9840a179fc5b93e632fca73 ┆ [13106, 9508, … 4248]  ┆ 9508   │\n",
       "│ 0bed6150c77ee36e49d615829baa834d ┆ [6526, 13788, … 12694] ┆ 6526   │\n",
       "└──────────────────────────────────┴────────────────────────┴────────┘"
      ]
     },
     "execution_count": 26,
     "metadata": {},
     "output_type": "execute_result"
    }
   ],
   "source": [
    "candidaates_df"
   ]
  },
  {
   "cell_type": "code",
   "execution_count": null,
   "id": "63f84013-349b-4071-b8cb-a07b238e71b9",
   "metadata": {},
   "outputs": [],
   "source": []
  }
 ],
 "metadata": {
  "kernelspec": {
   "display_name": "Python 3 (ipykernel)",
   "language": "python",
   "name": "python3"
  },
  "language_info": {
   "codemirror_mode": {
    "name": "ipython",
    "version": 3
   },
   "file_extension": ".py",
   "mimetype": "text/x-python",
   "name": "python",
   "nbconvert_exporter": "python",
   "pygments_lexer": "ipython3",
   "version": "3.10.12"
  }
 },
 "nbformat": 4,
 "nbformat_minor": 5
}
