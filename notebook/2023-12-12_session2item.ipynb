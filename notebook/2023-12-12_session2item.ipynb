{
 "cells": [
  {
   "cell_type": "code",
   "execution_count": 1,
   "id": "88f0270e-60db-45dc-8c51-ba5c6fff92bc",
   "metadata": {},
   "outputs": [
    {
     "name": "stdout",
     "output_type": "stream",
     "text": [
      "/kaggle/working\n"
     ]
    }
   ],
   "source": [
    "%cd .."
   ]
  },
  {
   "cell_type": "code",
   "execution_count": 2,
   "id": "1f1e69c1-6ad7-4447-9cd0-f9078e83ff13",
   "metadata": {},
   "outputs": [
    {
     "name": "stdout",
     "output_type": "stream",
     "text": [
      "debug: true\n",
      "seed: 7\n",
      "dir:\n",
      "  data_dir: /kaggle/working/input/atmaCup16_Dataset\n",
      "  output_dir: /kaggle/working/output\n",
      "  exp_dir: /kaggle/working/output/exp\n",
      "  cand_unsupervised_dir: /kaggle/working/output/cand_unsupervised\n",
      "  cand_supervised_dir: /kaggle/working/output/cand_supervised\n",
      "  datasets_dir: /kaggle/working/output/datasets\n",
      "exp:\n",
      "  num_candidate: 100\n",
      "  k:\n",
      "  - 1\n",
      "  - 5\n",
      "  - 10\n",
      "  - 50\n",
      "  - 100\n",
      "  implicit:\n",
      "    model: bpr\n",
      "    params: null\n",
      "\n"
     ]
    }
   ],
   "source": [
    "from hydra import compose, initialize\n",
    "from omegaconf import OmegaConf\n",
    "\n",
    "with initialize(version_base=None, config_path=\"../cand_unsupervised/session2item\"):\n",
    "    cfg = compose(config_name=\"config.yaml\", overrides=[\"debug=True\"])\n",
    "    print(OmegaConf.to_yaml(cfg))"
   ]
  },
  {
   "cell_type": "code",
   "execution_count": 3,
   "id": "bb534b4f-d4e8-4c27-bf73-e089b0654d99",
   "metadata": {},
   "outputs": [],
   "source": [
    "import os\n",
    "import sys\n",
    "from pathlib import Path\n",
    "\n",
    "import hydra\n",
    "import numpy as np\n",
    "import polars as pl\n",
    "from hydra.core.hydra_config import HydraConfig\n",
    "from omegaconf import DictConfig, OmegaConf\n",
    "\n",
    "import utils\n",
    "import wandb\n",
    "from utils.load import load_label_data, load_log_data, load_session_data\n",
    "from utils.metrics import calculate_metrics"
   ]
  },
  {
   "cell_type": "code",
   "execution_count": 4,
   "id": "7ea8da6f-fc18-4b94-bdaf-5c7687a07ca7",
   "metadata": {},
   "outputs": [],
   "source": [
    "import implicit\n",
    "import scipy.sparse as sparse"
   ]
  },
  {
   "cell_type": "code",
   "execution_count": 11,
   "id": "f7fb90f4-4c54-430c-a15a-5fdcd7d9e537",
   "metadata": {},
   "outputs": [
    {
     "name": "stdout",
     "output_type": "stream",
     "text": [
      "[load data] done in 1.4 s\n"
     ]
    }
   ],
   "source": [
    "with utils.timer(\"load data\"):\n",
    "    train_log_df = load_log_data(Path(cfg.dir.data_dir), \"train\")\n",
    "    test_log_df = load_log_data(Path(cfg.dir.data_dir), \"test\")\n",
    "    all_log_df = pl.concat([train_log_df, test_log_df])"
   ]
  },
  {
   "cell_type": "code",
   "execution_count": 19,
   "id": "61029f72-b1df-40fe-906f-645a671d9c90",
   "metadata": {},
   "outputs": [],
   "source": [
    "# session_id を連番に変換\n",
    "all_log_df = all_log_df.with_columns(\n",
    "    pl.col(\"session_id\").cast(pl.Categorical).to_physical().alias(\"sid\"),\n",
    ")\n",
    "\n",
    "# sid と yad_no を対応させる dict\n",
    "unique_df = all_log_df.unique([\"sid\", \"session_id\"])\n",
    "unique_sids = unique_df[\"sid\"].to_numpy()\n",
    "unique_session_ids = unique_df[\"session_id\"].to_list()\n",
    "unique_yad_nos = unique_df[\"yad_no\"].unique()"
   ]
  },
  {
   "cell_type": "code",
   "execution_count": 21,
   "id": "8fa9cd90-5ab5-4c26-92dd-5c0605abefed",
   "metadata": {},
   "outputs": [
    {
     "data": {
      "text/plain": [
       "463398"
      ]
     },
     "execution_count": 21,
     "metadata": {},
     "output_type": "execute_result"
    }
   ],
   "source": [
    "len(unique_sids)"
   ]
  },
  {
   "cell_type": "code",
   "execution_count": 46,
   "id": "27c4266a-619e-4837-816e-3d6e2022f640",
   "metadata": {},
   "outputs": [],
   "source": [
    "sparse_item_user = sparse.csr_matrix(\n",
    "    (\n",
    "        np.ones(len(all_log_df)),\n",
    "        (all_log_df[\"sid\"].to_numpy(), all_log_df[\"yad_no\"].to_numpy()),\n",
    "    )\n",
    ")\n",
    "if cfg.exp.implicit.model == \"bpr\":\n",
    "    from implicit.cpu.bpr import BayesianPersonalizedRanking\n",
    "\n",
    "    model = BayesianPersonalizedRanking(\n",
    "        **OmegaConf.to_container(cfg.exp.implicit.params, resolve=True)\n",
    "    )"
   ]
  },
  {
   "cell_type": "code",
   "execution_count": 31,
   "id": "b8af9a81-649a-4a04-be30-669a4cf968a8",
   "metadata": {},
   "outputs": [],
   "source": [
    "if cfg.exp.implicit.model == \"bpr\":\n",
    "    from implicit.cpu.bpr import BayesianPersonalizedRanking\n",
    "\n",
    "    model = BayesianPersonalizedRanking(\n",
    "        **OmegaConf.to_container(cfg.exp.implicit.params, resolve=True)\n",
    "    )"
   ]
  },
  {
   "cell_type": "code",
   "execution_count": 47,
   "id": "23f05c4a-04d8-469b-bf79-a2fe7b2c276b",
   "metadata": {},
   "outputs": [
    {
     "data": {
      "application/vnd.jupyter.widget-view+json": {
       "model_id": "7598485f8686425e8f0dd7309f65a8b9",
       "version_major": 2,
       "version_minor": 0
      },
      "text/plain": [
       "  0%|          | 0/100 [00:00<?, ?it/s]"
      ]
     },
     "metadata": {},
     "output_type": "display_data"
    }
   ],
   "source": [
    "model.fit(sparse_item_user)"
   ]
  },
  {
   "cell_type": "code",
   "execution_count": 71,
   "id": "29d60bc7-4858-4015-ad36-d0faf2807d37",
   "metadata": {},
   "outputs": [
    {
     "data": {
      "text/html": [
       "<div><style>\n",
       ".dataframe > thead > tr > th,\n",
       ".dataframe > tbody > tr > td {\n",
       "  text-align: right;\n",
       "  white-space: pre-wrap;\n",
       "}\n",
       "</style>\n",
       "<small>shape: (5, 66)</small><table border=\"1\" class=\"dataframe\"><thead><tr><th>session_id</th><th>session_factor_0</th><th>session_factor_1</th><th>session_factor_2</th><th>session_factor_3</th><th>session_factor_4</th><th>session_factor_5</th><th>session_factor_6</th><th>session_factor_7</th><th>session_factor_8</th><th>session_factor_9</th><th>session_factor_10</th><th>session_factor_11</th><th>session_factor_12</th><th>session_factor_13</th><th>session_factor_14</th><th>session_factor_15</th><th>session_factor_16</th><th>session_factor_17</th><th>session_factor_18</th><th>session_factor_19</th><th>session_factor_20</th><th>session_factor_21</th><th>session_factor_22</th><th>session_factor_23</th><th>session_factor_24</th><th>session_factor_25</th><th>session_factor_26</th><th>session_factor_27</th><th>session_factor_28</th><th>session_factor_29</th><th>session_factor_30</th><th>session_factor_31</th><th>session_factor_32</th><th>session_factor_33</th><th>session_factor_34</th><th>session_factor_35</th><th>session_factor_36</th><th>session_factor_37</th><th>session_factor_38</th><th>session_factor_39</th><th>session_factor_40</th><th>session_factor_41</th><th>session_factor_42</th><th>session_factor_43</th><th>session_factor_44</th><th>session_factor_45</th><th>session_factor_46</th><th>session_factor_47</th><th>session_factor_48</th><th>session_factor_49</th><th>session_factor_50</th><th>session_factor_51</th><th>session_factor_52</th><th>session_factor_53</th><th>session_factor_54</th><th>session_factor_55</th><th>session_factor_56</th><th>session_factor_57</th><th>session_factor_58</th><th>session_factor_59</th><th>session_factor_60</th><th>session_factor_61</th><th>session_factor_62</th><th>session_factor_63</th><th>session_factor_64</th></tr><tr><td>object</td><td>f32</td><td>f32</td><td>f32</td><td>f32</td><td>f32</td><td>f32</td><td>f32</td><td>f32</td><td>f32</td><td>f32</td><td>f32</td><td>f32</td><td>f32</td><td>f32</td><td>f32</td><td>f32</td><td>f32</td><td>f32</td><td>f32</td><td>f32</td><td>f32</td><td>f32</td><td>f32</td><td>f32</td><td>f32</td><td>f32</td><td>f32</td><td>f32</td><td>f32</td><td>f32</td><td>f32</td><td>f32</td><td>f32</td><td>f32</td><td>f32</td><td>f32</td><td>f32</td><td>f32</td><td>f32</td><td>f32</td><td>f32</td><td>f32</td><td>f32</td><td>f32</td><td>f32</td><td>f32</td><td>f32</td><td>f32</td><td>f32</td><td>f32</td><td>f32</td><td>f32</td><td>f32</td><td>f32</td><td>f32</td><td>f32</td><td>f32</td><td>f32</td><td>f32</td><td>f32</td><td>f32</td><td>f32</td><td>f32</td><td>f32</td><td>f32</td></tr></thead><tbody><tr><td>00294065e14b11795e437b6725a31ff8</td><td>-0.036771</td><td>0.000164</td><td>0.026966</td><td>-0.012653</td><td>0.04514</td><td>-0.02769</td><td>0.003658</td><td>-0.063323</td><td>-0.01879</td><td>-0.049074</td><td>-0.035665</td><td>0.033155</td><td>-0.051288</td><td>-0.066057</td><td>-0.002031</td><td>-0.003474</td><td>0.01524</td><td>0.003185</td><td>-0.023771</td><td>0.031043</td><td>0.021323</td><td>-0.004541</td><td>0.003489</td><td>-0.00788</td><td>-0.044113</td><td>-0.031901</td><td>0.016195</td><td>-0.01755</td><td>-0.004789</td><td>0.029545</td><td>-0.007863</td><td>0.04089</td><td>0.041743</td><td>-0.059417</td><td>-0.002905</td><td>0.022054</td><td>-0.013864</td><td>-0.030507</td><td>0.04886</td><td>-0.014229</td><td>0.039684</td><td>0.013793</td><td>-0.019421</td><td>-0.035503</td><td>-0.027573</td><td>0.015012</td><td>-0.027347</td><td>0.022011</td><td>-0.047475</td><td>0.012779</td><td>0.003484</td><td>0.0262</td><td>-0.014723</td><td>0.031156</td><td>-0.007428</td><td>-0.01241</td><td>0.096701</td><td>0.026562</td><td>0.003461</td><td>-0.039273</td><td>-0.014747</td><td>0.025647</td><td>0.03234</td><td>-0.024101</td><td>1.0</td></tr><tr><td>002b091484c024d6b9504eb9c1a3c50a</td><td>0.059012</td><td>0.060202</td><td>0.000056</td><td>-0.053923</td><td>-0.040282</td><td>0.033557</td><td>0.045072</td><td>0.011441</td><td>-0.032807</td><td>-0.039396</td><td>-0.039178</td><td>0.017746</td><td>0.018871</td><td>-0.04083</td><td>0.016685</td><td>-0.053092</td><td>-0.018293</td><td>-0.042589</td><td>0.036984</td><td>-0.025973</td><td>-0.020713</td><td>-0.035783</td><td>-0.077183</td><td>-0.000798</td><td>-0.029774</td><td>0.007561</td><td>0.043933</td><td>0.064535</td><td>0.026312</td><td>-0.025284</td><td>0.043433</td><td>0.035394</td><td>0.006871</td><td>-0.034281</td><td>0.054639</td><td>0.043514</td><td>0.036593</td><td>-0.006707</td><td>-0.074407</td><td>-0.038002</td><td>-0.039956</td><td>0.055136</td><td>0.023354</td><td>0.047811</td><td>0.063801</td><td>-0.011288</td><td>-0.069044</td><td>-0.046459</td><td>-0.036728</td><td>0.028165</td><td>-0.032068</td><td>0.006776</td><td>0.025952</td><td>-0.036918</td><td>0.00888</td><td>0.028221</td><td>-0.067406</td><td>0.021893</td><td>-0.013964</td><td>-0.015134</td><td>-0.00995</td><td>0.042947</td><td>0.061038</td><td>0.005145</td><td>1.0</td></tr><tr><td>002e2ece9a05cd20bcc76f95d50aa910</td><td>0.002788</td><td>0.01935</td><td>-0.000218</td><td>-0.012647</td><td>0.013266</td><td>0.005118</td><td>-0.007905</td><td>0.007355</td><td>0.008918</td><td>0.005305</td><td>0.005698</td><td>0.021933</td><td>0.000152</td><td>0.001966</td><td>0.02101</td><td>-0.022875</td><td>0.043102</td><td>-0.003904</td><td>0.006291</td><td>0.000627</td><td>0.015834</td><td>0.030637</td><td>0.028937</td><td>-0.003354</td><td>0.010379</td><td>0.005265</td><td>0.001907</td><td>-0.004861</td><td>-0.010202</td><td>0.020113</td><td>-0.012528</td><td>-0.004365</td><td>0.003212</td><td>0.000864</td><td>-0.003111</td><td>0.021124</td><td>0.02415</td><td>-0.00216</td><td>-0.020098</td><td>0.00397</td><td>-0.019377</td><td>0.015713</td><td>-0.005888</td><td>-0.012549</td><td>0.010502</td><td>-0.020998</td><td>0.003017</td><td>0.000973</td><td>-0.002455</td><td>-0.016202</td><td>-0.022227</td><td>-0.007497</td><td>-0.011745</td><td>0.008557</td><td>0.007437</td><td>0.016202</td><td>0.009612</td><td>-0.020468</td><td>0.036794</td><td>0.017653</td><td>0.018153</td><td>0.003538</td><td>-0.007995</td><td>0.010818</td><td>1.0</td></tr><tr><td>0042d37af6dd345a9a894ca7655c942c</td><td>-0.036546</td><td>0.040001</td><td>-0.014125</td><td>-0.051478</td><td>0.033564</td><td>0.027352</td><td>0.015059</td><td>0.008505</td><td>0.01235</td><td>0.016998</td><td>0.024763</td><td>-0.004508</td><td>0.010197</td><td>-0.026252</td><td>0.024483</td><td>0.030378</td><td>0.019711</td><td>-0.011307</td><td>-0.004122</td><td>0.042425</td><td>0.004763</td><td>-0.036433</td><td>-0.014888</td><td>-0.022988</td><td>-0.002358</td><td>0.043713</td><td>0.061691</td><td>0.012252</td><td>0.010359</td><td>0.009214</td><td>0.005947</td><td>0.038487</td><td>0.000393</td><td>0.026606</td><td>-0.015697</td><td>-0.00516</td><td>0.011509</td><td>-0.000648</td><td>0.003824</td><td>0.041818</td><td>-0.07622</td><td>0.009325</td><td>-0.009421</td><td>-0.054425</td><td>-0.023548</td><td>-0.011478</td><td>-0.008401</td><td>0.056804</td><td>0.007975</td><td>-0.034334</td><td>0.019686</td><td>-0.042343</td><td>-0.013827</td><td>0.002503</td><td>0.029714</td><td>-0.007683</td><td>0.031995</td><td>-0.010224</td><td>-0.031221</td><td>-0.000072</td><td>0.012726</td><td>-0.039655</td><td>0.034917</td><td>0.018123</td><td>1.0</td></tr><tr><td>0048fe227980577a2b2047126ecbb786</td><td>0.084619</td><td>0.048285</td><td>0.108595</td><td>0.01772</td><td>0.031941</td><td>-0.018123</td><td>0.012628</td><td>-0.021612</td><td>-0.086186</td><td>-0.06223</td><td>-0.024024</td><td>-0.117529</td><td>0.009104</td><td>0.096366</td><td>0.11838</td><td>0.095569</td><td>0.006349</td><td>-0.070021</td><td>-0.116397</td><td>0.015271</td><td>0.021736</td><td>-0.002842</td><td>-0.066831</td><td>-0.017185</td><td>0.087705</td><td>0.032662</td><td>0.056455</td><td>0.019665</td><td>-0.015438</td><td>-0.003288</td><td>-0.02796</td><td>0.007036</td><td>-0.039092</td><td>-0.009971</td><td>0.093991</td><td>0.035768</td><td>0.03279</td><td>0.004002</td><td>-0.043429</td><td>0.018611</td><td>0.02609</td><td>-0.029287</td><td>0.061743</td><td>-0.115864</td><td>0.016999</td><td>0.024041</td><td>-0.096511</td><td>0.001174</td><td>0.031817</td><td>-0.009657</td><td>-0.036919</td><td>0.015383</td><td>0.011721</td><td>-0.021871</td><td>0.026098</td><td>0.012601</td><td>0.084723</td><td>-0.024929</td><td>0.09665</td><td>-0.026404</td><td>-0.081156</td><td>0.035022</td><td>0.094793</td><td>0.013281</td><td>1.0</td></tr></tbody></table></div>"
      ],
      "text/plain": [
       "shape: (5, 66)\n",
       "┌───────────┬───────────┬───────────┬───────────┬───┬───────────┬───────────┬───────────┬──────────┐\n",
       "│ session_i ┆ session_f ┆ session_f ┆ session_f ┆ … ┆ session_f ┆ session_f ┆ session_f ┆ session_ │\n",
       "│ d         ┆ actor_0   ┆ actor_1   ┆ actor_2   ┆   ┆ actor_61  ┆ actor_62  ┆ actor_63  ┆ factor_6 │\n",
       "│ ---       ┆ ---       ┆ ---       ┆ ---       ┆   ┆ ---       ┆ ---       ┆ ---       ┆ 4        │\n",
       "│ object    ┆ f32       ┆ f32       ┆ f32       ┆   ┆ f32       ┆ f32       ┆ f32       ┆ ---      │\n",
       "│           ┆           ┆           ┆           ┆   ┆           ┆           ┆           ┆ f32      │\n",
       "╞═══════════╪═══════════╪═══════════╪═══════════╪═══╪═══════════╪═══════════╪═══════════╪══════════╡\n",
       "│ 00294065e ┆ -0.036771 ┆ 0.000164  ┆ 0.026966  ┆ … ┆ 0.025647  ┆ 0.03234   ┆ -0.024101 ┆ 1.0      │\n",
       "│ 14b11795e ┆           ┆           ┆           ┆   ┆           ┆           ┆           ┆          │\n",
       "│ 437b6725a ┆           ┆           ┆           ┆   ┆           ┆           ┆           ┆          │\n",
       "│ 31ff8     ┆           ┆           ┆           ┆   ┆           ┆           ┆           ┆          │\n",
       "│ 002b09148 ┆ 0.059012  ┆ 0.060202  ┆ 0.000056  ┆ … ┆ 0.042947  ┆ 0.061038  ┆ 0.005145  ┆ 1.0      │\n",
       "│ 4c024d6b9 ┆           ┆           ┆           ┆   ┆           ┆           ┆           ┆          │\n",
       "│ 504eb9c1a ┆           ┆           ┆           ┆   ┆           ┆           ┆           ┆          │\n",
       "│ 3c50a     ┆           ┆           ┆           ┆   ┆           ┆           ┆           ┆          │\n",
       "│ 002e2ece9 ┆ 0.002788  ┆ 0.01935   ┆ -0.000218 ┆ … ┆ 0.003538  ┆ -0.007995 ┆ 0.010818  ┆ 1.0      │\n",
       "│ a05cd20bc ┆           ┆           ┆           ┆   ┆           ┆           ┆           ┆          │\n",
       "│ c76f95d50 ┆           ┆           ┆           ┆   ┆           ┆           ┆           ┆          │\n",
       "│ aa910     ┆           ┆           ┆           ┆   ┆           ┆           ┆           ┆          │\n",
       "│ 0042d37af ┆ -0.036546 ┆ 0.040001  ┆ -0.014125 ┆ … ┆ -0.039655 ┆ 0.034917  ┆ 0.018123  ┆ 1.0      │\n",
       "│ 6dd345a9a ┆           ┆           ┆           ┆   ┆           ┆           ┆           ┆          │\n",
       "│ 894ca7655 ┆           ┆           ┆           ┆   ┆           ┆           ┆           ┆          │\n",
       "│ c942c     ┆           ┆           ┆           ┆   ┆           ┆           ┆           ┆          │\n",
       "│ 0048fe227 ┆ 0.084619  ┆ 0.048285  ┆ 0.108595  ┆ … ┆ 0.035022  ┆ 0.094793  ┆ 0.013281  ┆ 1.0      │\n",
       "│ 980577a2b ┆           ┆           ┆           ┆   ┆           ┆           ┆           ┆          │\n",
       "│ 2047126ec ┆           ┆           ┆           ┆   ┆           ┆           ┆           ┆          │\n",
       "│ bb786     ┆           ┆           ┆           ┆   ┆           ┆           ┆           ┆          │\n",
       "└───────────┴───────────┴───────────┴───────────┴───┴───────────┴───────────┴───────────┴──────────┘"
      ]
     },
     "execution_count": 71,
     "metadata": {},
     "output_type": "execute_result"
    }
   ],
   "source": [
    "session_ids = unique_session_ids\n",
    "session_vectors = model.user_factors[unique_sids]\n",
    "session_factor_df = pl.DataFrame({\"session_id\": session_ids}).with_columns(\n",
    "    pl.Series(name=f\"session_factor_{i}\", values=session_vectors[:, i])\n",
    "    for i in range(session_vectors.shape[1])\n",
    ")\n",
    "session_factor_df.head()"
   ]
  },
  {
   "cell_type": "code",
   "execution_count": 75,
   "id": "08e5fd00-e4e1-489d-8255-8d751f2386b1",
   "metadata": {},
   "outputs": [
    {
     "data": {
      "text/html": [
       "<div><style>\n",
       ".dataframe > thead > tr > th,\n",
       ".dataframe > tbody > tr > td {\n",
       "  text-align: right;\n",
       "  white-space: pre-wrap;\n",
       "}\n",
       "</style>\n",
       "<small>shape: (5, 66)</small><table border=\"1\" class=\"dataframe\"><thead><tr><th>yad_no</th><th>yad_factor_0</th><th>yad_factor_1</th><th>yad_factor_2</th><th>yad_factor_3</th><th>yad_factor_4</th><th>yad_factor_5</th><th>yad_factor_6</th><th>yad_factor_7</th><th>yad_factor_8</th><th>yad_factor_9</th><th>yad_factor_10</th><th>yad_factor_11</th><th>yad_factor_12</th><th>yad_factor_13</th><th>yad_factor_14</th><th>yad_factor_15</th><th>yad_factor_16</th><th>yad_factor_17</th><th>yad_factor_18</th><th>yad_factor_19</th><th>yad_factor_20</th><th>yad_factor_21</th><th>yad_factor_22</th><th>yad_factor_23</th><th>yad_factor_24</th><th>yad_factor_25</th><th>yad_factor_26</th><th>yad_factor_27</th><th>yad_factor_28</th><th>yad_factor_29</th><th>yad_factor_30</th><th>yad_factor_31</th><th>yad_factor_32</th><th>yad_factor_33</th><th>yad_factor_34</th><th>yad_factor_35</th><th>yad_factor_36</th><th>yad_factor_37</th><th>yad_factor_38</th><th>yad_factor_39</th><th>yad_factor_40</th><th>yad_factor_41</th><th>yad_factor_42</th><th>yad_factor_43</th><th>yad_factor_44</th><th>yad_factor_45</th><th>yad_factor_46</th><th>yad_factor_47</th><th>yad_factor_48</th><th>yad_factor_49</th><th>yad_factor_50</th><th>yad_factor_51</th><th>yad_factor_52</th><th>yad_factor_53</th><th>yad_factor_54</th><th>yad_factor_55</th><th>yad_factor_56</th><th>yad_factor_57</th><th>yad_factor_58</th><th>yad_factor_59</th><th>yad_factor_60</th><th>yad_factor_61</th><th>yad_factor_62</th><th>yad_factor_63</th><th>yad_factor_64</th></tr><tr><td>i64</td><td>f32</td><td>f32</td><td>f32</td><td>f32</td><td>f32</td><td>f32</td><td>f32</td><td>f32</td><td>f32</td><td>f32</td><td>f32</td><td>f32</td><td>f32</td><td>f32</td><td>f32</td><td>f32</td><td>f32</td><td>f32</td><td>f32</td><td>f32</td><td>f32</td><td>f32</td><td>f32</td><td>f32</td><td>f32</td><td>f32</td><td>f32</td><td>f32</td><td>f32</td><td>f32</td><td>f32</td><td>f32</td><td>f32</td><td>f32</td><td>f32</td><td>f32</td><td>f32</td><td>f32</td><td>f32</td><td>f32</td><td>f32</td><td>f32</td><td>f32</td><td>f32</td><td>f32</td><td>f32</td><td>f32</td><td>f32</td><td>f32</td><td>f32</td><td>f32</td><td>f32</td><td>f32</td><td>f32</td><td>f32</td><td>f32</td><td>f32</td><td>f32</td><td>f32</td><td>f32</td><td>f32</td><td>f32</td><td>f32</td><td>f32</td><td>f32</td></tr></thead><tbody><tr><td>6182</td><td>-0.048326</td><td>-0.004528</td><td>-0.024669</td><td>-0.089255</td><td>0.010862</td><td>-0.033149</td><td>-0.028463</td><td>0.057671</td><td>-0.060024</td><td>0.014419</td><td>-0.011375</td><td>0.075867</td><td>-0.073627</td><td>-0.033328</td><td>-0.016734</td><td>-0.08195</td><td>0.062993</td><td>0.025594</td><td>-0.0225</td><td>-0.071677</td><td>-0.020026</td><td>-0.007773</td><td>-0.01956</td><td>0.030126</td><td>0.041875</td><td>-0.011655</td><td>0.032269</td><td>0.003096</td><td>-0.003822</td><td>0.029732</td><td>0.015008</td><td>0.032676</td><td>0.003491</td><td>-0.05299</td><td>-0.002994</td><td>0.051818</td><td>-0.061261</td><td>-0.035934</td><td>-0.0166</td><td>0.085077</td><td>-0.080078</td><td>-0.027553</td><td>-0.006894</td><td>-0.031826</td><td>0.071659</td><td>0.010862</td><td>0.00932</td><td>-0.000881</td><td>0.086484</td><td>0.011526</td><td>0.040588</td><td>-0.002206</td><td>0.009963</td><td>-0.021516</td><td>0.042936</td><td>-0.09884</td><td>-0.053337</td><td>-0.036408</td><td>0.014027</td><td>-0.05266</td><td>0.02113</td><td>-0.077207</td><td>-0.017149</td><td>-0.013563</td><td>1.0</td></tr><tr><td>12298</td><td>0.014495</td><td>0.001375</td><td>-0.00929</td><td>0.007667</td><td>-0.000402</td><td>-0.029706</td><td>0.000689</td><td>-0.001776</td><td>-0.010251</td><td>-0.002306</td><td>-0.005729</td><td>-0.005401</td><td>0.001226</td><td>-0.003998</td><td>-0.011896</td><td>0.011732</td><td>-0.010357</td><td>-0.003676</td><td>-0.008669</td><td>0.013002</td><td>0.019534</td><td>-0.008416</td><td>0.013202</td><td>-0.012791</td><td>0.000937</td><td>0.006825</td><td>0.015935</td><td>0.002565</td><td>0.001324</td><td>0.013638</td><td>0.001323</td><td>0.00539</td><td>-0.008881</td><td>-0.000687</td><td>0.004977</td><td>0.0025</td><td>-0.00459</td><td>-0.008292</td><td>-0.001602</td><td>-0.010882</td><td>0.003404</td><td>0.000196</td><td>-0.013993</td><td>-0.006648</td><td>0.002317</td><td>-0.000883</td><td>-0.01104</td><td>0.01576</td><td>-0.002638</td><td>-0.001733</td><td>-0.000834</td><td>0.009971</td><td>0.009188</td><td>-0.009179</td><td>0.001683</td><td>0.003499</td><td>0.004111</td><td>-0.001257</td><td>0.010511</td><td>0.001072</td><td>-0.006655</td><td>-0.000067</td><td>-0.002751</td><td>0.009406</td><td>1.0</td></tr><tr><td>2900</td><td>0.036425</td><td>0.008342</td><td>0.011304</td><td>-0.023282</td><td>-0.032702</td><td>0.012484</td><td>-0.043675</td><td>0.006696</td><td>-0.007789</td><td>0.010664</td><td>0.015559</td><td>0.017608</td><td>-0.032099</td><td>0.035661</td><td>0.0378</td><td>-0.009083</td><td>0.006619</td><td>0.016124</td><td>0.037166</td><td>0.061588</td><td>0.018872</td><td>-0.003306</td><td>0.01516</td><td>0.002733</td><td>0.023661</td><td>-0.001795</td><td>-0.014787</td><td>0.051053</td><td>0.01149</td><td>0.006545</td><td>0.0115</td><td>0.007263</td><td>0.047442</td><td>0.028293</td><td>0.0054</td><td>0.005152</td><td>-0.011257</td><td>0.009365</td><td>0.015843</td><td>0.032238</td><td>0.031456</td><td>0.021141</td><td>0.00197</td><td>0.023695</td><td>0.000123</td><td>-0.007382</td><td>0.010934</td><td>-0.043818</td><td>-0.022649</td><td>0.038427</td><td>0.009473</td><td>-0.008978</td><td>0.034308</td><td>0.013288</td><td>0.01531</td><td>0.020739</td><td>-0.044199</td><td>0.032694</td><td>-0.015589</td><td>0.028608</td><td>0.043591</td><td>0.014018</td><td>0.008433</td><td>0.01826</td><td>1.0</td></tr><tr><td>10674</td><td>-0.014719</td><td>0.008035</td><td>-0.020909</td><td>0.01438</td><td>0.001948</td><td>0.024846</td><td>0.001286</td><td>0.035624</td><td>0.045272</td><td>0.042396</td><td>-0.044118</td><td>0.027642</td><td>-0.016702</td><td>-0.045047</td><td>0.03419</td><td>0.00695</td><td>0.073381</td><td>-0.015003</td><td>0.055612</td><td>0.035086</td><td>0.014825</td><td>0.026952</td><td>0.009799</td><td>-0.033874</td><td>0.076922</td><td>0.001576</td><td>0.046452</td><td>0.030098</td><td>0.001523</td><td>0.003636</td><td>0.016463</td><td>-0.022815</td><td>0.004967</td><td>-0.001326</td><td>0.055203</td><td>0.041632</td><td>-0.072908</td><td>-0.075853</td><td>0.063959</td><td>0.025538</td><td>-0.013595</td><td>0.032738</td><td>0.003776</td><td>-0.013634</td><td>-0.022674</td><td>-0.029323</td><td>-0.046717</td><td>-0.002111</td><td>-0.06112</td><td>0.079175</td><td>0.109619</td><td>-0.012267</td><td>0.077302</td><td>-0.037915</td><td>-0.004437</td><td>-0.001089</td><td>0.012456</td><td>-0.053455</td><td>-0.026448</td><td>-0.013132</td><td>0.057654</td><td>-0.125646</td><td>0.040757</td><td>-0.015899</td><td>1.0</td></tr><tr><td>11699</td><td>0.007227</td><td>-0.037689</td><td>-0.03123</td><td>-0.00083</td><td>-0.009916</td><td>0.014247</td><td>0.036252</td><td>0.029992</td><td>-0.014858</td><td>0.009602</td><td>0.026991</td><td>0.022914</td><td>0.003722</td><td>0.000956</td><td>0.010084</td><td>-0.046201</td><td>-0.040152</td><td>0.015242</td><td>0.00661</td><td>-0.004807</td><td>0.009134</td><td>0.019995</td><td>-0.038628</td><td>0.001548</td><td>0.010822</td><td>-0.027628</td><td>0.031518</td><td>-0.027189</td><td>-0.036847</td><td>-0.00041</td><td>-0.018229</td><td>-0.039499</td><td>-0.004898</td><td>0.000968</td><td>0.002646</td><td>-0.032414</td><td>-0.002216</td><td>0.008194</td><td>0.026798</td><td>0.001135</td><td>-0.020248</td><td>0.026219</td><td>-0.015044</td><td>0.005389</td><td>0.006827</td><td>-0.019934</td><td>0.040647</td><td>-0.007452</td><td>-0.037088</td><td>0.056974</td><td>0.00598</td><td>-0.065331</td><td>0.02824</td><td>0.008805</td><td>0.032377</td><td>0.002783</td><td>0.03078</td><td>0.016393</td><td>-0.033144</td><td>0.045921</td><td>0.043949</td><td>-0.011463</td><td>0.045163</td><td>-0.02275</td><td>1.0</td></tr></tbody></table></div>"
      ],
      "text/plain": [
       "shape: (5, 66)\n",
       "┌────────┬────────────┬────────────┬───────────┬───┬───────────┬───────────┬───────────┬───────────┐\n",
       "│ yad_no ┆ yad_factor ┆ yad_factor ┆ yad_facto ┆ … ┆ yad_facto ┆ yad_facto ┆ yad_facto ┆ yad_facto │\n",
       "│ ---    ┆ _0         ┆ _1         ┆ r_2       ┆   ┆ r_61      ┆ r_62      ┆ r_63      ┆ r_64      │\n",
       "│ i64    ┆ ---        ┆ ---        ┆ ---       ┆   ┆ ---       ┆ ---       ┆ ---       ┆ ---       │\n",
       "│        ┆ f32        ┆ f32        ┆ f32       ┆   ┆ f32       ┆ f32       ┆ f32       ┆ f32       │\n",
       "╞════════╪════════════╪════════════╪═══════════╪═══╪═══════════╪═══════════╪═══════════╪═══════════╡\n",
       "│ 6182   ┆ -0.048326  ┆ -0.004528  ┆ -0.024669 ┆ … ┆ -0.077207 ┆ -0.017149 ┆ -0.013563 ┆ 1.0       │\n",
       "│ 12298  ┆ 0.014495   ┆ 0.001375   ┆ -0.00929  ┆ … ┆ -0.000067 ┆ -0.002751 ┆ 0.009406  ┆ 1.0       │\n",
       "│ 2900   ┆ 0.036425   ┆ 0.008342   ┆ 0.011304  ┆ … ┆ 0.014018  ┆ 0.008433  ┆ 0.01826   ┆ 1.0       │\n",
       "│ 10674  ┆ -0.014719  ┆ 0.008035   ┆ -0.020909 ┆ … ┆ -0.125646 ┆ 0.040757  ┆ -0.015899 ┆ 1.0       │\n",
       "│ 11699  ┆ 0.007227   ┆ -0.037689  ┆ -0.03123  ┆ … ┆ -0.011463 ┆ 0.045163  ┆ -0.02275  ┆ 1.0       │\n",
       "└────────┴────────────┴────────────┴───────────┴───┴───────────┴───────────┴───────────┴───────────┘"
      ]
     },
     "execution_count": 75,
     "metadata": {},
     "output_type": "execute_result"
    }
   ],
   "source": [
    "yad_ids = unique_yad_nos\n",
    "yad_vectors = model.user_factors[unique_yad_nos]\n",
    "yad_factor_df = pl.DataFrame({\"yad_no\": yad_ids}).with_columns(\n",
    "    pl.Series(name=f\"yad_factor_{i}\", values=yad_vectors[:, i])\n",
    "    for i in range(yad_vectors.shape[1])\n",
    ")\n",
    "yad_factor_df.head()"
   ]
  },
  {
   "cell_type": "code",
   "execution_count": 78,
   "id": "516ad8c1-7871-485c-809a-59aa78ba7e2b",
   "metadata": {},
   "outputs": [],
   "source": [
    "# 少し時間がかかる\n",
    "candidates, scores = model.recommend(\n",
    "    unique_sids,\n",
    "    sparse_item_user[unique_sids],\n",
    "    N=cfg.exp.num_candidate,\n",
    "    filter_already_liked_items=False,\n",
    ")"
   ]
  },
  {
   "cell_type": "code",
   "execution_count": 89,
   "id": "da447797-1661-465a-b254-5513be3dc306",
   "metadata": {},
   "outputs": [],
   "source": [
    "candidate_score_df = pl.DataFrame(\n",
    "    {\n",
    "        \"session_id\": unique_session_ids,  # unique_sids と同じ順番\n",
    "        \"candidates\": candidates,\n",
    "        \"scores\": scores,\n",
    "    }\n",
    ")"
   ]
  },
  {
   "cell_type": "code",
   "execution_count": 90,
   "id": "02bef16f-32a3-4279-83b4-6ca58178b5c0",
   "metadata": {},
   "outputs": [
    {
     "data": {
      "text/html": [
       "<div><style>\n",
       ".dataframe > thead > tr > th,\n",
       ".dataframe > tbody > tr > td {\n",
       "  text-align: right;\n",
       "  white-space: pre-wrap;\n",
       "}\n",
       "</style>\n",
       "<small>shape: (5, 3)</small><table border=\"1\" class=\"dataframe\"><thead><tr><th>session_id</th><th>candidates</th><th>scores</th></tr><tr><td>str</td><td>list[i32]</td><td>list[f32]</td></tr></thead><tbody><tr><td>&quot;00026fd325b5d6…</td><td>[6182, 10610, … 4771]</td><td>[0.490051, 0.360482, … 0.261777]</td></tr><tr><td>&quot;001419ed5ca0e6…</td><td>[12298, 10610, … 2620]</td><td>[0.516867, 0.385657, … 0.267045]</td></tr><tr><td>&quot;00177ad4bf0130…</td><td>[10610, 4807, … 456]</td><td>[0.360191, 0.343715, … 0.261102]</td></tr><tr><td>&quot;001d2bfb0608cf…</td><td>[10610, 10573, … 468]</td><td>[0.359624, 0.35897, … 0.262962]</td></tr><tr><td>&quot;001e016195c0da…</td><td>[8134, 11181, … 7615]</td><td>[0.739138, 0.68611, … 0.285167]</td></tr></tbody></table></div>"
      ],
      "text/plain": [
       "shape: (5, 3)\n",
       "┌──────────────────────────────────┬────────────────────────┬──────────────────────────────────┐\n",
       "│ session_id                       ┆ candidates             ┆ scores                           │\n",
       "│ ---                              ┆ ---                    ┆ ---                              │\n",
       "│ str                              ┆ list[i32]              ┆ list[f32]                        │\n",
       "╞══════════════════════════════════╪════════════════════════╪══════════════════════════════════╡\n",
       "│ 00026fd325b5d65d18e6de78ea2a3751 ┆ [6182, 10610, … 4771]  ┆ [0.490051, 0.360482, … 0.261777] │\n",
       "│ 001419ed5ca0e6d97b044a0f2a70647c ┆ [12298, 10610, … 2620] ┆ [0.516867, 0.385657, … 0.267045] │\n",
       "│ 00177ad4bf013085f7d5d384a12f67b5 ┆ [10610, 4807, … 456]   ┆ [0.360191, 0.343715, … 0.261102] │\n",
       "│ 001d2bfb0608cf3f31a10d536d6a2d34 ┆ [10610, 10573, … 468]  ┆ [0.359624, 0.35897, … 0.262962]  │\n",
       "│ 001e016195c0da70831739c9ea6ec824 ┆ [8134, 11181, … 7615]  ┆ [0.739138, 0.68611, … 0.285167]  │\n",
       "└──────────────────────────────────┴────────────────────────┴──────────────────────────────────┘"
      ]
     },
     "execution_count": 90,
     "metadata": {},
     "output_type": "execute_result"
    }
   ],
   "source": [
    "candidate_score_df.head()"
   ]
  },
  {
   "cell_type": "code",
   "execution_count": 87,
   "id": "f63dd43c-5944-4c2b-adb5-f62e0388532b",
   "metadata": {},
   "outputs": [
    {
     "data": {
      "text/html": [
       "<div><style>\n",
       ".dataframe > thead > tr > th,\n",
       ".dataframe > tbody > tr > td {\n",
       "  text-align: right;\n",
       "  white-space: pre-wrap;\n",
       "}\n",
       "</style>\n",
       "<small>shape: (288_698, 1)</small><table border=\"1\" class=\"dataframe\"><thead><tr><th>session_id</th></tr><tr><td>str</td></tr></thead><tbody><tr><td>&quot;000007603d533d…</td></tr><tr><td>&quot;0000ca043ed437…</td></tr><tr><td>&quot;0000d4835cf113…</td></tr><tr><td>&quot;0000fcda1ae1b2…</td></tr><tr><td>&quot;000104bdffaaad…</td></tr><tr><td>&quot;00011afe25c343…</td></tr><tr><td>&quot;000125c737df18…</td></tr><tr><td>&quot;0001763050a10b…</td></tr><tr><td>&quot;000178c4d4d567…</td></tr><tr><td>&quot;0001e6a407a85d…</td></tr><tr><td>&quot;0002499cf2713a…</td></tr><tr><td>&quot;00026fd325b5d6…</td></tr><tr><td>&hellip;</td></tr><tr><td>&quot;fffd8c4fa7b5be…</td></tr><tr><td>&quot;fffe2d9e5982f5…</td></tr><tr><td>&quot;fffe3dedeb89ae…</td></tr><tr><td>&quot;fffe40478b2163…</td></tr><tr><td>&quot;fffe78a078a176…</td></tr><tr><td>&quot;fffe8a472ae6a9…</td></tr><tr><td>&quot;fffe8c99c5b332…</td></tr><tr><td>&quot;ffff2262d38abd…</td></tr><tr><td>&quot;ffff2360540745…</td></tr><tr><td>&quot;ffff7fb4617164…</td></tr><tr><td>&quot;ffffcd5bc19d62…</td></tr><tr><td>&quot;fffffa7baf3700…</td></tr></tbody></table></div>"
      ],
      "text/plain": [
       "shape: (288_698, 1)\n",
       "┌──────────────────────────────────┐\n",
       "│ session_id                       │\n",
       "│ ---                              │\n",
       "│ str                              │\n",
       "╞══════════════════════════════════╡\n",
       "│ 000007603d533d30453cc45d0f3d119f │\n",
       "│ 0000ca043ed437a1472c9d1d154eb49b │\n",
       "│ 0000d4835cf113316fe447e2f80ba1c8 │\n",
       "│ 0000fcda1ae1b2f431e55a7075d1f500 │\n",
       "│ …                                │\n",
       "│ ffff2360540745117193ecadcdc06538 │\n",
       "│ ffff7fb4617164b2604aaf51c40bf82d │\n",
       "│ ffffcd5bc19d62cad5a3815c87818d83 │\n",
       "│ fffffa7baf370083ebcdd98f26a7e31a │\n",
       "└──────────────────────────────────┘"
      ]
     },
     "execution_count": 87,
     "metadata": {},
     "output_type": "execute_result"
    }
   ],
   "source": [
    "train_session_df"
   ]
  },
  {
   "cell_type": "code",
   "execution_count": 83,
   "id": "c92cfa8e-63c6-4f7d-864d-4398c91598c2",
   "metadata": {},
   "outputs": [
    {
     "name": "stdout",
     "output_type": "stream",
     "text": [
      "[load session data] done in 0.0 s\n"
     ]
    }
   ],
   "source": [
    "with utils.timer(\"load session data\"):\n",
    "    train_session_df = load_session_data(Path(cfg.dir.data_dir), \"train\")\n",
    "    test_session_df = load_session_data(Path(cfg.dir.data_dir), \"test\")"
   ]
  },
  {
   "cell_type": "code",
   "execution_count": 91,
   "id": "088386e5-f716-4589-9671-625a448bf565",
   "metadata": {},
   "outputs": [],
   "source": [
    "train_candidate_df = train_session_df.join(\n",
    "    candidate_score_df, on=\"session_id\", how=\"left\"\n",
    ")"
   ]
  },
  {
   "cell_type": "code",
   "execution_count": 5,
   "id": "5b365f9a-0782-45c9-b2e2-16d9fe7b1ee7",
   "metadata": {},
   "outputs": [],
   "source": [
    "yad_factor_df = pl.read_parquet(\n",
    "    \"/kaggle/working/output/cand_unsupervised/session2item/bpr001/yad_factor.parquet\"\n",
    ")"
   ]
  },
  {
   "cell_type": "code",
   "execution_count": 6,
   "id": "412c3637-27ab-4805-90f4-f34e0de93909",
   "metadata": {},
   "outputs": [
    {
     "data": {
      "text/plain": [
       "(463398, 18)"
      ]
     },
     "execution_count": 6,
     "metadata": {},
     "output_type": "execute_result"
    }
   ],
   "source": [
    "yad_factor_df.shape"
   ]
  },
  {
   "cell_type": "code",
   "execution_count": 7,
   "id": "dca4f58b-543e-40ce-903f-dbb34892ff58",
   "metadata": {},
   "outputs": [
    {
     "data": {
      "text/html": [
       "<div><style>\n",
       ".dataframe > thead > tr > th,\n",
       ".dataframe > tbody > tr > td {\n",
       "  text-align: right;\n",
       "  white-space: pre-wrap;\n",
       "}\n",
       "</style>\n",
       "<small>shape: (463_398, 18)</small><table border=\"1\" class=\"dataframe\"><thead><tr><th>yad_no</th><th>yad_factor_0</th><th>yad_factor_1</th><th>yad_factor_2</th><th>yad_factor_3</th><th>yad_factor_4</th><th>yad_factor_5</th><th>yad_factor_6</th><th>yad_factor_7</th><th>yad_factor_8</th><th>yad_factor_9</th><th>yad_factor_10</th><th>yad_factor_11</th><th>yad_factor_12</th><th>yad_factor_13</th><th>yad_factor_14</th><th>yad_factor_15</th><th>yad_factor_16</th></tr><tr><td>i64</td><td>f32</td><td>f32</td><td>f32</td><td>f32</td><td>f32</td><td>f32</td><td>f32</td><td>f32</td><td>f32</td><td>f32</td><td>f32</td><td>f32</td><td>f32</td><td>f32</td><td>f32</td><td>f32</td><td>f32</td></tr></thead><tbody><tr><td>4177</td><td>0.074024</td><td>-0.034346</td><td>0.099663</td><td>0.055028</td><td>0.015707</td><td>-0.052419</td><td>-0.110205</td><td>0.053058</td><td>0.102324</td><td>-0.100173</td><td>0.115849</td><td>0.006051</td><td>-0.02324</td><td>-0.021158</td><td>0.027133</td><td>0.017828</td><td>1.0</td></tr><tr><td>712</td><td>-0.172432</td><td>-0.212058</td><td>-0.034804</td><td>0.023406</td><td>0.312044</td><td>0.017801</td><td>-0.056954</td><td>-0.367061</td><td>0.063719</td><td>0.098617</td><td>0.185253</td><td>-0.051754</td><td>-0.070032</td><td>-0.167549</td><td>-0.117107</td><td>-0.046513</td><td>1.0</td></tr><tr><td>9015</td><td>-0.117114</td><td>-0.026131</td><td>0.171715</td><td>-0.185116</td><td>0.194189</td><td>-0.143954</td><td>0.257885</td><td>0.007382</td><td>0.025175</td><td>-0.123284</td><td>0.127897</td><td>-0.058028</td><td>-0.041649</td><td>-0.023881</td><td>-0.144913</td><td>-0.080369</td><td>1.0</td></tr><tr><td>2570</td><td>0.045188</td><td>-0.012865</td><td>-0.010147</td><td>0.024632</td><td>0.042534</td><td>-0.027332</td><td>0.032062</td><td>0.041003</td><td>0.029313</td><td>-0.035977</td><td>-0.029259</td><td>-0.009981</td><td>-0.020431</td><td>-0.036406</td><td>0.070147</td><td>-0.057943</td><td>1.0</td></tr><tr><td>3485</td><td>0.137288</td><td>0.217753</td><td>0.001529</td><td>-0.104046</td><td>0.065735</td><td>0.09026</td><td>-0.017501</td><td>-0.121127</td><td>-0.123931</td><td>0.208412</td><td>0.068924</td><td>0.009135</td><td>0.052652</td><td>-0.104626</td><td>-0.045897</td><td>0.113347</td><td>1.0</td></tr><tr><td>3497</td><td>0.0734</td><td>0.051952</td><td>0.053088</td><td>-0.102765</td><td>0.13116</td><td>0.263129</td><td>0.090745</td><td>0.073372</td><td>-0.124377</td><td>-0.095768</td><td>0.14055</td><td>0.093831</td><td>-0.012505</td><td>0.076903</td><td>-0.174174</td><td>-0.160334</td><td>1.0</td></tr><tr><td>9977</td><td>-0.06722</td><td>-0.02374</td><td>-0.088081</td><td>-0.048094</td><td>-0.234928</td><td>0.105979</td><td>-0.101131</td><td>-0.07363</td><td>0.023331</td><td>-0.104018</td><td>0.185704</td><td>0.141995</td><td>0.315559</td><td>-0.054656</td><td>0.242043</td><td>0.161858</td><td>1.0</td></tr><tr><td>13067</td><td>0.060777</td><td>0.050222</td><td>-0.043942</td><td>0.042227</td><td>0.090325</td><td>0.021211</td><td>0.025697</td><td>-0.134353</td><td>0.015768</td><td>-0.084047</td><td>-0.033364</td><td>-0.109529</td><td>0.008306</td><td>-0.060011</td><td>-0.06808</td><td>-0.07319</td><td>1.0</td></tr><tr><td>13590</td><td>-0.02714</td><td>0.120466</td><td>0.108406</td><td>-0.09344</td><td>0.156054</td><td>0.039846</td><td>0.011179</td><td>0.308337</td><td>-0.103004</td><td>-0.231315</td><td>0.043372</td><td>0.231533</td><td>0.055855</td><td>0.188466</td><td>0.009308</td><td>0.11518</td><td>1.0</td></tr><tr><td>5800</td><td>0.099893</td><td>-0.139742</td><td>-0.101452</td><td>-0.016452</td><td>-0.123401</td><td>0.098688</td><td>-0.171821</td><td>0.289418</td><td>-0.034913</td><td>-0.058958</td><td>0.01424</td><td>-0.092762</td><td>-0.201267</td><td>-0.127277</td><td>-0.022915</td><td>-0.176774</td><td>1.0</td></tr><tr><td>1651</td><td>-0.083893</td><td>0.012055</td><td>-0.02276</td><td>0.02256</td><td>-0.018781</td><td>0.050741</td><td>0.01462</td><td>0.0175</td><td>0.055234</td><td>0.027785</td><td>-0.009044</td><td>-0.014668</td><td>-0.042456</td><td>0.023079</td><td>0.100665</td><td>0.05478</td><td>1.0</td></tr><tr><td>2622</td><td>-0.005884</td><td>-0.036628</td><td>0.020037</td><td>0.112141</td><td>0.061089</td><td>-0.054508</td><td>-0.018457</td><td>0.015635</td><td>0.0332</td><td>-0.040324</td><td>0.027398</td><td>0.121019</td><td>0.032722</td><td>-0.065887</td><td>0.191173</td><td>0.044665</td><td>1.0</td></tr><tr><td>&hellip;</td><td>&hellip;</td><td>&hellip;</td><td>&hellip;</td><td>&hellip;</td><td>&hellip;</td><td>&hellip;</td><td>&hellip;</td><td>&hellip;</td><td>&hellip;</td><td>&hellip;</td><td>&hellip;</td><td>&hellip;</td><td>&hellip;</td><td>&hellip;</td><td>&hellip;</td><td>&hellip;</td><td>&hellip;</td></tr><tr><td>2889</td><td>-0.068202</td><td>0.138074</td><td>0.327333</td><td>-0.043655</td><td>0.024726</td><td>0.004602</td><td>-0.074398</td><td>-0.209959</td><td>-0.119078</td><td>-0.042124</td><td>-0.140782</td><td>-0.019968</td><td>0.331056</td><td>-0.092824</td><td>0.295375</td><td>0.284704</td><td>1.0</td></tr><tr><td>5596</td><td>-0.069797</td><td>0.013121</td><td>-0.033107</td><td>0.159498</td><td>0.109423</td><td>0.077412</td><td>-0.023433</td><td>0.082787</td><td>0.034843</td><td>-0.069252</td><td>0.0386</td><td>-0.110588</td><td>0.113004</td><td>0.129606</td><td>-0.112658</td><td>0.140047</td><td>1.0</td></tr><tr><td>8030</td><td>-0.223299</td><td>-0.104222</td><td>-0.115725</td><td>0.069313</td><td>0.146508</td><td>-0.103507</td><td>0.008263</td><td>-0.054847</td><td>0.031641</td><td>-0.046787</td><td>0.051472</td><td>0.045338</td><td>0.069363</td><td>0.098748</td><td>0.025588</td><td>-0.036444</td><td>1.0</td></tr><tr><td>3057</td><td>0.015636</td><td>0.030333</td><td>-0.041157</td><td>0.026906</td><td>-0.063088</td><td>-0.053573</td><td>0.048367</td><td>-0.015998</td><td>0.047003</td><td>0.095611</td><td>-0.049339</td><td>0.009679</td><td>0.091089</td><td>0.079149</td><td>-0.014072</td><td>-0.028369</td><td>1.0</td></tr><tr><td>12007</td><td>0.070496</td><td>-0.053613</td><td>-0.118274</td><td>0.063158</td><td>0.076028</td><td>0.050751</td><td>-0.020429</td><td>-0.066056</td><td>0.078459</td><td>0.035519</td><td>-0.106907</td><td>0.071059</td><td>0.02094</td><td>0.018209</td><td>0.019732</td><td>-0.002992</td><td>1.0</td></tr><tr><td>6510</td><td>-0.050359</td><td>-0.04067</td><td>0.053505</td><td>-0.080981</td><td>0.078864</td><td>-0.01528</td><td>-0.025783</td><td>0.059878</td><td>-0.024101</td><td>-0.184189</td><td>-0.061924</td><td>-0.088844</td><td>-0.099239</td><td>0.053908</td><td>-0.087027</td><td>-0.294328</td><td>1.0</td></tr><tr><td>12988</td><td>0.036616</td><td>0.135135</td><td>0.15036</td><td>-0.06073</td><td>0.184851</td><td>0.064967</td><td>-0.030275</td><td>0.124458</td><td>0.106702</td><td>0.036353</td><td>0.226212</td><td>-0.25055</td><td>0.192868</td><td>0.287301</td><td>0.091256</td><td>0.023477</td><td>1.0</td></tr><tr><td>8727</td><td>0.089363</td><td>0.048943</td><td>-0.122761</td><td>-0.162219</td><td>0.069311</td><td>0.164367</td><td>-0.03914</td><td>0.093167</td><td>0.039102</td><td>0.04396</td><td>0.085189</td><td>-0.082873</td><td>-0.21546</td><td>0.052117</td><td>0.163553</td><td>-0.127636</td><td>1.0</td></tr><tr><td>12620</td><td>0.001668</td><td>-0.018233</td><td>0.006062</td><td>0.002664</td><td>-0.00883</td><td>0.068258</td><td>-0.007215</td><td>0.000077</td><td>-0.026315</td><td>-0.004212</td><td>-0.014391</td><td>0.039619</td><td>0.007989</td><td>0.030848</td><td>0.011097</td><td>0.000648</td><td>1.0</td></tr><tr><td>11458</td><td>-0.039523</td><td>0.04167</td><td>0.000265</td><td>0.000273</td><td>0.032785</td><td>-0.03008</td><td>-0.049475</td><td>0.056856</td><td>-0.020831</td><td>-0.026973</td><td>0.052757</td><td>0.047588</td><td>-0.010543</td><td>-0.032262</td><td>0.057004</td><td>-0.008196</td><td>1.0</td></tr><tr><td>800</td><td>-0.099805</td><td>0.009202</td><td>0.010731</td><td>-0.081281</td><td>-0.016824</td><td>-0.01989</td><td>-0.007492</td><td>0.013895</td><td>-0.004025</td><td>0.094111</td><td>-0.060468</td><td>0.030017</td><td>-0.005881</td><td>-0.090906</td><td>-0.103259</td><td>0.078798</td><td>1.0</td></tr><tr><td>4918</td><td>0.026921</td><td>0.173234</td><td>0.04396</td><td>-0.044733</td><td>0.094869</td><td>0.006284</td><td>0.087146</td><td>0.014617</td><td>0.056411</td><td>0.056945</td><td>0.005166</td><td>-0.080324</td><td>0.090547</td><td>0.04785</td><td>-0.00634</td><td>-0.048564</td><td>1.0</td></tr></tbody></table></div>"
      ],
      "text/plain": [
       "shape: (463_398, 18)\n",
       "┌────────┬────────────┬────────────┬───────────┬───┬───────────┬───────────┬───────────┬───────────┐\n",
       "│ yad_no ┆ yad_factor ┆ yad_factor ┆ yad_facto ┆ … ┆ yad_facto ┆ yad_facto ┆ yad_facto ┆ yad_facto │\n",
       "│ ---    ┆ _0         ┆ _1         ┆ r_2       ┆   ┆ r_13      ┆ r_14      ┆ r_15      ┆ r_16      │\n",
       "│ i64    ┆ ---        ┆ ---        ┆ ---       ┆   ┆ ---       ┆ ---       ┆ ---       ┆ ---       │\n",
       "│        ┆ f32        ┆ f32        ┆ f32       ┆   ┆ f32       ┆ f32       ┆ f32       ┆ f32       │\n",
       "╞════════╪════════════╪════════════╪═══════════╪═══╪═══════════╪═══════════╪═══════════╪═══════════╡\n",
       "│ 4177   ┆ 0.074024   ┆ -0.034346  ┆ 0.099663  ┆ … ┆ -0.021158 ┆ 0.027133  ┆ 0.017828  ┆ 1.0       │\n",
       "│ 712    ┆ -0.172432  ┆ -0.212058  ┆ -0.034804 ┆ … ┆ -0.167549 ┆ -0.117107 ┆ -0.046513 ┆ 1.0       │\n",
       "│ 9015   ┆ -0.117114  ┆ -0.026131  ┆ 0.171715  ┆ … ┆ -0.023881 ┆ -0.144913 ┆ -0.080369 ┆ 1.0       │\n",
       "│ 2570   ┆ 0.045188   ┆ -0.012865  ┆ -0.010147 ┆ … ┆ -0.036406 ┆ 0.070147  ┆ -0.057943 ┆ 1.0       │\n",
       "│ …      ┆ …          ┆ …          ┆ …         ┆ … ┆ …         ┆ …         ┆ …         ┆ …         │\n",
       "│ 12620  ┆ 0.001668   ┆ -0.018233  ┆ 0.006062  ┆ … ┆ 0.030848  ┆ 0.011097  ┆ 0.000648  ┆ 1.0       │\n",
       "│ 11458  ┆ -0.039523  ┆ 0.04167    ┆ 0.000265  ┆ … ┆ -0.032262 ┆ 0.057004  ┆ -0.008196 ┆ 1.0       │\n",
       "│ 800    ┆ -0.099805  ┆ 0.009202   ┆ 0.010731  ┆ … ┆ -0.090906 ┆ -0.103259 ┆ 0.078798  ┆ 1.0       │\n",
       "│ 4918   ┆ 0.026921   ┆ 0.173234   ┆ 0.04396   ┆ … ┆ 0.04785   ┆ -0.00634  ┆ -0.048564 ┆ 1.0       │\n",
       "└────────┴────────────┴────────────┴───────────┴───┴───────────┴───────────┴───────────┴───────────┘"
      ]
     },
     "execution_count": 7,
     "metadata": {},
     "output_type": "execute_result"
    }
   ],
   "source": [
    "yad_factor_df"
   ]
  },
  {
   "cell_type": "code",
   "execution_count": null,
   "id": "b0c88972-6d5e-4668-8878-4addef78982b",
   "metadata": {},
   "outputs": [],
   "source": []
  }
 ],
 "metadata": {
  "kernelspec": {
   "display_name": "Python 3 (ipykernel)",
   "language": "python",
   "name": "python3"
  },
  "language_info": {
   "codemirror_mode": {
    "name": "ipython",
    "version": 3
   },
   "file_extension": ".py",
   "mimetype": "text/x-python",
   "name": "python",
   "nbconvert_exporter": "python",
   "pygments_lexer": "ipython3",
   "version": "3.10.12"
  }
 },
 "nbformat": 4,
 "nbformat_minor": 5
}
