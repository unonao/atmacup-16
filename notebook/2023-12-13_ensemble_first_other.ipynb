{
 "cells": [
  {
   "cell_type": "code",
   "execution_count": 1,
   "id": "85a865c8-fce1-4f7a-804d-f0a8391ace7d",
   "metadata": {},
   "outputs": [
    {
     "name": "stdout",
     "output_type": "stream",
     "text": [
      "/kaggle/working\n"
     ]
    }
   ],
   "source": [
    "%cd .."
   ]
  },
  {
   "cell_type": "code",
   "execution_count": 44,
   "id": "8b3c0ce8-d47b-44fe-997e-ae33a2820b37",
   "metadata": {},
   "outputs": [
    {
     "name": "stdout",
     "output_type": "stream",
     "text": [
      "debug: false\n",
      "seed: 42\n",
      "dir:\n",
      "  data_dir: /kaggle/working/input/atmaCup16_Dataset\n",
      "  output_dir: /kaggle/working/output\n",
      "  exp_dir: /kaggle/working/output/exp\n",
      "  cand_unsupervised_dir: /kaggle/working/output/cand_unsupervised\n",
      "  cand_supervised_dir: /kaggle/working/output/cand_supervised\n",
      "  datasets_dir: /kaggle/working/output/datasets\n",
      "exp:\n",
      "  other_dirs:\n",
      "  - output/exp/008_split/base\n",
      "  first_dirs:\n",
      "  - output/exp/008_split/first\n",
      "\n"
     ]
    }
   ],
   "source": [
    "from hydra import compose, initialize\n",
    "from omegaconf import OmegaConf\n",
    "\n",
    "with initialize(version_base=None, config_path=\"../experiments/ensemble_001\"):\n",
    "    cfg = compose(config_name=\"config.yaml\", overrides=[\"exp=base\"])\n",
    "    print(OmegaConf.to_yaml(cfg))"
   ]
  },
  {
   "cell_type": "code",
   "execution_count": 45,
   "id": "b11d8d61-25d7-41a3-8c90-33b6ab34c169",
   "metadata": {},
   "outputs": [],
   "source": [
    "import logging\n",
    "import os\n",
    "import pickle\n",
    "import sys\n",
    "import time\n",
    "from pathlib import Path\n",
    "\n",
    "import hydra\n",
    "import lightgbm as lgb\n",
    "import matplotlib.pyplot as plt\n",
    "import numpy as np\n",
    "import pandas as pd\n",
    "import polars as pl\n",
    "from hydra.core.hydra_config import HydraConfig\n",
    "from omegaconf import DictConfig, OmegaConf\n",
    "from tqdm.auto import tqdm\n",
    "\n",
    "import utils\n",
    "import wandb\n",
    "from utils.load import load_label_data, load_log_data, load_session_data\n",
    "from utils.logger import get_logger\n",
    "from utils.metrics import calculate_metrics"
   ]
  },
  {
   "cell_type": "code",
   "execution_count": 64,
   "id": "2b066cd4-afde-4224-b2ff-0d24c262b6ac",
   "metadata": {},
   "outputs": [
    {
     "data": {
      "text/html": [
       "<div><style>\n",
       ".dataframe > thead > tr > th,\n",
       ".dataframe > tbody > tr > td {\n",
       "  text-align: right;\n",
       "  white-space: pre-wrap;\n",
       "}\n",
       "</style>\n",
       "<small>shape: (5, 4)</small><table border=\"1\" class=\"dataframe\"><thead><tr><th>session_id</th><th>candidates</th><th>pred</th><th>session_count</th></tr><tr><td>str</td><td>i32</td><td>f64</td><td>u32</td></tr></thead><tbody><tr><td>&quot;fffffa7baf3700…</td><td>2439</td><td>2.098421</td><td>2</td></tr><tr><td>&quot;fffffa7baf3700…</td><td>2981</td><td>0.334312</td><td>2</td></tr><tr><td>&quot;fffffa7baf3700…</td><td>10095</td><td>-0.838374</td><td>2</td></tr><tr><td>&quot;fffffa7baf3700…</td><td>1372</td><td>-1.271482</td><td>2</td></tr><tr><td>&quot;fffffa7baf3700…</td><td>3</td><td>-1.31913</td><td>2</td></tr></tbody></table></div>"
      ],
      "text/plain": [
       "shape: (5, 4)\n",
       "┌──────────────────────────────────┬────────────┬───────────┬───────────────┐\n",
       "│ session_id                       ┆ candidates ┆ pred      ┆ session_count │\n",
       "│ ---                              ┆ ---        ┆ ---       ┆ ---           │\n",
       "│ str                              ┆ i32        ┆ f64       ┆ u32           │\n",
       "╞══════════════════════════════════╪════════════╪═══════════╪═══════════════╡\n",
       "│ fffffa7baf370083ebcdd98f26a7e31a ┆ 2439       ┆ 2.098421  ┆ 2             │\n",
       "│ fffffa7baf370083ebcdd98f26a7e31a ┆ 2981       ┆ 0.334312  ┆ 2             │\n",
       "│ fffffa7baf370083ebcdd98f26a7e31a ┆ 10095      ┆ -0.838374 ┆ 2             │\n",
       "│ fffffa7baf370083ebcdd98f26a7e31a ┆ 1372       ┆ -1.271482 ┆ 2             │\n",
       "│ fffffa7baf370083ebcdd98f26a7e31a ┆ 3          ┆ -1.31913  ┆ 2             │\n",
       "└──────────────────────────────────┴────────────┴───────────┴───────────────┘"
      ]
     },
     "execution_count": 64,
     "metadata": {},
     "output_type": "execute_result"
    }
   ],
   "source": [
    "other_oof_df = pl.read_parquet(Path(cfg.exp.other_dirs[0]) / \"oof_pred.parquet\")\n",
    "other_test_df = pl.read_parquet(Path(cfg.exp.other_dirs[0]) / \"test_pred.parquet\")\n",
    "other_oof_df.head()"
   ]
  },
  {
   "cell_type": "code",
   "execution_count": 65,
   "id": "7b2ff5d7-a6e8-4f70-aefa-59087dda975b",
   "metadata": {},
   "outputs": [],
   "source": [
    "first_oof_df = pl.read_parquet(Path(cfg.exp.first_dirs[0]) / \"oof_pred.parquet\")\n",
    "first_test_df = pl.read_parquet(Path(cfg.exp.first_dirs[0]) / \"test_pred.parquet\")"
   ]
  },
  {
   "cell_type": "code",
   "execution_count": 72,
   "id": "f22ce6cf-d21d-42ae-b86c-f58af75e11d3",
   "metadata": {},
   "outputs": [],
   "source": [
    "def make_eval_df(other_oof_df: pl.DataFrame, first_oof_df: pl.DataFrame):\n",
    "    other_oof_df = other_oof_df.filter(pl.col(\"session_count\") != 1).drop(\n",
    "        \"session_count\"\n",
    "    )\n",
    "    first_oof_df = first_oof_df.filter(pl.col(\"session_count\") == 1).drop(\n",
    "        \"session_count\"\n",
    "    )\n",
    "    pred_df = pl.concat([other_oof_df, first_oof_df]).sort(\n",
    "        by=[\"session_id\", \"pred\"], descending=True\n",
    "    )\n",
    "    pred_candidates_df = pred_df.group_by(\"session_id\").agg(pl.col(\"candidates\"))\n",
    "    train_label_df = load_label_data(Path(cfg.dir.data_dir))\n",
    "    candidaates_df = pred_candidates_df.join(\n",
    "        train_label_df, on=\"session_id\", how=\"left\"\n",
    "    )\n",
    "    return candidaates_df"
   ]
  },
  {
   "cell_type": "code",
   "execution_count": 92,
   "id": "9baf3568-799c-4b7a-8513-5f9400153cb8",
   "metadata": {
    "scrolled": true
   },
   "outputs": [
    {
     "name": "stdout",
     "output_type": "stream",
     "text": [
      "shape: (5, 3)\n",
      "┌──────────────────────────────────┬────────────────────────┬────────┐\n",
      "│ session_id                       ┆ candidates             ┆ yad_no │\n",
      "│ ---                              ┆ ---                    ┆ ---    │\n",
      "│ str                              ┆ list[i32]              ┆ i64    │\n",
      "╞══════════════════════════════════╪════════════════════════╪════════╡\n",
      "│ bab7bf061f6b4f9b2d9e726e7e76e321 ┆ [12053, 8513, … 10940] ┆ 12053  │\n",
      "│ f0dad7dcb3fc66fc8c2808e36f34525d ┆ [4881, 9333, … 8663]   ┆ 10825  │\n",
      "│ c94950cdb9cf420be8f6ded879fc2579 ┆ [5222, 12444, … 12239] ┆ 12964  │\n",
      "│ a69e3d37b3aabf3e50f69466a3270c30 ┆ [7315, 8953, … 11935]  ┆ 5987   │\n",
      "│ 5d506c5b8b9da018f631a7d8ebaef218 ┆ [5080, 6991, … 6489]   ┆ 5080   │\n",
      "└──────────────────────────────────┴────────────────────────┴────────┘\n",
      "k: 10\n",
      "avg_num_candidates: 9.990380951721177\n",
      "recall: 0.5965195463771831\n",
      "precision: 0.059651954637718316\n",
      "map@k: 0.40264062808754836\n",
      "\n",
      "[{'k': 10, 'avg_num_candidates': 9.990380951721177, 'recall': 0.5965195463771831, 'precision': 0.059651954637718316, 'map@k': 0.40264062808754836}]\n"
     ]
    }
   ],
   "source": [
    "oof_candidate_df = make_eval_df(other_oof_df, first_oof_df)\n",
    "print(oof_candidate_df.head())\n",
    "\n",
    "metrics = calculate_metrics(\n",
    "    oof_candidate_df, candidates_col=\"candidates\", label_col=\"yad_no\", k=[10]\n",
    ")\n",
    "print(metrics)"
   ]
  },
  {
   "cell_type": "code",
   "execution_count": 75,
   "id": "31ecfb6e-39ef-4c64-9faa-3227ca48ffb6",
   "metadata": {},
   "outputs": [],
   "source": [
    "def make_submission(other_test_df: pl.DataFrame, first_test_df: pl.DataFrame):\n",
    "    other_test_df = other_test_df.filter(pl.col(\"session_count\") != 1).drop(\n",
    "        \"session_count\"\n",
    "    )\n",
    "    first_test_df = first_test_df.filter(pl.col(\"session_count\") == 1).drop(\n",
    "        \"session_count\"\n",
    "    )\n",
    "    pred_df = pl.concat([other_test_df, first_test_df]).sort(\n",
    "        by=[\"session_id\", \"pred\"], descending=True\n",
    "    )\n",
    "    session_df = load_session_data(Path(cfg.dir.data_dir), \"test\")\n",
    "    pred_candidates_df = pred_df.group_by(\"session_id\").agg(pl.col(\"candidates\"))\n",
    "    submission_df = (\n",
    "        session_df.join(\n",
    "            pred_candidates_df.with_columns(\n",
    "                [\n",
    "                    pl.col(\"candidates\").list.get(i).alias(f\"predict_{i}\")\n",
    "                    for i in range(10)\n",
    "                ]\n",
    "            ).drop(\"candidates\"),\n",
    "            on=\"session_id\",\n",
    "            how=\"left\",\n",
    "        )\n",
    "        .fill_null(-1)\n",
    "        .drop(\"session_id\")\n",
    "    )\n",
    "    return submission_df"
   ]
  },
  {
   "cell_type": "code",
   "execution_count": 76,
   "id": "5cda4ffa-a54d-411b-8f30-1ce65efc23ed",
   "metadata": {},
   "outputs": [
    {
     "data": {
      "text/html": [
       "<div><style>\n",
       ".dataframe > thead > tr > th,\n",
       ".dataframe > tbody > tr > td {\n",
       "  text-align: right;\n",
       "  white-space: pre-wrap;\n",
       "}\n",
       "</style>\n",
       "<small>shape: (5, 10)</small><table border=\"1\" class=\"dataframe\"><thead><tr><th>predict_0</th><th>predict_1</th><th>predict_2</th><th>predict_3</th><th>predict_4</th><th>predict_5</th><th>predict_6</th><th>predict_7</th><th>predict_8</th><th>predict_9</th></tr><tr><td>i32</td><td>i32</td><td>i32</td><td>i32</td><td>i32</td><td>i32</td><td>i32</td><td>i32</td><td>i32</td><td>i32</td></tr></thead><tbody><tr><td>3560</td><td>11561</td><td>4545</td><td>9534</td><td>4714</td><td>4420</td><td>5466</td><td>2680</td><td>6563</td><td>6488</td></tr><tr><td>143</td><td>6555</td><td>4066</td><td>11923</td><td>613</td><td>7014</td><td>8108</td><td>12862</td><td>6129</td><td>11237</td></tr><tr><td>757</td><td>7710</td><td>9190</td><td>9910</td><td>1774</td><td>410</td><td>10485</td><td>13570</td><td>6721</td><td>3400</td></tr><tr><td>12341</td><td>3359</td><td>6991</td><td>1542</td><td>13521</td><td>10861</td><td>5080</td><td>4180</td><td>5657</td><td>9319</td></tr><tr><td>2862</td><td>9020</td><td>5372</td><td>9623</td><td>10826</td><td>9611</td><td>3854</td><td>763</td><td>3476</td><td>6161</td></tr></tbody></table></div>"
      ],
      "text/plain": [
       "shape: (5, 10)\n",
       "┌───────────┬───────────┬───────────┬───────────┬───┬───────────┬───────────┬───────────┬──────────┐\n",
       "│ predict_0 ┆ predict_1 ┆ predict_2 ┆ predict_3 ┆ … ┆ predict_6 ┆ predict_7 ┆ predict_8 ┆ predict_ │\n",
       "│ ---       ┆ ---       ┆ ---       ┆ ---       ┆   ┆ ---       ┆ ---       ┆ ---       ┆ 9        │\n",
       "│ i32       ┆ i32       ┆ i32       ┆ i32       ┆   ┆ i32       ┆ i32       ┆ i32       ┆ ---      │\n",
       "│           ┆           ┆           ┆           ┆   ┆           ┆           ┆           ┆ i32      │\n",
       "╞═══════════╪═══════════╪═══════════╪═══════════╪═══╪═══════════╪═══════════╪═══════════╪══════════╡\n",
       "│ 3560      ┆ 11561     ┆ 4545      ┆ 9534      ┆ … ┆ 5466      ┆ 2680      ┆ 6563      ┆ 6488     │\n",
       "│ 143       ┆ 6555      ┆ 4066      ┆ 11923     ┆ … ┆ 8108      ┆ 12862     ┆ 6129      ┆ 11237    │\n",
       "│ 757       ┆ 7710      ┆ 9190      ┆ 9910      ┆ … ┆ 10485     ┆ 13570     ┆ 6721      ┆ 3400     │\n",
       "│ 12341     ┆ 3359      ┆ 6991      ┆ 1542      ┆ … ┆ 5080      ┆ 4180      ┆ 5657      ┆ 9319     │\n",
       "│ 2862      ┆ 9020      ┆ 5372      ┆ 9623      ┆ … ┆ 3854      ┆ 763       ┆ 3476      ┆ 6161     │\n",
       "└───────────┴───────────┴───────────┴───────────┴───┴───────────┴───────────┴───────────┴──────────┘"
      ]
     },
     "execution_count": 76,
     "metadata": {},
     "output_type": "execute_result"
    }
   ],
   "source": [
    "test_candidate_df = make_submission(other_test_df, first_test_df)\n",
    "test_candidate_df.head()"
   ]
  },
  {
   "cell_type": "markdown",
   "id": "3fc4eb8d-ab44-4043-9f89-8e48d39fb3de",
   "metadata": {},
   "source": [
    "## ルールベースでの session_count==1 の変更"
   ]
  },
  {
   "cell_type": "code",
   "execution_count": 77,
   "id": "68daa318-bbdb-4339-ab81-24236d25ec08",
   "metadata": {},
   "outputs": [
    {
     "data": {
      "text/html": [
       "<div><style>\n",
       ".dataframe > thead > tr > th,\n",
       ".dataframe > tbody > tr > td {\n",
       "  text-align: right;\n",
       "  white-space: pre-wrap;\n",
       "}\n",
       "</style>\n",
       "<small>shape: (5, 4)</small><table border=\"1\" class=\"dataframe\"><thead><tr><th>yad_no</th><th>yad_no_label</th><th>pred</th><th>session_count</th></tr><tr><td>i64</td><td>i64</td><td>f64</td><td>i32</td></tr></thead><tbody><tr><td>13806</td><td>11113</td><td>400.0</td><td>1</td></tr><tr><td>13806</td><td>3326</td><td>200.0</td><td>1</td></tr><tr><td>13806</td><td>6997</td><td>200.0</td><td>1</td></tr><tr><td>13806</td><td>8762</td><td>200.0</td><td>1</td></tr><tr><td>13806</td><td>4020</td><td>200.0</td><td>1</td></tr></tbody></table></div>"
      ],
      "text/plain": [
       "shape: (5, 4)\n",
       "┌────────┬──────────────┬───────┬───────────────┐\n",
       "│ yad_no ┆ yad_no_label ┆ pred  ┆ session_count │\n",
       "│ ---    ┆ ---          ┆ ---   ┆ ---           │\n",
       "│ i64    ┆ i64          ┆ f64   ┆ i32           │\n",
       "╞════════╪══════════════╪═══════╪═══════════════╡\n",
       "│ 13806  ┆ 11113        ┆ 400.0 ┆ 1             │\n",
       "│ 13806  ┆ 3326         ┆ 200.0 ┆ 1             │\n",
       "│ 13806  ┆ 6997         ┆ 200.0 ┆ 1             │\n",
       "│ 13806  ┆ 8762         ┆ 200.0 ┆ 1             │\n",
       "│ 13806  ┆ 4020         ┆ 200.0 ┆ 1             │\n",
       "└────────┴──────────────┴───────┴───────────────┘"
      ]
     },
     "execution_count": 77,
     "metadata": {},
     "output_type": "execute_result"
    }
   ],
   "source": [
    "label_pred_df.head()"
   ]
  },
  {
   "cell_type": "code",
   "execution_count": null,
   "id": "77682f9a-53af-4069-aec6-98fe24b78d22",
   "metadata": {},
   "outputs": [],
   "source": []
  },
  {
   "cell_type": "code",
   "execution_count": 95,
   "id": "0ac4a342-9eb4-496f-a532-fa6059dc3da5",
   "metadata": {},
   "outputs": [
    {
     "name": "stdout",
     "output_type": "stream",
     "text": [
      "shape: (188_071, 4)\n",
      "┌────────┬──────────────┬───────┬───────────────┐\n",
      "│ yad_no ┆ yad_no_label ┆ pred  ┆ session_count │\n",
      "│ ---    ┆ ---          ┆ ---   ┆ ---           │\n",
      "│ i64    ┆ i64          ┆ f64   ┆ i32           │\n",
      "╞════════╪══════════════╪═══════╪═══════════════╡\n",
      "│ 13806  ┆ 11113        ┆ 400.0 ┆ 1             │\n",
      "│ 13806  ┆ 6997         ┆ 200.0 ┆ 1             │\n",
      "│ 13806  ┆ 4020         ┆ 200.0 ┆ 1             │\n",
      "│ 13806  ┆ 8762         ┆ 200.0 ┆ 1             │\n",
      "│ …      ┆ …            ┆ …     ┆ …             │\n",
      "│ 2      ┆ 36           ┆ 100.0 ┆ 1             │\n",
      "│ 2      ┆ 12232        ┆ 100.0 ┆ 1             │\n",
      "│ 2      ┆ 2200         ┆ 100.0 ┆ 1             │\n",
      "│ 2      ┆ 9382         ┆ 100.0 ┆ 1             │\n",
      "└────────┴──────────────┴───────┴───────────────┘\n"
     ]
    },
    {
     "data": {
      "text/html": [
       "<div><style>\n",
       ".dataframe > thead > tr > th,\n",
       ".dataframe > tbody > tr > td {\n",
       "  text-align: right;\n",
       "  white-space: pre-wrap;\n",
       "}\n",
       "</style>\n",
       "<small>shape: (17_138_888, 4)</small><table border=\"1\" class=\"dataframe\"><thead><tr><th>session_id</th><th>candidates</th><th>pred</th><th>session_count</th></tr><tr><td>str</td><td>i32</td><td>f64</td><td>i32</td></tr></thead><tbody><tr><td>&quot;fffffa7baf3700…</td><td>2439</td><td>0.245733</td><td>2</td></tr><tr><td>&quot;fffffa7baf3700…</td><td>1372</td><td>0.169726</td><td>2</td></tr><tr><td>&quot;fffffa7baf3700…</td><td>10095</td><td>0.169726</td><td>2</td></tr><tr><td>&quot;fffffa7baf3700…</td><td>12154</td><td>0.141801</td><td>2</td></tr><tr><td>&quot;fffffa7baf3700…</td><td>3</td><td>0.127825</td><td>2</td></tr><tr><td>&quot;fffffa7baf3700…</td><td>9624</td><td>0.098462</td><td>2</td></tr><tr><td>&quot;fffffa7baf3700…</td><td>10439</td><td>0.098462</td><td>2</td></tr><tr><td>&quot;fffffa7baf3700…</td><td>10415</td><td>0.071892</td><td>2</td></tr><tr><td>&quot;fffffa7baf3700…</td><td>5294</td><td>0.071892</td><td>2</td></tr><tr><td>&quot;fffffa7baf3700…</td><td>6579</td><td>0.071892</td><td>2</td></tr><tr><td>&quot;fffffa7baf3700…</td><td>420</td><td>0.071892</td><td>2</td></tr><tr><td>&quot;fffffa7baf3700…</td><td>5800</td><td>0.034113</td><td>2</td></tr><tr><td>&hellip;</td><td>&hellip;</td><td>&hellip;</td><td>&hellip;</td></tr><tr><td>&quot;0000ca043ed437…</td><td>3564</td><td>100.0</td><td>1</td></tr><tr><td>&quot;0000ca043ed437…</td><td>8747</td><td>100.0</td><td>1</td></tr><tr><td>&quot;0000ca043ed437…</td><td>1092</td><td>100.0</td><td>1</td></tr><tr><td>&quot;0000ca043ed437…</td><td>2570</td><td>100.0</td><td>1</td></tr><tr><td>&quot;0000ca043ed437…</td><td>2259</td><td>100.0</td><td>1</td></tr><tr><td>&quot;0000ca043ed437…</td><td>540</td><td>100.0</td><td>1</td></tr><tr><td>&quot;0000ca043ed437…</td><td>1586</td><td>100.0</td><td>1</td></tr><tr><td>&quot;000007603d533d…</td><td>11882</td><td>200.0</td><td>1</td></tr><tr><td>&quot;000007603d533d…</td><td>2808</td><td>200.0</td><td>1</td></tr><tr><td>&quot;000007603d533d…</td><td>4101</td><td>100.0</td><td>1</td></tr><tr><td>&quot;000007603d533d…</td><td>5289</td><td>100.0</td><td>1</td></tr><tr><td>&quot;000007603d533d…</td><td>3324</td><td>100.0</td><td>1</td></tr></tbody></table></div>"
      ],
      "text/plain": [
       "shape: (17_138_888, 4)\n",
       "┌──────────────────────────────────┬────────────┬──────────┬───────────────┐\n",
       "│ session_id                       ┆ candidates ┆ pred     ┆ session_count │\n",
       "│ ---                              ┆ ---        ┆ ---      ┆ ---           │\n",
       "│ str                              ┆ i32        ┆ f64      ┆ i32           │\n",
       "╞══════════════════════════════════╪════════════╪══════════╪═══════════════╡\n",
       "│ fffffa7baf370083ebcdd98f26a7e31a ┆ 2439       ┆ 0.245733 ┆ 2             │\n",
       "│ fffffa7baf370083ebcdd98f26a7e31a ┆ 1372       ┆ 0.169726 ┆ 2             │\n",
       "│ fffffa7baf370083ebcdd98f26a7e31a ┆ 10095      ┆ 0.169726 ┆ 2             │\n",
       "│ fffffa7baf370083ebcdd98f26a7e31a ┆ 12154      ┆ 0.141801 ┆ 2             │\n",
       "│ …                                ┆ …          ┆ …        ┆ …             │\n",
       "│ 000007603d533d30453cc45d0f3d119f ┆ 2808       ┆ 200.0    ┆ 1             │\n",
       "│ 000007603d533d30453cc45d0f3d119f ┆ 4101       ┆ 100.0    ┆ 1             │\n",
       "│ 000007603d533d30453cc45d0f3d119f ┆ 5289       ┆ 100.0    ┆ 1             │\n",
       "│ 000007603d533d30453cc45d0f3d119f ┆ 3324       ┆ 100.0    ┆ 1             │\n",
       "└──────────────────────────────────┴────────────┴──────────┴───────────────┘"
      ]
     },
     "execution_count": 95,
     "metadata": {},
     "output_type": "execute_result"
    }
   ],
   "source": [
    "# sessionに最後に見たyad_noを付与\n",
    "mode = \"train\"\n",
    "\n",
    "\n",
    "def concat_label_pred(first_df, mode):\n",
    "    # 最後のyad_noだけを残す & labelを付与\n",
    "    train_log_df = load_log_data(Path(cfg.dir.data_dir), \"train\")\n",
    "    train_label_df = load_label_data(Path(cfg.dir.data_dir))\n",
    "    train_last_log_label_df = (\n",
    "        train_log_df.join(train_label_df, on=\"session_id\", suffix=\"_label\")\n",
    "        .with_columns(\n",
    "            (pl.col(\"seq_no\").max().over(\"session_id\") + 1).alias(\"session_count\")\n",
    "        )\n",
    "        .filter(pl.col(\"seq_no\") == pl.col(\"session_count\") - 1)\n",
    "    )\n",
    "    # 実績ラベルからyad_noごとに良さそうな対象を探す\n",
    "    label_pred_df = (\n",
    "        train_last_log_label_df.group_by([\"yad_no\", \"yad_no_label\"])\n",
    "        .agg(pl.col(\"yad_no\").count().alias(\"pred\"))\n",
    "        .with_columns(pl.col(\"pred\") * 100.0, pl.lit(1).alias(\"session_count\"))\n",
    "        .sort(by=[\"yad_no\", \"pred\", \"session_count\"], descending=True)\n",
    "    )\n",
    "    print(label_pred_df)\n",
    "\n",
    "    # 予測値作成\n",
    "    log_df = load_log_data(Path(cfg.dir.data_dir), mode)\n",
    "    last_log_df = log_df.with_columns(\n",
    "        (pl.col(\"seq_no\").max().over(\"session_id\") + 1).alias(\"session_count\")\n",
    "    ).filter(pl.col(\"seq_no\") == pl.col(\"session_count\") - 1)\n",
    "    session_df = load_session_data(Path(cfg.dir.data_dir), mode)\n",
    "    session_last_df = (\n",
    "        session_df.join(\n",
    "            last_log_df.select([\"session_id\", \"yad_no\", \"session_count\"]),\n",
    "            on=\"session_id\",\n",
    "        )\n",
    "        .filter(pl.col(\"session_count\") == 1)\n",
    "        .drop(\"session_count\")\n",
    "    )\n",
    "    first_df_from_label = (\n",
    "        session_last_df.join(label_pred_df, on=\"yad_no\")\n",
    "        .with_columns(\n",
    "            pl.col(\"yad_no_label\").alias(\"candidates\").cast(pl.Int32),\n",
    "            pl.col(\"session_count\").cast(pl.Int32),\n",
    "        )\n",
    "        .drop([\"yad_no\", \"yad_no_label\"])\n",
    "        .group_by([\"session_id\", \"candidates\"])\n",
    "        .agg(pl.col(\"pred\").max(), pl.col(\"session_count\").max())\n",
    "        .select([\"session_id\", \"candidates\", \"pred\", \"session_count\"])\n",
    "        .sort(by=[\"session_id\", \"pred\"], descending=True)\n",
    "    )\n",
    "    # first と結合\n",
    "    return pl.concat([first_df, first_df_from_label])\n",
    "\n",
    "\n",
    "concat_label_pred(first_oof_df, \"train\")"
   ]
  },
  {
   "cell_type": "code",
   "execution_count": 96,
   "id": "9a9d3ca2-186b-4e92-83cd-4e3da52baf08",
   "metadata": {},
   "outputs": [
    {
     "name": "stdout",
     "output_type": "stream",
     "text": [
      "shape: (188_071, 4)\n",
      "┌────────┬──────────────┬───────┬───────────────┐\n",
      "│ yad_no ┆ yad_no_label ┆ pred  ┆ session_count │\n",
      "│ ---    ┆ ---          ┆ ---   ┆ ---           │\n",
      "│ i64    ┆ i64          ┆ f64   ┆ i32           │\n",
      "╞════════╪══════════════╪═══════╪═══════════════╡\n",
      "│ 13806  ┆ 11113        ┆ 400.0 ┆ 1             │\n",
      "│ 13806  ┆ 6997         ┆ 200.0 ┆ 1             │\n",
      "│ 13806  ┆ 8762         ┆ 200.0 ┆ 1             │\n",
      "│ 13806  ┆ 4020         ┆ 200.0 ┆ 1             │\n",
      "│ …      ┆ …            ┆ …     ┆ …             │\n",
      "│ 2      ┆ 1099         ┆ 100.0 ┆ 1             │\n",
      "│ 2      ┆ 217          ┆ 100.0 ┆ 1             │\n",
      "│ 2      ┆ 9840         ┆ 100.0 ┆ 1             │\n",
      "│ 2      ┆ 11562        ┆ 100.0 ┆ 1             │\n",
      "└────────┴──────────────┴───────┴───────────────┘\n",
      "shape: (5, 3)\n",
      "┌──────────────────────────────────┬───────────────────────┬────────┐\n",
      "│ session_id                       ┆ candidates            ┆ yad_no │\n",
      "│ ---                              ┆ ---                   ┆ ---    │\n",
      "│ str                              ┆ list[i32]             ┆ i64    │\n",
      "╞══════════════════════════════════╪═══════════════════════╪════════╡\n",
      "│ b1ec74613cbbf3981e083a885935e3e3 ┆ [9477, 12511, … 135]  ┆ 9477   │\n",
      "│ e446c0c6ac1d0299631be3f8a94ef8ab ┆ [8726, 10033, … 1546] ┆ 8726   │\n",
      "│ fa2bf3c5116d49535889931cf6933827 ┆ [13433, 389, … 3269]  ┆ 7267   │\n",
      "│ c2e8612bf3b9b5108e00f96a7c094628 ┆ [1896, 10095, … 6886] ┆ 7285   │\n",
      "│ d20b4af7da636d56669ed59e547ddebd ┆ [9265, 1158, … 12353] ┆ 10075  │\n",
      "└──────────────────────────────────┴───────────────────────┴────────┘\n",
      "k: 10\n",
      "avg_num_candidates: 9.995386182100326\n",
      "recall: 0.6622976258928015\n",
      "precision: 0.06622976258928015\n",
      "map@k: 0.42541400020694997\n",
      "\n",
      "[{'k': 10, 'avg_num_candidates': 9.995386182100326, 'recall': 0.6622976258928015, 'precision': 0.06622976258928015, 'map@k': 0.42541400020694997}]\n"
     ]
    }
   ],
   "source": [
    "oof_candidate_df = make_eval_df(other_oof_df, concat_label_pred(first_oof_df, \"train\"))\n",
    "print(oof_candidate_df.head())\n",
    "\n",
    "metrics = calculate_metrics(\n",
    "    oof_candidate_df, candidates_col=\"candidates\", label_col=\"yad_no\", k=[10]\n",
    ")\n",
    "print(metrics)"
   ]
  },
  {
   "cell_type": "code",
   "execution_count": 97,
   "id": "23de1647-9566-4c72-8773-98c119909927",
   "metadata": {},
   "outputs": [
    {
     "name": "stdout",
     "output_type": "stream",
     "text": [
      "shape: (188_071, 4)\n",
      "┌────────┬──────────────┬───────┬───────────────┐\n",
      "│ yad_no ┆ yad_no_label ┆ pred  ┆ session_count │\n",
      "│ ---    ┆ ---          ┆ ---   ┆ ---           │\n",
      "│ i64    ┆ i64          ┆ f64   ┆ i32           │\n",
      "╞════════╪══════════════╪═══════╪═══════════════╡\n",
      "│ 13806  ┆ 11113        ┆ 400.0 ┆ 1             │\n",
      "│ 13806  ┆ 4020         ┆ 200.0 ┆ 1             │\n",
      "│ 13806  ┆ 3326         ┆ 200.0 ┆ 1             │\n",
      "│ 13806  ┆ 6997         ┆ 200.0 ┆ 1             │\n",
      "│ …      ┆ …            ┆ …     ┆ …             │\n",
      "│ 2      ┆ 9034         ┆ 100.0 ┆ 1             │\n",
      "│ 2      ┆ 36           ┆ 100.0 ┆ 1             │\n",
      "│ 2      ┆ 12232        ┆ 100.0 ┆ 1             │\n",
      "│ 2      ┆ 8187         ┆ 100.0 ┆ 1             │\n",
      "└────────┴──────────────┴───────┴───────────────┘\n"
     ]
    },
    {
     "data": {
      "text/html": [
       "<div><style>\n",
       ".dataframe > thead > tr > th,\n",
       ".dataframe > tbody > tr > td {\n",
       "  text-align: right;\n",
       "  white-space: pre-wrap;\n",
       "}\n",
       "</style>\n",
       "<small>shape: (5, 10)</small><table border=\"1\" class=\"dataframe\"><thead><tr><th>predict_0</th><th>predict_1</th><th>predict_2</th><th>predict_3</th><th>predict_4</th><th>predict_5</th><th>predict_6</th><th>predict_7</th><th>predict_8</th><th>predict_9</th></tr><tr><td>i32</td><td>i32</td><td>i32</td><td>i32</td><td>i32</td><td>i32</td><td>i32</td><td>i32</td><td>i32</td><td>i32</td></tr></thead><tbody><tr><td>3560</td><td>11561</td><td>4545</td><td>9534</td><td>4714</td><td>4420</td><td>5466</td><td>2680</td><td>6563</td><td>6488</td></tr><tr><td>143</td><td>4066</td><td>7014</td><td>7913</td><td>6555</td><td>12862</td><td>6129</td><td>11237</td><td>8108</td><td>613</td></tr><tr><td>757</td><td>7710</td><td>9190</td><td>9910</td><td>1774</td><td>410</td><td>10485</td><td>13570</td><td>6721</td><td>3400</td></tr><tr><td>12341</td><td>3359</td><td>6991</td><td>1542</td><td>13521</td><td>10861</td><td>5080</td><td>4180</td><td>5657</td><td>9319</td></tr><tr><td>9020</td><td>3844</td><td>6161</td><td>4070</td><td>13235</td><td>9623</td><td>3854</td><td>12029</td><td>6565</td><td>3476</td></tr></tbody></table></div>"
      ],
      "text/plain": [
       "shape: (5, 10)\n",
       "┌───────────┬───────────┬───────────┬───────────┬───┬───────────┬───────────┬───────────┬──────────┐\n",
       "│ predict_0 ┆ predict_1 ┆ predict_2 ┆ predict_3 ┆ … ┆ predict_6 ┆ predict_7 ┆ predict_8 ┆ predict_ │\n",
       "│ ---       ┆ ---       ┆ ---       ┆ ---       ┆   ┆ ---       ┆ ---       ┆ ---       ┆ 9        │\n",
       "│ i32       ┆ i32       ┆ i32       ┆ i32       ┆   ┆ i32       ┆ i32       ┆ i32       ┆ ---      │\n",
       "│           ┆           ┆           ┆           ┆   ┆           ┆           ┆           ┆ i32      │\n",
       "╞═══════════╪═══════════╪═══════════╪═══════════╪═══╪═══════════╪═══════════╪═══════════╪══════════╡\n",
       "│ 3560      ┆ 11561     ┆ 4545      ┆ 9534      ┆ … ┆ 5466      ┆ 2680      ┆ 6563      ┆ 6488     │\n",
       "│ 143       ┆ 4066      ┆ 7014      ┆ 7913      ┆ … ┆ 6129      ┆ 11237     ┆ 8108      ┆ 613      │\n",
       "│ 757       ┆ 7710      ┆ 9190      ┆ 9910      ┆ … ┆ 10485     ┆ 13570     ┆ 6721      ┆ 3400     │\n",
       "│ 12341     ┆ 3359      ┆ 6991      ┆ 1542      ┆ … ┆ 5080      ┆ 4180      ┆ 5657      ┆ 9319     │\n",
       "│ 9020      ┆ 3844      ┆ 6161      ┆ 4070      ┆ … ┆ 3854      ┆ 12029     ┆ 6565      ┆ 3476     │\n",
       "└───────────┴───────────┴───────────┴───────────┴───┴───────────┴───────────┴───────────┴──────────┘"
      ]
     },
     "execution_count": 97,
     "metadata": {},
     "output_type": "execute_result"
    }
   ],
   "source": [
    "test_candidate_df = make_submission(\n",
    "    other_test_df, concat_label_pred(first_test_df, \"test\")\n",
    ")\n",
    "test_candidate_df.head()"
   ]
  },
  {
   "cell_type": "code",
   "execution_count": null,
   "id": "c3aed103-ab25-4615-b9f9-66a1094d6588",
   "metadata": {},
   "outputs": [],
   "source": []
  }
 ],
 "metadata": {
  "kernelspec": {
   "display_name": "Python 3 (ipykernel)",
   "language": "python",
   "name": "python3"
  },
  "language_info": {
   "codemirror_mode": {
    "name": "ipython",
    "version": 3
   },
   "file_extension": ".py",
   "mimetype": "text/x-python",
   "name": "python",
   "nbconvert_exporter": "python",
   "pygments_lexer": "ipython3",
   "version": "3.10.12"
  }
 },
 "nbformat": 4,
 "nbformat_minor": 5
}
