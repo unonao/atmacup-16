{
 "cells": [
  {
   "cell_type": "code",
   "execution_count": 1,
   "id": "85a865c8-fce1-4f7a-804d-f0a8391ace7d",
   "metadata": {},
   "outputs": [
    {
     "name": "stdout",
     "output_type": "stream",
     "text": [
      "/kaggle/working\n"
     ]
    }
   ],
   "source": [
    "%cd .."
   ]
  },
  {
   "cell_type": "code",
   "execution_count": 100,
   "id": "8b3c0ce8-d47b-44fe-997e-ae33a2820b37",
   "metadata": {},
   "outputs": [
    {
     "name": "stdout",
     "output_type": "stream",
     "text": [
      "debug: false\n",
      "seed: 42\n",
      "dir:\n",
      "  data_dir: /kaggle/working/input/atmaCup16_Dataset\n",
      "  output_dir: /kaggle/working/output\n",
      "  exp_dir: /kaggle/working/output/exp\n",
      "  cand_unsupervised_dir: /kaggle/working/output/cand_unsupervised\n",
      "  cand_supervised_dir: /kaggle/working/output/cand_supervised\n",
      "  datasets_dir: /kaggle/working/output/datasets\n",
      "exp:\n",
      "  other_dirs:\n",
      "  - output/exp/008_split/base\n",
      "  first_dirs:\n",
      "  - output/exp/008_split/first\n",
      "\n"
     ]
    }
   ],
   "source": [
    "from hydra import compose, initialize\n",
    "from omegaconf import OmegaConf\n",
    "\n",
    "with initialize(version_base=None, config_path=\"../experiments/ensemble_001\"):\n",
    "    cfg = compose(config_name=\"config.yaml\", overrides=[\"exp=base\"])\n",
    "    print(OmegaConf.to_yaml(cfg))"
   ]
  },
  {
   "cell_type": "code",
   "execution_count": 101,
   "id": "b11d8d61-25d7-41a3-8c90-33b6ab34c169",
   "metadata": {},
   "outputs": [],
   "source": [
    "import logging\n",
    "import os\n",
    "import pickle\n",
    "import sys\n",
    "import time\n",
    "from pathlib import Path\n",
    "\n",
    "import hydra\n",
    "import lightgbm as lgb\n",
    "import matplotlib.pyplot as plt\n",
    "import numpy as np\n",
    "import pandas as pd\n",
    "import polars as pl\n",
    "from hydra.core.hydra_config import HydraConfig\n",
    "from omegaconf import DictConfig, OmegaConf\n",
    "from tqdm.auto import tqdm\n",
    "\n",
    "import utils\n",
    "import wandb\n",
    "from utils.load import load_label_data, load_log_data, load_session_data\n",
    "from utils.logger import get_logger\n",
    "from utils.metrics import calculate_metrics"
   ]
  },
  {
   "cell_type": "code",
   "execution_count": 102,
   "id": "2b066cd4-afde-4224-b2ff-0d24c262b6ac",
   "metadata": {},
   "outputs": [
    {
     "data": {
      "text/html": [
       "<div><style>\n",
       ".dataframe > thead > tr > th,\n",
       ".dataframe > tbody > tr > td {\n",
       "  text-align: right;\n",
       "  white-space: pre-wrap;\n",
       "}\n",
       "</style>\n",
       "<small>shape: (5, 4)</small><table border=\"1\" class=\"dataframe\"><thead><tr><th>session_id</th><th>candidates</th><th>pred</th><th>session_count</th></tr><tr><td>str</td><td>i32</td><td>f64</td><td>u32</td></tr></thead><tbody><tr><td>&quot;fffffa7baf3700…</td><td>2439</td><td>2.098421</td><td>2</td></tr><tr><td>&quot;fffffa7baf3700…</td><td>2981</td><td>0.334312</td><td>2</td></tr><tr><td>&quot;fffffa7baf3700…</td><td>10095</td><td>-0.838374</td><td>2</td></tr><tr><td>&quot;fffffa7baf3700…</td><td>1372</td><td>-1.271482</td><td>2</td></tr><tr><td>&quot;fffffa7baf3700…</td><td>3</td><td>-1.31913</td><td>2</td></tr></tbody></table></div>"
      ],
      "text/plain": [
       "shape: (5, 4)\n",
       "┌──────────────────────────────────┬────────────┬───────────┬───────────────┐\n",
       "│ session_id                       ┆ candidates ┆ pred      ┆ session_count │\n",
       "│ ---                              ┆ ---        ┆ ---       ┆ ---           │\n",
       "│ str                              ┆ i32        ┆ f64       ┆ u32           │\n",
       "╞══════════════════════════════════╪════════════╪═══════════╪═══════════════╡\n",
       "│ fffffa7baf370083ebcdd98f26a7e31a ┆ 2439       ┆ 2.098421  ┆ 2             │\n",
       "│ fffffa7baf370083ebcdd98f26a7e31a ┆ 2981       ┆ 0.334312  ┆ 2             │\n",
       "│ fffffa7baf370083ebcdd98f26a7e31a ┆ 10095      ┆ -0.838374 ┆ 2             │\n",
       "│ fffffa7baf370083ebcdd98f26a7e31a ┆ 1372       ┆ -1.271482 ┆ 2             │\n",
       "│ fffffa7baf370083ebcdd98f26a7e31a ┆ 3          ┆ -1.31913  ┆ 2             │\n",
       "└──────────────────────────────────┴────────────┴───────────┴───────────────┘"
      ]
     },
     "execution_count": 102,
     "metadata": {},
     "output_type": "execute_result"
    }
   ],
   "source": [
    "other_oof_df = pl.read_parquet(Path(cfg.exp.other_dirs[0]) / \"oof_pred.parquet\")\n",
    "other_test_df = pl.read_parquet(Path(cfg.exp.other_dirs[0]) / \"test_pred.parquet\")\n",
    "other_oof_df.head()"
   ]
  },
  {
   "cell_type": "code",
   "execution_count": 103,
   "id": "7b2ff5d7-a6e8-4f70-aefa-59087dda975b",
   "metadata": {},
   "outputs": [],
   "source": [
    "first_oof_df = pl.read_parquet(Path(cfg.exp.first_dirs[0]) / \"oof_pred.parquet\")\n",
    "first_test_df = pl.read_parquet(Path(cfg.exp.first_dirs[0]) / \"test_pred.parquet\")"
   ]
  },
  {
   "cell_type": "code",
   "execution_count": 104,
   "id": "f22ce6cf-d21d-42ae-b86c-f58af75e11d3",
   "metadata": {},
   "outputs": [],
   "source": [
    "def make_eval_df(other_oof_df: pl.DataFrame, first_oof_df: pl.DataFrame):\n",
    "    other_oof_df = other_oof_df.filter(pl.col(\"session_count\") != 1).drop(\n",
    "        \"session_count\"\n",
    "    )\n",
    "    first_oof_df = first_oof_df.filter(pl.col(\"session_count\") == 1).drop(\n",
    "        \"session_count\"\n",
    "    )\n",
    "    pred_df = pl.concat([other_oof_df, first_oof_df]).sort(\n",
    "        by=[\"session_id\", \"pred\"], descending=True\n",
    "    )\n",
    "    pred_candidates_df = pred_df.group_by(\"session_id\").agg(pl.col(\"candidates\"))\n",
    "    train_label_df = load_label_data(Path(cfg.dir.data_dir))\n",
    "    candidaates_df = pred_candidates_df.join(\n",
    "        train_label_df, on=\"session_id\", how=\"left\"\n",
    "    )\n",
    "    return candidaates_df"
   ]
  },
  {
   "cell_type": "code",
   "execution_count": 105,
   "id": "9baf3568-799c-4b7a-8513-5f9400153cb8",
   "metadata": {
    "scrolled": true
   },
   "outputs": [
    {
     "name": "stdout",
     "output_type": "stream",
     "text": [
      "shape: (5, 3)\n",
      "┌──────────────────────────────────┬────────────────────────┬────────┐\n",
      "│ session_id                       ┆ candidates             ┆ yad_no │\n",
      "│ ---                              ┆ ---                    ┆ ---    │\n",
      "│ str                              ┆ list[i32]              ┆ i64    │\n",
      "╞══════════════════════════════════╪════════════════════════╪════════╡\n",
      "│ 0eb8cc22d6f956dd327ed50b50296f0c ┆ [5968, 10848, … 13303] ┆ 5968   │\n",
      "│ 9bd3fb1317d2d90f9066559a0bb2fa62 ┆ [3811, 385, … 10412]   ┆ 385    │\n",
      "│ 8edab81d78f9e2f136b4865f54ace356 ┆ [1798, 1579, … 6231]   ┆ 1798   │\n",
      "│ 7f8b6e05ac6ac2b456dc5b4247e42571 ┆ [719, 2201, … 8226]    ┆ 719    │\n",
      "│ 84746cdf33dcbc33a4406997b97cba5a ┆ [10897, 1636, … 11711] ┆ 6893   │\n",
      "└──────────────────────────────────┴────────────────────────┴────────┘\n",
      "k: 10\n",
      "avg_num_candidates: 9.990380951721177\n",
      "recall: 0.5965195463771831\n",
      "precision: 0.059651954637718316\n",
      "map@k: 0.4026406280875484\n",
      "\n",
      "[{'k': 10, 'avg_num_candidates': 9.990380951721177, 'recall': 0.5965195463771831, 'precision': 0.059651954637718316, 'map@k': 0.4026406280875484}]\n"
     ]
    }
   ],
   "source": [
    "oof_candidate_df = make_eval_df(other_oof_df, first_oof_df)\n",
    "print(oof_candidate_df.head())\n",
    "\n",
    "metrics = calculate_metrics(\n",
    "    oof_candidate_df, candidates_col=\"candidates\", label_col=\"yad_no\", k=[10]\n",
    ")\n",
    "print(metrics)"
   ]
  },
  {
   "cell_type": "code",
   "execution_count": 106,
   "id": "31ecfb6e-39ef-4c64-9faa-3227ca48ffb6",
   "metadata": {},
   "outputs": [],
   "source": [
    "def make_submission(other_test_df: pl.DataFrame, first_test_df: pl.DataFrame):\n",
    "    other_test_df = other_test_df.filter(pl.col(\"session_count\") != 1).drop(\n",
    "        \"session_count\"\n",
    "    )\n",
    "    first_test_df = first_test_df.filter(pl.col(\"session_count\") == 1).drop(\n",
    "        \"session_count\"\n",
    "    )\n",
    "    pred_df = pl.concat([other_test_df, first_test_df]).sort(\n",
    "        by=[\"session_id\", \"pred\"], descending=True\n",
    "    )\n",
    "    session_df = load_session_data(Path(cfg.dir.data_dir), \"test\")\n",
    "    pred_candidates_df = pred_df.group_by(\"session_id\").agg(pl.col(\"candidates\"))\n",
    "    submission_df = (\n",
    "        session_df.join(\n",
    "            pred_candidates_df.with_columns(\n",
    "                [\n",
    "                    pl.col(\"candidates\").list.get(i).alias(f\"predict_{i}\")\n",
    "                    for i in range(10)\n",
    "                ]\n",
    "            ).drop(\"candidates\"),\n",
    "            on=\"session_id\",\n",
    "            how=\"left\",\n",
    "        )\n",
    "        .fill_null(-1)\n",
    "        .drop(\"session_id\")\n",
    "    )\n",
    "    return submission_df"
   ]
  },
  {
   "cell_type": "code",
   "execution_count": 107,
   "id": "5cda4ffa-a54d-411b-8f30-1ce65efc23ed",
   "metadata": {},
   "outputs": [
    {
     "data": {
      "text/html": [
       "<div><style>\n",
       ".dataframe > thead > tr > th,\n",
       ".dataframe > tbody > tr > td {\n",
       "  text-align: right;\n",
       "  white-space: pre-wrap;\n",
       "}\n",
       "</style>\n",
       "<small>shape: (5, 10)</small><table border=\"1\" class=\"dataframe\"><thead><tr><th>predict_0</th><th>predict_1</th><th>predict_2</th><th>predict_3</th><th>predict_4</th><th>predict_5</th><th>predict_6</th><th>predict_7</th><th>predict_8</th><th>predict_9</th></tr><tr><td>i32</td><td>i32</td><td>i32</td><td>i32</td><td>i32</td><td>i32</td><td>i32</td><td>i32</td><td>i32</td><td>i32</td></tr></thead><tbody><tr><td>3560</td><td>11561</td><td>4545</td><td>9534</td><td>4714</td><td>4420</td><td>5466</td><td>2680</td><td>6563</td><td>6488</td></tr><tr><td>143</td><td>6555</td><td>4066</td><td>11923</td><td>613</td><td>7014</td><td>8108</td><td>12862</td><td>6129</td><td>11237</td></tr><tr><td>757</td><td>7710</td><td>9190</td><td>9910</td><td>1774</td><td>410</td><td>10485</td><td>13570</td><td>6721</td><td>3400</td></tr><tr><td>12341</td><td>3359</td><td>6991</td><td>1542</td><td>13521</td><td>10861</td><td>5080</td><td>4180</td><td>5657</td><td>9319</td></tr><tr><td>2862</td><td>9020</td><td>5372</td><td>9623</td><td>10826</td><td>9611</td><td>3854</td><td>763</td><td>3476</td><td>6161</td></tr></tbody></table></div>"
      ],
      "text/plain": [
       "shape: (5, 10)\n",
       "┌───────────┬───────────┬───────────┬───────────┬───┬───────────┬───────────┬───────────┬──────────┐\n",
       "│ predict_0 ┆ predict_1 ┆ predict_2 ┆ predict_3 ┆ … ┆ predict_6 ┆ predict_7 ┆ predict_8 ┆ predict_ │\n",
       "│ ---       ┆ ---       ┆ ---       ┆ ---       ┆   ┆ ---       ┆ ---       ┆ ---       ┆ 9        │\n",
       "│ i32       ┆ i32       ┆ i32       ┆ i32       ┆   ┆ i32       ┆ i32       ┆ i32       ┆ ---      │\n",
       "│           ┆           ┆           ┆           ┆   ┆           ┆           ┆           ┆ i32      │\n",
       "╞═══════════╪═══════════╪═══════════╪═══════════╪═══╪═══════════╪═══════════╪═══════════╪══════════╡\n",
       "│ 3560      ┆ 11561     ┆ 4545      ┆ 9534      ┆ … ┆ 5466      ┆ 2680      ┆ 6563      ┆ 6488     │\n",
       "│ 143       ┆ 6555      ┆ 4066      ┆ 11923     ┆ … ┆ 8108      ┆ 12862     ┆ 6129      ┆ 11237    │\n",
       "│ 757       ┆ 7710      ┆ 9190      ┆ 9910      ┆ … ┆ 10485     ┆ 13570     ┆ 6721      ┆ 3400     │\n",
       "│ 12341     ┆ 3359      ┆ 6991      ┆ 1542      ┆ … ┆ 5080      ┆ 4180      ┆ 5657      ┆ 9319     │\n",
       "│ 2862      ┆ 9020      ┆ 5372      ┆ 9623      ┆ … ┆ 3854      ┆ 763       ┆ 3476      ┆ 6161     │\n",
       "└───────────┴───────────┴───────────┴───────────┴───┴───────────┴───────────┴───────────┴──────────┘"
      ]
     },
     "execution_count": 107,
     "metadata": {},
     "output_type": "execute_result"
    }
   ],
   "source": [
    "test_candidate_df = make_submission(other_test_df, first_test_df)\n",
    "test_candidate_df.head()"
   ]
  },
  {
   "cell_type": "markdown",
   "id": "3fc4eb8d-ab44-4043-9f89-8e48d39fb3de",
   "metadata": {},
   "source": [
    "## ルールベースでの session_count==1 の変更"
   ]
  },
  {
   "cell_type": "code",
   "execution_count": 108,
   "id": "68daa318-bbdb-4339-ab81-24236d25ec08",
   "metadata": {},
   "outputs": [
    {
     "data": {
      "text/html": [
       "<div><style>\n",
       ".dataframe > thead > tr > th,\n",
       ".dataframe > tbody > tr > td {\n",
       "  text-align: right;\n",
       "  white-space: pre-wrap;\n",
       "}\n",
       "</style>\n",
       "<small>shape: (5, 4)</small><table border=\"1\" class=\"dataframe\"><thead><tr><th>yad_no</th><th>yad_no_label</th><th>pred</th><th>session_count</th></tr><tr><td>i64</td><td>i64</td><td>f64</td><td>i32</td></tr></thead><tbody><tr><td>13806</td><td>11113</td><td>400.0</td><td>1</td></tr><tr><td>13806</td><td>3326</td><td>200.0</td><td>1</td></tr><tr><td>13806</td><td>6997</td><td>200.0</td><td>1</td></tr><tr><td>13806</td><td>8762</td><td>200.0</td><td>1</td></tr><tr><td>13806</td><td>4020</td><td>200.0</td><td>1</td></tr></tbody></table></div>"
      ],
      "text/plain": [
       "shape: (5, 4)\n",
       "┌────────┬──────────────┬───────┬───────────────┐\n",
       "│ yad_no ┆ yad_no_label ┆ pred  ┆ session_count │\n",
       "│ ---    ┆ ---          ┆ ---   ┆ ---           │\n",
       "│ i64    ┆ i64          ┆ f64   ┆ i32           │\n",
       "╞════════╪══════════════╪═══════╪═══════════════╡\n",
       "│ 13806  ┆ 11113        ┆ 400.0 ┆ 1             │\n",
       "│ 13806  ┆ 3326         ┆ 200.0 ┆ 1             │\n",
       "│ 13806  ┆ 6997         ┆ 200.0 ┆ 1             │\n",
       "│ 13806  ┆ 8762         ┆ 200.0 ┆ 1             │\n",
       "│ 13806  ┆ 4020         ┆ 200.0 ┆ 1             │\n",
       "└────────┴──────────────┴───────┴───────────────┘"
      ]
     },
     "execution_count": 108,
     "metadata": {},
     "output_type": "execute_result"
    }
   ],
   "source": [
    "label_pred_df.head()"
   ]
  },
  {
   "cell_type": "code",
   "execution_count": null,
   "id": "77682f9a-53af-4069-aec6-98fe24b78d22",
   "metadata": {},
   "outputs": [],
   "source": []
  },
  {
   "cell_type": "code",
   "execution_count": 121,
   "id": "0ac4a342-9eb4-496f-a532-fa6059dc3da5",
   "metadata": {},
   "outputs": [],
   "source": [
    "# sessionに最後に見たyad_noを付与\n",
    "mode = \"train\"\n",
    "\n",
    "\n",
    "def concat_label_pred(first_df, mode):\n",
    "    # 最後のyad_noだけを残す & labelを付与\n",
    "    train_log_df = load_log_data(Path(cfg.dir.data_dir), \"train\")\n",
    "    train_label_df = load_label_data(Path(cfg.dir.data_dir))\n",
    "    train_last_log_label_df = (\n",
    "        train_log_df.join(train_label_df, on=\"session_id\", suffix=\"_label\")\n",
    "        .with_columns(\n",
    "            (pl.col(\"seq_no\").max().over(\"session_id\") + 1).alias(\"session_count\")\n",
    "        )\n",
    "        .filter(pl.col(\"seq_no\") == pl.col(\"session_count\") - 1)\n",
    "    )\n",
    "    # 実績ラベルからyad_noごとに良さそうな対象を探す\n",
    "    label_pred_df = (\n",
    "        train_last_log_label_df.group_by([\"yad_no\", \"yad_no_label\"])\n",
    "        .agg(pl.col(\"yad_no\").count().alias(\"pred\"))\n",
    "        .with_columns(pl.col(\"pred\") * 100.0, pl.lit(1).alias(\"session_count\"))\n",
    "        .sort(by=[\"yad_no\", \"pred\", \"session_count\"], descending=True)\n",
    "    )\n",
    "\n",
    "    # 予測値作成\n",
    "    log_df = load_log_data(Path(cfg.dir.data_dir), mode)\n",
    "    last_log_df = log_df.with_columns(\n",
    "        (pl.col(\"seq_no\").max().over(\"session_id\") + 1).alias(\"session_count\")\n",
    "    ).filter(pl.col(\"seq_no\") == pl.col(\"session_count\") - 1)\n",
    "    session_df = load_session_data(Path(cfg.dir.data_dir), mode)\n",
    "    session_last_df = (\n",
    "        session_df.join(\n",
    "            last_log_df.select([\"session_id\", \"yad_no\", \"session_count\"]),\n",
    "            on=\"session_id\",\n",
    "        )\n",
    "        .filter(pl.col(\"session_count\") == 1)\n",
    "        .drop(\"session_count\")\n",
    "    )\n",
    "    first_df_from_label = (\n",
    "        session_last_df.join(label_pred_df, on=\"yad_no\")\n",
    "        .with_columns(\n",
    "            pl.col(\"yad_no_label\").alias(\"candidates\").cast(pl.Int32),\n",
    "            pl.col(\"session_count\").cast(pl.Int32),\n",
    "        )\n",
    "        .drop([\"yad_no\", \"yad_no_label\"])\n",
    "        .select([\"session_id\", \"candidates\", \"pred\", \"session_count\"])\n",
    "    )\n",
    "    # first と結合\n",
    "    result = (\n",
    "        pl.concat([first_df, first_df_from_label])\n",
    "        .group_by([\"session_id\", \"candidates\"])\n",
    "        .agg(pl.col(\"pred\").sum(), pl.col(\"session_count\").max())\n",
    "        .sort(by=[\"session_id\", \"pred\"], descending=True)\n",
    "    )\n",
    "    return result\n",
    "\n",
    "\n",
    "df = concat_label_pred(first_oof_df, \"train\")"
   ]
  },
  {
   "cell_type": "code",
   "execution_count": 119,
   "id": "7759a2bf-e468-49de-9ff8-e058e19068c4",
   "metadata": {
    "scrolled": true
   },
   "outputs": [
    {
     "data": {
      "text/html": [
       "<div><style>\n",
       ".dataframe > thead > tr > th,\n",
       ".dataframe > tbody > tr > td {\n",
       "  text-align: right;\n",
       "  white-space: pre-wrap;\n",
       "}\n",
       "</style>\n",
       "<small>shape: (13_253_797, 4)</small><table border=\"1\" class=\"dataframe\"><thead><tr><th>session_id</th><th>candidates</th><th>pred</th><th>session_count</th></tr><tr><td>str</td><td>i32</td><td>f64</td><td>i32</td></tr></thead><tbody><tr><td>&quot;ffca0dda16272d…</td><td>12797</td><td>-0.509899</td><td>2</td></tr><tr><td>&quot;ff588a978241c7…</td><td>12676</td><td>-0.509899</td><td>2</td></tr><tr><td>&quot;ff588a978241c7…</td><td>3698</td><td>-0.509899</td><td>2</td></tr><tr><td>&quot;ff588a978241c7…</td><td>8628</td><td>-0.509899</td><td>2</td></tr><tr><td>&quot;ff3d5a0a6c8cfa…</td><td>3698</td><td>-0.509899</td><td>2</td></tr><tr><td>&quot;ff3d5a0a6c8cfa…</td><td>12676</td><td>-0.509899</td><td>2</td></tr><tr><td>&quot;ff3d5a0a6c8cfa…</td><td>8628</td><td>-0.509899</td><td>2</td></tr><tr><td>&quot;fef5f6fe59aacb…</td><td>1987</td><td>-0.509899</td><td>2</td></tr><tr><td>&quot;fef5f6fe59aacb…</td><td>7703</td><td>-0.509899</td><td>2</td></tr><tr><td>&quot;fef5f6fe59aacb…</td><td>13450</td><td>-0.509899</td><td>2</td></tr><tr><td>&quot;fef5f6fe59aacb…</td><td>4078</td><td>-0.509899</td><td>2</td></tr><tr><td>&quot;fe8092e67a9675…</td><td>10598</td><td>-0.509899</td><td>3</td></tr><tr><td>&hellip;</td><td>&hellip;</td><td>&hellip;</td><td>&hellip;</td></tr><tr><td>&quot;d6ac2bbab7b871…</td><td>12350</td><td>10000.040572</td><td>1</td></tr><tr><td>&quot;d595d185e0362b…</td><td>12350</td><td>10000.040572</td><td>1</td></tr><tr><td>&quot;b7462ba30b8baa…</td><td>12350</td><td>10000.040572</td><td>1</td></tr><tr><td>&quot;a2619dbc883f13…</td><td>12350</td><td>10000.040572</td><td>1</td></tr><tr><td>&quot;9ecdb30e942e50…</td><td>12350</td><td>10000.040572</td><td>1</td></tr><tr><td>&quot;60416178b743b4…</td><td>12350</td><td>10000.040572</td><td>1</td></tr><tr><td>&quot;3e042467db3bf1…</td><td>12350</td><td>10000.040572</td><td>1</td></tr><tr><td>&quot;3698666e0f9520…</td><td>12350</td><td>10000.040572</td><td>1</td></tr><tr><td>&quot;2942fddfe834f8…</td><td>12350</td><td>10000.040572</td><td>1</td></tr><tr><td>&quot;28bdd8298652a6…</td><td>12350</td><td>10000.040572</td><td>1</td></tr><tr><td>&quot;27b058fac77041…</td><td>12350</td><td>10000.040572</td><td>1</td></tr><tr><td>&quot;14f10eb1544196…</td><td>12350</td><td>10000.040572</td><td>1</td></tr></tbody></table></div>"
      ],
      "text/plain": [
       "shape: (13_253_797, 4)\n",
       "┌──────────────────────────────────┬────────────┬──────────────┬───────────────┐\n",
       "│ session_id                       ┆ candidates ┆ pred         ┆ session_count │\n",
       "│ ---                              ┆ ---        ┆ ---          ┆ ---           │\n",
       "│ str                              ┆ i32        ┆ f64          ┆ i32           │\n",
       "╞══════════════════════════════════╪════════════╪══════════════╪═══════════════╡\n",
       "│ ffca0dda16272d7f909a14f8694b2179 ┆ 12797      ┆ -0.509899    ┆ 2             │\n",
       "│ ff588a978241c79600cdf8d710a5ced5 ┆ 12676      ┆ -0.509899    ┆ 2             │\n",
       "│ ff588a978241c79600cdf8d710a5ced5 ┆ 3698       ┆ -0.509899    ┆ 2             │\n",
       "│ ff588a978241c79600cdf8d710a5ced5 ┆ 8628       ┆ -0.509899    ┆ 2             │\n",
       "│ …                                ┆ …          ┆ …            ┆ …             │\n",
       "│ 2942fddfe834f81760233f97768ef6d0 ┆ 12350      ┆ 10000.040572 ┆ 1             │\n",
       "│ 28bdd8298652a66658ed4ff388859a3a ┆ 12350      ┆ 10000.040572 ┆ 1             │\n",
       "│ 27b058fac77041f21cf31ac7b0c7b6a0 ┆ 12350      ┆ 10000.040572 ┆ 1             │\n",
       "│ 14f10eb1544196b826d58567362b6ac5 ┆ 12350      ┆ 10000.040572 ┆ 1             │\n",
       "└──────────────────────────────────┴────────────┴──────────────┴───────────────┘"
      ]
     },
     "execution_count": 119,
     "metadata": {},
     "output_type": "execute_result"
    }
   ],
   "source": [
    "df.sort(by=\"pred\")"
   ]
  },
  {
   "cell_type": "code",
   "execution_count": 120,
   "id": "9a9d3ca2-186b-4e92-83cd-4e3da52baf08",
   "metadata": {},
   "outputs": [
    {
     "name": "stdout",
     "output_type": "stream",
     "text": [
      "shape: (5, 4)\n",
      "┌──────────────────────────────────┬────────────┬──────────┬───────────────┐\n",
      "│ session_id                       ┆ candidates ┆ pred     ┆ session_count │\n",
      "│ ---                              ┆ ---        ┆ ---      ┆ ---           │\n",
      "│ str                              ┆ i32        ┆ f64      ┆ i32           │\n",
      "╞══════════════════════════════════╪════════════╪══════════╪═══════════════╡\n",
      "│ fffffa7baf370083ebcdd98f26a7e31a ┆ 2439       ┆ 0.245733 ┆ 2             │\n",
      "│ fffffa7baf370083ebcdd98f26a7e31a ┆ 1372       ┆ 0.169726 ┆ 2             │\n",
      "│ fffffa7baf370083ebcdd98f26a7e31a ┆ 10095      ┆ 0.169726 ┆ 2             │\n",
      "│ fffffa7baf370083ebcdd98f26a7e31a ┆ 12154      ┆ 0.141801 ┆ 2             │\n",
      "│ fffffa7baf370083ebcdd98f26a7e31a ┆ 3          ┆ 0.127825 ┆ 2             │\n",
      "└──────────────────────────────────┴────────────┴──────────┴───────────────┘\n",
      "shape: (5, 4)\n",
      "┌──────────────────────────────────┬────────────┬───────┬───────────────┐\n",
      "│ session_id                       ┆ candidates ┆ pred  ┆ session_count │\n",
      "│ ---                              ┆ ---        ┆ ---   ┆ ---           │\n",
      "│ str                              ┆ i32        ┆ f64   ┆ i32           │\n",
      "╞══════════════════════════════════╪════════════╪═══════╪═══════════════╡\n",
      "│ 005e2786e30bf6c106f993375a01001f ┆ 11113      ┆ 400.0 ┆ 1             │\n",
      "│ 059a4143c49fe05b80130e5daaeeb374 ┆ 11113      ┆ 400.0 ┆ 1             │\n",
      "│ 0ee01cd1697ee43b5dbaa24871923713 ┆ 11113      ┆ 400.0 ┆ 1             │\n",
      "│ 18fb42b87730bafebd6b16f9b89eedbc ┆ 11113      ┆ 400.0 ┆ 1             │\n",
      "│ 25c57b45b2fad189e6529986637ba5c6 ┆ 11113      ┆ 400.0 ┆ 1             │\n",
      "└──────────────────────────────────┴────────────┴───────┴───────────────┘\n",
      "shape: (5, 3)\n",
      "┌──────────────────────────────────┬───────────────────────┬────────┐\n",
      "│ session_id                       ┆ candidates            ┆ yad_no │\n",
      "│ ---                              ┆ ---                   ┆ ---    │\n",
      "│ str                              ┆ list[i32]             ┆ i64    │\n",
      "╞══════════════════════════════════╪═══════════════════════╪════════╡\n",
      "│ 4df0a73c027f6d7a0c29d9faf2091a86 ┆ [10322, 1800, … 8628] ┆ 4342   │\n",
      "│ b7574ac8e6cd0784b66d3b07633b2313 ┆ [6479, 1590, … 180]   ┆ 10264  │\n",
      "│ 002f5eb1b698db699ef2df5da1b05f1b ┆ [3095, 11206, … 8380] ┆ 3095   │\n",
      "│ 3c0f21aed43523ab9f18142fcc9946ea ┆ [11496, 2305, … 5884] ┆ 7902   │\n",
      "│ 1470ec05eef1bcc0a95c79ca6bf488b9 ┆ [1462, 12362, … 7630] ┆ 1462   │\n",
      "└──────────────────────────────────┴───────────────────────┴────────┘\n",
      "k: 10\n",
      "avg_num_candidates: 9.991489376441818\n",
      "recall: 0.6611580267268911\n",
      "precision: 0.06611580267268911\n",
      "map@k: 0.42457227918843504\n",
      "\n",
      "[{'k': 10, 'avg_num_candidates': 9.991489376441818, 'recall': 0.6611580267268911, 'precision': 0.06611580267268911, 'map@k': 0.42457227918843504}]\n"
     ]
    }
   ],
   "source": [
    "oof_candidate_df = make_eval_df(other_oof_df, concat_label_pred(first_oof_df, \"train\"))\n",
    "print(oof_candidate_df.head())\n",
    "\n",
    "metrics = calculate_metrics(\n",
    "    oof_candidate_df, candidates_col=\"candidates\", label_col=\"yad_no\", k=[10]\n",
    ")\n",
    "print(metrics)"
   ]
  },
  {
   "cell_type": "code",
   "execution_count": 122,
   "id": "23de1647-9566-4c72-8773-98c119909927",
   "metadata": {},
   "outputs": [
    {
     "data": {
      "text/html": [
       "<div><style>\n",
       ".dataframe > thead > tr > th,\n",
       ".dataframe > tbody > tr > td {\n",
       "  text-align: right;\n",
       "  white-space: pre-wrap;\n",
       "}\n",
       "</style>\n",
       "<small>shape: (5, 10)</small><table border=\"1\" class=\"dataframe\"><thead><tr><th>predict_0</th><th>predict_1</th><th>predict_2</th><th>predict_3</th><th>predict_4</th><th>predict_5</th><th>predict_6</th><th>predict_7</th><th>predict_8</th><th>predict_9</th></tr><tr><td>i32</td><td>i32</td><td>i32</td><td>i32</td><td>i32</td><td>i32</td><td>i32</td><td>i32</td><td>i32</td><td>i32</td></tr></thead><tbody><tr><td>3560</td><td>11561</td><td>4545</td><td>9534</td><td>4714</td><td>4420</td><td>5466</td><td>2680</td><td>6563</td><td>6488</td></tr><tr><td>143</td><td>4066</td><td>6555</td><td>7014</td><td>7913</td><td>8108</td><td>12862</td><td>6129</td><td>11237</td><td>12350</td></tr><tr><td>757</td><td>7710</td><td>9190</td><td>9910</td><td>1774</td><td>410</td><td>10485</td><td>13570</td><td>6721</td><td>3400</td></tr><tr><td>12341</td><td>3359</td><td>6991</td><td>1542</td><td>13521</td><td>10861</td><td>5080</td><td>4180</td><td>5657</td><td>9319</td></tr><tr><td>9020</td><td>2862</td><td>13235</td><td>4070</td><td>6565</td><td>5411</td><td>9623</td><td>5372</td><td>10826</td><td>9611</td></tr></tbody></table></div>"
      ],
      "text/plain": [
       "shape: (5, 10)\n",
       "┌───────────┬───────────┬───────────┬───────────┬───┬───────────┬───────────┬───────────┬──────────┐\n",
       "│ predict_0 ┆ predict_1 ┆ predict_2 ┆ predict_3 ┆ … ┆ predict_6 ┆ predict_7 ┆ predict_8 ┆ predict_ │\n",
       "│ ---       ┆ ---       ┆ ---       ┆ ---       ┆   ┆ ---       ┆ ---       ┆ ---       ┆ 9        │\n",
       "│ i32       ┆ i32       ┆ i32       ┆ i32       ┆   ┆ i32       ┆ i32       ┆ i32       ┆ ---      │\n",
       "│           ┆           ┆           ┆           ┆   ┆           ┆           ┆           ┆ i32      │\n",
       "╞═══════════╪═══════════╪═══════════╪═══════════╪═══╪═══════════╪═══════════╪═══════════╪══════════╡\n",
       "│ 3560      ┆ 11561     ┆ 4545      ┆ 9534      ┆ … ┆ 5466      ┆ 2680      ┆ 6563      ┆ 6488     │\n",
       "│ 143       ┆ 4066      ┆ 6555      ┆ 7014      ┆ … ┆ 12862     ┆ 6129      ┆ 11237     ┆ 12350    │\n",
       "│ 757       ┆ 7710      ┆ 9190      ┆ 9910      ┆ … ┆ 10485     ┆ 13570     ┆ 6721      ┆ 3400     │\n",
       "│ 12341     ┆ 3359      ┆ 6991      ┆ 1542      ┆ … ┆ 5080      ┆ 4180      ┆ 5657      ┆ 9319     │\n",
       "│ 9020      ┆ 2862      ┆ 13235     ┆ 4070      ┆ … ┆ 9623      ┆ 5372      ┆ 10826     ┆ 9611     │\n",
       "└───────────┴───────────┴───────────┴───────────┴───┴───────────┴───────────┴───────────┴──────────┘"
      ]
     },
     "execution_count": 122,
     "metadata": {},
     "output_type": "execute_result"
    }
   ],
   "source": [
    "test_candidate_df = make_submission(\n",
    "    other_test_df, concat_label_pred(first_test_df, \"test\")\n",
    ")\n",
    "test_candidate_df.head()"
   ]
  },
  {
   "cell_type": "code",
   "execution_count": null,
   "id": "c3aed103-ab25-4615-b9f9-66a1094d6588",
   "metadata": {},
   "outputs": [],
   "source": []
  }
 ],
 "metadata": {
  "kernelspec": {
   "display_name": "Python 3 (ipykernel)",
   "language": "python",
   "name": "python3"
  },
  "language_info": {
   "codemirror_mode": {
    "name": "ipython",
    "version": 3
   },
   "file_extension": ".py",
   "mimetype": "text/x-python",
   "name": "python",
   "nbconvert_exporter": "python",
   "pygments_lexer": "ipython3",
   "version": "3.10.12"
  }
 },
 "nbformat": 4,
 "nbformat_minor": 5
}
