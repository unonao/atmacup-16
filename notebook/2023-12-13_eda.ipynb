{
 "cells": [
  {
   "cell_type": "markdown",
   "id": "64572034-2894-40b2-a1b2-6b294869dfd7",
   "metadata": {},
   "source": [
    "sesionの数、yadの数、locationの数を確認して、sessionとyadでCFがうまくいかなかった理由とlocationでうまくいきそうかを考える"
   ]
  },
  {
   "cell_type": "code",
   "execution_count": 1,
   "id": "5c97b3a2-59b0-4300-8938-c3f34b2232a3",
   "metadata": {},
   "outputs": [
    {
     "name": "stdout",
     "output_type": "stream",
     "text": [
      "/kaggle/working\n"
     ]
    }
   ],
   "source": [
    "%cd .."
   ]
  },
  {
   "cell_type": "code",
   "execution_count": 2,
   "id": "2873b5c6-ab40-47e7-9ca1-dccfe277015a",
   "metadata": {},
   "outputs": [
    {
     "name": "stdout",
     "output_type": "stream",
     "text": [
      "debug: false\n",
      "seed: 42\n",
      "dir:\n",
      "  data_dir: /kaggle/working/input/atmaCup16_Dataset\n",
      "  output_dir: /kaggle/working/output\n",
      "  exp_dir: /kaggle/working/output/exp\n",
      "  cand_unsupervised_dir: /kaggle/working/output/cand_unsupervised\n",
      "  cand_supervised_dir: /kaggle/working/output/cand_supervised\n",
      "  datasets_dir: /kaggle/working/output/datasets\n",
      "exp:\n",
      "  other_dirs:\n",
      "  - output/exp/008_split/base\n",
      "  first_dirs:\n",
      "  - output/exp/008_split/first\n",
      "\n"
     ]
    }
   ],
   "source": [
    "from hydra import compose, initialize\n",
    "from omegaconf import OmegaConf\n",
    "\n",
    "with initialize(version_base=None, config_path=\"../experiments/ensemble_001\"):\n",
    "    cfg = compose(config_name=\"config.yaml\", overrides=[\"exp=base\"])\n",
    "    print(OmegaConf.to_yaml(cfg))"
   ]
  },
  {
   "cell_type": "code",
   "execution_count": 5,
   "id": "e2b3544d-a789-4025-b166-55e852f648b9",
   "metadata": {},
   "outputs": [],
   "source": [
    "import logging\n",
    "import os\n",
    "import pickle\n",
    "import sys\n",
    "import time\n",
    "from pathlib import Path\n",
    "\n",
    "import hydra\n",
    "import lightgbm as lgb\n",
    "import matplotlib.pyplot as plt\n",
    "import numpy as np\n",
    "import pandas as pd\n",
    "import polars as pl\n",
    "from hydra.core.hydra_config import HydraConfig\n",
    "from omegaconf import DictConfig, OmegaConf\n",
    "from tqdm.auto import tqdm\n",
    "\n",
    "import utils\n",
    "import wandb\n",
    "from utils.load import load_label_data, load_log_data, load_session_data, load_yad_data\n",
    "from utils.logger import get_logger\n",
    "from utils.metrics import calculate_metrics"
   ]
  },
  {
   "cell_type": "code",
   "execution_count": 6,
   "id": "48a7cf03-a581-417d-8731-07d72bb5ff1a",
   "metadata": {},
   "outputs": [
    {
     "data": {
      "text/plain": [
       "(13806, 13)"
      ]
     },
     "execution_count": 6,
     "metadata": {},
     "output_type": "execute_result"
    }
   ],
   "source": [
    "yado_df = load_yad_data(Path(cfg.dir.data_dir))\n",
    "yado_df.shape"
   ]
  },
  {
   "cell_type": "code",
   "execution_count": 8,
   "id": "ab95f5c7-1558-475f-9680-371a36a43752",
   "metadata": {},
   "outputs": [
    {
     "data": {
      "text/plain": [
       "288698"
      ]
     },
     "execution_count": 8,
     "metadata": {},
     "output_type": "execute_result"
    }
   ],
   "source": [
    "train_log_df = load_log_data(Path(cfg.dir.data_dir), \"train\")\n",
    "len(train_log_df['session_id'].unique())"
   ]
  },
  {
   "cell_type": "code",
   "execution_count": 14,
   "id": "e8ec6922-faeb-4316-94ff-2fbbb76b0f94",
   "metadata": {},
   "outputs": [
    {
     "data": {
      "text/html": [
       "<div><style>\n",
       ".dataframe > thead > tr > th,\n",
       ".dataframe > tbody > tr > td {\n",
       "  text-align: right;\n",
       "  white-space: pre-wrap;\n",
       "}\n",
       "</style>\n",
       "<small>shape: (10, 2)</small><table border=\"1\" class=\"dataframe\"><thead><tr><th>seq_no</th><th>counts</th></tr><tr><td>i64</td><td>u32</td></tr></thead><tbody><tr><td>0</td><td>185386</td></tr><tr><td>1</td><td>82793</td></tr><tr><td>2</td><td>15350</td></tr><tr><td>3</td><td>4025</td></tr><tr><td>4</td><td>833</td></tr><tr><td>5</td><td>223</td></tr><tr><td>6</td><td>65</td></tr><tr><td>7</td><td>18</td></tr><tr><td>8</td><td>4</td></tr><tr><td>9</td><td>1</td></tr></tbody></table></div>"
      ],
      "text/plain": [
       "shape: (10, 2)\n",
       "┌────────┬────────┐\n",
       "│ seq_no ┆ counts │\n",
       "│ ---    ┆ ---    │\n",
       "│ i64    ┆ u32    │\n",
       "╞════════╪════════╡\n",
       "│ 0      ┆ 185386 │\n",
       "│ 1      ┆ 82793  │\n",
       "│ 2      ┆ 15350  │\n",
       "│ 3      ┆ 4025   │\n",
       "│ …      ┆ …      │\n",
       "│ 6      ┆ 65     │\n",
       "│ 7      ┆ 18     │\n",
       "│ 8      ┆ 4      │\n",
       "│ 9      ┆ 1      │\n",
       "└────────┴────────┘"
      ]
     },
     "execution_count": 14,
     "metadata": {},
     "output_type": "execute_result"
    }
   ],
   "source": [
    "train_log_df.group_by([\"session_id\"]).agg(pl.col(\"seq_no\").max())[\n",
    "    \"seq_no\"\n",
    "].value_counts().sort(by=\"seq_no\")"
   ]
  },
  {
   "cell_type": "code",
   "execution_count": null,
   "id": "6bcdd1aa-e78e-44cc-a0a6-aef95c842316",
   "metadata": {},
   "outputs": [],
   "source": []
  },
  {
   "cell_type": "code",
   "execution_count": null,
   "id": "c3a662b5-df88-431c-a259-c88602c69182",
   "metadata": {},
   "outputs": [],
   "source": []
  }
 ],
 "metadata": {
  "kernelspec": {
   "display_name": "Python 3 (ipykernel)",
   "language": "python",
   "name": "python3"
  },
  "language_info": {
   "codemirror_mode": {
    "name": "ipython",
    "version": 3
   },
   "file_extension": ".py",
   "mimetype": "text/x-python",
   "name": "python",
   "nbconvert_exporter": "python",
   "pygments_lexer": "ipython3",
   "version": "3.10.12"
  }
 },
 "nbformat": 4,
 "nbformat_minor": 5
}
