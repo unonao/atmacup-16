{
 "cells": [
  {
   "cell_type": "code",
   "execution_count": 1,
   "id": "df269de8-df85-4ae1-989a-21e3545d8f77",
   "metadata": {},
   "outputs": [
    {
     "name": "stdout",
     "output_type": "stream",
     "text": [
      "/kaggle/working\n"
     ]
    }
   ],
   "source": [
    "%cd .."
   ]
  },
  {
   "cell_type": "code",
   "execution_count": 2,
   "id": "7632c695-624b-493f-937c-1dcb453d2694",
   "metadata": {},
   "outputs": [
    {
     "name": "stdout",
     "output_type": "stream",
     "text": [
      "debug: false\n",
      "seed: 7\n",
      "dir:\n",
      "  data_dir: /kaggle/working/input/atmaCup16_Dataset\n",
      "  output_dir: /kaggle/working/output\n",
      "  exp_dir: /kaggle/working/output/exp\n",
      "  cand_unsupervised_dir: /kaggle/working/output/cand_unsupervised\n",
      "  cand_supervised_dir: /kaggle/working/output/cand_supervised\n",
      "exp:\n",
      "  num_candidate: 100\n",
      "  k:\n",
      "  - 1\n",
      "  - 5\n",
      "  - 10\n",
      "  - 50\n",
      "  - 100\n",
      "\n"
     ]
    }
   ],
   "source": [
    "from hydra import compose, initialize\n",
    "from omegaconf import OmegaConf\n",
    "\n",
    "with initialize(version_base=None, config_path=\"../cand_unsupervised/ranking\"):\n",
    "    cfg = compose(config_name=\"config.yaml\")\n",
    "    print(OmegaConf.to_yaml(cfg))"
   ]
  },
  {
   "cell_type": "code",
   "execution_count": 3,
   "id": "acc96fa2-f43f-4db3-8ae4-70c6bdb185fe",
   "metadata": {},
   "outputs": [],
   "source": [
    "import utils\n",
    "from utils.load import load_label_data, load_log_data\n",
    "from utils.metrics import calculate_metrics"
   ]
  },
  {
   "cell_type": "code",
   "execution_count": 8,
   "id": "6a94d607-64cd-4a81-b142-b7b3209b25cc",
   "metadata": {},
   "outputs": [
    {
     "name": "stdout",
     "output_type": "stream",
     "text": [
      "[load data] done in 0.1 s\n"
     ]
    }
   ],
   "source": [
    "from pathlib import Path\n",
    "\n",
    "import polars as pl\n",
    "\n",
    "with utils.timer(\"load data\"):\n",
    "    train_log_df = load_log_data(Path(cfg.dir.data_dir), \"train\")\n",
    "    test_log_df = load_log_data(Path(cfg.dir.data_dir), \"test\")\n",
    "    all_log_df = pl.concat([train_log_df, test_log_df])"
   ]
  },
  {
   "cell_type": "code",
   "execution_count": 9,
   "id": "b1096f83-9cee-488c-a3c0-d596106e2efd",
   "metadata": {},
   "outputs": [
    {
     "name": "stdout",
     "output_type": "stream",
     "text": [
      "shape: (5, 2)\n",
      "┌────────┬────────┐\n",
      "│ yad_no ┆ counts │\n",
      "│ ---    ┆ ---    │\n",
      "│ i64    ┆ u32    │\n",
      "╞════════╪════════╡\n",
      "│ 12350  ┆ 1606   │\n",
      "│ 719    ┆ 1520   │\n",
      "│ 3338   ┆ 1492   │\n",
      "│ 13468  ┆ 1373   │\n",
      "│ 10095  ┆ 1313   │\n",
      "└────────┴────────┘\n",
      "(13562, 2)\n"
     ]
    }
   ],
   "source": [
    "count_df = (\n",
    "    all_log_df.get_column(\"yad_no\").value_counts().sort(by=\"counts\", descending=True)\n",
    ")\n",
    "print(count_df.head())\n",
    "print(count_df.shape)"
   ]
  },
  {
   "cell_type": "code",
   "execution_count": 10,
   "id": "11b6e504-794e-4342-b61a-0464a0188d5b",
   "metadata": {},
   "outputs": [
    {
     "name": "stdout",
     "output_type": "stream",
     "text": [
      "[load label data] done in 0.0 s\n",
      "[make candidates] done in 6.3 s\n",
      "shape: (10, 3)\n",
      "┌──────────────────────────────────┬────────┬───────────────────────┐\n",
      "│ session_id                       ┆ yad_no ┆ candidates            │\n",
      "│ ---                              ┆ ---    ┆ ---                   │\n",
      "│ str                              ┆ i64    ┆ list[i64]             │\n",
      "╞══════════════════════════════════╪════════╪═══════════════════════╡\n",
      "│ 000007603d533d30453cc45d0f3d119f ┆ 4101   ┆ [12350, 719, … 11321] │\n",
      "│ 0000ca043ed437a1472c9d1d154eb49b ┆ 8253   ┆ [12350, 719, … 11321] │\n",
      "│ 0000d4835cf113316fe447e2f80ba1c8 ┆ 4863   ┆ [12350, 719, … 11321] │\n",
      "│ 0000fcda1ae1b2f431e55a7075d1f500 ┆ 1652   ┆ [12350, 719, … 11321] │\n",
      "│ …                                ┆ …      ┆ …                     │\n",
      "│ 000125c737df1802b6e365f93c96d3c8 ┆ 10378  ┆ [12350, 719, … 11321] │\n",
      "│ 0001763050a10b21062a1304fb743fd4 ┆ 10362  ┆ [12350, 719, … 11321] │\n",
      "│ 000178c4d4d567d4715331dd0cdab76c ┆ 1227   ┆ [12350, 719, … 11321] │\n",
      "│ 0001e6a407a85dc50ac132a5c7016bab ┆ 175    ┆ [12350, 719, … 11321] │\n",
      "└──────────────────────────────────┴────────┴───────────────────────┘\n"
     ]
    }
   ],
   "source": [
    "with utils.timer(\"load label data\"):\n",
    "    train_label_df = load_label_data(Path(cfg.dir.data_dir), \"train\")\n",
    "\n",
    "with utils.timer(\"make candidates\"):\n",
    "    ## 上位num_candidate個の yad_no を取得\n",
    "    yad_list = count_df.get_column(\"yad_no\").to_list()[: cfg.exp.num_candidate]\n",
    "    train_candidate_df = train_label_df.with_columns(\n",
    "        pl.Series(\n",
    "            name=\"candidates\", values=[yad_list for _ in range(len(train_label_df))]\n",
    "        )\n",
    "    )\n",
    "print(train_candidate_df.head(10))"
   ]
  },
  {
   "cell_type": "code",
   "execution_count": 42,
   "id": "9060cf02-69f3-4c39-b539-199bde1dc580",
   "metadata": {},
   "outputs": [],
   "source": [
    "def calculate_precision(recommended_items: list[int], actual_item: int, k: int):\n",
    "    \"\"\"Calculate precision for a single row\"\"\"\n",
    "    return int(actual_item in recommended_items[:k]) / k\n",
    "\n",
    "\n",
    "def calculate_recall(recommended_items: list[int], actual_item: int, k: int):\n",
    "    \"\"\"Calculate recall for a single row\"\"\"\n",
    "    return int(actual_item in recommended_items[:k])\n",
    "\n",
    "\n",
    "def calculate_average_precision_at_k(\n",
    "    recommended_items: list[int], actual_item: int, k: int\n",
    "):\n",
    "    \"\"\"Calculate MAP@K for a single row\"\"\"\n",
    "\n",
    "    if actual_item not in recommended_items[:k]:\n",
    "        return 0.0\n",
    "\n",
    "    score = 0.0\n",
    "    num_hits = 0.0\n",
    "    for i, p in enumerate(recommended_items):\n",
    "        if p == actual_item and p not in recommended_items[:i]:\n",
    "            num_hits += 1.0\n",
    "            score += num_hits / (i + 1.0)\n",
    "\n",
    "    return score"
   ]
  },
  {
   "cell_type": "code",
   "execution_count": 43,
   "id": "8faf58bf-515b-4f89-bdde-dd53c766f5a3",
   "metadata": {},
   "outputs": [],
   "source": [
    "candidates_col = \"candidates\"\n",
    "label_col = \"yad_no\"\n",
    "k_ = 5\n",
    "map_at_k = train_candidate_df.select(candidates_col, label_col).map_rows(\n",
    "    lambda row: calculate_average_precision_at_k(row[0], row[1], k_)\n",
    ")"
   ]
  },
  {
   "cell_type": "code",
   "execution_count": 44,
   "id": "35173f06-8e81-4c31-9980-296f883fb541",
   "metadata": {},
   "outputs": [
    {
     "data": {
      "text/plain": [
       "0.2"
      ]
     },
     "execution_count": 44,
     "metadata": {},
     "output_type": "execute_result"
    }
   ],
   "source": [
    "calculate_average_precision_at_k(yad_list, 10095, 5)"
   ]
  },
  {
   "cell_type": "code",
   "execution_count": 47,
   "id": "feaad5d2-e5fe-44fc-8b9a-aa4e4a440c42",
   "metadata": {},
   "outputs": [
    {
     "data": {
      "text/html": [
       "<div><style>\n",
       ".dataframe > thead > tr,\n",
       ".dataframe > tbody > tr {\n",
       "  text-align: right;\n",
       "  white-space: pre-wrap;\n",
       "}\n",
       "</style>\n",
       "<small>shape: (13_562, 3)</small><table border=\"1\" class=\"dataframe\"><thead><tr><th>row_nr</th><th>yad_no</th><th>counts</th></tr><tr><td>u32</td><td>i64</td><td>u32</td></tr></thead><tbody><tr><td>0</td><td>12350</td><td>1606</td></tr><tr><td>1</td><td>719</td><td>1520</td></tr><tr><td>2</td><td>3338</td><td>1492</td></tr><tr><td>3</td><td>13468</td><td>1373</td></tr><tr><td>4</td><td>10095</td><td>1313</td></tr><tr><td>5</td><td>8567</td><td>1264</td></tr><tr><td>6</td><td>532</td><td>1206</td></tr><tr><td>7</td><td>8553</td><td>1197</td></tr><tr><td>8</td><td>2201</td><td>1173</td></tr><tr><td>9</td><td>915</td><td>1097</td></tr><tr><td>10</td><td>3848</td><td>1018</td></tr><tr><td>11</td><td>11037</td><td>913</td></tr><tr><td>&hellip;</td><td>&hellip;</td><td>&hellip;</td></tr><tr><td>13550</td><td>6811</td><td>1</td></tr><tr><td>13551</td><td>12888</td><td>1</td></tr><tr><td>13552</td><td>8547</td><td>1</td></tr><tr><td>13553</td><td>4358</td><td>1</td></tr><tr><td>13554</td><td>6612</td><td>1</td></tr><tr><td>13555</td><td>5928</td><td>1</td></tr><tr><td>13556</td><td>8261</td><td>1</td></tr><tr><td>13557</td><td>1111</td><td>1</td></tr><tr><td>13558</td><td>4104</td><td>1</td></tr><tr><td>13559</td><td>5141</td><td>1</td></tr><tr><td>13560</td><td>12447</td><td>1</td></tr><tr><td>13561</td><td>4156</td><td>1</td></tr></tbody></table></div>"
      ],
      "text/plain": [
       "shape: (13_562, 3)\n",
       "┌────────┬────────┬────────┐\n",
       "│ row_nr ┆ yad_no ┆ counts │\n",
       "│ ---    ┆ ---    ┆ ---    │\n",
       "│ u32    ┆ i64    ┆ u32    │\n",
       "╞════════╪════════╪════════╡\n",
       "│ 0      ┆ 12350  ┆ 1606   │\n",
       "│ 1      ┆ 719    ┆ 1520   │\n",
       "│ 2      ┆ 3338   ┆ 1492   │\n",
       "│ 3      ┆ 13468  ┆ 1373   │\n",
       "│ …      ┆ …      ┆ …      │\n",
       "│ 13558  ┆ 4104   ┆ 1      │\n",
       "│ 13559  ┆ 5141   ┆ 1      │\n",
       "│ 13560  ┆ 12447  ┆ 1      │\n",
       "│ 13561  ┆ 4156   ┆ 1      │\n",
       "└────────┴────────┴────────┘"
      ]
     },
     "execution_count": 47,
     "metadata": {},
     "output_type": "execute_result"
    }
   ],
   "source": [
    "count_df.with_row_count()"
   ]
  },
  {
   "cell_type": "markdown",
   "id": "4b6a5ddb-2780-4544-8cb7-69469fb31214",
   "metadata": {},
   "source": [
    "## 地域が近いものを選択する\n",
    "\n",
    "セッション内の最頻値を見て最も近いものを選択し、同一地域のランキングをもとに候補を生成する"
   ]
  },
  {
   "cell_type": "code",
   "execution_count": 48,
   "id": "b170775b-e2ad-47bb-bdd2-8471de6d3c4b",
   "metadata": {},
   "outputs": [
    {
     "data": {
      "text/html": [
       "<div><style>\n",
       ".dataframe > thead > tr,\n",
       ".dataframe > tbody > tr {\n",
       "  text-align: right;\n",
       "  white-space: pre-wrap;\n",
       "}\n",
       "</style>\n",
       "<small>shape: (419_270, 3)</small><table border=\"1\" class=\"dataframe\"><thead><tr><th>session_id</th><th>seq_no</th><th>yad_no</th></tr><tr><td>str</td><td>i64</td><td>i64</td></tr></thead><tbody><tr><td>&quot;000007603d533d…</td><td>0</td><td>2395</td></tr><tr><td>&quot;0000ca043ed437…</td><td>0</td><td>13535</td></tr><tr><td>&quot;0000d4835cf113…</td><td>0</td><td>123</td></tr><tr><td>&quot;0000fcda1ae1b2…</td><td>0</td><td>8475</td></tr><tr><td>&quot;000104bdffaaad…</td><td>0</td><td>96</td></tr><tr><td>&quot;000104bdffaaad…</td><td>1</td><td>898</td></tr><tr><td>&quot;00011afe25c343…</td><td>0</td><td>6868</td></tr><tr><td>&quot;000125c737df18…</td><td>0</td><td>8602</td></tr><tr><td>&quot;0001763050a10b…</td><td>0</td><td>13106</td></tr><tr><td>&quot;000178c4d4d567…</td><td>0</td><td>12062</td></tr><tr><td>&quot;0001e6a407a85d…</td><td>0</td><td>4866</td></tr><tr><td>&quot;0002499cf2713a…</td><td>0</td><td>2043</td></tr><tr><td>&hellip;</td><td>&hellip;</td><td>&hellip;</td></tr><tr><td>&quot;fffe8a472ae6a9…</td><td>1</td><td>11321</td></tr><tr><td>&quot;fffe8a472ae6a9…</td><td>2</td><td>6810</td></tr><tr><td>&quot;fffe8c99c5b332…</td><td>0</td><td>6170</td></tr><tr><td>&quot;fffe8c99c5b332…</td><td>1</td><td>12598</td></tr><tr><td>&quot;ffff2262d38abd…</td><td>0</td><td>8140</td></tr><tr><td>&quot;ffff2360540745…</td><td>0</td><td>2121</td></tr><tr><td>&quot;ffff7fb4617164…</td><td>0</td><td>7183</td></tr><tr><td>&quot;ffffcd5bc19d62…</td><td>0</td><td>12230</td></tr><tr><td>&quot;ffffcd5bc19d62…</td><td>1</td><td>10619</td></tr><tr><td>&quot;ffffcd5bc19d62…</td><td>2</td><td>12230</td></tr><tr><td>&quot;fffffa7baf3700…</td><td>0</td><td>2439</td></tr><tr><td>&quot;fffffa7baf3700…</td><td>1</td><td>11822</td></tr></tbody></table></div>"
      ],
      "text/plain": [
       "shape: (419_270, 3)\n",
       "┌──────────────────────────────────┬────────┬────────┐\n",
       "│ session_id                       ┆ seq_no ┆ yad_no │\n",
       "│ ---                              ┆ ---    ┆ ---    │\n",
       "│ str                              ┆ i64    ┆ i64    │\n",
       "╞══════════════════════════════════╪════════╪════════╡\n",
       "│ 000007603d533d30453cc45d0f3d119f ┆ 0      ┆ 2395   │\n",
       "│ 0000ca043ed437a1472c9d1d154eb49b ┆ 0      ┆ 13535  │\n",
       "│ 0000d4835cf113316fe447e2f80ba1c8 ┆ 0      ┆ 123    │\n",
       "│ 0000fcda1ae1b2f431e55a7075d1f500 ┆ 0      ┆ 8475   │\n",
       "│ …                                ┆ …      ┆ …      │\n",
       "│ ffffcd5bc19d62cad5a3815c87818d83 ┆ 1      ┆ 10619  │\n",
       "│ ffffcd5bc19d62cad5a3815c87818d83 ┆ 2      ┆ 12230  │\n",
       "│ fffffa7baf370083ebcdd98f26a7e31a ┆ 0      ┆ 2439   │\n",
       "│ fffffa7baf370083ebcdd98f26a7e31a ┆ 1      ┆ 11822  │\n",
       "└──────────────────────────────────┴────────┴────────┘"
      ]
     },
     "execution_count": 48,
     "metadata": {},
     "output_type": "execute_result"
    }
   ],
   "source": [
    "train_log_df"
   ]
  },
  {
   "cell_type": "code",
   "execution_count": null,
   "id": "dc50fe14-64f5-4a5c-bdb7-38d5d476c536",
   "metadata": {},
   "outputs": [],
   "source": []
  }
 ],
 "metadata": {
  "kernelspec": {
   "display_name": "Python 3 (ipykernel)",
   "language": "python",
   "name": "python3"
  },
  "language_info": {
   "codemirror_mode": {
    "name": "ipython",
    "version": 3
   },
   "file_extension": ".py",
   "mimetype": "text/x-python",
   "name": "python",
   "nbconvert_exporter": "python",
   "pygments_lexer": "ipython3",
   "version": "3.10.12"
  }
 },
 "nbformat": 4,
 "nbformat_minor": 5
}
