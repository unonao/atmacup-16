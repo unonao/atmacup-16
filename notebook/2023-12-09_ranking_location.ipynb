{
 "cells": [
  {
   "cell_type": "code",
   "execution_count": 1,
   "id": "63040f4f-1494-4b80-be19-babefe60107d",
   "metadata": {},
   "outputs": [
    {
     "name": "stdout",
     "output_type": "stream",
     "text": [
      "/kaggle/working\n"
     ]
    }
   ],
   "source": [
    "%cd .."
   ]
  },
  {
   "cell_type": "code",
   "execution_count": 2,
   "id": "4c6c1343-df64-43d3-9a8a-8dfc4b7a4d87",
   "metadata": {},
   "outputs": [
    {
     "name": "stdout",
     "output_type": "stream",
     "text": [
      "debug: false\n",
      "seed: 7\n",
      "dir:\n",
      "  data_dir: /kaggle/working/input/atmaCup16_Dataset\n",
      "  output_dir: /kaggle/working/output\n",
      "  exp_dir: /kaggle/working/output/exp\n",
      "  cand_unsupervised_dir: /kaggle/working/output/cand_unsupervised\n",
      "  cand_supervised_dir: /kaggle/working/output/cand_supervised\n",
      "exp:\n",
      "  num_candidate: 100\n",
      "  k:\n",
      "  - 1\n",
      "  - 5\n",
      "  - 10\n",
      "  - 50\n",
      "  - 100\n",
      "\n"
     ]
    }
   ],
   "source": [
    "from hydra import compose, initialize\n",
    "from omegaconf import OmegaConf\n",
    "\n",
    "with initialize(\n",
    "    version_base=None, config_path=\"../cand_unsupervised/ranking_location\"\n",
    "):\n",
    "    cfg = compose(config_name=\"config.yaml\")\n",
    "    print(OmegaConf.to_yaml(cfg))"
   ]
  },
  {
   "cell_type": "code",
   "execution_count": 3,
   "id": "a01aff25-cc99-4fa8-a2e0-b54597bef79a",
   "metadata": {},
   "outputs": [],
   "source": [
    "from pathlib import Path\n",
    "import polars as pl"
   ]
  },
  {
   "cell_type": "code",
   "execution_count": 4,
   "id": "c4e91ab4-5b4a-4a6f-b4a7-b330b81ce795",
   "metadata": {},
   "outputs": [],
   "source": [
    "import utils\n",
    "from utils.load import load_label_data, load_log_data, load_yad_data\n",
    "from utils.metrics import calculate_metrics"
   ]
  },
  {
   "cell_type": "code",
   "execution_count": 11,
   "id": "7cbfe8b2-3f28-46aa-a7e7-07629c6b0cf3",
   "metadata": {},
   "outputs": [
    {
     "name": "stdout",
     "output_type": "stream",
     "text": [
      "[load data] done in 0.1 s\n"
     ]
    }
   ],
   "source": [
    "with utils.timer(\"load data\"):\n",
    "    train_log_df = load_log_data(Path(cfg.dir.data_dir), \"train\")\n",
    "    test_log_df = load_log_data(Path(cfg.dir.data_dir), \"test\")\n",
    "    all_log_df = pl.concat([train_log_df, test_log_df])\n",
    "    yad_df = load_yad_data(Path(cfg.dir.data_dir))"
   ]
  },
  {
   "cell_type": "code",
   "execution_count": 21,
   "id": "21af8316-64dd-4e11-9985-90542ff1dda9",
   "metadata": {},
   "outputs": [
    {
     "data": {
      "text/html": [
       "<div><style>\n",
       ".dataframe > thead > tr,\n",
       ".dataframe > tbody > tr {\n",
       "  text-align: right;\n",
       "  white-space: pre-wrap;\n",
       "}\n",
       "</style>\n",
       "<small>shape: (5, 3)</small><table border=\"1\" class=\"dataframe\"><thead><tr><th>row_nr</th><th>yad_no</th><th>counts</th></tr><tr><td>u32</td><td>i64</td><td>u32</td></tr></thead><tbody><tr><td>0</td><td>12350</td><td>1606</td></tr><tr><td>1</td><td>719</td><td>1520</td></tr><tr><td>2</td><td>3338</td><td>1492</td></tr><tr><td>3</td><td>13468</td><td>1373</td></tr><tr><td>4</td><td>10095</td><td>1313</td></tr></tbody></table></div>"
      ],
      "text/plain": [
       "shape: (5, 3)\n",
       "┌────────┬────────┬────────┐\n",
       "│ row_nr ┆ yad_no ┆ counts │\n",
       "│ ---    ┆ ---    ┆ ---    │\n",
       "│ u32    ┆ i64    ┆ u32    │\n",
       "╞════════╪════════╪════════╡\n",
       "│ 0      ┆ 12350  ┆ 1606   │\n",
       "│ 1      ┆ 719    ┆ 1520   │\n",
       "│ 2      ┆ 3338   ┆ 1492   │\n",
       "│ 3      ┆ 13468  ┆ 1373   │\n",
       "│ 4      ┆ 10095  ┆ 1313   │\n",
       "└────────┴────────┴────────┘"
      ]
     },
     "execution_count": 21,
     "metadata": {},
     "output_type": "execute_result"
    }
   ],
   "source": [
    "count_df = (\n",
    "    all_log_df.get_column(\"yad_no\").value_counts().sort(by=\"counts\", descending=True)\n",
    ")\n",
    "count_df.head()"
   ]
  },
  {
   "cell_type": "code",
   "execution_count": 28,
   "id": "a3e6b5ad-8e3f-441b-b819-0ad26e7c4d7c",
   "metadata": {},
   "outputs": [
    {
     "data": {
      "text/html": [
       "<div><style>\n",
       ".dataframe > thead > tr,\n",
       ".dataframe > tbody > tr {\n",
       "  text-align: right;\n",
       "  white-space: pre-wrap;\n",
       "}\n",
       "</style>\n",
       "<small>shape: (5, 4)</small><table border=\"1\" class=\"dataframe\"><thead><tr><th>sml_cd</th><th>yad_no</th><th>rank</th><th>count</th></tr><tr><td>str</td><td>list[i64]</td><td>list[f64]</td><td>u32</td></tr></thead><tbody><tr><td>&quot;30e4ee82595c5d…</td><td>[3755, 8196, … 5501]</td><td>[1.0, 2.0, … 21.0]</td><td>21</td></tr><tr><td>&quot;bc6e513c8af97d…</td><td>[10423, 5971, … 6866]</td><td>[1.0, 2.0, … 7.0]</td><td>7</td></tr><tr><td>&quot;1295c124f6d67c…</td><td>[6403, 8496, … 12258]</td><td>[1.0, 2.0, … 23.5]</td><td>24</td></tr><tr><td>&quot;2170b4597e80dd…</td><td>[8349, 6882, … 6085]</td><td>[1.0, 2.0, … 24.5]</td><td>25</td></tr><tr><td>&quot;427031a26de29b…</td><td>[5403, 11473, … 9950]</td><td>[1.0, 2.0, … 8.0]</td><td>8</td></tr></tbody></table></div>"
      ],
      "text/plain": [
       "shape: (5, 4)\n",
       "┌──────────────────────────────────┬───────────────────────┬────────────────────┬───────┐\n",
       "│ sml_cd                           ┆ yad_no                ┆ rank               ┆ count │\n",
       "│ ---                              ┆ ---                   ┆ ---                ┆ ---   │\n",
       "│ str                              ┆ list[i64]             ┆ list[f64]          ┆ u32   │\n",
       "╞══════════════════════════════════╪═══════════════════════╪════════════════════╪═══════╡\n",
       "│ 30e4ee82595c5d3fe2a691efaf23e1e3 ┆ [3755, 8196, … 5501]  ┆ [1.0, 2.0, … 21.0] ┆ 21    │\n",
       "│ bc6e513c8af97dc00f4d322fe91c9f48 ┆ [10423, 5971, … 6866] ┆ [1.0, 2.0, … 7.0]  ┆ 7     │\n",
       "│ 1295c124f6d67cee8d621b2c2b735a04 ┆ [6403, 8496, … 12258] ┆ [1.0, 2.0, … 23.5] ┆ 24    │\n",
       "│ 2170b4597e80ddb81ea899d34b990a7c ┆ [8349, 6882, … 6085]  ┆ [1.0, 2.0, … 24.5] ┆ 25    │\n",
       "│ 427031a26de29b90672993f6258c86a4 ┆ [5403, 11473, … 9950] ┆ [1.0, 2.0, … 8.0]  ┆ 8     │\n",
       "└──────────────────────────────────┴───────────────────────┴────────────────────┴───────┘"
      ]
     },
     "execution_count": 28,
     "metadata": {},
     "output_type": "execute_result"
    }
   ],
   "source": [
    "# wid_cd\tken_cd\tlrg_cd\tsml_cd\n",
    "\n",
    "location_col = \"sml_cd\"\n",
    "\n",
    "yad_counts_df = yad_df.join(count_df, on=\"yad_no\").with_columns(\n",
    "    pl.col(\"counts\").rank(descending=True).over(location_col).alias(\"rank\")\n",
    ")\n",
    "location_candidates_df = (\n",
    "    yad_counts_df.sort(by=\"counts\", descending=True)\n",
    "    .group_by(location_col)\n",
    "    .agg([pl.col(\"yad_no\"), pl.col(\"rank\"), pl.col(\"yad_no\").count().alias(\"count\")])\n",
    ")\n",
    "location_candidates_df.head()"
   ]
  },
  {
   "cell_type": "code",
   "execution_count": 26,
   "id": "56380dee-70cf-4702-87b4-60dcf0b6d7a4",
   "metadata": {},
   "outputs": [
    {
     "data": {
      "text/html": [
       "<div><style>\n",
       ".dataframe > thead > tr,\n",
       ".dataframe > tbody > tr {\n",
       "  text-align: right;\n",
       "  white-space: pre-wrap;\n",
       "}\n",
       "</style>\n",
       "<small>shape: (5, 16)</small><table border=\"1\" class=\"dataframe\"><thead><tr><th>yad_no</th><th>yad_type</th><th>total_room_cnt</th><th>wireless_lan_flg</th><th>onsen_flg</th><th>kd_stn_5min</th><th>kd_bch_5min</th><th>kd_slp_5min</th><th>kd_conv_walk_5min</th><th>wid_cd</th><th>ken_cd</th><th>lrg_cd</th><th>sml_cd</th><th>row_nr</th><th>counts</th><th>rank</th></tr><tr><td>i64</td><td>i64</td><td>f64</td><td>f64</td><td>i64</td><td>f64</td><td>f64</td><td>f64</td><td>f64</td><td>str</td><td>str</td><td>str</td><td>str</td><td>u32</td><td>u32</td><td>f64</td></tr></thead><tbody><tr><td>1</td><td>0</td><td>129.0</td><td>1.0</td><td>0</td><td>1.0</td><td>null</td><td>null</td><td>1.0</td><td>&quot;f0112abf369fb0…</td><td>&quot;072c85e1653e10…</td><td>&quot;449c52ef581d5f…</td><td>&quot;677a32689cd1ad…</td><td>6310</td><td>30</td><td>44.0</td></tr><tr><td>2</td><td>0</td><td>23.0</td><td>1.0</td><td>0</td><td>null</td><td>null</td><td>null</td><td>null</td><td>&quot;d86102dd9c232b…</td><td>&quot;b4d2fb4e51ea7b…</td><td>&quot;5c9a8f48e9df02…</td><td>&quot;4ee16ee838dd27…</td><td>6405</td><td>29</td><td>29.0</td></tr><tr><td>3</td><td>0</td><td>167.0</td><td>1.0</td><td>1</td><td>1.0</td><td>null</td><td>null</td><td>1.0</td><td>&quot;46e33861f921c3…</td><td>&quot;572d60f0f5212a…</td><td>&quot;8a623b960557e8…</td><td>&quot;ab9480fd72a44d…</td><td>369</td><td>210</td><td>1.0</td></tr><tr><td>4</td><td>0</td><td>144.0</td><td>1.0</td><td>0</td><td>1.0</td><td>null</td><td>null</td><td>1.0</td><td>&quot;46e33861f921c3…</td><td>&quot;107c7305a74c8d…</td><td>&quot;52c9ea83f2cfe9…</td><td>&quot;1cc3e1838bb0fd…</td><td>3268</td><td>67</td><td>7.0</td></tr><tr><td>5</td><td>0</td><td>41.0</td><td>1.0</td><td>1</td><td>null</td><td>null</td><td>null</td><td>null</td><td>&quot;43875109d1dab9…</td><td>&quot;75617bb07a2785…</td><td>&quot;9ea5a911019b66…</td><td>&quot;be1b876af18afc…</td><td>6277</td><td>30</td><td>6.0</td></tr></tbody></table></div>"
      ],
      "text/plain": [
       "shape: (5, 16)\n",
       "┌────────┬──────────┬────────────────┬────────────────┬───┬───────────────┬────────┬────────┬──────┐\n",
       "│ yad_no ┆ yad_type ┆ total_room_cnt ┆ wireless_lan_f ┆ … ┆ sml_cd        ┆ row_nr ┆ counts ┆ rank │\n",
       "│ ---    ┆ ---      ┆ ---            ┆ lg             ┆   ┆ ---           ┆ ---    ┆ ---    ┆ ---  │\n",
       "│ i64    ┆ i64      ┆ f64            ┆ ---            ┆   ┆ str           ┆ u32    ┆ u32    ┆ f64  │\n",
       "│        ┆          ┆                ┆ f64            ┆   ┆               ┆        ┆        ┆      │\n",
       "╞════════╪══════════╪════════════════╪════════════════╪═══╪═══════════════╪════════╪════════╪══════╡\n",
       "│ 1      ┆ 0        ┆ 129.0          ┆ 1.0            ┆ … ┆ 677a32689cd1a ┆ 6310   ┆ 30     ┆ 44.0 │\n",
       "│        ┆          ┆                ┆                ┆   ┆ d74e867f1fbe4 ┆        ┆        ┆      │\n",
       "│        ┆          ┆                ┆                ┆   ┆ 3a3e1c        ┆        ┆        ┆      │\n",
       "│ 2      ┆ 0        ┆ 23.0           ┆ 1.0            ┆ … ┆ 4ee16ee838dd2 ┆ 6405   ┆ 29     ┆ 29.0 │\n",
       "│        ┆          ┆                ┆                ┆   ┆ 703cc9a1d5a53 ┆        ┆        ┆      │\n",
       "│        ┆          ┆                ┆                ┆   ┆ 5f0ced        ┆        ┆        ┆      │\n",
       "│ 3      ┆ 0        ┆ 167.0          ┆ 1.0            ┆ … ┆ ab9480fd72a44 ┆ 369    ┆ 210    ┆ 1.0  │\n",
       "│        ┆          ┆                ┆                ┆   ┆ d51690ab16c4a ┆        ┆        ┆      │\n",
       "│        ┆          ┆                ┆                ┆   ┆ d4d49c        ┆        ┆        ┆      │\n",
       "│ 4      ┆ 0        ┆ 144.0          ┆ 1.0            ┆ … ┆ 1cc3e1838bb0f ┆ 3268   ┆ 67     ┆ 7.0  │\n",
       "│        ┆          ┆                ┆                ┆   ┆ d0fde0396130b ┆        ┆        ┆      │\n",
       "│        ┆          ┆                ┆                ┆   ┆ 1f82b9        ┆        ┆        ┆      │\n",
       "│ 5      ┆ 0        ┆ 41.0           ┆ 1.0            ┆ … ┆ be1b876af18af ┆ 6277   ┆ 30     ┆ 6.0  │\n",
       "│        ┆          ┆                ┆                ┆   ┆ c4deeb3081591 ┆        ┆        ┆      │\n",
       "│        ┆          ┆                ┆                ┆   ┆ d2a910        ┆        ┆        ┆      │\n",
       "└────────┴──────────┴────────────────┴────────────────┴───┴───────────────┴────────┴────────┴──────┘"
      ]
     },
     "execution_count": 26,
     "metadata": {},
     "output_type": "execute_result"
    }
   ],
   "source": [
    "yad_counts_df.head()"
   ]
  },
  {
   "cell_type": "code",
   "execution_count": null,
   "id": "173c8401-e608-4887-8039-9aa560e121d3",
   "metadata": {},
   "outputs": [],
   "source": []
  }
 ],
 "metadata": {
  "kernelspec": {
   "display_name": "Python 3 (ipykernel)",
   "language": "python",
   "name": "python3"
  },
  "language_info": {
   "codemirror_mode": {
    "name": "ipython",
    "version": 3
   },
   "file_extension": ".py",
   "mimetype": "text/x-python",
   "name": "python",
   "nbconvert_exporter": "python",
   "pygments_lexer": "ipython3",
   "version": "3.10.12"
  }
 },
 "nbformat": 4,
 "nbformat_minor": 5
}
