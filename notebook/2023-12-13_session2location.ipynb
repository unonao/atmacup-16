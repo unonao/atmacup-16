{
 "cells": [
  {
   "cell_type": "code",
   "execution_count": 1,
   "id": "b5ef9028-439b-4fbd-bf8c-fd00dbd53794",
   "metadata": {},
   "outputs": [
    {
     "name": "stdout",
     "output_type": "stream",
     "text": [
      "/kaggle/working\n"
     ]
    }
   ],
   "source": [
    "%cd .."
   ]
  },
  {
   "cell_type": "code",
   "execution_count": 2,
   "id": "43c06db5-2490-46de-9854-2916670880bf",
   "metadata": {},
   "outputs": [
    {
     "name": "stdout",
     "output_type": "stream",
     "text": [
      "debug: false\n",
      "seed: 7\n",
      "dir:\n",
      "  data_dir: /kaggle/working/input/atmaCup16_Dataset\n",
      "  output_dir: /kaggle/working/output\n",
      "  exp_dir: /kaggle/working/output/exp\n",
      "  cand_unsupervised_dir: /kaggle/working/output/cand_unsupervised\n",
      "  cand_supervised_dir: /kaggle/working/output/cand_supervised\n",
      "  datasets_dir: /kaggle/working/output/datasets\n",
      "exp:\n",
      "  num_candidate: 10\n",
      "  k:\n",
      "  - 1\n",
      "  - 5\n",
      "  - 10\n",
      "  location: sml_cd\n",
      "  implicit:\n",
      "    model: bpr\n",
      "    params:\n",
      "      factors: 16\n",
      "      learning_rate: 0.01\n",
      "      regularization: 0.01\n",
      "      iterations: 100\n",
      "      verify_negative_samples: true\n",
      "      random_state: ${seed}\n",
      "      num_threads: 0\n",
      "\n"
     ]
    }
   ],
   "source": [
    "from hydra import compose, initialize\n",
    "from omegaconf import OmegaConf\n",
    "\n",
    "with initialize(\n",
    "    version_base=None, config_path=\"../cand_unsupervised/feat_session2location\"\n",
    "):\n",
    "    cfg = compose(config_name=\"config.yaml\", overrides=[\"exp=bpr_sml\"])\n",
    "    print(OmegaConf.to_yaml(cfg))"
   ]
  },
  {
   "cell_type": "code",
   "execution_count": 3,
   "id": "d24e59f0-de31-4747-a19f-a85d8ffff0d7",
   "metadata": {},
   "outputs": [],
   "source": [
    "import os\n",
    "import sys\n",
    "from pathlib import Path\n",
    "\n",
    "import hydra\n",
    "import implicit\n",
    "import numpy as np\n",
    "import polars as pl\n",
    "import scipy.sparse as sparse\n",
    "from hydra.core.hydra_config import HydraConfig\n",
    "from omegaconf import DictConfig, OmegaConf\n",
    "\n",
    "import utils\n",
    "from utils.load import load_label_data, load_log_data, load_session_data, load_yad_data\n",
    "from utils.metrics import calculate_metrics"
   ]
  },
  {
   "cell_type": "code",
   "execution_count": 4,
   "id": "62808d98-9a76-402c-b79a-99d179cf4227",
   "metadata": {},
   "outputs": [],
   "source": [
    "yad_df = load_yad_data(Path(cfg.dir.data_dir))\n",
    "train_log_df = load_log_data(Path(cfg.dir.data_dir), \"train\")\n",
    "test_log_df = load_log_data(Path(cfg.dir.data_dir), \"test\")\n",
    "all_log_df = pl.concat([train_log_df, test_log_df])\n",
    "all_log_df = all_log_df.join(yad_df, on=\"yad_no\", how=\"left\")"
   ]
  },
  {
   "cell_type": "code",
   "execution_count": 23,
   "id": "a45d54cc-56eb-4478-9a65-346970261a0e",
   "metadata": {},
   "outputs": [],
   "source": [
    "all_log_df = all_log_df.with_columns(\n",
    "    # session_id を連番に変換\n",
    "    pl.col(\"session_id\").cast(pl.Categorical).to_physical().alias(\"sid\"),\n",
    "    # location を連番に変換\n",
    "    pl.col(cfg.exp.location)\n",
    "    .cast(pl.Categorical)\n",
    "    .to_physical()\n",
    "    .alias(cfg.exp.location + \"_id\"),\n",
    ")\n",
    "\n",
    "unique_df = all_log_df.unique([\"sid\", \"session_id\"])\n",
    "unique_sids = unique_df[\"sid\"].to_numpy()\n",
    "unique_session_ids = unique_df[\"session_id\"].to_list()\n",
    "\n",
    "unique_df = all_log_df.unique([cfg.exp.location, cfg.exp.location + \"_id\"])\n",
    "unique_location_ids = unique_df[cfg.exp.location + \"_id\"].to_numpy()\n",
    "unique_locations = unique_df[cfg.exp.location].to_list()\n",
    "loc_id2loc = dict(zip(unique_location_ids,unique_locations))"
   ]
  },
  {
   "cell_type": "code",
   "execution_count": 10,
   "id": "23ca4aca-5518-45ca-a8de-300688a3fe47",
   "metadata": {},
   "outputs": [],
   "source": [
    "sparse_item_user = sparse.csr_matrix(\n",
    "    (\n",
    "        np.ones(len(all_log_df)),\n",
    "        (\n",
    "            all_log_df[\"sid\"].to_numpy(),\n",
    "            all_log_df[cfg.exp.location + \"_id\"].to_numpy(),\n",
    "        ),\n",
    "    )\n",
    ")"
   ]
  },
  {
   "cell_type": "code",
   "execution_count": 11,
   "id": "33512df9-7539-4fdc-8387-cec88a83dedc",
   "metadata": {},
   "outputs": [
    {
     "data": {
      "application/vnd.jupyter.widget-view+json": {
       "model_id": "15367cccf5894ec5b51a2f179c2aa16c",
       "version_major": 2,
       "version_minor": 0
      },
      "text/plain": [
       "  0%|          | 0/100 [00:00<?, ?it/s]"
      ]
     },
     "metadata": {},
     "output_type": "display_data"
    }
   ],
   "source": [
    "if cfg.exp.implicit.model == \"bpr\":\n",
    "    from implicit.cpu.bpr import BayesianPersonalizedRanking\n",
    "\n",
    "    model = BayesianPersonalizedRanking(\n",
    "        **OmegaConf.to_container(cfg.exp.implicit.params, resolve=True)\n",
    "    )\n",
    "elif cfg.exp.implicit.model == \"als\":\n",
    "    from implicit.cpu.als import AlternatingLeastSquares\n",
    "\n",
    "    model = AlternatingLeastSquares(\n",
    "        **OmegaConf.to_container(cfg.exp.implicit.params, resolve=True)\n",
    "    )\n",
    "\n",
    "model.fit(sparse_item_user)"
   ]
  },
  {
   "cell_type": "code",
   "execution_count": 12,
   "id": "6b101018-7887-4703-a8d4-de305fdcd2e0",
   "metadata": {},
   "outputs": [
    {
     "name": "stdout",
     "output_type": "stream",
     "text": [
      "shape: (5, 18)\n",
      "┌───────────┬───────────┬───────────┬───────────┬───┬───────────┬───────────┬───────────┬──────────┐\n",
      "│ session_i ┆ session_f ┆ session_f ┆ session_f ┆ … ┆ session_f ┆ session_f ┆ session_f ┆ session_ │\n",
      "│ d         ┆ actor_0   ┆ actor_1   ┆ actor_2   ┆   ┆ actor_13  ┆ actor_14  ┆ actor_15  ┆ factor_1 │\n",
      "│ ---       ┆ ---       ┆ ---       ┆ ---       ┆   ┆ ---       ┆ ---       ┆ ---       ┆ 6        │\n",
      "│ str       ┆ f32       ┆ f32       ┆ f32       ┆   ┆ f32       ┆ f32       ┆ f32       ┆ ---      │\n",
      "│           ┆           ┆           ┆           ┆   ┆           ┆           ┆           ┆ f32      │\n",
      "╞═══════════╪═══════════╪═══════════╪═══════════╪═══╪═══════════╪═══════════╪═══════════╪══════════╡\n",
      "│ 0016277eb ┆ 0.046707  ┆ -0.067843 ┆ -0.125507 ┆ … ┆ 0.057333  ┆ -0.085104 ┆ 0.185233  ┆ 1.0      │\n",
      "│ 9b0e69f7b ┆           ┆           ┆           ┆   ┆           ┆           ┆           ┆          │\n",
      "│ 72aa0c0ff ┆           ┆           ┆           ┆   ┆           ┆           ┆           ┆          │\n",
      "│ dd717     ┆           ┆           ┆           ┆   ┆           ┆           ┆           ┆          │\n",
      "│ 00166c1e0 ┆ -0.009589 ┆ -0.089038 ┆ -0.028001 ┆ … ┆ -0.195054 ┆ 0.099461  ┆ -0.171675 ┆ 1.0      │\n",
      "│ 924746e8f ┆           ┆           ┆           ┆   ┆           ┆           ┆           ┆          │\n",
      "│ d3848bbac ┆           ┆           ┆           ┆   ┆           ┆           ┆           ┆          │\n",
      "│ 4eab4     ┆           ┆           ┆           ┆   ┆           ┆           ┆           ┆          │\n",
      "│ 001e01619 ┆ -0.118606 ┆ -0.186826 ┆ -0.010313 ┆ … ┆ -0.0374   ┆ 0.054797  ┆ 0.10065   ┆ 1.0      │\n",
      "│ 5c0da7083 ┆           ┆           ┆           ┆   ┆           ┆           ┆           ┆          │\n",
      "│ 1739c9ea6 ┆           ┆           ┆           ┆   ┆           ┆           ┆           ┆          │\n",
      "│ ec824     ┆           ┆           ┆           ┆   ┆           ┆           ┆           ┆          │\n",
      "│ 001fbdca2 ┆ -0.056294 ┆ -0.159272 ┆ -0.096843 ┆ … ┆ -0.191381 ┆ 0.041898  ┆ -0.016874 ┆ 1.0      │\n",
      "│ 59bedf20c ┆           ┆           ┆           ┆   ┆           ┆           ┆           ┆          │\n",
      "│ 6780ed593 ┆           ┆           ┆           ┆   ┆           ┆           ┆           ┆          │\n",
      "│ 1aed9     ┆           ┆           ┆           ┆   ┆           ┆           ┆           ┆          │\n",
      "│ 00235b79d ┆ -0.052341 ┆ -0.092681 ┆ 0.039065  ┆ … ┆ -0.02505  ┆ -0.246028 ┆ 0.164202  ┆ 1.0      │\n",
      "│ 0503d43f0 ┆           ┆           ┆           ┆   ┆           ┆           ┆           ┆          │\n",
      "│ 43eaffe67 ┆           ┆           ┆           ┆   ┆           ┆           ┆           ┆          │\n",
      "│ f0356     ┆           ┆           ┆           ┆   ┆           ┆           ┆           ┆          │\n",
      "└───────────┴───────────┴───────────┴───────────┴───┴───────────┴───────────┴───────────┴──────────┘\n",
      "shape: (5, 18)\n",
      "┌───────────┬───────────┬───────────┬───────────┬───┬───────────┬───────────┬───────────┬──────────┐\n",
      "│ sml_cd    ┆ sml_cd_fa ┆ sml_cd_fa ┆ sml_cd_fa ┆ … ┆ sml_cd_fa ┆ sml_cd_fa ┆ sml_cd_fa ┆ sml_cd_f │\n",
      "│ ---       ┆ ctor_0    ┆ ctor_1    ┆ ctor_2    ┆   ┆ ctor_13   ┆ ctor_14   ┆ ctor_15   ┆ actor_16 │\n",
      "│ str       ┆ ---       ┆ ---       ┆ ---       ┆   ┆ ---       ┆ ---       ┆ ---       ┆ ---      │\n",
      "│           ┆ f32       ┆ f32       ┆ f32       ┆   ┆ f32       ┆ f32       ┆ f32       ┆ f32      │\n",
      "╞═══════════╪═══════════╪═══════════╪═══════════╪═══╪═══════════╪═══════════╪═══════════╪══════════╡\n",
      "│ d3d1cf557 ┆ 0.417251  ┆ -0.755479 ┆ 1.379206  ┆ … ┆ 0.604892  ┆ 0.562029  ┆ 0.840558  ┆ -0.04065 │\n",
      "│ f10fadb1f ┆           ┆           ┆           ┆   ┆           ┆           ┆           ┆ 1        │\n",
      "│ bc0b429bf ┆           ┆           ┆           ┆   ┆           ┆           ┆           ┆          │\n",
      "│ 14578     ┆           ┆           ┆           ┆   ┆           ┆           ┆           ┆          │\n",
      "│ 2dfac18c3 ┆ -0.528982 ┆ 1.139994  ┆ -0.265274 ┆ … ┆ 0.989602  ┆ 1.419408  ┆ -1.35939  ┆ 0.287708 │\n",
      "│ e1cecf9c3 ┆           ┆           ┆           ┆   ┆           ┆           ┆           ┆          │\n",
      "│ b0b90b5ca ┆           ┆           ┆           ┆   ┆           ┆           ┆           ┆          │\n",
      "│ a3437     ┆           ┆           ┆           ┆   ┆           ┆           ┆           ┆          │\n",
      "│ 7a8f68d96 ┆ 0.025293  ┆ -0.026658 ┆ 0.427982  ┆ … ┆ 0.86368   ┆ 1.665321  ┆ -1.453052 ┆ 0.11295  │\n",
      "│ 3a8352ecd ┆           ┆           ┆           ┆   ┆           ┆           ┆           ┆          │\n",
      "│ aaf409045 ┆           ┆           ┆           ┆   ┆           ┆           ┆           ┆          │\n",
      "│ 8f580     ┆           ┆           ┆           ┆   ┆           ┆           ┆           ┆          │\n",
      "│ 4e1d384ad ┆ 0.37219   ┆ 0.031076  ┆ -0.83571  ┆ … ┆ -0.827136 ┆ 0.764274  ┆ 0.879138  ┆ 0.164297 │\n",
      "│ 60758db28 ┆           ┆           ┆           ┆   ┆           ┆           ┆           ┆          │\n",
      "│ f12dc7b70 ┆           ┆           ┆           ┆   ┆           ┆           ┆           ┆          │\n",
      "│ 4cb27     ┆           ┆           ┆           ┆   ┆           ┆           ┆           ┆          │\n",
      "│ 3cc73481c ┆ -0.200871 ┆ -0.546586 ┆ -1.128069 ┆ … ┆ -1.46132  ┆ 0.962496  ┆ 0.828345  ┆ 0.135102 │\n",
      "│ b4b3f8638 ┆           ┆           ┆           ┆   ┆           ┆           ┆           ┆          │\n",
      "│ a12a693ad ┆           ┆           ┆           ┆   ┆           ┆           ┆           ┆          │\n",
      "│ 6c7ed     ┆           ┆           ┆           ┆   ┆           ┆           ┆           ┆          │\n",
      "└───────────┴───────────┴───────────┴───────────┴───┴───────────┴───────────┴───────────┴──────────┘\n"
     ]
    }
   ],
   "source": [
    "session_ids = unique_session_ids\n",
    "session_vectors = model.user_factors[unique_sids]\n",
    "session_factor_df = pl.DataFrame({\"session_id\": session_ids}).with_columns(\n",
    "    pl.Series(name=f\"session_factor_{i}\", values=session_vectors[:, i])\n",
    "    for i in range(session_vectors.shape[1])\n",
    ")\n",
    "print(session_factor_df.head())\n",
    "\n",
    "locations = unique_locations\n",
    "location_vectors = model.item_factors[unique_location_ids]\n",
    "location_factor_df = pl.DataFrame({cfg.exp.location: locations}).with_columns(\n",
    "    pl.Series(name=f\"{cfg.exp.location}_factor_{i}\", values=location_vectors[:, i])\n",
    "    for i in range(location_vectors.shape[1])\n",
    ")\n",
    "print(location_factor_df.head())"
   ]
  },
  {
   "cell_type": "code",
   "execution_count": 13,
   "id": "f947e099-ae57-4e99-9e14-d6bc261870a1",
   "metadata": {},
   "outputs": [],
   "source": [
    "train_session_df = load_session_data(Path(cfg.dir.data_dir), \"train\")\n",
    "test_session_df = load_session_data(Path(cfg.dir.data_dir), \"test\")"
   ]
  },
  {
   "cell_type": "code",
   "execution_count": 16,
   "id": "6d964107-2ff0-4ff5-9397-9d94638fcd70",
   "metadata": {},
   "outputs": [
    {
     "data": {
      "text/plain": [
       "array([    92,     94,    148, ..., 463384, 463391, 463393], dtype=uint32)"
      ]
     },
     "execution_count": 16,
     "metadata": {},
     "output_type": "execute_result"
    }
   ],
   "source": [
    "unique_sids"
   ]
  },
  {
   "cell_type": "code",
   "execution_count": 25,
   "id": "eccacfbc-5601-481b-8b9c-1bd2b6b24225",
   "metadata": {},
   "outputs": [
    {
     "name": "stdout",
     "output_type": "stream",
     "text": [
      "[[ 10 413 442 334 518 390 337 456 522 350]\n",
      " [ 84  75 163 181 411 166 106 268 132 294]]\n"
     ]
    }
   ],
   "source": [
    "\n",
    "# 少し時間がかかる\n",
    "candidates, scores = model.recommend(\n",
    "    unique_sids[[0,1]],\n",
    "    sparse_item_user[unique_sids[[0,1]]],\n",
    "    N=cfg.exp.num_candidate,\n",
    "    filter_already_liked_items=False,\n",
    ")\n",
    "print(candidates)"
   ]
  },
  {
   "cell_type": "code",
   "execution_count": 26,
   "id": "c34438ce-3120-48ac-a088-10dbbcff5815",
   "metadata": {},
   "outputs": [
    {
     "data": {
      "text/plain": [
       "array([    10,    116,    124, ..., 463065, 463181, 463360], dtype=uint32)"
      ]
     },
     "execution_count": 26,
     "metadata": {},
     "output_type": "execute_result"
    }
   ],
   "source": [
    "unique_sids"
   ]
  },
  {
   "cell_type": "code",
   "execution_count": 29,
   "id": "88b6b73a-8fee-4558-b66a-ca2288641e0f",
   "metadata": {},
   "outputs": [
    {
     "data": {
      "text/html": [
       "<div><style>\n",
       ".dataframe > thead > tr > th,\n",
       ".dataframe > tbody > tr > td {\n",
       "  text-align: right;\n",
       "  white-space: pre-wrap;\n",
       "}\n",
       "</style>\n",
       "<small>shape: (3_425, 17)</small><table border=\"1\" class=\"dataframe\"><thead><tr><th>session_id</th><th>seq_no</th><th>yad_no</th><th>yad_type</th><th>total_room_cnt</th><th>wireless_lan_flg</th><th>onsen_flg</th><th>kd_stn_5min</th><th>kd_bch_5min</th><th>kd_slp_5min</th><th>kd_conv_walk_5min</th><th>wid_cd</th><th>ken_cd</th><th>lrg_cd</th><th>sml_cd</th><th>sid</th><th>sml_cd_id</th></tr><tr><td>str</td><td>i64</td><td>i64</td><td>i64</td><td>f64</td><td>f64</td><td>i64</td><td>f64</td><td>f64</td><td>f64</td><td>f64</td><td>str</td><td>str</td><td>str</td><td>str</td><td>u32</td><td>u32</td></tr></thead><tbody><tr><td>&quot;0002499cf2713a…</td><td>0</td><td>2043</td><td>0</td><td>143.0</td><td>1.0</td><td>0</td><td>1.0</td><td>null</td><td>null</td><td>1.0</td><td>&quot;dc414a17890cfc…</td><td>&quot;223938a74a6099…</td><td>&quot;63083678169ddd…</td><td>&quot;33bfe292401fc7…</td><td>10</td><td>10</td></tr><tr><td>&quot;00063c614aca49…</td><td>0</td><td>5583</td><td>0</td><td>55.0</td><td>null</td><td>1</td><td>null</td><td>null</td><td>null</td><td>null</td><td>&quot;dc414a17890cfc…</td><td>&quot;223938a74a6099…</td><td>&quot;63083678169ddd…</td><td>&quot;33bfe292401fc7…</td><td>28</td><td>10</td></tr><tr><td>&quot;00063c614aca49…</td><td>1</td><td>6001</td><td>0</td><td>null</td><td>1.0</td><td>1</td><td>null</td><td>null</td><td>null</td><td>1.0</td><td>&quot;dc414a17890cfc…</td><td>&quot;223938a74a6099…</td><td>&quot;63083678169ddd…</td><td>&quot;33bfe292401fc7…</td><td>28</td><td>10</td></tr><tr><td>&quot;000ded3703abf4…</td><td>0</td><td>966</td><td>0</td><td>78.0</td><td>1.0</td><td>0</td><td>1.0</td><td>null</td><td>null</td><td>1.0</td><td>&quot;dc414a17890cfc…</td><td>&quot;223938a74a6099…</td><td>&quot;63083678169ddd…</td><td>&quot;33bfe292401fc7…</td><td>62</td><td>10</td></tr><tr><td>&quot;000ded3703abf4…</td><td>1</td><td>10293</td><td>0</td><td>86.0</td><td>1.0</td><td>0</td><td>1.0</td><td>null</td><td>null</td><td>1.0</td><td>&quot;dc414a17890cfc…</td><td>&quot;223938a74a6099…</td><td>&quot;63083678169ddd…</td><td>&quot;33bfe292401fc7…</td><td>62</td><td>10</td></tr><tr><td>&quot;000ded3703abf4…</td><td>2</td><td>966</td><td>0</td><td>78.0</td><td>1.0</td><td>0</td><td>1.0</td><td>null</td><td>null</td><td>1.0</td><td>&quot;dc414a17890cfc…</td><td>&quot;223938a74a6099…</td><td>&quot;63083678169ddd…</td><td>&quot;33bfe292401fc7…</td><td>62</td><td>10</td></tr><tr><td>&quot;003504344b08e4…</td><td>0</td><td>3783</td><td>0</td><td>65.0</td><td>null</td><td>0</td><td>null</td><td>null</td><td>null</td><td>1.0</td><td>&quot;dc414a17890cfc…</td><td>&quot;223938a74a6099…</td><td>&quot;63083678169ddd…</td><td>&quot;33bfe292401fc7…</td><td>258</td><td>10</td></tr><tr><td>&quot;004eb4cdd8e765…</td><td>0</td><td>3042</td><td>0</td><td>74.0</td><td>1.0</td><td>0</td><td>1.0</td><td>null</td><td>null</td><td>1.0</td><td>&quot;dc414a17890cfc…</td><td>&quot;223938a74a6099…</td><td>&quot;63083678169ddd…</td><td>&quot;33bfe292401fc7…</td><td>382</td><td>10</td></tr><tr><td>&quot;004eb4cdd8e765…</td><td>1</td><td>10417</td><td>0</td><td>104.0</td><td>1.0</td><td>0</td><td>1.0</td><td>null</td><td>null</td><td>1.0</td><td>&quot;dc414a17890cfc…</td><td>&quot;223938a74a6099…</td><td>&quot;63083678169ddd…</td><td>&quot;33bfe292401fc7…</td><td>382</td><td>10</td></tr><tr><td>&quot;008aaae5680075…</td><td>0</td><td>6134</td><td>0</td><td>108.0</td><td>1.0</td><td>0</td><td>null</td><td>null</td><td>null</td><td>1.0</td><td>&quot;dc414a17890cfc…</td><td>&quot;223938a74a6099…</td><td>&quot;63083678169ddd…</td><td>&quot;33bfe292401fc7…</td><td>657</td><td>10</td></tr><tr><td>&quot;008aaae5680075…</td><td>1</td><td>10750</td><td>0</td><td>100.0</td><td>1.0</td><td>0</td><td>1.0</td><td>null</td><td>null</td><td>1.0</td><td>&quot;dc414a17890cfc…</td><td>&quot;223938a74a6099…</td><td>&quot;63083678169ddd…</td><td>&quot;33bfe292401fc7…</td><td>657</td><td>10</td></tr><tr><td>&quot;00d79568951549…</td><td>0</td><td>2043</td><td>0</td><td>143.0</td><td>1.0</td><td>0</td><td>1.0</td><td>null</td><td>null</td><td>1.0</td><td>&quot;dc414a17890cfc…</td><td>&quot;223938a74a6099…</td><td>&quot;63083678169ddd…</td><td>&quot;33bfe292401fc7…</td><td>992</td><td>10</td></tr><tr><td>&hellip;</td><td>&hellip;</td><td>&hellip;</td><td>&hellip;</td><td>&hellip;</td><td>&hellip;</td><td>&hellip;</td><td>&hellip;</td><td>&hellip;</td><td>&hellip;</td><td>&hellip;</td><td>&hellip;</td><td>&hellip;</td><td>&hellip;</td><td>&hellip;</td><td>&hellip;</td><td>&hellip;</td></tr><tr><td>&quot;fd1a7a845b09a0…</td><td>2</td><td>12961</td><td>0</td><td>176.0</td><td>1.0</td><td>1</td><td>null</td><td>null</td><td>null</td><td>null</td><td>&quot;dc414a17890cfc…</td><td>&quot;223938a74a6099…</td><td>&quot;63083678169ddd…</td><td>&quot;33bfe292401fc7…</td><td>461396</td><td>10</td></tr><tr><td>&quot;fdaaa0e2a13e80…</td><td>0</td><td>10293</td><td>0</td><td>86.0</td><td>1.0</td><td>0</td><td>1.0</td><td>null</td><td>null</td><td>1.0</td><td>&quot;dc414a17890cfc…</td><td>&quot;223938a74a6099…</td><td>&quot;63083678169ddd…</td><td>&quot;33bfe292401fc7…</td><td>461774</td><td>10</td></tr><tr><td>&quot;fdaaa0e2a13e80…</td><td>1</td><td>3783</td><td>0</td><td>65.0</td><td>null</td><td>0</td><td>null</td><td>null</td><td>null</td><td>1.0</td><td>&quot;dc414a17890cfc…</td><td>&quot;223938a74a6099…</td><td>&quot;63083678169ddd…</td><td>&quot;33bfe292401fc7…</td><td>461774</td><td>10</td></tr><tr><td>&quot;fdbcdac9d4bd61…</td><td>0</td><td>10495</td><td>0</td><td>73.0</td><td>1.0</td><td>0</td><td>1.0</td><td>null</td><td>null</td><td>1.0</td><td>&quot;dc414a17890cfc…</td><td>&quot;223938a74a6099…</td><td>&quot;63083678169ddd…</td><td>&quot;33bfe292401fc7…</td><td>461833</td><td>10</td></tr><tr><td>&quot;fdd337a33e7075…</td><td>0</td><td>4508</td><td>0</td><td>55.0</td><td>1.0</td><td>0</td><td>1.0</td><td>null</td><td>null</td><td>null</td><td>&quot;dc414a17890cfc…</td><td>&quot;223938a74a6099…</td><td>&quot;63083678169ddd…</td><td>&quot;33bfe292401fc7…</td><td>461904</td><td>10</td></tr><tr><td>&quot;fddb78c22381e8…</td><td>0</td><td>9359</td><td>0</td><td>97.0</td><td>1.0</td><td>0</td><td>1.0</td><td>null</td><td>null</td><td>1.0</td><td>&quot;dc414a17890cfc…</td><td>&quot;223938a74a6099…</td><td>&quot;63083678169ddd…</td><td>&quot;33bfe292401fc7…</td><td>461924</td><td>10</td></tr><tr><td>&quot;fe51b19ffc9d67…</td><td>0</td><td>10293</td><td>0</td><td>86.0</td><td>1.0</td><td>0</td><td>1.0</td><td>null</td><td>null</td><td>1.0</td><td>&quot;dc414a17890cfc…</td><td>&quot;223938a74a6099…</td><td>&quot;63083678169ddd…</td><td>&quot;33bfe292401fc7…</td><td>462254</td><td>10</td></tr><tr><td>&quot;fe891e5d295e2b…</td><td>0</td><td>3697</td><td>0</td><td>null</td><td>null</td><td>1</td><td>null</td><td>null</td><td>null</td><td>null</td><td>&quot;dc414a17890cfc…</td><td>&quot;223938a74a6099…</td><td>&quot;63083678169ddd…</td><td>&quot;33bfe292401fc7…</td><td>462401</td><td>10</td></tr><tr><td>&quot;fedb35acf16622…</td><td>0</td><td>10893</td><td>0</td><td>95.0</td><td>1.0</td><td>1</td><td>null</td><td>null</td><td>null</td><td>null</td><td>&quot;dc414a17890cfc…</td><td>&quot;223938a74a6099…</td><td>&quot;63083678169ddd…</td><td>&quot;33bfe292401fc7…</td><td>462605</td><td>10</td></tr><tr><td>&quot;fedb35acf16622…</td><td>1</td><td>12961</td><td>0</td><td>176.0</td><td>1.0</td><td>1</td><td>null</td><td>null</td><td>null</td><td>null</td><td>&quot;dc414a17890cfc…</td><td>&quot;223938a74a6099…</td><td>&quot;63083678169ddd…</td><td>&quot;33bfe292401fc7…</td><td>462605</td><td>10</td></tr><tr><td>&quot;fef023b79b0dc6…</td><td>0</td><td>12961</td><td>0</td><td>176.0</td><td>1.0</td><td>1</td><td>null</td><td>null</td><td>null</td><td>null</td><td>&quot;dc414a17890cfc…</td><td>&quot;223938a74a6099…</td><td>&quot;63083678169ddd…</td><td>&quot;33bfe292401fc7…</td><td>462667</td><td>10</td></tr><tr><td>&quot;ffb9a0dcb0fced…</td><td>0</td><td>6134</td><td>0</td><td>108.0</td><td>1.0</td><td>0</td><td>null</td><td>null</td><td>null</td><td>1.0</td><td>&quot;dc414a17890cfc…</td><td>&quot;223938a74a6099…</td><td>&quot;63083678169ddd…</td><td>&quot;33bfe292401fc7…</td><td>463203</td><td>10</td></tr></tbody></table></div>"
      ],
      "text/plain": [
       "shape: (3_425, 17)\n",
       "┌──────────────┬────────┬────────┬──────────┬───┬──────────────┬──────────────┬────────┬───────────┐\n",
       "│ session_id   ┆ seq_no ┆ yad_no ┆ yad_type ┆ … ┆ lrg_cd       ┆ sml_cd       ┆ sid    ┆ sml_cd_id │\n",
       "│ ---          ┆ ---    ┆ ---    ┆ ---      ┆   ┆ ---          ┆ ---          ┆ ---    ┆ ---       │\n",
       "│ str          ┆ i64    ┆ i64    ┆ i64      ┆   ┆ str          ┆ str          ┆ u32    ┆ u32       │\n",
       "╞══════════════╪════════╪════════╪══════════╪═══╪══════════════╪══════════════╪════════╪═══════════╡\n",
       "│ 0002499cf271 ┆ 0      ┆ 2043   ┆ 0        ┆ … ┆ 63083678169d ┆ 33bfe292401f ┆ 10     ┆ 10        │\n",
       "│ 3aaf738f3437 ┆        ┆        ┆          ┆   ┆ ddaf76ddb92c ┆ c7f99b8b9831 ┆        ┆           │\n",
       "│ aa7f598f     ┆        ┆        ┆          ┆   ┆ 6c6fdf65     ┆ a71f61ee     ┆        ┆           │\n",
       "│ 00063c614aca ┆ 0      ┆ 5583   ┆ 0        ┆ … ┆ 63083678169d ┆ 33bfe292401f ┆ 28     ┆ 10        │\n",
       "│ 4920b965558f ┆        ┆        ┆          ┆   ┆ ddaf76ddb92c ┆ c7f99b8b9831 ┆        ┆           │\n",
       "│ f79dd6c8     ┆        ┆        ┆          ┆   ┆ 6c6fdf65     ┆ a71f61ee     ┆        ┆           │\n",
       "│ 00063c614aca ┆ 1      ┆ 6001   ┆ 0        ┆ … ┆ 63083678169d ┆ 33bfe292401f ┆ 28     ┆ 10        │\n",
       "│ 4920b965558f ┆        ┆        ┆          ┆   ┆ ddaf76ddb92c ┆ c7f99b8b9831 ┆        ┆           │\n",
       "│ f79dd6c8     ┆        ┆        ┆          ┆   ┆ 6c6fdf65     ┆ a71f61ee     ┆        ┆           │\n",
       "│ 000ded3703ab ┆ 0      ┆ 966    ┆ 0        ┆ … ┆ 63083678169d ┆ 33bfe292401f ┆ 62     ┆ 10        │\n",
       "│ f42c1d071c7b ┆        ┆        ┆          ┆   ┆ ddaf76ddb92c ┆ c7f99b8b9831 ┆        ┆           │\n",
       "│ 50a592a9     ┆        ┆        ┆          ┆   ┆ 6c6fdf65     ┆ a71f61ee     ┆        ┆           │\n",
       "│ …            ┆ …      ┆ …      ┆ …        ┆ … ┆ …            ┆ …            ┆ …      ┆ …         │\n",
       "│ fedb35acf166 ┆ 0      ┆ 10893  ┆ 0        ┆ … ┆ 63083678169d ┆ 33bfe292401f ┆ 462605 ┆ 10        │\n",
       "│ 2257c1614856 ┆        ┆        ┆          ┆   ┆ ddaf76ddb92c ┆ c7f99b8b9831 ┆        ┆           │\n",
       "│ 507718d2     ┆        ┆        ┆          ┆   ┆ 6c6fdf65     ┆ a71f61ee     ┆        ┆           │\n",
       "│ fedb35acf166 ┆ 1      ┆ 12961  ┆ 0        ┆ … ┆ 63083678169d ┆ 33bfe292401f ┆ 462605 ┆ 10        │\n",
       "│ 2257c1614856 ┆        ┆        ┆          ┆   ┆ ddaf76ddb92c ┆ c7f99b8b9831 ┆        ┆           │\n",
       "│ 507718d2     ┆        ┆        ┆          ┆   ┆ 6c6fdf65     ┆ a71f61ee     ┆        ┆           │\n",
       "│ fef023b79b0d ┆ 0      ┆ 12961  ┆ 0        ┆ … ┆ 63083678169d ┆ 33bfe292401f ┆ 462667 ┆ 10        │\n",
       "│ c62d153df8af ┆        ┆        ┆          ┆   ┆ ddaf76ddb92c ┆ c7f99b8b9831 ┆        ┆           │\n",
       "│ ad5bd2bc     ┆        ┆        ┆          ┆   ┆ 6c6fdf65     ┆ a71f61ee     ┆        ┆           │\n",
       "│ ffb9a0dcb0fc ┆ 0      ┆ 6134   ┆ 0        ┆ … ┆ 63083678169d ┆ 33bfe292401f ┆ 463203 ┆ 10        │\n",
       "│ eddc7311691f ┆        ┆        ┆          ┆   ┆ ddaf76ddb92c ┆ c7f99b8b9831 ┆        ┆           │\n",
       "│ c803841a     ┆        ┆        ┆          ┆   ┆ 6c6fdf65     ┆ a71f61ee     ┆        ┆           │\n",
       "└──────────────┴────────┴────────┴──────────┴───┴──────────────┴──────────────┴────────┴───────────┘"
      ]
     },
     "execution_count": 29,
     "metadata": {},
     "output_type": "execute_result"
    }
   ],
   "source": [
    "all_log_df.filter(pl.col('sml_cd_id')==10)"
   ]
  },
  {
   "cell_type": "code",
   "execution_count": 28,
   "id": "383c9258-d6cd-4222-b4e7-b3a5ea78fb95",
   "metadata": {},
   "outputs": [
    {
     "data": {
      "text/plain": [
       "[['33bfe292401fc7f99b8b9831a71f61ee',\n",
       "  '808efa4c8737bf0963e46418b950e7a7',\n",
       "  '5fb4c282c7d5072b95af4e8b0990b4a2',\n",
       "  'f6a32c8fba39224a42dcf944a825bb74',\n",
       "  'a06dc7e0b1ce7bf4b2a82795544d9fee',\n",
       "  '45ce8679946956887d43548f184374b1',\n",
       "  '5e59cb1cb29ddcdf9bc1a8b56a4407a2',\n",
       "  '1372439b363adca1c9e5d212aa373c39',\n",
       "  '5edfaad7acb9578b63dd8a1ad31bb504',\n",
       "  '2df67a9182e1805e4fca214292d1166c'],\n",
       " ['8cb854e17cd42e2b44f0c603da4608d4',\n",
       "  '9dff180c5e5089dfb26be591000b90f1',\n",
       "  'a47fc5d7a9e908347293ab6ec859c711',\n",
       "  '206c6d79ad3864ef1e490c5ad25ce3bf',\n",
       "  '30e4ee82595c5d3fe2a691efaf23e1e3',\n",
       "  '53990961d5141c807d742c6b3ca398ad',\n",
       "  '4cb261fbd1d92af8d4c789301ded1811',\n",
       "  'e896511a999c6508414df4dcee407926',\n",
       "  '69916a1fb9c5b4db92add1f92454711f',\n",
       "  '677e82825c47001f72241e1d12d3f4ee']]"
      ]
     },
     "execution_count": 28,
     "metadata": {},
     "output_type": "execute_result"
    }
   ],
   "source": [
    "candidates = [[loc_id2loc[c] for c in cs] for cs in candidates]\n",
    "candidates"
   ]
  },
  {
   "cell_type": "code",
   "execution_count": null,
   "id": "0888baac-57dc-4ad5-bed8-7872ef0219d3",
   "metadata": {},
   "outputs": [],
   "source": []
  }
 ],
 "metadata": {
  "kernelspec": {
   "display_name": "Python 3 (ipykernel)",
   "language": "python",
   "name": "python3"
  },
  "language_info": {
   "codemirror_mode": {
    "name": "ipython",
    "version": 3
   },
   "file_extension": ".py",
   "mimetype": "text/x-python",
   "name": "python",
   "nbconvert_exporter": "python",
   "pygments_lexer": "ipython3",
   "version": "3.10.12"
  }
 },
 "nbformat": 4,
 "nbformat_minor": 5
}
