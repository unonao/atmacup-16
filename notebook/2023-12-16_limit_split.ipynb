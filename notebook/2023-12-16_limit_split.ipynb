{
 "cells": [
  {
   "cell_type": "code",
   "execution_count": 1,
   "id": "6ea7c818-e4b6-4d21-ab55-5f86dcd16628",
   "metadata": {},
   "outputs": [
    {
     "name": "stdout",
     "output_type": "stream",
     "text": [
      "/kaggle/working\n"
     ]
    }
   ],
   "source": [
    "%cd .."
   ]
  },
  {
   "cell_type": "code",
   "execution_count": 2,
   "id": "228d4102-91eb-43e0-af43-5400bb8c9607",
   "metadata": {},
   "outputs": [
    {
     "name": "stdout",
     "output_type": "stream",
     "text": [
      "debug: false\n",
      "seed: 7\n",
      "dir:\n",
      "  data_dir: /kaggle/working/input/atmaCup16_Dataset\n",
      "  output_dir: /kaggle/working/output\n",
      "  exp_dir: /kaggle/working/output/exp\n",
      "  cand_unsupervised_dir: /kaggle/working/output/cand_unsupervised\n",
      "  cand_supervised_dir: /kaggle/working/output/cand_supervised\n",
      "  datasets_dir: /kaggle/working/output/datasets\n",
      "exp:\n",
      "  fold_path: /kaggle/working/output/datasets/make_cv/base/train_fold.parquet\n",
      "  limit_seq: 2\n",
      "  candidate_info_list:\n",
      "  - name: ranking_location/sml_cd\n",
      "    max_num_candidates: 5\n",
      "    dir: /kaggle/working/output/cand_unsupervised/ranking_location/sml_cd\n",
      "  - name: ranking_location/lrg_cd\n",
      "    max_num_candidates: 5\n",
      "    dir: /kaggle/working/output/cand_unsupervised/ranking_location/lrg_cd\n",
      "  - name: ranking_location_all/sml_cd\n",
      "    max_num_candidates: 30\n",
      "    dir: /kaggle/working/output/cand_unsupervised/prob_matrix_filter/two002\n",
      "  transition_prob_path: /kaggle/working/output/cand_unsupervised/transition_prob_fix/base/yad2yad_feature.parquet\n",
      "  transition_prob_all_path: /kaggle/working/output/cand_unsupervised/transition_prob_all_fix/base/yad2yad_feature.parquet\n",
      "  transition_prob_bidirect_all_path: /kaggle/working/output/cand_unsupervised/transition_prob_bidirect_all_fix/base/yad2yad_feature.parquet\n",
      "  prob_matrix_path: /kaggle/working/output/cand_unsupervised/prob_matrix_filter/two002/yad2yad_feature.parquet\n",
      "  feat_transition_prob_location_dir: /kaggle/working/output/cand_unsupervised/feat_transition_prob_location/base\n",
      "  yad_feature_paths:\n",
      "  - output/cand_unsupervised/ranking/base/yad_feature.parquet\n",
      "  - output/cand_unsupervised/ranking_location/ken_cd/yad_feature.parquet\n",
      "  - output/cand_unsupervised/ranking_location/lrg_cd/yad_feature.parquet\n",
      "  - output/cand_unsupervised/ranking_location/sml_cd/yad_feature.parquet\n",
      "  - output/cand_unsupervised/ranking_location/wid_cd/yad_feature.parquet\n",
      "\n"
     ]
    }
   ],
   "source": [
    "from hydra import compose, initialize\n",
    "from omegaconf import OmegaConf\n",
    "\n",
    "with initialize(version_base=None, config_path=\"../generate_datasets/028_limit_seq\"):\n",
    "    cfg = compose(config_name=\"config.yaml\", overrides=[\"exp=two_001\"])\n",
    "    print(OmegaConf.to_yaml(cfg))"
   ]
  },
  {
   "cell_type": "code",
   "execution_count": 3,
   "id": "8449d911-b890-41d3-b59d-f578956383e1",
   "metadata": {
    "jupyter": {
     "source_hidden": true
    }
   },
   "outputs": [],
   "source": [
    "import os\n",
    "import sys\n",
    "from pathlib import Path\n",
    "\n",
    "import hydra\n",
    "import polars as pl\n",
    "from hydra.core.hydra_config import HydraConfig\n",
    "from omegaconf import DictConfig, OmegaConf\n",
    "from sklearn.preprocessing import OrdinalEncoder\n",
    "\n",
    "from utils.data import convert_to_32bit\n",
    "from utils.load import load_label_data, load_log_data, load_yad_data\n",
    "from utils.logger import get_logger\n",
    "\n",
    "numerical_cols = [  # あとで書き換えるので注意\n",
    "    \"total_room_cnt\",\n",
    "    \"wireless_lan_flg\",\n",
    "    \"onsen_flg\",\n",
    "    \"kd_stn_5min\",\n",
    "    \"kd_bch_5min\",\n",
    "    \"kd_slp_5min\",\n",
    "]\n",
    "\n",
    "categorical_cols = [\n",
    "    \"yad_type\",\n",
    "    \"wid_cd\",\n",
    "    \"ken_cd\",\n",
    "    \"lrg_cd\",\n",
    "    \"sml_cd\",\n",
    "]\n",
    "\n",
    "logger = None\n",
    "ordinal_encoder = None"
   ]
  },
  {
   "cell_type": "code",
   "execution_count": 4,
   "id": "47e64dac-48d9-4676-95fe-68fb0b6fc059",
   "metadata": {},
   "outputs": [],
   "source": [
    "def load_limit_log_data(cfg, mode: str):\n",
    "    log_df = load_log_data(Path(cfg.dir.data_dir), mode)\n",
    "    if cfg.exp.limit_seq is not None:\n",
    "        log_df = (\n",
    "            log_df.group_by(\"session_id\")\n",
    "            .agg(\n",
    "                pl.col(\"seq_no\").slice(-cfg.exp.limit_seq, cfg.exp.limit_seq),\n",
    "                pl.col(\"yad_no\").slice(-cfg.exp.limit_seq, cfg.exp.limit_seq),\n",
    "            )\n",
    "            .explode([\"yad_no\", \"seq_no\"])\n",
    "            .sort(by=\"session_id\")\n",
    "        )\n",
    "    return log_df"
   ]
  },
  {
   "cell_type": "code",
   "execution_count": 5,
   "id": "59e828a8-7b7d-4075-9c68-1b205d68088a",
   "metadata": {},
   "outputs": [
    {
     "data": {
      "text/html": [
       "<div><style>\n",
       ".dataframe > thead > tr > th,\n",
       ".dataframe > tbody > tr > td {\n",
       "  text-align: right;\n",
       "  white-space: pre-wrap;\n",
       "}\n",
       "</style>\n",
       "<small>shape: (7, 3)</small><table border=\"1\" class=\"dataframe\"><thead><tr><th>session_id</th><th>seq_no</th><th>yad_no</th></tr><tr><td>str</td><td>i64</td><td>i64</td></tr></thead><tbody><tr><td>&quot;000007603d533d…</td><td>0</td><td>2395</td></tr><tr><td>&quot;0000ca043ed437…</td><td>0</td><td>13535</td></tr><tr><td>&quot;0000d4835cf113…</td><td>0</td><td>123</td></tr><tr><td>&quot;0000fcda1ae1b2…</td><td>0</td><td>8475</td></tr><tr><td>&quot;000104bdffaaad…</td><td>0</td><td>96</td></tr><tr><td>&quot;000104bdffaaad…</td><td>1</td><td>898</td></tr><tr><td>&quot;00011afe25c343…</td><td>0</td><td>6868</td></tr></tbody></table></div>"
      ],
      "text/plain": [
       "shape: (7, 3)\n",
       "┌──────────────────────────────────┬────────┬────────┐\n",
       "│ session_id                       ┆ seq_no ┆ yad_no │\n",
       "│ ---                              ┆ ---    ┆ ---    │\n",
       "│ str                              ┆ i64    ┆ i64    │\n",
       "╞══════════════════════════════════╪════════╪════════╡\n",
       "│ 000007603d533d30453cc45d0f3d119f ┆ 0      ┆ 2395   │\n",
       "│ 0000ca043ed437a1472c9d1d154eb49b ┆ 0      ┆ 13535  │\n",
       "│ 0000d4835cf113316fe447e2f80ba1c8 ┆ 0      ┆ 123    │\n",
       "│ 0000fcda1ae1b2f431e55a7075d1f500 ┆ 0      ┆ 8475   │\n",
       "│ 000104bdffaaad1a1e0a9ebacf585f33 ┆ 0      ┆ 96     │\n",
       "│ 000104bdffaaad1a1e0a9ebacf585f33 ┆ 1      ┆ 898    │\n",
       "│ 00011afe25c343301ee961b3b0ce2e4d ┆ 0      ┆ 6868   │\n",
       "└──────────────────────────────────┴────────┴────────┘"
      ]
     },
     "execution_count": 5,
     "metadata": {},
     "output_type": "execute_result"
    }
   ],
   "source": [
    "mode = \"train\"\n",
    "log_df = load_limit_log_data(cfg, mode)\n",
    "log_df.head(7)"
   ]
  },
  {
   "cell_type": "code",
   "execution_count": 6,
   "id": "f59d69d4-b2a0-42e9-81ec-4c7f3d75cd15",
   "metadata": {},
   "outputs": [
    {
     "data": {
      "text/plain": [
       "['734cc105dc165cc485341e367b3c70ab']"
      ]
     },
     "execution_count": 6,
     "metadata": {},
     "output_type": "execute_result"
    }
   ],
   "source": [
    "log_df.filter(pl.col(\"seq_no\") == 9)[\"session_id\"].to_list()"
   ]
  },
  {
   "cell_type": "code",
   "execution_count": 7,
   "id": "893ccc4a-e685-4cf3-82b9-f891c83252db",
   "metadata": {},
   "outputs": [
    {
     "data": {
      "text/html": [
       "<div><style>\n",
       ".dataframe > thead > tr > th,\n",
       ".dataframe > tbody > tr > td {\n",
       "  text-align: right;\n",
       "  white-space: pre-wrap;\n",
       "}\n",
       "</style>\n",
       "<small>shape: (2, 3)</small><table border=\"1\" class=\"dataframe\"><thead><tr><th>session_id</th><th>seq_no</th><th>yad_no</th></tr><tr><td>str</td><td>i64</td><td>i64</td></tr></thead><tbody><tr><td>&quot;734cc105dc165c…</td><td>8</td><td>5116</td></tr><tr><td>&quot;734cc105dc165c…</td><td>9</td><td>8567</td></tr></tbody></table></div>"
      ],
      "text/plain": [
       "shape: (2, 3)\n",
       "┌──────────────────────────────────┬────────┬────────┐\n",
       "│ session_id                       ┆ seq_no ┆ yad_no │\n",
       "│ ---                              ┆ ---    ┆ ---    │\n",
       "│ str                              ┆ i64    ┆ i64    │\n",
       "╞══════════════════════════════════╪════════╪════════╡\n",
       "│ 734cc105dc165cc485341e367b3c70ab ┆ 8      ┆ 5116   │\n",
       "│ 734cc105dc165cc485341e367b3c70ab ┆ 9      ┆ 8567   │\n",
       "└──────────────────────────────────┴────────┴────────┘"
      ]
     },
     "execution_count": 7,
     "metadata": {},
     "output_type": "execute_result"
    }
   ],
   "source": [
    "log_df.filter(pl.col(\"session_id\") == \"734cc105dc165cc485341e367b3c70ab\")"
   ]
  },
  {
   "cell_type": "code",
   "execution_count": 21,
   "id": "7cb9adb4-f18c-4cdb-84d5-00e07a3a5ba6",
   "metadata": {},
   "outputs": [],
   "source": [
    "def load_and_union_candidates(cfg, mode: str):\n",
    "    # logデータのsession中のyad_noを候補に加える\n",
    "    log_df = load_limit_log_data(cfg, mode)\n",
    "    df = log_df.group_by(\"session_id\").agg(pl.col(\"yad_no\").alias(\"candidates\"))\n",
    "    dfs = [df]\n",
    "    for candidate_info in cfg.exp.candidate_info_list:\n",
    "        df = pl.read_parquet(Path(candidate_info[\"dir\"]) / f\"{mode}_candidate.parquet\")\n",
    "        df = df.with_columns(\n",
    "            pl.col(\"candidates\")\n",
    "            .list.head(candidate_info[\"max_num_candidates\"])\n",
    "            .alias(\"candidates\")\n",
    "        ).filter(pl.col(\"candidates\").list.len() > 0)\n",
    "        dfs.append(df)\n",
    "    df = pl.concat(dfs)\n",
    "    df = (\n",
    "        df.group_by(\"session_id\")\n",
    "        .agg(pl.col(\"candidates\").flatten())\n",
    "        .with_columns(pl.col(\"candidates\").list.unique())\n",
    "    ).select([\"session_id\", \"candidates\"])\n",
    "\n",
    "    if cfg.debug:\n",
    "        df = df.with_columns(pl.col(\"candidates\").list.head(2).alias(\"candidates\"))\n",
    "\n",
    "    # リストを展開\n",
    "    candidate_df = df.explode(\"candidates\")\n",
    "\n",
    "    # セッション最後のyad_noを除外\n",
    "    last_df = (\n",
    "        load_limit_log_data(cfg, mode)\n",
    "        .group_by(\"session_id\")\n",
    "        .agg(pl.col(\"yad_no\").last().alias(\"candidates\"))\n",
    "        .with_columns(pl.lit(True).alias(\"last\"))\n",
    "        .sort(by=\"session_id\")\n",
    "    )\n",
    "    candidate_df = (\n",
    "        candidate_df.join(last_df, on=[\"session_id\", \"candidates\"], how=\"left\")\n",
    "        .filter(pl.col(\"last\").is_null())\n",
    "        .drop(\"last\")\n",
    "    )\n",
    "    return candidate_df\n",
    "\n",
    "\n",
    "candidate_df = load_and_union_candidates(cfg, mode)"
   ]
  },
  {
   "cell_type": "code",
   "execution_count": 22,
   "id": "bb7372f9-0cd1-434a-8f82-f896fcea6d03",
   "metadata": {},
   "outputs": [
    {
     "data": {
      "text/html": [
       "<div><style>\n",
       ".dataframe > thead > tr > th,\n",
       ".dataframe > tbody > tr > td {\n",
       "  text-align: right;\n",
       "  white-space: pre-wrap;\n",
       "}\n",
       "</style>\n",
       "<small>shape: (5, 2)</small><table border=\"1\" class=\"dataframe\"><thead><tr><th>session_id</th><th>candidates</th></tr><tr><td>str</td><td>i64</td></tr></thead><tbody><tr><td>&quot;8fbc73e2b1d138…</td><td>724</td></tr><tr><td>&quot;8fbc73e2b1d138…</td><td>2256</td></tr><tr><td>&quot;8fbc73e2b1d138…</td><td>2837</td></tr><tr><td>&quot;8fbc73e2b1d138…</td><td>3147</td></tr><tr><td>&quot;8fbc73e2b1d138…</td><td>3186</td></tr></tbody></table></div>"
      ],
      "text/plain": [
       "shape: (5, 2)\n",
       "┌──────────────────────────────────┬────────────┐\n",
       "│ session_id                       ┆ candidates │\n",
       "│ ---                              ┆ ---        │\n",
       "│ str                              ┆ i64        │\n",
       "╞══════════════════════════════════╪════════════╡\n",
       "│ 8fbc73e2b1d138c68eb20cb8f5742397 ┆ 724        │\n",
       "│ 8fbc73e2b1d138c68eb20cb8f5742397 ┆ 2256       │\n",
       "│ 8fbc73e2b1d138c68eb20cb8f5742397 ┆ 2837       │\n",
       "│ 8fbc73e2b1d138c68eb20cb8f5742397 ┆ 3147       │\n",
       "│ 8fbc73e2b1d138c68eb20cb8f5742397 ┆ 3186       │\n",
       "└──────────────────────────────────┴────────────┘"
      ]
     },
     "execution_count": 22,
     "metadata": {},
     "output_type": "execute_result"
    }
   ],
   "source": [
    "candidate_df.head()"
   ]
  },
  {
   "cell_type": "code",
   "execution_count": 23,
   "id": "63da7994-c136-46dc-ba92-e8088f4925c8",
   "metadata": {},
   "outputs": [
    {
     "data": {
      "text/html": [
       "<div><style>\n",
       ".dataframe > thead > tr > th,\n",
       ".dataframe > tbody > tr > td {\n",
       "  text-align: right;\n",
       "  white-space: pre-wrap;\n",
       "}\n",
       "</style>\n",
       "<small>shape: (10, 4)</small><table border=\"1\" class=\"dataframe\"><thead><tr><th>session_id</th><th>seq_no</th><th>yad_no_0</th><th>yad_no_1</th></tr><tr><td>str</td><td>i64</td><td>i64</td><td>i64</td></tr></thead><tbody><tr><td>&quot;000007603d533d…</td><td>0</td><td>2395</td><td>null</td></tr><tr><td>&quot;0000ca043ed437…</td><td>0</td><td>13535</td><td>null</td></tr><tr><td>&quot;0000d4835cf113…</td><td>0</td><td>123</td><td>null</td></tr><tr><td>&quot;0000fcda1ae1b2…</td><td>0</td><td>8475</td><td>null</td></tr><tr><td>&quot;000104bdffaaad…</td><td>1</td><td>898</td><td>96</td></tr><tr><td>&quot;00011afe25c343…</td><td>0</td><td>6868</td><td>null</td></tr><tr><td>&quot;000125c737df18…</td><td>0</td><td>8602</td><td>null</td></tr><tr><td>&quot;0001763050a10b…</td><td>0</td><td>13106</td><td>null</td></tr><tr><td>&quot;000178c4d4d567…</td><td>0</td><td>12062</td><td>null</td></tr><tr><td>&quot;0001e6a407a85d…</td><td>0</td><td>4866</td><td>null</td></tr></tbody></table></div>"
      ],
      "text/plain": [
       "shape: (10, 4)\n",
       "┌──────────────────────────────────┬────────┬──────────┬──────────┐\n",
       "│ session_id                       ┆ seq_no ┆ yad_no_0 ┆ yad_no_1 │\n",
       "│ ---                              ┆ ---    ┆ ---      ┆ ---      │\n",
       "│ str                              ┆ i64    ┆ i64      ┆ i64      │\n",
       "╞══════════════════════════════════╪════════╪══════════╪══════════╡\n",
       "│ 000007603d533d30453cc45d0f3d119f ┆ 0      ┆ 2395     ┆ null     │\n",
       "│ 0000ca043ed437a1472c9d1d154eb49b ┆ 0      ┆ 13535    ┆ null     │\n",
       "│ 0000d4835cf113316fe447e2f80ba1c8 ┆ 0      ┆ 123      ┆ null     │\n",
       "│ 0000fcda1ae1b2f431e55a7075d1f500 ┆ 0      ┆ 8475     ┆ null     │\n",
       "│ …                                ┆ …      ┆ …        ┆ …        │\n",
       "│ 000125c737df1802b6e365f93c96d3c8 ┆ 0      ┆ 8602     ┆ null     │\n",
       "│ 0001763050a10b21062a1304fb743fd4 ┆ 0      ┆ 13106    ┆ null     │\n",
       "│ 000178c4d4d567d4715331dd0cdab76c ┆ 0      ┆ 12062    ┆ null     │\n",
       "│ 0001e6a407a85dc50ac132a5c7016bab ┆ 0      ┆ 4866     ┆ null     │\n",
       "└──────────────────────────────────┴────────┴──────────┴──────────┘"
      ]
     },
     "execution_count": 23,
     "metadata": {},
     "output_type": "execute_result"
    }
   ],
   "source": [
    "# last 以外からのtransition probも追加(prob_matrix_path)\n",
    "yad2yad_prob = pl.read_parquet(cfg.exp.prob_matrix_path)\n",
    "prob_col = \"transition_prob\"\n",
    "log_df = load_limit_log_data(cfg, mode)\n",
    "log_df = (\n",
    "    log_df.sort(by=[\"session_id\", \"seq_no\"]).with_columns(\n",
    "        [\n",
    "            pl.col(\"yad_no\").shift(si).over(\"session_id\").alias(f\"yad_no_{si}\")\n",
    "            for si in range(cfg.exp.limit_seq)\n",
    "        ]\n",
    "    )\n",
    ").drop([\"yad_no\"])\n",
    "log_df = log_df.group_by(\"session_id\").agg(pl.all().last()).sort(by=\"session_id\")\n",
    "for si in range(cfg.exp.limit_seq):\n",
    "    tmp = log_df.join(\n",
    "        yad2yad_prob, left_on=f\"yad_no_{si}\", right_on=\"from_yad_no\"\n",
    "    ).with_columns(pl.col(prob_col).alias(prob_col + f\"_prob_matrix_{si}\"))\n",
    "\n",
    "    candidate_df = candidate_df.join(\n",
    "        tmp.select([\"session_id\", \"to_yad_no\", prob_col + f\"_prob_matrix_{si}\"]),\n",
    "        left_on=[\"session_id\", \"candidates\"],\n",
    "        right_on=[\"session_id\", \"to_yad_no\"],\n",
    "        how=\"left\",\n",
    "    ).drop(\"from_yad_no\")\n"
   ]
  },
  {
   "cell_type": "code",
   "execution_count": 24,
   "id": "e6d44b14-a274-4d6b-943e-93fc8d62b127",
   "metadata": {},
   "outputs": [
    {
     "data": {
      "text/html": [
       "<div><style>\n",
       ".dataframe > thead > tr > th,\n",
       ".dataframe > tbody > tr > td {\n",
       "  text-align: right;\n",
       "  white-space: pre-wrap;\n",
       "}\n",
       "</style>\n",
       "<small>shape: (5, 4)</small><table border=\"1\" class=\"dataframe\"><thead><tr><th>session_id</th><th>seq_no</th><th>yad_no_0</th><th>yad_no_1</th></tr><tr><td>str</td><td>i64</td><td>i64</td><td>i64</td></tr></thead><tbody><tr><td>&quot;000007603d533d…</td><td>0</td><td>2395</td><td>null</td></tr><tr><td>&quot;0000ca043ed437…</td><td>0</td><td>13535</td><td>null</td></tr><tr><td>&quot;0000d4835cf113…</td><td>0</td><td>123</td><td>null</td></tr><tr><td>&quot;0000fcda1ae1b2…</td><td>0</td><td>8475</td><td>null</td></tr><tr><td>&quot;000104bdffaaad…</td><td>1</td><td>898</td><td>96</td></tr></tbody></table></div>"
      ],
      "text/plain": [
       "shape: (5, 4)\n",
       "┌──────────────────────────────────┬────────┬──────────┬──────────┐\n",
       "│ session_id                       ┆ seq_no ┆ yad_no_0 ┆ yad_no_1 │\n",
       "│ ---                              ┆ ---    ┆ ---      ┆ ---      │\n",
       "│ str                              ┆ i64    ┆ i64      ┆ i64      │\n",
       "╞══════════════════════════════════╪════════╪══════════╪══════════╡\n",
       "│ 000007603d533d30453cc45d0f3d119f ┆ 0      ┆ 2395     ┆ null     │\n",
       "│ 0000ca043ed437a1472c9d1d154eb49b ┆ 0      ┆ 13535    ┆ null     │\n",
       "│ 0000d4835cf113316fe447e2f80ba1c8 ┆ 0      ┆ 123      ┆ null     │\n",
       "│ 0000fcda1ae1b2f431e55a7075d1f500 ┆ 0      ┆ 8475     ┆ null     │\n",
       "│ 000104bdffaaad1a1e0a9ebacf585f33 ┆ 1      ┆ 898      ┆ 96       │\n",
       "└──────────────────────────────────┴────────┴──────────┴──────────┘"
      ]
     },
     "execution_count": 24,
     "metadata": {},
     "output_type": "execute_result"
    }
   ],
   "source": [
    "\n",
    "log_df.head()"
   ]
  },
  {
   "cell_type": "code",
   "execution_count": 26,
   "id": "96c94c43-d679-4e20-a512-332bf69bdfaf",
   "metadata": {},
   "outputs": [
    {
     "data": {
      "text/html": [
       "<div><style>\n",
       ".dataframe > thead > tr > th,\n",
       ".dataframe > tbody > tr > td {\n",
       "  text-align: right;\n",
       "  white-space: pre-wrap;\n",
       "}\n",
       "</style>\n",
       "<small>shape: (10, 4)</small><table border=\"1\" class=\"dataframe\"><thead><tr><th>session_id</th><th>candidates</th><th>transition_prob_prob_matrix_0</th><th>transition_prob_prob_matrix_1</th></tr><tr><td>str</td><td>i64</td><td>f64</td><td>f64</td></tr></thead><tbody><tr><td>&quot;8fbc73e2b1d138…</td><td>724</td><td>0.013512</td><td>null</td></tr><tr><td>&quot;8fbc73e2b1d138…</td><td>2256</td><td>0.029533</td><td>null</td></tr><tr><td>&quot;8fbc73e2b1d138…</td><td>2837</td><td>0.01709</td><td>null</td></tr><tr><td>&quot;8fbc73e2b1d138…</td><td>3147</td><td>0.012875</td><td>null</td></tr><tr><td>&quot;8fbc73e2b1d138…</td><td>3186</td><td>0.022208</td><td>null</td></tr><tr><td>&quot;8fbc73e2b1d138…</td><td>3279</td><td>0.004415</td><td>null</td></tr><tr><td>&quot;8fbc73e2b1d138…</td><td>3507</td><td>0.027285</td><td>null</td></tr><tr><td>&quot;8fbc73e2b1d138…</td><td>4053</td><td>0.040332</td><td>null</td></tr><tr><td>&quot;8fbc73e2b1d138…</td><td>4940</td><td>0.02556</td><td>null</td></tr><tr><td>&quot;8fbc73e2b1d138…</td><td>5268</td><td>0.026974</td><td>null</td></tr></tbody></table></div>"
      ],
      "text/plain": [
       "shape: (10, 4)\n",
       "┌────────────────────────────┬────────────┬────────────────────────────┬───────────────────────────┐\n",
       "│ session_id                 ┆ candidates ┆ transition_prob_prob_matri ┆ transition_prob_prob_matr │\n",
       "│ ---                        ┆ ---        ┆ x_0                        ┆ ix_1                      │\n",
       "│ str                        ┆ i64        ┆ ---                        ┆ ---                       │\n",
       "│                            ┆            ┆ f64                        ┆ f64                       │\n",
       "╞════════════════════════════╪════════════╪════════════════════════════╪═══════════════════════════╡\n",
       "│ 8fbc73e2b1d138c68eb20cb8f5 ┆ 724        ┆ 0.013512                   ┆ null                      │\n",
       "│ 742397                     ┆            ┆                            ┆                           │\n",
       "│ 8fbc73e2b1d138c68eb20cb8f5 ┆ 2256       ┆ 0.029533                   ┆ null                      │\n",
       "│ 742397                     ┆            ┆                            ┆                           │\n",
       "│ 8fbc73e2b1d138c68eb20cb8f5 ┆ 2837       ┆ 0.01709                    ┆ null                      │\n",
       "│ 742397                     ┆            ┆                            ┆                           │\n",
       "│ 8fbc73e2b1d138c68eb20cb8f5 ┆ 3147       ┆ 0.012875                   ┆ null                      │\n",
       "│ 742397                     ┆            ┆                            ┆                           │\n",
       "│ …                          ┆ …          ┆ …                          ┆ …                         │\n",
       "│ 8fbc73e2b1d138c68eb20cb8f5 ┆ 3507       ┆ 0.027285                   ┆ null                      │\n",
       "│ 742397                     ┆            ┆                            ┆                           │\n",
       "│ 8fbc73e2b1d138c68eb20cb8f5 ┆ 4053       ┆ 0.040332                   ┆ null                      │\n",
       "│ 742397                     ┆            ┆                            ┆                           │\n",
       "│ 8fbc73e2b1d138c68eb20cb8f5 ┆ 4940       ┆ 0.02556                    ┆ null                      │\n",
       "│ 742397                     ┆            ┆                            ┆                           │\n",
       "│ 8fbc73e2b1d138c68eb20cb8f5 ┆ 5268       ┆ 0.026974                   ┆ null                      │\n",
       "│ 742397                     ┆            ┆                            ┆                           │\n",
       "└────────────────────────────┴────────────┴────────────────────────────┴───────────────────────────┘"
      ]
     },
     "execution_count": 26,
     "metadata": {},
     "output_type": "execute_result"
    }
   ],
   "source": [
    "candidate_df.head(10)"
   ]
  },
  {
   "cell_type": "code",
   "execution_count": null,
   "id": "2c0ed791-8044-42c3-9926-1bc2eea81f18",
   "metadata": {},
   "outputs": [],
   "source": []
  }
 ],
 "metadata": {
  "kernelspec": {
   "display_name": "Python 3 (ipykernel)",
   "language": "python",
   "name": "python3"
  },
  "language_info": {
   "codemirror_mode": {
    "name": "ipython",
    "version": 3
   },
   "file_extension": ".py",
   "mimetype": "text/x-python",
   "name": "python",
   "nbconvert_exporter": "python",
   "pygments_lexer": "ipython3",
   "version": "3.10.12"
  }
 },
 "nbformat": 4,
 "nbformat_minor": 5
}
