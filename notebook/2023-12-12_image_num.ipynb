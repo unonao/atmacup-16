{
 "cells": [
  {
   "cell_type": "code",
   "execution_count": 1,
   "id": "795369c3-7a57-42c3-9742-76bf98295453",
   "metadata": {},
   "outputs": [
    {
     "name": "stdout",
     "output_type": "stream",
     "text": [
      "/kaggle/working\n"
     ]
    }
   ],
   "source": [
    "%cd .."
   ]
  },
  {
   "cell_type": "code",
   "execution_count": 3,
   "id": "c2e80569-b03b-4650-a60e-29ccce217c94",
   "metadata": {},
   "outputs": [
    {
     "name": "stdout",
     "output_type": "stream",
     "text": [
      "debug: true\n",
      "seed: 7\n",
      "dir:\n",
      "  data_dir: /kaggle/working/input/atmaCup16_Dataset\n",
      "  output_dir: /kaggle/working/output\n",
      "  exp_dir: /kaggle/working/output/exp\n",
      "  cand_unsupervised_dir: /kaggle/working/output/cand_unsupervised\n",
      "  cand_supervised_dir: /kaggle/working/output/cand_supervised\n",
      "  datasets_dir: /kaggle/working/output/datasets\n",
      "exp:\n",
      "  num_candidate: 100\n",
      "  k:\n",
      "  - 1\n",
      "  - 5\n",
      "  - 10\n",
      "  - 50\n",
      "  - 100\n",
      "\n"
     ]
    }
   ],
   "source": [
    "from hydra import compose, initialize\n",
    "from omegaconf import OmegaConf\n",
    "\n",
    "with initialize(version_base=None, config_path=\"../cand_unsupervised/feat_image_num\"):\n",
    "    cfg = compose(config_name=\"config.yaml\", overrides=[\"debug=True\"])\n",
    "    print(OmegaConf.to_yaml(cfg))"
   ]
  },
  {
   "cell_type": "code",
   "execution_count": 4,
   "id": "62a17b34-4598-46c8-905b-9839eabe122d",
   "metadata": {},
   "outputs": [],
   "source": [
    "import os\n",
    "import sys\n",
    "from pathlib import Path\n",
    "\n",
    "import hydra\n",
    "import numpy as np\n",
    "import polars as pl\n",
    "import torch\n",
    "from hydra.core.hydra_config import HydraConfig\n",
    "from omegaconf import DictConfig, OmegaConf\n",
    "from sklearn.neighbors import NearestNeighbors\n",
    "from sklearn.preprocessing import LabelEncoder\n",
    "from tqdm.auto import tqdm\n",
    "\n",
    "import utils\n",
    "import wandb\n",
    "from utils.load import (\n",
    "    load_image_embeddings,\n",
    "    load_label_data,\n",
    "    load_log_data,\n",
    "    load_session_data,\n",
    ")\n",
    "from utils.metrics import calculate_metrics"
   ]
  },
  {
   "cell_type": "code",
   "execution_count": 8,
   "id": "b9328c9e-b2d3-4f53-83b3-0d7d39ea972a",
   "metadata": {},
   "outputs": [],
   "source": [
    "image_df = load_image_embeddings(Path(cfg.dir.data_dir), columns=[\"yad_no\", \"category\"])"
   ]
  },
  {
   "cell_type": "code",
   "execution_count": 10,
   "id": "f629c741-05b0-4135-92d6-06660825e260",
   "metadata": {},
   "outputs": [],
   "source": [
    "image_count_df = (\n",
    "    image_df.group_by([\"yad_no\", \"category\"])\n",
    "    .agg(pl.col(\"category\").count().alias(\"counts\"))\n",
    "    .pivot(values=\"counts\", index=\"yad_no\", columns=\"category\")\n",
    "    .with_columns(\n",
    "        pl.sum_horizontal([\"room\", \"others\", \"exterior\", \"food\", \"facility\"]).alias(\n",
    "            \"sum_image_num\"\n",
    "        )\n",
    "    )\n",
    ")"
   ]
  },
  {
   "cell_type": "code",
   "execution_count": 11,
   "id": "67af0ffb-91ce-4908-9f78-02ab1d8d8c4a",
   "metadata": {},
   "outputs": [
    {
     "data": {
      "text/html": [
       "<div><style>\n",
       ".dataframe > thead > tr > th,\n",
       ".dataframe > tbody > tr > td {\n",
       "  text-align: right;\n",
       "  white-space: pre-wrap;\n",
       "}\n",
       "</style>\n",
       "<small>shape: (13_804, 7)</small><table border=\"1\" class=\"dataframe\"><thead><tr><th>yad_no</th><th>exterior</th><th>food</th><th>room</th><th>others</th><th>facility</th><th>sum_image_num</th></tr><tr><td>i64</td><td>u32</td><td>u32</td><td>u32</td><td>u32</td><td>u32</td><td>u32</td></tr></thead><tbody><tr><td>27</td><td>2</td><td>1</td><td>3</td><td>3</td><td>null</td><td>9</td></tr><tr><td>103</td><td>3</td><td>3</td><td>3</td><td>3</td><td>3</td><td>15</td></tr><tr><td>122</td><td>3</td><td>3</td><td>3</td><td>3</td><td>3</td><td>15</td></tr><tr><td>126</td><td>3</td><td>3</td><td>2</td><td>3</td><td>3</td><td>14</td></tr><tr><td>140</td><td>3</td><td>3</td><td>3</td><td>3</td><td>3</td><td>15</td></tr><tr><td>196</td><td>3</td><td>3</td><td>3</td><td>3</td><td>3</td><td>15</td></tr><tr><td>228</td><td>3</td><td>3</td><td>3</td><td>1</td><td>3</td><td>13</td></tr><tr><td>229</td><td>3</td><td>null</td><td>3</td><td>3</td><td>3</td><td>12</td></tr><tr><td>244</td><td>2</td><td>2</td><td>3</td><td>3</td><td>3</td><td>13</td></tr><tr><td>254</td><td>3</td><td>3</td><td>3</td><td>3</td><td>3</td><td>15</td></tr><tr><td>272</td><td>3</td><td>3</td><td>1</td><td>2</td><td>3</td><td>12</td></tr><tr><td>303</td><td>1</td><td>3</td><td>3</td><td>3</td><td>3</td><td>13</td></tr><tr><td>&hellip;</td><td>&hellip;</td><td>&hellip;</td><td>&hellip;</td><td>&hellip;</td><td>&hellip;</td><td>&hellip;</td></tr><tr><td>12372</td><td>2</td><td>null</td><td>2</td><td>null</td><td>3</td><td>7</td></tr><tr><td>13172</td><td>3</td><td>null</td><td>3</td><td>3</td><td>3</td><td>12</td></tr><tr><td>13683</td><td>3</td><td>null</td><td>3</td><td>3</td><td>3</td><td>12</td></tr><tr><td>3704</td><td>2</td><td>null</td><td>null</td><td>1</td><td>null</td><td>3</td></tr><tr><td>5338</td><td>null</td><td>3</td><td>null</td><td>3</td><td>2</td><td>8</td></tr><tr><td>10344</td><td>null</td><td>null</td><td>null</td><td>3</td><td>null</td><td>3</td></tr><tr><td>1392</td><td>1</td><td>null</td><td>3</td><td>null</td><td>null</td><td>4</td></tr><tr><td>5873</td><td>2</td><td>null</td><td>2</td><td>null</td><td>null</td><td>4</td></tr><tr><td>6390</td><td>null</td><td>null</td><td>null</td><td>3</td><td>3</td><td>6</td></tr><tr><td>9253</td><td>null</td><td>null</td><td>null</td><td>3</td><td>null</td><td>3</td></tr><tr><td>6153</td><td>null</td><td>null</td><td>null</td><td>1</td><td>2</td><td>3</td></tr><tr><td>6532</td><td>null</td><td>null</td><td>null</td><td>3</td><td>null</td><td>3</td></tr></tbody></table></div>"
      ],
      "text/plain": [
       "shape: (13_804, 7)\n",
       "┌────────┬──────────┬──────┬──────┬────────┬──────────┬───────────────┐\n",
       "│ yad_no ┆ exterior ┆ food ┆ room ┆ others ┆ facility ┆ sum_image_num │\n",
       "│ ---    ┆ ---      ┆ ---  ┆ ---  ┆ ---    ┆ ---      ┆ ---           │\n",
       "│ i64    ┆ u32      ┆ u32  ┆ u32  ┆ u32    ┆ u32      ┆ u32           │\n",
       "╞════════╪══════════╪══════╪══════╪════════╪══════════╪═══════════════╡\n",
       "│ 27     ┆ 2        ┆ 1    ┆ 3    ┆ 3      ┆ null     ┆ 9             │\n",
       "│ 103    ┆ 3        ┆ 3    ┆ 3    ┆ 3      ┆ 3        ┆ 15            │\n",
       "│ 122    ┆ 3        ┆ 3    ┆ 3    ┆ 3      ┆ 3        ┆ 15            │\n",
       "│ 126    ┆ 3        ┆ 3    ┆ 2    ┆ 3      ┆ 3        ┆ 14            │\n",
       "│ …      ┆ …        ┆ …    ┆ …    ┆ …      ┆ …        ┆ …             │\n",
       "│ 6390   ┆ null     ┆ null ┆ null ┆ 3      ┆ 3        ┆ 6             │\n",
       "│ 9253   ┆ null     ┆ null ┆ null ┆ 3      ┆ null     ┆ 3             │\n",
       "│ 6153   ┆ null     ┆ null ┆ null ┆ 1      ┆ 2        ┆ 3             │\n",
       "│ 6532   ┆ null     ┆ null ┆ null ┆ 3      ┆ null     ┆ 3             │\n",
       "└────────┴──────────┴──────┴──────┴────────┴──────────┴───────────────┘"
      ]
     },
     "execution_count": 11,
     "metadata": {},
     "output_type": "execute_result"
    }
   ],
   "source": [
    "image_count_df"
   ]
  },
  {
   "cell_type": "code",
   "execution_count": null,
   "id": "bb0396c2-d4b1-446f-8d62-b986a24f5fc7",
   "metadata": {},
   "outputs": [],
   "source": []
  }
 ],
 "metadata": {
  "kernelspec": {
   "display_name": "Python 3 (ipykernel)",
   "language": "python",
   "name": "python3"
  },
  "language_info": {
   "codemirror_mode": {
    "name": "ipython",
    "version": 3
   },
   "file_extension": ".py",
   "mimetype": "text/x-python",
   "name": "python",
   "nbconvert_exporter": "python",
   "pygments_lexer": "ipython3",
   "version": "3.10.12"
  }
 },
 "nbformat": 4,
 "nbformat_minor": 5
}
