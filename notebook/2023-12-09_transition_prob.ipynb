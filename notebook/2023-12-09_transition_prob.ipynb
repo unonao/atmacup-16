{
 "cells": [
  {
   "cell_type": "code",
   "execution_count": 3,
   "id": "fee7cb67-13fe-46fe-8fd0-ff6b8eda401b",
   "metadata": {},
   "outputs": [
    {
     "name": "stdout",
     "output_type": "stream",
     "text": [
      "/kaggle/working\n"
     ]
    }
   ],
   "source": [
    "%cd .."
   ]
  },
  {
   "cell_type": "code",
   "execution_count": 60,
   "id": "2a8badf4-2b2d-4372-8aa3-33aedda8d036",
   "metadata": {},
   "outputs": [
    {
     "name": "stdout",
     "output_type": "stream",
     "text": [
      "debug: false\n",
      "seed: 7\n",
      "dir:\n",
      "  data_dir: /kaggle/working/input/atmaCup16_Dataset\n",
      "  output_dir: /kaggle/working/output\n",
      "  exp_dir: /kaggle/working/output/exp\n",
      "  cand_unsupervised_dir: /kaggle/working/output/cand_unsupervised\n",
      "  cand_supervised_dir: /kaggle/working/output/cand_supervised\n",
      "  datasets_dir: /kaggle/working/output/datasets\n",
      "exp:\n",
      "  range_transition: 1\n",
      "  num_candidate: 100\n",
      "  k:\n",
      "  - 1\n",
      "  - 5\n",
      "  - 10\n",
      "  - 50\n",
      "  - 100\n",
      "\n"
     ]
    }
   ],
   "source": [
    "from hydra import compose, initialize\n",
    "from omegaconf import OmegaConf\n",
    "\n",
    "with initialize(version_base=None, config_path=\"../cand_unsupervised/transition_prob\"):\n",
    "    cfg = compose(config_name=\"config.yaml\")\n",
    "    print(OmegaConf.to_yaml(cfg))"
   ]
  },
  {
   "cell_type": "code",
   "execution_count": 5,
   "id": "49c599df-93a1-4708-ad5b-8b11b2e45a7d",
   "metadata": {},
   "outputs": [],
   "source": [
    "from pathlib import Path\n",
    "\n",
    "import polars as pl\n",
    "\n",
    "import utils\n",
    "from utils.load import load_label_data, load_log_data, load_yad_data\n",
    "from utils.metrics import calculate_metrics"
   ]
  },
  {
   "cell_type": "code",
   "execution_count": 6,
   "id": "74e4e483-64b7-4bbb-80d6-b190a146ae7c",
   "metadata": {},
   "outputs": [
    {
     "name": "stdout",
     "output_type": "stream",
     "text": [
      "[load data] done in 0.1 s\n"
     ]
    }
   ],
   "source": [
    "with utils.timer(\"load data\"):\n",
    "    train_log_df = load_log_data(Path(cfg.dir.data_dir), \"train\")\n",
    "    test_log_df = load_log_data(Path(cfg.dir.data_dir), \"test\")\n",
    "    all_log_df = pl.concat([train_log_df, test_log_df])"
   ]
  },
  {
   "cell_type": "code",
   "execution_count": 35,
   "id": "420252ce-1561-4cf8-96b9-f8806001eb34",
   "metadata": {},
   "outputs": [],
   "source": [
    "range_transition = 1\n",
    "transition_dfs = []\n",
    "\n",
    "for rti in range(range_transition):\n",
    "    df = (\n",
    "        all_log_df.with_columns(\n",
    "            pl.col(\"yad_no\").alias(\"from_yad_no\"),\n",
    "            pl.col(\"yad_no\").shift(-(rti + 1)).over(\"session_id\").alias(\"to_yad_no\"),\n",
    "        )\n",
    "        .filter(~pl.col(\"to_yad_no\").is_null())\n",
    "        .filter(pl.col(\"from_yad_no\") != pl.col(\"to_yad_no\"))  # 同じものへは遷移しない\n",
    "        .select([\"from_yad_no\", \"to_yad_no\"])\n",
    "    )\n",
    "    transition_dfs.append(df)"
   ]
  },
  {
   "cell_type": "code",
   "execution_count": 36,
   "id": "aceab1cb-a69a-47db-8903-c867d1c3ab57",
   "metadata": {},
   "outputs": [],
   "source": [
    "transition_df = pl.concat(transition_dfs)"
   ]
  },
  {
   "cell_type": "code",
   "execution_count": 37,
   "id": "f70c7591-b96a-4895-8e3e-79022f3d7d4b",
   "metadata": {},
   "outputs": [],
   "source": [
    "transition_df = (\n",
    "    transition_df.group_by([\"from_yad_no\", \"to_yad_no\"])\n",
    "    .agg(pl.col(\"from_yad_no\").count().alias(\"from_to_count\"))\n",
    "    .with_columns(\n",
    "        pl.col(\"from_yad_no\").count().over([\"from_yad_no\"]).alias(\"from_count\"),\n",
    "    )\n",
    "    .with_columns(\n",
    "        (pl.col(\"from_to_count\") / pl.col(\"from_count\")).alias(\"transition_prob\")\n",
    "    )\n",
    "    .sort(by=[\"from_yad_no\", \"to_yad_no\"])\n",
    "    .select([\"from_yad_no\", \"to_yad_no\", \"transition_prob\"])\n",
    ")"
   ]
  },
  {
   "cell_type": "code",
   "execution_count": 38,
   "id": "f1a7060b-dd00-4647-b11e-8f11f2b24a45",
   "metadata": {},
   "outputs": [
    {
     "data": {
      "text/html": [
       "<div><style>\n",
       ".dataframe > thead > tr,\n",
       ".dataframe > tbody > tr {\n",
       "  text-align: right;\n",
       "  white-space: pre-wrap;\n",
       "}\n",
       "</style>\n",
       "<small>shape: (5, 3)</small><table border=\"1\" class=\"dataframe\"><thead><tr><th>from_yad_no</th><th>to_yad_no</th><th>transition_prob</th></tr><tr><td>i64</td><td>i64</td><td>f64</td></tr></thead><tbody><tr><td>1</td><td>1254</td><td>0.25</td></tr><tr><td>1</td><td>1503</td><td>0.25</td></tr><tr><td>1</td><td>4133</td><td>0.25</td></tr><tr><td>1</td><td>10352</td><td>0.25</td></tr><tr><td>2</td><td>3847</td><td>0.25</td></tr></tbody></table></div>"
      ],
      "text/plain": [
       "shape: (5, 3)\n",
       "┌─────────────┬───────────┬─────────────────┐\n",
       "│ from_yad_no ┆ to_yad_no ┆ transition_prob │\n",
       "│ ---         ┆ ---       ┆ ---             │\n",
       "│ i64         ┆ i64       ┆ f64             │\n",
       "╞═════════════╪═══════════╪═════════════════╡\n",
       "│ 1           ┆ 1254      ┆ 0.25            │\n",
       "│ 1           ┆ 1503      ┆ 0.25            │\n",
       "│ 1           ┆ 4133      ┆ 0.25            │\n",
       "│ 1           ┆ 10352     ┆ 0.25            │\n",
       "│ 2           ┆ 3847      ┆ 0.25            │\n",
       "└─────────────┴───────────┴─────────────────┘"
      ]
     },
     "execution_count": 38,
     "metadata": {},
     "output_type": "execute_result"
    }
   ],
   "source": [
    "transition_df.head()"
   ]
  },
  {
   "cell_type": "code",
   "execution_count": 59,
   "id": "48b33c8e-a48d-415e-80b7-140faf9173d5",
   "metadata": {},
   "outputs": [
    {
     "data": {
      "text/html": [
       "<div><style>\n",
       ".dataframe > thead > tr,\n",
       ".dataframe > tbody > tr {\n",
       "  text-align: right;\n",
       "  white-space: pre-wrap;\n",
       "}\n",
       "</style>\n",
       "<small>shape: (5, 2)</small><table border=\"1\" class=\"dataframe\"><thead><tr><th>session_id</th><th>candidates</th></tr><tr><td>str</td><td>list[i64]</td></tr></thead><tbody><tr><td>&quot;65f5b4aae382b2…</td><td>[11699, 13308, … 12737]</td></tr><tr><td>&quot;f90f65bceb463e…</td><td>[11635, 4208, … 7587]</td></tr><tr><td>&quot;8a1357c83aa866…</td><td>[8793, 531, … 12880]</td></tr><tr><td>&quot;713979d622e817…</td><td>[10215, 138, … 12956]</td></tr><tr><td>&quot;a9dff8ef1837cf…</td><td>[3173]</td></tr></tbody></table></div>"
      ],
      "text/plain": [
       "shape: (5, 2)\n",
       "┌──────────────────────────────────┬─────────────────────────┐\n",
       "│ session_id                       ┆ candidates              │\n",
       "│ ---                              ┆ ---                     │\n",
       "│ str                              ┆ list[i64]               │\n",
       "╞══════════════════════════════════╪═════════════════════════╡\n",
       "│ 65f5b4aae382b2b4085a41900cf45e4b ┆ [11699, 13308, … 12737] │\n",
       "│ f90f65bceb463e9477346f2e6f0dc4ed ┆ [11635, 4208, … 7587]   │\n",
       "│ 8a1357c83aa86658d9323547296fff5d ┆ [8793, 531, … 12880]    │\n",
       "│ 713979d622e817baa908236bbf161f0f ┆ [10215, 138, … 12956]   │\n",
       "│ a9dff8ef1837cfa2aa7eb1ad7a9a4a19 ┆ [3173]                  │\n",
       "└──────────────────────────────────┴─────────────────────────┘"
      ]
     },
     "execution_count": 59,
     "metadata": {},
     "output_type": "execute_result"
    }
   ],
   "source": [
    "# session_id ごとに最後の yad_no を取得する\n",
    "last_log_df = (\n",
    "    train_log_df.group_by(\"session_id\")\n",
    "    .agg(pl.all().sort_by(\"seq_no\").last())\n",
    "    .sort(by=\"session_id\")\n",
    ")\n",
    "\n",
    "# 遷移確率を結合し、確率の降順に候補として生成する\n",
    "candidate_df = (\n",
    "    last_log_df.join(\n",
    "        transition_df, left_on=\"yad_no\", right_on=\"from_yad_no\", how=\"left\"\n",
    "    )\n",
    "    .sort(by=[\"session_id\", \"transition_prob\"], descending=True)\n",
    "    .group_by(\"session_id\")\n",
    "    .agg(pl.col(\"to_yad_no\").alias(\"candidates\"))\n",
    ")\n",
    "\n",
    "candidate_df.head()"
   ]
  },
  {
   "cell_type": "code",
   "execution_count": null,
   "id": "5e729dcb-d9eb-4456-a2b8-6fb14d373ea2",
   "metadata": {},
   "outputs": [],
   "source": []
  }
 ],
 "metadata": {
  "kernelspec": {
   "display_name": "Python 3 (ipykernel)",
   "language": "python",
   "name": "python3"
  },
  "language_info": {
   "codemirror_mode": {
    "name": "ipython",
    "version": 3
   },
   "file_extension": ".py",
   "mimetype": "text/x-python",
   "name": "python",
   "nbconvert_exporter": "python",
   "pygments_lexer": "ipython3",
   "version": "3.10.12"
  }
 },
 "nbformat": 4,
 "nbformat_minor": 5
}
