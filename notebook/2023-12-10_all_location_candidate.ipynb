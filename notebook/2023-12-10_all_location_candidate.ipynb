{
 "cells": [
  {
   "cell_type": "code",
   "execution_count": 1,
   "id": "a59179d3-ce11-48e0-bd0d-2a157ec29a24",
   "metadata": {},
   "outputs": [
    {
     "name": "stdout",
     "output_type": "stream",
     "text": [
      "/kaggle/working\n"
     ]
    }
   ],
   "source": [
    "%cd .."
   ]
  },
  {
   "cell_type": "code",
   "execution_count": 2,
   "id": "b4201931-1646-42e8-8072-4b257de65a41",
   "metadata": {},
   "outputs": [
    {
     "name": "stdout",
     "output_type": "stream",
     "text": [
      "debug: false\n",
      "seed: 7\n",
      "dir:\n",
      "  data_dir: /kaggle/working/input/atmaCup16_Dataset\n",
      "  output_dir: /kaggle/working/output\n",
      "  exp_dir: /kaggle/working/output/exp\n",
      "  cand_unsupervised_dir: /kaggle/working/output/cand_unsupervised\n",
      "  cand_supervised_dir: /kaggle/working/output/cand_supervised\n",
      "  datasets_dir: /kaggle/working/output/datasets\n",
      "exp:\n",
      "  num_candidate: 100\n",
      "  k:\n",
      "  - 1\n",
      "  - 5\n",
      "  - 10\n",
      "  - 50\n",
      "  - 100\n",
      "  location_col: sml_cd\n",
      "\n"
     ]
    }
   ],
   "source": [
    "from hydra import compose, initialize\n",
    "from omegaconf import OmegaConf\n",
    "\n",
    "with initialize(\n",
    "    version_base=None, config_path=\"../cand_unsupervised/ranking_location_all\"\n",
    "):\n",
    "    cfg = compose(config_name=\"config.yaml\", overrides=[\"exp=sml_cd\"])\n",
    "    print(OmegaConf.to_yaml(cfg))"
   ]
  },
  {
   "cell_type": "code",
   "execution_count": 3,
   "id": "45ec0577-5bec-4964-89d7-89b2afbff5b4",
   "metadata": {},
   "outputs": [],
   "source": [
    "import os\n",
    "import sys\n",
    "from pathlib import Path\n",
    "\n",
    "import hydra\n",
    "import polars as pl\n",
    "from hydra.core.hydra_config import HydraConfig\n",
    "from omegaconf import DictConfig, OmegaConf\n",
    "\n",
    "import utils\n",
    "import wandb\n",
    "from utils.load import load_label_data, load_log_data, load_session_data, load_yad_data\n",
    "from utils.metrics import calculate_metrics"
   ]
  },
  {
   "cell_type": "code",
   "execution_count": 4,
   "id": "d361cb1a-dd71-488f-9034-975e78e2ef9d",
   "metadata": {},
   "outputs": [],
   "source": [
    "exp_name = \"temp\""
   ]
  },
  {
   "cell_type": "code",
   "execution_count": 5,
   "id": "9f8604d7-0771-405e-926d-7da7821e6a74",
   "metadata": {},
   "outputs": [],
   "source": [
    "train_log_df = load_log_data(Path(cfg.dir.data_dir), \"train\")\n",
    "test_log_df = load_log_data(Path(cfg.dir.data_dir), \"test\")\n",
    "all_log_df = pl.concat([train_log_df, test_log_df])\n",
    "yad_df = load_yad_data(Path(cfg.dir.data_dir))"
   ]
  },
  {
   "cell_type": "code",
   "execution_count": 6,
   "id": "e23cf40c-2d7a-4fee-a042-26cbe3f2b769",
   "metadata": {},
   "outputs": [
    {
     "name": "stdout",
     "output_type": "stream",
     "text": [
      "shape: (5, 3)\n",
      "┌────────┬─────────────┬───────────┐\n",
      "│ yad_no ┆ counts_temp ┆ rank_temp │\n",
      "│ ---    ┆ ---         ┆ ---       │\n",
      "│ i64    ┆ u32         ┆ f64       │\n",
      "╞════════╪═════════════╪═══════════╡\n",
      "│ 1      ┆ 30          ┆ 44.0      │\n",
      "│ 2      ┆ 29          ┆ 29.0      │\n",
      "│ 3      ┆ 210         ┆ 1.0       │\n",
      "│ 4      ┆ 67          ┆ 7.0       │\n",
      "│ 5      ┆ 30          ┆ 6.0       │\n",
      "└────────┴─────────────┴───────────┘\n",
      "(13562, 3)\n"
     ]
    }
   ],
   "source": [
    "count_df = (\n",
    "    all_log_df.get_column(\"yad_no\").value_counts().sort(by=\"counts\", descending=True)\n",
    ")\n",
    "yad_counts_df = yad_df.join(count_df, on=\"yad_no\").with_columns(\n",
    "    pl.col(\"counts\").rank(descending=True).over(cfg.exp.location_col).alias(\"rank\")\n",
    ")\n",
    "\n",
    "# ランキングを保存\n",
    "save_df = yad_counts_df.with_columns(\n",
    "    pl.col(\"counts\").alias(f\"counts_{exp_name}\"),\n",
    "    pl.col(\"rank\").alias(f\"rank_{exp_name}\"),\n",
    ").select([\"yad_no\", f\"counts_{exp_name}\", f\"rank_{exp_name}\"])\n",
    "print(save_df.head())\n",
    "print(save_df.shape)"
   ]
  },
  {
   "cell_type": "code",
   "execution_count": 7,
   "id": "5892db8e-620d-4533-b427-9d18d6375b2a",
   "metadata": {},
   "outputs": [
    {
     "name": "stdout",
     "output_type": "stream",
     "text": [
      "[load session data] done in 0.3 s\n"
     ]
    }
   ],
   "source": [
    "with utils.timer(\"load session data\"):\n",
    "    train_session_df = load_session_data(Path(cfg.dir.data_dir), \"train\")\n",
    "    test_session_df = load_session_data(Path(cfg.dir.data_dir), \"test\")"
   ]
  },
  {
   "cell_type": "code",
   "execution_count": 10,
   "id": "e10c2558-84dd-4e73-8714-37afd3834450",
   "metadata": {},
   "outputs": [
    {
     "name": "stdout",
     "output_type": "stream",
     "text": [
      "location_candidates_df\n",
      "shape: (5, 2)\n",
      "┌──────────────────────────────────┬────────────────────────┐\n",
      "│ sml_cd                           ┆ candidates             │\n",
      "│ ---                              ┆ ---                    │\n",
      "│ str                              ┆ list[i64]              │\n",
      "╞══════════════════════════════════╪════════════════════════╡\n",
      "│ 00e15b2eac75d33b9bc37c8a44d6b70a ┆ [10163, 3714, … 6781]  │\n",
      "│ 0163d7c60f870add58d57c181736ec63 ┆ [9563, 6891, … 5447]   │\n",
      "│ 01783e93ed4e8d33fcfd93fdb2ea748f ┆ [4954, 669, … 8773]    │\n",
      "│ 0189f42d8841537a8f76269662d4fe78 ┆ [3057, 11800, … 13720] │\n",
      "│ 01eeec17159ea4c98a60455cb2e237d8 ┆ [4638, 6377, … 6973]   │\n",
      "└──────────────────────────────────┴────────────────────────┘\n"
     ]
    }
   ],
   "source": [
    "location_candidates_df = (\n",
    "    (\n",
    "        yad_counts_df.sort(by=\"counts\", descending=True)\n",
    "        .group_by(cfg.exp.location_col)\n",
    "        .agg(\n",
    "            [\n",
    "                pl.col(\"yad_no\").alias(\"candidates\"),\n",
    "            ]\n",
    "        )\n",
    "        .with_columns(pl.col(\"candidates\").list.head(cfg.exp.num_candidate))\n",
    "    )\n",
    "    .select([cfg.exp.location_col, \"candidates\"])\n",
    "    .sort(by=cfg.exp.location_col)\n",
    ")\n",
    "print(\"location_candidates_df\")\n",
    "print(location_candidates_df.head(5))"
   ]
  },
  {
   "cell_type": "code",
   "execution_count": null,
   "id": "20b29db2-2549-49a3-81eb-5e931c3ab630",
   "metadata": {},
   "outputs": [],
   "source": [
    "train_log_df.join(yad_df.select([\"yad_no\", cfg.exp.location_col]), on=\"yad_no\").join(\n",
    "    location_candidates_df, on=cfg.exp.location_col\n",
    ").group_by(\"session_id\").agg(pl.col(\"candidates\").flatten())"
   ]
  },
  {
   "cell_type": "code",
   "execution_count": null,
   "id": "64f41dbf-3920-4528-a414-fed53b549bcb",
   "metadata": {},
   "outputs": [],
   "source": []
  }
 ],
 "metadata": {
  "kernelspec": {
   "display_name": "Python 3 (ipykernel)",
   "language": "python",
   "name": "python3"
  },
  "language_info": {
   "codemirror_mode": {
    "name": "ipython",
    "version": 3
   },
   "file_extension": ".py",
   "mimetype": "text/x-python",
   "name": "python",
   "nbconvert_exporter": "python",
   "pygments_lexer": "ipython3",
   "version": "3.10.12"
  }
 },
 "nbformat": 4,
 "nbformat_minor": 5
}
