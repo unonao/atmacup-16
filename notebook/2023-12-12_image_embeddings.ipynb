{
 "cells": [
  {
   "cell_type": "code",
   "execution_count": 1,
   "id": "795369c3-7a57-42c3-9742-76bf98295453",
   "metadata": {},
   "outputs": [
    {
     "name": "stdout",
     "output_type": "stream",
     "text": [
      "/kaggle/working\n"
     ]
    }
   ],
   "source": [
    "%cd .."
   ]
  },
  {
   "cell_type": "code",
   "execution_count": 2,
   "id": "c2e80569-b03b-4650-a60e-29ccce217c94",
   "metadata": {},
   "outputs": [
    {
     "name": "stdout",
     "output_type": "stream",
     "text": [
      "debug: true\n",
      "seed: 7\n",
      "dir:\n",
      "  data_dir: /kaggle/working/input/atmaCup16_Dataset\n",
      "  output_dir: /kaggle/working/output\n",
      "  exp_dir: /kaggle/working/output/exp\n",
      "  cand_unsupervised_dir: /kaggle/working/output/cand_unsupervised\n",
      "  cand_supervised_dir: /kaggle/working/output/cand_supervised\n",
      "  datasets_dir: /kaggle/working/output/datasets\n",
      "exp:\n",
      "  num_candidate: 100\n",
      "  k:\n",
      "  - 1\n",
      "  - 5\n",
      "  - 10\n",
      "  - 50\n",
      "  - 100\n",
      "\n"
     ]
    }
   ],
   "source": [
    "from hydra import compose, initialize\n",
    "from omegaconf import OmegaConf\n",
    "\n",
    "with initialize(version_base=None, config_path=\"../cand_unsupervised/image_sim\"):\n",
    "    cfg = compose(config_name=\"config.yaml\", overrides=[\"debug=True\"])\n",
    "    print(OmegaConf.to_yaml(cfg))"
   ]
  },
  {
   "cell_type": "code",
   "execution_count": 3,
   "id": "62a17b34-4598-46c8-905b-9839eabe122d",
   "metadata": {},
   "outputs": [],
   "source": [
    "import os\n",
    "import sys\n",
    "from pathlib import Path\n",
    "\n",
    "import hydra\n",
    "import numpy as np\n",
    "import polars as pl\n",
    "import torch\n",
    "from hydra.core.hydra_config import HydraConfig\n",
    "from omegaconf import DictConfig, OmegaConf\n",
    "from sklearn.neighbors import NearestNeighbors\n",
    "from sklearn.preprocessing import LabelEncoder\n",
    "from tqdm.auto import tqdm\n",
    "\n",
    "import utils\n",
    "import wandb\n",
    "from utils.load import (\n",
    "    load_image_embeddings,\n",
    "    load_label_data,\n",
    "    load_log_data,\n",
    "    load_session_data,\n",
    ")\n",
    "from utils.metrics import calculate_metrics"
   ]
  },
  {
   "cell_type": "code",
   "execution_count": 4,
   "id": "b9328c9e-b2d3-4f53-83b3-0d7d39ea972a",
   "metadata": {},
   "outputs": [],
   "source": [
    "image_embeddings_df = load_image_embeddings(\n",
    "    Path(cfg.dir.data_dir), columns=[\"yad_no\", \"category\", \"emb_0\"]\n",
    ")"
   ]
  },
  {
   "cell_type": "code",
   "execution_count": 6,
   "id": "f629c741-05b0-4135-92d6-06660825e260",
   "metadata": {},
   "outputs": [
    {
     "data": {
      "text/html": [
       "<div><style>\n",
       ".dataframe > thead > tr > th,\n",
       ".dataframe > tbody > tr > td {\n",
       "  text-align: right;\n",
       "  white-space: pre-wrap;\n",
       "}\n",
       "</style>\n",
       "<small>shape: (5, 3)</small><table border=\"1\" class=\"dataframe\"><thead><tr><th>yad_no</th><th>category</th><th>emb_0</th></tr><tr><td>i64</td><td>str</td><td>f32</td></tr></thead><tbody><tr><td>1</td><td>&quot;exterior&quot;</td><td>-0.010736</td></tr><tr><td>1</td><td>&quot;exterior&quot;</td><td>0.056188</td></tr><tr><td>1</td><td>&quot;exterior&quot;</td><td>0.059149</td></tr><tr><td>1</td><td>&quot;facility&quot;</td><td>-0.008016</td></tr><tr><td>1</td><td>&quot;facility&quot;</td><td>0.010669</td></tr></tbody></table></div>"
      ],
      "text/plain": [
       "shape: (5, 3)\n",
       "┌────────┬──────────┬───────────┐\n",
       "│ yad_no ┆ category ┆ emb_0     │\n",
       "│ ---    ┆ ---      ┆ ---       │\n",
       "│ i64    ┆ str      ┆ f32       │\n",
       "╞════════╪══════════╪═══════════╡\n",
       "│ 1      ┆ exterior ┆ -0.010736 │\n",
       "│ 1      ┆ exterior ┆ 0.056188  │\n",
       "│ 1      ┆ exterior ┆ 0.059149  │\n",
       "│ 1      ┆ facility ┆ -0.008016 │\n",
       "│ 1      ┆ facility ┆ 0.010669  │\n",
       "└────────┴──────────┴───────────┘"
      ]
     },
     "execution_count": 6,
     "metadata": {},
     "output_type": "execute_result"
    }
   ],
   "source": [
    "image_embeddings_df.head()"
   ]
  },
  {
   "cell_type": "code",
   "execution_count": 7,
   "id": "67af0ffb-91ce-4908-9f78-02ab1d8d8c4a",
   "metadata": {},
   "outputs": [
    {
     "data": {
      "text/html": [
       "<div><style>\n",
       ".dataframe > thead > tr > th,\n",
       ".dataframe > tbody > tr > td {\n",
       "  text-align: right;\n",
       "  white-space: pre-wrap;\n",
       "}\n",
       "</style>\n",
       "<small>shape: (5,)</small><table border=\"1\" class=\"dataframe\"><thead><tr><th>category</th></tr><tr><td>str</td></tr></thead><tbody><tr><td>&quot;others&quot;</td></tr><tr><td>&quot;exterior&quot;</td></tr><tr><td>&quot;food&quot;</td></tr><tr><td>&quot;facility&quot;</td></tr><tr><td>&quot;room&quot;</td></tr></tbody></table></div>"
      ],
      "text/plain": [
       "shape: (5,)\n",
       "Series: 'category' [str]\n",
       "[\n",
       "\t\"others\"\n",
       "\t\"exterior\"\n",
       "\t\"food\"\n",
       "\t\"facility\"\n",
       "\t\"room\"\n",
       "]"
      ]
     },
     "execution_count": 7,
     "metadata": {},
     "output_type": "execute_result"
    }
   ],
   "source": [
    "image_embeddings_df[\"category\"].unique()"
   ]
  },
  {
   "cell_type": "code",
   "execution_count": null,
   "id": "bb0396c2-d4b1-446f-8d62-b986a24f5fc7",
   "metadata": {},
   "outputs": [],
   "source": []
  }
 ],
 "metadata": {
  "kernelspec": {
   "display_name": "Python 3 (ipykernel)",
   "language": "python",
   "name": "python3"
  },
  "language_info": {
   "codemirror_mode": {
    "name": "ipython",
    "version": 3
   },
   "file_extension": ".py",
   "mimetype": "text/x-python",
   "name": "python",
   "nbconvert_exporter": "python",
   "pygments_lexer": "ipython3",
   "version": "3.10.12"
  }
 },
 "nbformat": 4,
 "nbformat_minor": 5
}
