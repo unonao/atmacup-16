{
 "cells": [
  {
   "cell_type": "code",
   "execution_count": 1,
   "id": "8808952d-b5c6-4053-a768-26cd26877ac6",
   "metadata": {},
   "outputs": [
    {
     "name": "stdout",
     "output_type": "stream",
     "text": [
      "/kaggle/working\n"
     ]
    }
   ],
   "source": [
    "%cd .."
   ]
  },
  {
   "cell_type": "code",
   "execution_count": 2,
   "id": "044a9ae7-b082-4d03-b11a-8300dd5ca508",
   "metadata": {},
   "outputs": [
    {
     "name": "stdout",
     "output_type": "stream",
     "text": [
      "debug: false\n",
      "seed: 7\n",
      "dir:\n",
      "  data_dir: /kaggle/working/input/atmaCup16_Dataset\n",
      "  output_dir: /kaggle/working/output\n",
      "  exp_dir: /kaggle/working/output/exp\n",
      "  cand_unsupervised_dir: /kaggle/working/output/cand_unsupervised\n",
      "  cand_supervised_dir: /kaggle/working/output/cand_supervised\n",
      "  datasets_dir: /kaggle/working/output/datasets\n",
      "exp:\n",
      "  range_transition: 10\n",
      "  num_candidate: 100\n",
      "  k:\n",
      "  - 1\n",
      "  - 5\n",
      "  - 10\n",
      "  - 50\n",
      "  - 100\n",
      "\n"
     ]
    }
   ],
   "source": [
    "from hydra import compose, initialize\n",
    "from omegaconf import OmegaConf\n",
    "\n",
    "with initialize(\n",
    "    version_base=None, config_path=\"../cand_unsupervised/transition_prob_all\"\n",
    "):\n",
    "    cfg = compose(config_name=\"config.yaml\")\n",
    "    print(OmegaConf.to_yaml(cfg))"
   ]
  },
  {
   "cell_type": "code",
   "execution_count": 3,
   "id": "f0308a7a-a077-42f6-8ed1-5084b6b990ef",
   "metadata": {},
   "outputs": [],
   "source": [
    "import os\n",
    "import sys\n",
    "from pathlib import Path\n",
    "\n",
    "import hydra\n",
    "import polars as pl\n",
    "from hydra.core.hydra_config import HydraConfig\n",
    "from omegaconf import DictConfig, OmegaConf\n",
    "\n",
    "import utils\n",
    "import wandb\n",
    "from utils.load import load_label_data, load_log_data, load_session_data\n",
    "from utils.metrics import calculate_metrics"
   ]
  },
  {
   "cell_type": "code",
   "execution_count": 4,
   "id": "3d85382b-38ff-4938-8fd7-d9d546356870",
   "metadata": {},
   "outputs": [],
   "source": [
    "exp_name = \"test\""
   ]
  },
  {
   "cell_type": "code",
   "execution_count": 5,
   "id": "e2b45e50-3995-4886-aae2-387f978156c5",
   "metadata": {},
   "outputs": [
    {
     "name": "stdout",
     "output_type": "stream",
     "text": [
      "[load data] done in 0.1 s\n"
     ]
    }
   ],
   "source": [
    "with utils.timer(\"load data\"):\n",
    "    train_log_df = load_log_data(Path(cfg.dir.data_dir), \"train\")\n",
    "    test_log_df = load_log_data(Path(cfg.dir.data_dir), \"test\")\n",
    "    all_log_df = pl.concat([train_log_df, test_log_df])"
   ]
  },
  {
   "cell_type": "code",
   "execution_count": 6,
   "id": "4926de2a-f3a3-4a34-bead-e60eaf495552",
   "metadata": {},
   "outputs": [
    {
     "name": "stdout",
     "output_type": "stream",
     "text": [
      "[create ranking] done in 6.4 s\n"
     ]
    }
   ],
   "source": [
    "with utils.timer(\"create ranking\"):\n",
    "    transition_dfs = []\n",
    "\n",
    "    # 遷移を作成\n",
    "    for rti in range(cfg.exp.range_transition):\n",
    "        df = (\n",
    "            all_log_df.with_columns(\n",
    "                pl.col(\"yad_no\").alias(\"from_yad_no\"),\n",
    "                pl.col(\"yad_no\")\n",
    "                .shift(-(rti + 1))\n",
    "                .over(\"session_id\")\n",
    "                .alias(\"to_yad_no\"),\n",
    "            )\n",
    "            .filter(~pl.col(\"to_yad_no\").is_null())\n",
    "            .filter(pl.col(\"from_yad_no\") != pl.col(\"to_yad_no\"))  # 同じものへは遷移しない\n",
    "            .select([\"from_yad_no\", \"to_yad_no\"])\n",
    "        )\n",
    "        transition_dfs.append(df)\n",
    "    transition_df = pl.concat(transition_dfs)\n",
    "    # 集約して確率計算\n",
    "    transition_df = (\n",
    "        transition_df.group_by([\"from_yad_no\", \"to_yad_no\"])\n",
    "        .agg(pl.col(\"from_yad_no\").count().alias(\"from_to_count\"))\n",
    "        .with_columns(\n",
    "            pl.col(\"from_yad_no\").count().over([\"from_yad_no\"]).alias(\"from_count\"),\n",
    "        )\n",
    "        .with_columns(\n",
    "            (pl.col(\"from_to_count\") / pl.col(\"from_count\")).alias(\"transition_prob\")\n",
    "        )\n",
    "        .sort(by=[\"from_yad_no\", \"to_yad_no\"])\n",
    "        .select([\"from_yad_no\", \"to_yad_no\", \"transition_prob\"])\n",
    "    )"
   ]
  },
  {
   "cell_type": "code",
   "execution_count": 7,
   "id": "2eb50fc2-8966-4d9b-a0eb-d67c5680a755",
   "metadata": {},
   "outputs": [
    {
     "name": "stdout",
     "output_type": "stream",
     "text": [
      "[load session data] done in 0.0 s\n"
     ]
    }
   ],
   "source": [
    "# session_id ごとにランキングの上位10個を予測値とする submission を作成\n",
    "with utils.timer(\"load session data\"):\n",
    "    train_session_df = load_session_data(Path(cfg.dir.data_dir), \"train\")\n",
    "    test_session_df = load_session_data(Path(cfg.dir.data_dir), \"test\")"
   ]
  },
  {
   "cell_type": "code",
   "execution_count": 8,
   "id": "0cf89959-17a5-4f13-9b3c-09b0ecbe43d1",
   "metadata": {},
   "outputs": [
    {
     "data": {
      "text/html": [
       "<div><style>\n",
       ".dataframe > thead > tr > th,\n",
       ".dataframe > tbody > tr > td {\n",
       "  text-align: right;\n",
       "  white-space: pre-wrap;\n",
       "}\n",
       "</style>\n",
       "<small>shape: (5, 2)</small><table border=\"1\" class=\"dataframe\"><thead><tr><th>session_id</th><th>from_yad_no</th></tr><tr><td>str</td><td>i64</td></tr></thead><tbody><tr><td>&quot;000007603d533d…</td><td>2395</td></tr><tr><td>&quot;0000ca043ed437…</td><td>13535</td></tr><tr><td>&quot;0000d4835cf113…</td><td>123</td></tr><tr><td>&quot;0000fcda1ae1b2…</td><td>8475</td></tr><tr><td>&quot;000104bdffaaad…</td><td>96</td></tr></tbody></table></div>"
      ],
      "text/plain": [
       "shape: (5, 2)\n",
       "┌──────────────────────────────────┬─────────────┐\n",
       "│ session_id                       ┆ from_yad_no │\n",
       "│ ---                              ┆ ---         │\n",
       "│ str                              ┆ i64         │\n",
       "╞══════════════════════════════════╪═════════════╡\n",
       "│ 000007603d533d30453cc45d0f3d119f ┆ 2395        │\n",
       "│ 0000ca043ed437a1472c9d1d154eb49b ┆ 13535       │\n",
       "│ 0000d4835cf113316fe447e2f80ba1c8 ┆ 123         │\n",
       "│ 0000fcda1ae1b2f431e55a7075d1f500 ┆ 8475        │\n",
       "│ 000104bdffaaad1a1e0a9ebacf585f33 ┆ 96          │\n",
       "└──────────────────────────────────┴─────────────┘"
      ]
     },
     "execution_count": 8,
     "metadata": {},
     "output_type": "execute_result"
    }
   ],
   "source": [
    "def make_candidates(log_df, session_df, transition_df):\n",
    "    log_df = (\n",
    "        log_df.sort(by=\"session_id\").with_columns(pl.col(\"yad_no\").alias(\"from_yad_no\"))\n",
    "    ).select([\"session_id\", \"from_yad_no\"])\n",
    "    candidate_df = (\n",
    "        log_df.join(transition_df, on=\"from_yad_no\")\n",
    "        .group_by([\"session_id\", \"to_yad_no\"])\n",
    "        .agg(\n",
    "            pl.sum(\"transition_prob\").alias(\"transition_prob\"),\n",
    "        )\n",
    "        .sort(by=[\"session_id\", \"transition_prob\"], descending=True)\n",
    "        .group_by([\"session_id\"])\n",
    "        .agg(\n",
    "            pl.col(\"to_yad_no\").alias(\"candidates\"),\n",
    "        )\n",
    "    )\n",
    "    candidate_df = session_df.join(\n",
    "        candidate_df, on=\"session_id\", how=\"left\"\n",
    "    ).with_columns(\n",
    "        # candidates が null の場合は空のリストを入れておく\n",
    "        pl.when(pl.col(\"candidates\").is_null())\n",
    "        .then(pl.Series(\"empty\", [[]]))\n",
    "        .otherwise(pl.col(\"candidates\"))\n",
    "        .alias(\"candidates\")\n",
    "    )\n",
    "\n",
    "    return candidate_df"
   ]
  },
  {
   "cell_type": "code",
   "execution_count": 10,
   "id": "a08523f9-a9ed-423a-ae62-a146ddfd7a74",
   "metadata": {},
   "outputs": [
    {
     "data": {
      "text/html": [
       "<div><style>\n",
       ".dataframe > thead > tr > th,\n",
       ".dataframe > tbody > tr > td {\n",
       "  text-align: right;\n",
       "  white-space: pre-wrap;\n",
       "}\n",
       "</style>\n",
       "<small>shape: (5, 2)</small><table border=\"1\" class=\"dataframe\"><thead><tr><th>session_id</th><th>candidates</th></tr><tr><td>str</td><td>list[i64]</td></tr></thead><tbody><tr><td>&quot;3857f94ed0608e…</td><td>[4879, 3226, … 3848]</td></tr><tr><td>&quot;94419110053a9f…</td><td>[8971, 2750, … 4649]</td></tr><tr><td>&quot;ca16665cd7de73…</td><td>[867, 11723, … 7690]</td></tr><tr><td>&quot;e60056e38a77dc…</td><td>[3153, 5444, … 299]</td></tr><tr><td>&quot;402bb0e80aee81…</td><td>[8178, 8109, 4364]</td></tr></tbody></table></div>"
      ],
      "text/plain": [
       "shape: (5, 2)\n",
       "┌──────────────────────────────────┬──────────────────────┐\n",
       "│ session_id                       ┆ candidates           │\n",
       "│ ---                              ┆ ---                  │\n",
       "│ str                              ┆ list[i64]            │\n",
       "╞══════════════════════════════════╪══════════════════════╡\n",
       "│ 3857f94ed0608ebf2a705a07a3397c7a ┆ [4879, 3226, … 3848] │\n",
       "│ 94419110053a9fec03c89aa17fe51279 ┆ [8971, 2750, … 4649] │\n",
       "│ ca16665cd7de735efaabf1a6a70e1fd5 ┆ [867, 11723, … 7690] │\n",
       "│ e60056e38a77dce32d36c7c1c8af2a0b ┆ [3153, 5444, … 299]  │\n",
       "│ 402bb0e80aee8133a8a7ca07fb536dde ┆ [8178, 8109, 4364]   │\n",
       "└──────────────────────────────────┴──────────────────────┘"
      ]
     },
     "execution_count": 10,
     "metadata": {},
     "output_type": "execute_result"
    }
   ],
   "source": [
    "train_candidate_df = (\n",
    "    train_log_df.join(transition_df, on=\"from_yad_no\")\n",
    "    .group_by([\"session_id\", \"to_yad_no\"])\n",
    "    .agg(\n",
    "        pl.sum(\"transition_prob\").alias(\"transition_prob\"),\n",
    "    )\n",
    "    .sort(by=[\"session_id\", \"transition_prob\"], descending=True)\n",
    "    .group_by([\"session_id\"])\n",
    "    .agg(\n",
    "        pl.col(\"to_yad_no\").alias(\"candidates\"),\n",
    "    )\n",
    ")\n",
    "\n",
    "train_candidate_df.head()"
   ]
  },
  {
   "cell_type": "code",
   "execution_count": null,
   "id": "cdcb2ac8-4efb-4587-8aeb-1f4f0e1eaa1c",
   "metadata": {},
   "outputs": [],
   "source": [
    "train_candidate_df = train_session_df.join(\n",
    "    train_candidate_df, on=\"session_id\", how=\"left\"\n",
    ").with_columns(\n",
    "    # candidates が null の場合は空のリストを入れておく\n",
    "    pl.when(pl.col(\"candidates\").is_null())\n",
    "    .then(pl.Series(\"empty\", [[]]))\n",
    "    .otherwise(pl.col(\"candidates\"))\n",
    "    .alias(\"candidates\")\n",
    ")"
   ]
  }
 ],
 "metadata": {
  "kernelspec": {
   "display_name": "Python 3 (ipykernel)",
   "language": "python",
   "name": "python3"
  },
  "language_info": {
   "codemirror_mode": {
    "name": "ipython",
    "version": 3
   },
   "file_extension": ".py",
   "mimetype": "text/x-python",
   "name": "python",
   "nbconvert_exporter": "python",
   "pygments_lexer": "ipython3",
   "version": "3.10.12"
  }
 },
 "nbformat": 4,
 "nbformat_minor": 5
}
