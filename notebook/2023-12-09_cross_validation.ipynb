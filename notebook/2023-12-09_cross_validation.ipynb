{
 "cells": [
  {
   "cell_type": "code",
   "execution_count": 1,
   "id": "7d41b398-cee6-454d-b6ae-7b2f8d678376",
   "metadata": {},
   "outputs": [
    {
     "name": "stdout",
     "output_type": "stream",
     "text": [
      "/kaggle/working\n"
     ]
    }
   ],
   "source": [
    "%cd .."
   ]
  },
  {
   "cell_type": "code",
   "execution_count": 2,
   "id": "2d8f0e7e-d163-4fdc-8748-9b88a218372c",
   "metadata": {},
   "outputs": [
    {
     "name": "stdout",
     "output_type": "stream",
     "text": [
      "debug: false\n",
      "seed: 7\n",
      "dir:\n",
      "  data_dir: /kaggle/working/input/atmaCup16_Dataset\n",
      "  output_dir: /kaggle/working/output\n",
      "  exp_dir: /kaggle/working/output/exp\n",
      "  cand_unsupervised_dir: /kaggle/working/output/cand_unsupervised\n",
      "  cand_supervised_dir: /kaggle/working/output/cand_supervised\n",
      "exp:\n",
      "  range_transition: 1\n",
      "  num_candidate: 100\n",
      "  k:\n",
      "  - 1\n",
      "  - 5\n",
      "  - 10\n",
      "  - 50\n",
      "  - 100\n",
      "\n"
     ]
    }
   ],
   "source": [
    "from hydra import compose, initialize\n",
    "from omegaconf import OmegaConf\n",
    "\n",
    "with initialize(version_base=None, config_path=\"../cand_unsupervised/transition_prob\"):\n",
    "    cfg = compose(config_name=\"config.yaml\")\n",
    "    print(OmegaConf.to_yaml(cfg))"
   ]
  },
  {
   "cell_type": "code",
   "execution_count": 11,
   "id": "9f45d712-0de7-45e2-9393-5963ca9092fd",
   "metadata": {},
   "outputs": [],
   "source": [
    "from pathlib import Path\n",
    "\n",
    "import numpy as np\n",
    "import polars as pl\n",
    "\n",
    "import utils\n",
    "from utils.load import load_label_data, load_log_data, load_yad_data\n",
    "from utils.metrics import calculate_metrics"
   ]
  },
  {
   "cell_type": "code",
   "execution_count": 6,
   "id": "7e8df90f-56c8-4362-8c75-0ac00cc8e85a",
   "metadata": {},
   "outputs": [
    {
     "name": "stdout",
     "output_type": "stream",
     "text": [
      "[load data] done in 0.0 s\n"
     ]
    }
   ],
   "source": [
    "with utils.timer(\"load data\"):\n",
    "    train_label_df = load_label_data(Path(cfg.dir.data_dir))"
   ]
  },
  {
   "cell_type": "code",
   "execution_count": 13,
   "id": "d1476e5f-8a49-44fa-903c-652911c482a2",
   "metadata": {},
   "outputs": [
    {
     "name": "stderr",
     "output_type": "stream",
     "text": [
      "/opt/conda/lib/python3.10/site-packages/sklearn/model_selection/_split.py:700: UserWarning: The least populated class in y has only 1 members, which is less than n_splits=5.\n",
      "  warnings.warn(\n"
     ]
    }
   ],
   "source": [
    "from sklearn.model_selection import StratifiedKFold\n",
    "\n",
    "skf = StratifiedKFold(n_splits=5, shuffle=True, random_state=42)\n",
    "\n",
    "X = train_label_df.get_column(\"session_id\").to_numpy()\n",
    "y = train_label_df.get_column(\"yad_no\").to_numpy()\n",
    "folds = np.zeros(train_label_df.height)\n",
    "for fold, (train_index, valid_index) in enumerate(skf.split(X, y)):\n",
    "    folds[valid_index] = fold\n",
    "\n",
    "train_fold_df = train_label_df.with_columns(\n",
    "    pl.Series(folds).cast(pl.Int64).alias(\"fold\")\n",
    ").select([\"session_id\", \"fold\"])"
   ]
  },
  {
   "cell_type": "code",
   "execution_count": 14,
   "id": "7a64e62a-5ce3-4a37-b5ad-dc459088d973",
   "metadata": {},
   "outputs": [
    {
     "data": {
      "text/html": [
       "<div><style>\n",
       ".dataframe > thead > tr,\n",
       ".dataframe > tbody > tr {\n",
       "  text-align: right;\n",
       "  white-space: pre-wrap;\n",
       "}\n",
       "</style>\n",
       "<small>shape: (288_698, 2)</small><table border=\"1\" class=\"dataframe\"><thead><tr><th>session_id</th><th>fold</th></tr><tr><td>str</td><td>i64</td></tr></thead><tbody><tr><td>&quot;000007603d533d…</td><td>1</td></tr><tr><td>&quot;0000ca043ed437…</td><td>1</td></tr><tr><td>&quot;0000d4835cf113…</td><td>4</td></tr><tr><td>&quot;0000fcda1ae1b2…</td><td>1</td></tr><tr><td>&quot;000104bdffaaad…</td><td>0</td></tr><tr><td>&quot;00011afe25c343…</td><td>1</td></tr><tr><td>&quot;000125c737df18…</td><td>3</td></tr><tr><td>&quot;0001763050a10b…</td><td>3</td></tr><tr><td>&quot;000178c4d4d567…</td><td>2</td></tr><tr><td>&quot;0001e6a407a85d…</td><td>1</td></tr><tr><td>&quot;0002499cf2713a…</td><td>0</td></tr><tr><td>&quot;00026fd325b5d6…</td><td>0</td></tr><tr><td>&hellip;</td><td>&hellip;</td></tr><tr><td>&quot;fffd8c4fa7b5be…</td><td>0</td></tr><tr><td>&quot;fffe2d9e5982f5…</td><td>2</td></tr><tr><td>&quot;fffe3dedeb89ae…</td><td>1</td></tr><tr><td>&quot;fffe40478b2163…</td><td>1</td></tr><tr><td>&quot;fffe78a078a176…</td><td>4</td></tr><tr><td>&quot;fffe8a472ae6a9…</td><td>4</td></tr><tr><td>&quot;fffe8c99c5b332…</td><td>3</td></tr><tr><td>&quot;ffff2262d38abd…</td><td>2</td></tr><tr><td>&quot;ffff2360540745…</td><td>0</td></tr><tr><td>&quot;ffff7fb4617164…</td><td>4</td></tr><tr><td>&quot;ffffcd5bc19d62…</td><td>2</td></tr><tr><td>&quot;fffffa7baf3700…</td><td>4</td></tr></tbody></table></div>"
      ],
      "text/plain": [
       "shape: (288_698, 2)\n",
       "┌──────────────────────────────────┬──────┐\n",
       "│ session_id                       ┆ fold │\n",
       "│ ---                              ┆ ---  │\n",
       "│ str                              ┆ i64  │\n",
       "╞══════════════════════════════════╪══════╡\n",
       "│ 000007603d533d30453cc45d0f3d119f ┆ 1    │\n",
       "│ 0000ca043ed437a1472c9d1d154eb49b ┆ 1    │\n",
       "│ 0000d4835cf113316fe447e2f80ba1c8 ┆ 4    │\n",
       "│ 0000fcda1ae1b2f431e55a7075d1f500 ┆ 1    │\n",
       "│ …                                ┆ …    │\n",
       "│ ffff2360540745117193ecadcdc06538 ┆ 0    │\n",
       "│ ffff7fb4617164b2604aaf51c40bf82d ┆ 4    │\n",
       "│ ffffcd5bc19d62cad5a3815c87818d83 ┆ 2    │\n",
       "│ fffffa7baf370083ebcdd98f26a7e31a ┆ 4    │\n",
       "└──────────────────────────────────┴──────┘"
      ]
     },
     "execution_count": 14,
     "metadata": {},
     "output_type": "execute_result"
    }
   ],
   "source": [
    "train_fold_df"
   ]
  },
  {
   "cell_type": "code",
   "execution_count": null,
   "id": "9c12792e-d274-4e58-8816-42949dd4be64",
   "metadata": {},
   "outputs": [],
   "source": []
  }
 ],
 "metadata": {
  "kernelspec": {
   "display_name": "Python 3 (ipykernel)",
   "language": "python",
   "name": "python3"
  },
  "language_info": {
   "codemirror_mode": {
    "name": "ipython",
    "version": 3
   },
   "file_extension": ".py",
   "mimetype": "text/x-python",
   "name": "python",
   "nbconvert_exporter": "python",
   "pygments_lexer": "ipython3",
   "version": "3.10.12"
  }
 },
 "nbformat": 4,
 "nbformat_minor": 5
}
